{
 "cells": [
  {
   "cell_type": "markdown",
   "id": "c1e159df",
   "metadata": {
    "deletable": false,
    "editable": false,
    "id": "c81daeeb"
   },
   "source": [
    "# Исследование надежности заемщиков\n"
   ]
  },
  {
   "cell_type": "markdown",
   "id": "0773e62e",
   "metadata": {
    "deletable": false,
    "editable": false,
    "id": "827c20bf"
   },
   "source": [
    "Во второй части проекта вы выполните шаги 3 и 4. Их вручную проверит ревьюер.\n",
    "Чтобы вам не пришлось писать код заново для шагов 1 и 2, мы добавили авторские решения в ячейки с кодом. \n",
    "\n"
   ]
  },
  {
   "cell_type": "markdown",
   "id": "edb5a8d8",
   "metadata": {
    "deletable": false,
    "editable": false,
    "id": "744d7639"
   },
   "source": [
    "## Откройте таблицу и изучите общую информацию о данных"
   ]
  },
  {
   "cell_type": "markdown",
   "id": "ae5ee7c2",
   "metadata": {
    "deletable": false,
    "editable": false,
    "id": "e7a14c31"
   },
   "source": [
    "**Задание 1. Импортируйте библиотеку pandas. Считайте данные из csv-файла в датафрейм и сохраните в переменную `data`. Путь к файлу:**\n",
    "\n",
    "`/datasets/data.csv`"
   ]
  },
  {
   "cell_type": "code",
   "execution_count": 1,
   "id": "765f97f3",
   "metadata": {
    "deletable": false,
    "id": "7bcf75c9"
   },
   "outputs": [],
   "source": [
    "import pandas as pd\n",
    "import matplotlib.pyplot as plt\n",
    "\n",
    "try:\n",
    "    data = pd.read_csv('/datasets/data.csv')\n",
    "except:\n",
    "    data = pd.read_csv('https://code.s3.yandex.net/datasets/data.csv')"
   ]
  },
  {
   "cell_type": "markdown",
   "id": "a172cb67",
   "metadata": {
    "deletable": false,
    "editable": false,
    "id": "b8038fe3"
   },
   "source": [
    "**Задание 2. Выведите первые 20 строчек датафрейма `data` на экран.**"
   ]
  },
  {
   "cell_type": "code",
   "execution_count": 2,
   "id": "15b9e642",
   "metadata": {
    "deletable": false,
    "id": "2a7cab99",
    "outputId": "1a8f3ef2-d323-4ec2-ddf7-89670b5944c4"
   },
   "outputs": [
    {
     "data": {
      "text/html": [
       "<div>\n",
       "<style scoped>\n",
       "    .dataframe tbody tr th:only-of-type {\n",
       "        vertical-align: middle;\n",
       "    }\n",
       "\n",
       "    .dataframe tbody tr th {\n",
       "        vertical-align: top;\n",
       "    }\n",
       "\n",
       "    .dataframe thead th {\n",
       "        text-align: right;\n",
       "    }\n",
       "</style>\n",
       "<table border=\"1\" class=\"dataframe\">\n",
       "  <thead>\n",
       "    <tr style=\"text-align: right;\">\n",
       "      <th></th>\n",
       "      <th>children</th>\n",
       "      <th>days_employed</th>\n",
       "      <th>dob_years</th>\n",
       "      <th>education</th>\n",
       "      <th>education_id</th>\n",
       "      <th>family_status</th>\n",
       "      <th>family_status_id</th>\n",
       "      <th>gender</th>\n",
       "      <th>income_type</th>\n",
       "      <th>debt</th>\n",
       "      <th>total_income</th>\n",
       "      <th>purpose</th>\n",
       "    </tr>\n",
       "  </thead>\n",
       "  <tbody>\n",
       "    <tr>\n",
       "      <th>0</th>\n",
       "      <td>1</td>\n",
       "      <td>-8437.673028</td>\n",
       "      <td>42</td>\n",
       "      <td>высшее</td>\n",
       "      <td>0</td>\n",
       "      <td>женат / замужем</td>\n",
       "      <td>0</td>\n",
       "      <td>F</td>\n",
       "      <td>сотрудник</td>\n",
       "      <td>0</td>\n",
       "      <td>253875.639453</td>\n",
       "      <td>покупка жилья</td>\n",
       "    </tr>\n",
       "    <tr>\n",
       "      <th>1</th>\n",
       "      <td>1</td>\n",
       "      <td>-4024.803754</td>\n",
       "      <td>36</td>\n",
       "      <td>среднее</td>\n",
       "      <td>1</td>\n",
       "      <td>женат / замужем</td>\n",
       "      <td>0</td>\n",
       "      <td>F</td>\n",
       "      <td>сотрудник</td>\n",
       "      <td>0</td>\n",
       "      <td>112080.014102</td>\n",
       "      <td>приобретение автомобиля</td>\n",
       "    </tr>\n",
       "    <tr>\n",
       "      <th>2</th>\n",
       "      <td>0</td>\n",
       "      <td>-5623.422610</td>\n",
       "      <td>33</td>\n",
       "      <td>Среднее</td>\n",
       "      <td>1</td>\n",
       "      <td>женат / замужем</td>\n",
       "      <td>0</td>\n",
       "      <td>M</td>\n",
       "      <td>сотрудник</td>\n",
       "      <td>0</td>\n",
       "      <td>145885.952297</td>\n",
       "      <td>покупка жилья</td>\n",
       "    </tr>\n",
       "    <tr>\n",
       "      <th>3</th>\n",
       "      <td>3</td>\n",
       "      <td>-4124.747207</td>\n",
       "      <td>32</td>\n",
       "      <td>среднее</td>\n",
       "      <td>1</td>\n",
       "      <td>женат / замужем</td>\n",
       "      <td>0</td>\n",
       "      <td>M</td>\n",
       "      <td>сотрудник</td>\n",
       "      <td>0</td>\n",
       "      <td>267628.550329</td>\n",
       "      <td>дополнительное образование</td>\n",
       "    </tr>\n",
       "    <tr>\n",
       "      <th>4</th>\n",
       "      <td>0</td>\n",
       "      <td>340266.072047</td>\n",
       "      <td>53</td>\n",
       "      <td>среднее</td>\n",
       "      <td>1</td>\n",
       "      <td>гражданский брак</td>\n",
       "      <td>1</td>\n",
       "      <td>F</td>\n",
       "      <td>пенсионер</td>\n",
       "      <td>0</td>\n",
       "      <td>158616.077870</td>\n",
       "      <td>сыграть свадьбу</td>\n",
       "    </tr>\n",
       "    <tr>\n",
       "      <th>5</th>\n",
       "      <td>0</td>\n",
       "      <td>-926.185831</td>\n",
       "      <td>27</td>\n",
       "      <td>высшее</td>\n",
       "      <td>0</td>\n",
       "      <td>гражданский брак</td>\n",
       "      <td>1</td>\n",
       "      <td>M</td>\n",
       "      <td>компаньон</td>\n",
       "      <td>0</td>\n",
       "      <td>255763.565419</td>\n",
       "      <td>покупка жилья</td>\n",
       "    </tr>\n",
       "    <tr>\n",
       "      <th>6</th>\n",
       "      <td>0</td>\n",
       "      <td>-2879.202052</td>\n",
       "      <td>43</td>\n",
       "      <td>высшее</td>\n",
       "      <td>0</td>\n",
       "      <td>женат / замужем</td>\n",
       "      <td>0</td>\n",
       "      <td>F</td>\n",
       "      <td>компаньон</td>\n",
       "      <td>0</td>\n",
       "      <td>240525.971920</td>\n",
       "      <td>операции с жильем</td>\n",
       "    </tr>\n",
       "    <tr>\n",
       "      <th>7</th>\n",
       "      <td>0</td>\n",
       "      <td>-152.779569</td>\n",
       "      <td>50</td>\n",
       "      <td>СРЕДНЕЕ</td>\n",
       "      <td>1</td>\n",
       "      <td>женат / замужем</td>\n",
       "      <td>0</td>\n",
       "      <td>M</td>\n",
       "      <td>сотрудник</td>\n",
       "      <td>0</td>\n",
       "      <td>135823.934197</td>\n",
       "      <td>образование</td>\n",
       "    </tr>\n",
       "    <tr>\n",
       "      <th>8</th>\n",
       "      <td>2</td>\n",
       "      <td>-6929.865299</td>\n",
       "      <td>35</td>\n",
       "      <td>ВЫСШЕЕ</td>\n",
       "      <td>0</td>\n",
       "      <td>гражданский брак</td>\n",
       "      <td>1</td>\n",
       "      <td>F</td>\n",
       "      <td>сотрудник</td>\n",
       "      <td>0</td>\n",
       "      <td>95856.832424</td>\n",
       "      <td>на проведение свадьбы</td>\n",
       "    </tr>\n",
       "    <tr>\n",
       "      <th>9</th>\n",
       "      <td>0</td>\n",
       "      <td>-2188.756445</td>\n",
       "      <td>41</td>\n",
       "      <td>среднее</td>\n",
       "      <td>1</td>\n",
       "      <td>женат / замужем</td>\n",
       "      <td>0</td>\n",
       "      <td>M</td>\n",
       "      <td>сотрудник</td>\n",
       "      <td>0</td>\n",
       "      <td>144425.938277</td>\n",
       "      <td>покупка жилья для семьи</td>\n",
       "    </tr>\n",
       "    <tr>\n",
       "      <th>10</th>\n",
       "      <td>2</td>\n",
       "      <td>-4171.483647</td>\n",
       "      <td>36</td>\n",
       "      <td>высшее</td>\n",
       "      <td>0</td>\n",
       "      <td>женат / замужем</td>\n",
       "      <td>0</td>\n",
       "      <td>M</td>\n",
       "      <td>компаньон</td>\n",
       "      <td>0</td>\n",
       "      <td>113943.491460</td>\n",
       "      <td>покупка недвижимости</td>\n",
       "    </tr>\n",
       "    <tr>\n",
       "      <th>11</th>\n",
       "      <td>0</td>\n",
       "      <td>-792.701887</td>\n",
       "      <td>40</td>\n",
       "      <td>среднее</td>\n",
       "      <td>1</td>\n",
       "      <td>женат / замужем</td>\n",
       "      <td>0</td>\n",
       "      <td>F</td>\n",
       "      <td>сотрудник</td>\n",
       "      <td>0</td>\n",
       "      <td>77069.234271</td>\n",
       "      <td>покупка коммерческой недвижимости</td>\n",
       "    </tr>\n",
       "    <tr>\n",
       "      <th>12</th>\n",
       "      <td>0</td>\n",
       "      <td>NaN</td>\n",
       "      <td>65</td>\n",
       "      <td>среднее</td>\n",
       "      <td>1</td>\n",
       "      <td>гражданский брак</td>\n",
       "      <td>1</td>\n",
       "      <td>M</td>\n",
       "      <td>пенсионер</td>\n",
       "      <td>0</td>\n",
       "      <td>NaN</td>\n",
       "      <td>сыграть свадьбу</td>\n",
       "    </tr>\n",
       "    <tr>\n",
       "      <th>13</th>\n",
       "      <td>0</td>\n",
       "      <td>-1846.641941</td>\n",
       "      <td>54</td>\n",
       "      <td>неоконченное высшее</td>\n",
       "      <td>2</td>\n",
       "      <td>женат / замужем</td>\n",
       "      <td>0</td>\n",
       "      <td>F</td>\n",
       "      <td>сотрудник</td>\n",
       "      <td>0</td>\n",
       "      <td>130458.228857</td>\n",
       "      <td>приобретение автомобиля</td>\n",
       "    </tr>\n",
       "    <tr>\n",
       "      <th>14</th>\n",
       "      <td>0</td>\n",
       "      <td>-1844.956182</td>\n",
       "      <td>56</td>\n",
       "      <td>высшее</td>\n",
       "      <td>0</td>\n",
       "      <td>гражданский брак</td>\n",
       "      <td>1</td>\n",
       "      <td>F</td>\n",
       "      <td>компаньон</td>\n",
       "      <td>1</td>\n",
       "      <td>165127.911772</td>\n",
       "      <td>покупка жилой недвижимости</td>\n",
       "    </tr>\n",
       "    <tr>\n",
       "      <th>15</th>\n",
       "      <td>1</td>\n",
       "      <td>-972.364419</td>\n",
       "      <td>26</td>\n",
       "      <td>среднее</td>\n",
       "      <td>1</td>\n",
       "      <td>женат / замужем</td>\n",
       "      <td>0</td>\n",
       "      <td>F</td>\n",
       "      <td>сотрудник</td>\n",
       "      <td>0</td>\n",
       "      <td>116820.904450</td>\n",
       "      <td>строительство собственной недвижимости</td>\n",
       "    </tr>\n",
       "    <tr>\n",
       "      <th>16</th>\n",
       "      <td>0</td>\n",
       "      <td>-1719.934226</td>\n",
       "      <td>35</td>\n",
       "      <td>среднее</td>\n",
       "      <td>1</td>\n",
       "      <td>женат / замужем</td>\n",
       "      <td>0</td>\n",
       "      <td>F</td>\n",
       "      <td>сотрудник</td>\n",
       "      <td>0</td>\n",
       "      <td>289202.704229</td>\n",
       "      <td>недвижимость</td>\n",
       "    </tr>\n",
       "    <tr>\n",
       "      <th>17</th>\n",
       "      <td>0</td>\n",
       "      <td>-2369.999720</td>\n",
       "      <td>33</td>\n",
       "      <td>высшее</td>\n",
       "      <td>0</td>\n",
       "      <td>гражданский брак</td>\n",
       "      <td>1</td>\n",
       "      <td>M</td>\n",
       "      <td>сотрудник</td>\n",
       "      <td>0</td>\n",
       "      <td>90410.586745</td>\n",
       "      <td>строительство недвижимости</td>\n",
       "    </tr>\n",
       "    <tr>\n",
       "      <th>18</th>\n",
       "      <td>0</td>\n",
       "      <td>400281.136913</td>\n",
       "      <td>53</td>\n",
       "      <td>среднее</td>\n",
       "      <td>1</td>\n",
       "      <td>вдовец / вдова</td>\n",
       "      <td>2</td>\n",
       "      <td>F</td>\n",
       "      <td>пенсионер</td>\n",
       "      <td>0</td>\n",
       "      <td>56823.777243</td>\n",
       "      <td>на покупку подержанного автомобиля</td>\n",
       "    </tr>\n",
       "    <tr>\n",
       "      <th>19</th>\n",
       "      <td>0</td>\n",
       "      <td>-10038.818549</td>\n",
       "      <td>48</td>\n",
       "      <td>СРЕДНЕЕ</td>\n",
       "      <td>1</td>\n",
       "      <td>в разводе</td>\n",
       "      <td>3</td>\n",
       "      <td>F</td>\n",
       "      <td>сотрудник</td>\n",
       "      <td>0</td>\n",
       "      <td>242831.107982</td>\n",
       "      <td>на покупку своего автомобиля</td>\n",
       "    </tr>\n",
       "  </tbody>\n",
       "</table>\n",
       "</div>"
      ],
      "text/plain": [
       "    children  days_employed  dob_years            education  education_id  \\\n",
       "0          1   -8437.673028         42               высшее             0   \n",
       "1          1   -4024.803754         36              среднее             1   \n",
       "2          0   -5623.422610         33              Среднее             1   \n",
       "3          3   -4124.747207         32              среднее             1   \n",
       "4          0  340266.072047         53              среднее             1   \n",
       "5          0    -926.185831         27               высшее             0   \n",
       "6          0   -2879.202052         43               высшее             0   \n",
       "7          0    -152.779569         50              СРЕДНЕЕ             1   \n",
       "8          2   -6929.865299         35               ВЫСШЕЕ             0   \n",
       "9          0   -2188.756445         41              среднее             1   \n",
       "10         2   -4171.483647         36               высшее             0   \n",
       "11         0    -792.701887         40              среднее             1   \n",
       "12         0            NaN         65              среднее             1   \n",
       "13         0   -1846.641941         54  неоконченное высшее             2   \n",
       "14         0   -1844.956182         56               высшее             0   \n",
       "15         1    -972.364419         26              среднее             1   \n",
       "16         0   -1719.934226         35              среднее             1   \n",
       "17         0   -2369.999720         33               высшее             0   \n",
       "18         0  400281.136913         53              среднее             1   \n",
       "19         0  -10038.818549         48              СРЕДНЕЕ             1   \n",
       "\n",
       "       family_status  family_status_id gender income_type  debt  \\\n",
       "0    женат / замужем                 0      F   сотрудник     0   \n",
       "1    женат / замужем                 0      F   сотрудник     0   \n",
       "2    женат / замужем                 0      M   сотрудник     0   \n",
       "3    женат / замужем                 0      M   сотрудник     0   \n",
       "4   гражданский брак                 1      F   пенсионер     0   \n",
       "5   гражданский брак                 1      M   компаньон     0   \n",
       "6    женат / замужем                 0      F   компаньон     0   \n",
       "7    женат / замужем                 0      M   сотрудник     0   \n",
       "8   гражданский брак                 1      F   сотрудник     0   \n",
       "9    женат / замужем                 0      M   сотрудник     0   \n",
       "10   женат / замужем                 0      M   компаньон     0   \n",
       "11   женат / замужем                 0      F   сотрудник     0   \n",
       "12  гражданский брак                 1      M   пенсионер     0   \n",
       "13   женат / замужем                 0      F   сотрудник     0   \n",
       "14  гражданский брак                 1      F   компаньон     1   \n",
       "15   женат / замужем                 0      F   сотрудник     0   \n",
       "16   женат / замужем                 0      F   сотрудник     0   \n",
       "17  гражданский брак                 1      M   сотрудник     0   \n",
       "18    вдовец / вдова                 2      F   пенсионер     0   \n",
       "19         в разводе                 3      F   сотрудник     0   \n",
       "\n",
       "     total_income                                 purpose  \n",
       "0   253875.639453                           покупка жилья  \n",
       "1   112080.014102                 приобретение автомобиля  \n",
       "2   145885.952297                           покупка жилья  \n",
       "3   267628.550329              дополнительное образование  \n",
       "4   158616.077870                         сыграть свадьбу  \n",
       "5   255763.565419                           покупка жилья  \n",
       "6   240525.971920                       операции с жильем  \n",
       "7   135823.934197                             образование  \n",
       "8    95856.832424                   на проведение свадьбы  \n",
       "9   144425.938277                 покупка жилья для семьи  \n",
       "10  113943.491460                    покупка недвижимости  \n",
       "11   77069.234271       покупка коммерческой недвижимости  \n",
       "12            NaN                         сыграть свадьбу  \n",
       "13  130458.228857                 приобретение автомобиля  \n",
       "14  165127.911772              покупка жилой недвижимости  \n",
       "15  116820.904450  строительство собственной недвижимости  \n",
       "16  289202.704229                            недвижимость  \n",
       "17   90410.586745              строительство недвижимости  \n",
       "18   56823.777243      на покупку подержанного автомобиля  \n",
       "19  242831.107982            на покупку своего автомобиля  "
      ]
     },
     "execution_count": 2,
     "metadata": {},
     "output_type": "execute_result"
    }
   ],
   "source": [
    "data.head(20)"
   ]
  },
  {
   "cell_type": "markdown",
   "id": "9cca4624",
   "metadata": {
    "deletable": false,
    "editable": false,
    "id": "1c12e233"
   },
   "source": [
    "**Задание 3. Выведите основную информацию о датафрейме с помощью метода `info()`.**"
   ]
  },
  {
   "cell_type": "code",
   "execution_count": 3,
   "id": "0c3b7b17",
   "metadata": {
    "deletable": false,
    "id": "2b757bca",
    "outputId": "15376089-8dad-46c9-b520-c05248d43158"
   },
   "outputs": [
    {
     "name": "stdout",
     "output_type": "stream",
     "text": [
      "<class 'pandas.core.frame.DataFrame'>\n",
      "RangeIndex: 21525 entries, 0 to 21524\n",
      "Data columns (total 12 columns):\n",
      " #   Column            Non-Null Count  Dtype  \n",
      "---  ------            --------------  -----  \n",
      " 0   children          21525 non-null  int64  \n",
      " 1   days_employed     19351 non-null  float64\n",
      " 2   dob_years         21525 non-null  int64  \n",
      " 3   education         21525 non-null  object \n",
      " 4   education_id      21525 non-null  int64  \n",
      " 5   family_status     21525 non-null  object \n",
      " 6   family_status_id  21525 non-null  int64  \n",
      " 7   gender            21525 non-null  object \n",
      " 8   income_type       21525 non-null  object \n",
      " 9   debt              21525 non-null  int64  \n",
      " 10  total_income      19351 non-null  float64\n",
      " 11  purpose           21525 non-null  object \n",
      "dtypes: float64(2), int64(5), object(5)\n",
      "memory usage: 2.0+ MB\n"
     ]
    }
   ],
   "source": [
    "data.info()"
   ]
  },
  {
   "cell_type": "markdown",
   "id": "62acd7d6",
   "metadata": {
    "deletable": false,
    "editable": false,
    "id": "333ec665"
   },
   "source": [
    "## Предобработка данных"
   ]
  },
  {
   "cell_type": "markdown",
   "id": "a1904acd",
   "metadata": {
    "deletable": false,
    "editable": false,
    "id": "02d92d53"
   },
   "source": [
    "### Удаление пропусков"
   ]
  },
  {
   "cell_type": "markdown",
   "id": "71ee80ba",
   "metadata": {
    "deletable": false,
    "editable": false,
    "id": "cd84967c"
   },
   "source": [
    "**Задание 4. Выведите количество пропущенных значений для каждого столбца. Используйте комбинацию двух методов.**"
   ]
  },
  {
   "cell_type": "code",
   "execution_count": 4,
   "id": "cf51f854",
   "metadata": {
    "deletable": false,
    "id": "7f9b2309",
    "outputId": "81f4d817-781c-465c-ed15-91ce4446810d"
   },
   "outputs": [
    {
     "data": {
      "text/plain": [
       "children               0\n",
       "days_employed       2174\n",
       "dob_years              0\n",
       "education              0\n",
       "education_id           0\n",
       "family_status          0\n",
       "family_status_id       0\n",
       "gender                 0\n",
       "income_type            0\n",
       "debt                   0\n",
       "total_income        2174\n",
       "purpose                0\n",
       "dtype: int64"
      ]
     },
     "metadata": {},
     "output_type": "display_data"
    }
   ],
   "source": [
    "display(data.isna().sum())"
   ]
  },
  {
   "cell_type": "markdown",
   "id": "4ae6d7f7",
   "metadata": {
    "deletable": false,
    "editable": false,
    "id": "db86e27b"
   },
   "source": [
    "**Задание 5. В двух столбцах есть пропущенные значения. Один из них — `days_employed`. Пропуски в этом столбце вы обработаете на следующем этапе. Другой столбец с пропущенными значениями — `total_income` — хранит данные о доходах. На сумму дохода сильнее всего влияет тип занятости, поэтому заполнить пропуски в этом столбце нужно медианным значением по каждому типу из столбца `income_type`. Например, у человека с типом занятости `сотрудник` пропуск в столбце `total_income` должен быть заполнен медианным доходом среди всех записей с тем же типом.**"
   ]
  },
  {
   "cell_type": "code",
   "execution_count": 5,
   "id": "9a5f1151",
   "metadata": {
    "deletable": false,
    "id": "42006a93"
   },
   "outputs": [],
   "source": [
    "for t in data['income_type'].unique():\n",
    "    data.loc[(data['income_type'] == t) & (data['total_income'].isna()), 'total_income'] = \\\n",
    "    data.loc[(data['income_type'] == t), 'total_income'].median()"
   ]
  },
  {
   "cell_type": "markdown",
   "id": "983a0fc6",
   "metadata": {
    "deletable": false,
    "editable": false,
    "id": "89da5ece"
   },
   "source": [
    "### Обработка аномальных значений"
   ]
  },
  {
   "cell_type": "markdown",
   "id": "7396cf65",
   "metadata": {
    "deletable": false,
    "editable": false,
    "id": "57964554"
   },
   "source": [
    "**Задание 6. В данных могут встречаться артефакты (аномалии) — значения, которые не отражают действительность и появились по какой-то ошибке. таким артефактом будет отрицательное количество дней трудового стажа в столбце `days_employed`. Для реальных данных это нормально. Обработайте значения в этом столбце: замените все отрицательные значения положительными с помощью метода `abs()`.**"
   ]
  },
  {
   "cell_type": "code",
   "execution_count": 6,
   "id": "353b85ba",
   "metadata": {
    "deletable": false,
    "id": "f6f055bf"
   },
   "outputs": [],
   "source": [
    "data['days_employed'] = data['days_employed'].abs()"
   ]
  },
  {
   "cell_type": "markdown",
   "id": "892ac03d",
   "metadata": {
    "deletable": false,
    "editable": false,
    "id": "6107dd2f"
   },
   "source": [
    "**Задание 7. Для каждого типа занятости выведите медианное значение трудового стажа `days_employed` в днях.**"
   ]
  },
  {
   "cell_type": "code",
   "execution_count": 7,
   "id": "f50255bc",
   "metadata": {
    "deletable": false,
    "id": "85a5faf6",
    "outputId": "801ef80e-522b-4668-f34e-565af7432bcf"
   },
   "outputs": [
    {
     "data": {
      "text/plain": [
       "income_type\n",
       "безработный        366413.652744\n",
       "в декрете            3296.759962\n",
       "госслужащий          2689.368353\n",
       "компаньон            1547.382223\n",
       "пенсионер          365213.306266\n",
       "предприниматель       520.848083\n",
       "сотрудник            1574.202821\n",
       "студент               578.751554\n",
       "Name: days_employed, dtype: float64"
      ]
     },
     "metadata": {},
     "output_type": "display_data"
    }
   ],
   "source": [
    "display(data.groupby('income_type')['days_employed'].agg('median'))"
   ]
  },
  {
   "cell_type": "markdown",
   "id": "e19b89e0",
   "metadata": {
    "deletable": false,
    "editable": false,
    "id": "38d1a030"
   },
   "source": [
    "У двух типов (безработные и пенсионеры) получатся аномально большие значения. Исправить такие значения сложно, поэтому оставьте их как есть. Тем более этот столбец не понадобится вам для исследования."
   ]
  },
  {
   "cell_type": "markdown",
   "id": "500c60f5",
   "metadata": {
    "deletable": false,
    "editable": false,
    "id": "d8a9f147"
   },
   "source": [
    "**Задание 8. Выведите перечень уникальных значений столбца `children`.**"
   ]
  },
  {
   "cell_type": "code",
   "execution_count": 8,
   "id": "14b56d32",
   "metadata": {
    "deletable": false,
    "id": "ef5056eb",
    "outputId": "6975b15c-7f95-4697-d16d-a0c79b657b03"
   },
   "outputs": [
    {
     "name": "stdout",
     "output_type": "stream",
     "text": [
      "[ 1  0  3  2 -1  4 20  5]\n"
     ]
    }
   ],
   "source": [
    "print(data['children'].unique())"
   ]
  },
  {
   "cell_type": "markdown",
   "id": "e395e0bb",
   "metadata": {
    "deletable": false,
    "editable": false,
    "id": "40b9ebf2"
   },
   "source": [
    "**Задание 9. В столбце `children` есть два аномальных значения. Удалите строки, в которых встречаются такие аномальные значения из датафрейма `data`.**"
   ]
  },
  {
   "cell_type": "code",
   "execution_count": 9,
   "id": "88579901",
   "metadata": {
    "deletable": false,
    "id": "3ff9801d"
   },
   "outputs": [],
   "source": [
    "data = data[(data['children'] != -1) & (data['children'] != 20)]"
   ]
  },
  {
   "cell_type": "markdown",
   "id": "e7a72d08",
   "metadata": {
    "deletable": false,
    "editable": false,
    "id": "bbc4d0ce"
   },
   "source": [
    "**Задание 10. Ещё раз выведите перечень уникальных значений столбца `children`, чтобы убедиться, что артефакты удалены.**"
   ]
  },
  {
   "cell_type": "code",
   "execution_count": 10,
   "id": "53f34995",
   "metadata": {
    "deletable": false,
    "id": "ad4fa8b7",
    "outputId": "b2097101-d49d-44d9-901b-32a65c9463d1"
   },
   "outputs": [
    {
     "name": "stdout",
     "output_type": "stream",
     "text": [
      "[1 0 3 2 4 5]\n"
     ]
    }
   ],
   "source": [
    "print(data['children'].unique())"
   ]
  },
  {
   "cell_type": "markdown",
   "id": "fc3dc7aa",
   "metadata": {
    "deletable": false,
    "editable": false,
    "id": "75440b63"
   },
   "source": [
    "### Удаление пропусков (продолжение)"
   ]
  },
  {
   "cell_type": "markdown",
   "id": "9f56171d",
   "metadata": {
    "deletable": false,
    "editable": false,
    "id": "f4ea573f"
   },
   "source": [
    "**Задание 11. Заполните пропуски в столбце `days_employed` медианными значениями по каждого типа занятости `income_type`.**"
   ]
  },
  {
   "cell_type": "code",
   "execution_count": 11,
   "id": "028d24e2",
   "metadata": {
    "deletable": false,
    "id": "af6b1a7e"
   },
   "outputs": [],
   "source": [
    "for t in data['income_type'].unique():\n",
    "    data.loc[(data['income_type'] == t) & (data['days_employed'].isna()), 'days_employed'] = \\\n",
    "    data.loc[(data['income_type'] == t), 'days_employed'].median()"
   ]
  },
  {
   "cell_type": "markdown",
   "id": "55f613f6",
   "metadata": {
    "deletable": false,
    "editable": false,
    "id": "2753f40d"
   },
   "source": [
    "**Задание 12. Убедитесь, что все пропуски заполнены. Проверьте себя и ещё раз выведите количество пропущенных значений для каждого столбца с помощью двух методов.**"
   ]
  },
  {
   "cell_type": "code",
   "execution_count": 12,
   "id": "40e09d31",
   "metadata": {
    "deletable": false,
    "id": "55f78bc2",
    "outputId": "8da1e4e1-358e-4e87-98c9-f261bce0a7b2"
   },
   "outputs": [
    {
     "data": {
      "text/plain": [
       "children            0\n",
       "days_employed       0\n",
       "dob_years           0\n",
       "education           0\n",
       "education_id        0\n",
       "family_status       0\n",
       "family_status_id    0\n",
       "gender              0\n",
       "income_type         0\n",
       "debt                0\n",
       "total_income        0\n",
       "purpose             0\n",
       "dtype: int64"
      ]
     },
     "metadata": {},
     "output_type": "display_data"
    }
   ],
   "source": [
    "display(data.isna().sum())"
   ]
  },
  {
   "cell_type": "markdown",
   "id": "019d276f",
   "metadata": {
    "deletable": false,
    "editable": false,
    "id": "ddc81e43"
   },
   "source": [
    "### Изменение типов данных"
   ]
  },
  {
   "cell_type": "markdown",
   "id": "9a9598e3",
   "metadata": {
    "deletable": false,
    "editable": false,
    "id": "42d19d24"
   },
   "source": [
    "**Задание 13. Замените вещественный тип данных в столбце `total_income` на целочисленный с помощью метода `astype()`.**"
   ]
  },
  {
   "cell_type": "code",
   "execution_count": 13,
   "id": "7fb93c3c",
   "metadata": {
    "deletable": false,
    "id": "920b65ad"
   },
   "outputs": [],
   "source": [
    "data['total_income'] = data['total_income'].astype(int)"
   ]
  },
  {
   "cell_type": "markdown",
   "id": "7d499121",
   "metadata": {
    "deletable": false,
    "editable": false,
    "id": "80c420ba"
   },
   "source": [
    "### Обработка дубликатов"
   ]
  },
  {
   "cell_type": "markdown",
   "id": "d6572c71",
   "metadata": {
    "deletable": false,
    "editable": false
   },
   "source": [
    "**Задание 14. Обработайте неявные дубликаты в столбце `education`. В этом столбце есть одни и те же значения, но записанные по-разному: с использованием заглавных и строчных букв. Приведите их к нижнему регистру. Проверьте остальные столбцы.**"
   ]
  },
  {
   "cell_type": "code",
   "execution_count": 14,
   "id": "1c6eecf5",
   "metadata": {
    "deletable": false
   },
   "outputs": [],
   "source": [
    "data['education'] = data['education'].str.lower()"
   ]
  },
  {
   "cell_type": "markdown",
   "id": "05898d4b",
   "metadata": {
    "deletable": false,
    "editable": false,
    "id": "dc587695"
   },
   "source": [
    "**Задание 15. Выведите на экран количество строк-дубликатов в данных. Если такие строки присутствуют, удалите их.**"
   ]
  },
  {
   "cell_type": "code",
   "execution_count": 15,
   "id": "e671439f",
   "metadata": {
    "deletable": false,
    "id": "3ee445e4",
    "outputId": "9684deba-1934-42d1-99e1-cda61740f822"
   },
   "outputs": [
    {
     "name": "stdout",
     "output_type": "stream",
     "text": [
      "Количество строк-дубликатов: 71\n"
     ]
    }
   ],
   "source": [
    "print(f'Количество строк-дубликатов: {data.duplicated().sum()}')"
   ]
  },
  {
   "cell_type": "code",
   "execution_count": 16,
   "id": "ea5bef24",
   "metadata": {
    "deletable": false,
    "id": "8575fe05"
   },
   "outputs": [],
   "source": [
    "data = data.drop_duplicates()"
   ]
  },
  {
   "cell_type": "markdown",
   "id": "b3e1e5a3",
   "metadata": {
    "deletable": false,
    "editable": false,
    "id": "9904cf55"
   },
   "source": [
    "### Категоризация данных"
   ]
  },
  {
   "cell_type": "markdown",
   "id": "9d43a3c1",
   "metadata": {
    "deletable": false,
    "editable": false,
    "id": "72fcc8a2"
   },
   "source": [
    "**Задание 16. На основании диапазонов, указанных ниже, создайте в датафрейме `data` столбец `total_income_category` с категориями:**\n",
    "\n",
    "- 0–30000 — `'E'`;\n",
    "- 30001–50000 — `'D'`;\n",
    "- 50001–200000 — `'C'`;\n",
    "- 200001–1000000 — `'B'`;\n",
    "- 1000001 и выше — `'A'`.\n",
    "\n",
    "\n",
    "**Например, кредитополучателю с доходом 25000 нужно назначить категорию `'E'`, а клиенту, получающему 235000, — `'B'`. Используйте собственную функцию с именем `categorize_income()` и метод `apply()`.**"
   ]
  },
  {
   "cell_type": "code",
   "execution_count": 17,
   "id": "fb14c0fa",
   "metadata": {
    "deletable": false,
    "id": "e1771346"
   },
   "outputs": [],
   "source": [
    "def categorize_income(income):\n",
    "    try:\n",
    "        if 0 <= income <= 30000:\n",
    "            return 'E'\n",
    "        elif 30001 <= income <= 50000:\n",
    "            return 'D'\n",
    "        elif 50001 <= income <= 200000:\n",
    "            return 'C'\n",
    "        elif 200001 <= income <= 1000000:\n",
    "            return 'B'\n",
    "        elif income >= 1000001:\n",
    "            return 'A'\n",
    "    except:\n",
    "        pass"
   ]
  },
  {
   "cell_type": "code",
   "execution_count": 18,
   "id": "48461d33",
   "metadata": {
    "deletable": false,
    "id": "d5f3586d"
   },
   "outputs": [],
   "source": [
    "data['total_income_category'] = data['total_income'].apply(categorize_income)"
   ]
  },
  {
   "cell_type": "markdown",
   "id": "f7e21970",
   "metadata": {
    "deletable": false,
    "editable": false,
    "id": "dde49b5c"
   },
   "source": [
    "**Задание 17. Выведите на экран перечень уникальных целей взятия кредита из столбца `purpose`.**"
   ]
  },
  {
   "cell_type": "code",
   "execution_count": 19,
   "id": "da59fbbc",
   "metadata": {
    "deletable": false,
    "id": "f67ce9b3",
    "outputId": "673c12d9-7d7e-4ae0-9812-c622c89dd244"
   },
   "outputs": [
    {
     "name": "stdout",
     "output_type": "stream",
     "text": [
      "['покупка жилья' 'приобретение автомобиля' 'дополнительное образование'\n",
      " 'сыграть свадьбу' 'операции с жильем' 'образование'\n",
      " 'на проведение свадьбы' 'покупка жилья для семьи' 'покупка недвижимости'\n",
      " 'покупка коммерческой недвижимости' 'покупка жилой недвижимости'\n",
      " 'строительство собственной недвижимости' 'недвижимость'\n",
      " 'строительство недвижимости' 'на покупку подержанного автомобиля'\n",
      " 'на покупку своего автомобиля' 'операции с коммерческой недвижимостью'\n",
      " 'строительство жилой недвижимости' 'жилье'\n",
      " 'операции со своей недвижимостью' 'автомобили' 'заняться образованием'\n",
      " 'сделка с подержанным автомобилем' 'получение образования' 'автомобиль'\n",
      " 'свадьба' 'получение дополнительного образования' 'покупка своего жилья'\n",
      " 'операции с недвижимостью' 'получение высшего образования'\n",
      " 'свой автомобиль' 'сделка с автомобилем' 'профильное образование'\n",
      " 'высшее образование' 'покупка жилья для сдачи' 'на покупку автомобиля'\n",
      " 'ремонт жилью' 'заняться высшим образованием']\n"
     ]
    }
   ],
   "source": [
    "print(data['purpose'].unique())"
   ]
  },
  {
   "cell_type": "markdown",
   "id": "ebdcde30",
   "metadata": {
    "deletable": false,
    "editable": false,
    "id": "85d0aef0"
   },
   "source": [
    "**Задание 18. Создайте функцию, которая на основании данных из столбца `purpose` сформирует новый столбец `purpose_category`, в который войдут следующие категории:**\n",
    "\n",
    "- `'операции с автомобилем'`,\n",
    "- `'операции с недвижимостью'`,\n",
    "- `'проведение свадьбы'`,\n",
    "- `'получение образования'`.\n",
    "\n",
    "**Например, если в столбце `purpose` находится подстрока `'на покупку автомобиля'`, то в столбце `purpose_category` должна появиться строка `'операции с автомобилем'`.**\n",
    "\n",
    "**Используйте собственную функцию с именем `categorize_purpose()` и метод `apply()`. Изучите данные в столбце `purpose` и определите, какие подстроки помогут вам правильно определить категорию.**"
   ]
  },
  {
   "cell_type": "code",
   "execution_count": 20,
   "id": "f565fde4",
   "metadata": {
    "deletable": false,
    "id": "e149fab4"
   },
   "outputs": [],
   "source": [
    "def categorize_purpose(row):\n",
    "    try:\n",
    "        if 'автом' in row:\n",
    "            return 'операции с автомобилем'\n",
    "        elif 'жил' in row or 'недвиж' in row:\n",
    "            return 'операции с недвижимостью'\n",
    "        elif 'свад' in row:\n",
    "            return 'проведение свадьбы'\n",
    "        elif 'образов' in row:\n",
    "            return 'получение образования'\n",
    "    except:\n",
    "        return 'нет категории'"
   ]
  },
  {
   "cell_type": "code",
   "execution_count": 21,
   "id": "92754b88",
   "metadata": {
    "deletable": false,
    "id": "bf36e69b"
   },
   "outputs": [],
   "source": [
    "data['purpose_category'] = data['purpose'].apply(categorize_purpose)"
   ]
  },
  {
   "cell_type": "markdown",
   "id": "fb9a486a",
   "metadata": {
    "deletable": false,
    "editable": false,
    "id": "09b242bf"
   },
   "source": [
    "### Шаг 3. Исследуйте данные и ответьте на вопросы"
   ]
  },
  {
   "cell_type": "markdown",
   "id": "ab2e8903",
   "metadata": {},
   "source": [
    "Напишем функции, которые потребуются для выполнения однотипных действий во всех вопросах исследования."
   ]
  },
  {
   "cell_type": "markdown",
   "id": "24f54e1b",
   "metadata": {},
   "source": [
    "Во-первых, создадим функцию для построения сводной таблицы.\n",
    "В качестве параметров будет передаваться датафрейм и наименование столбца, по категориям которого нужно подсчитать долю должников, а в качестве результата будет возвращаться сводная таблица с информацией сколько по этому параметру 'Всего кредитополучателей', 'Всего должников' и какая 'Доля должников'."
   ]
  },
  {
   "cell_type": "code",
   "execution_count": 22,
   "id": "ee323272",
   "metadata": {},
   "outputs": [],
   "source": [
    "# функция для построения сводной таблицы с подсчетом доли должников\n",
    "\n",
    "def create_pivot_table(df, column):\n",
    "    #создаем сводную таблицу с аггрегацией заемщиков по общему количеству, по количеству задолженников, и по доле задолженников\n",
    "    pivot_table = df.pivot_table(index=column, values='debt', aggfunc=('count','sum','mean'))\n",
    "    #переименовываем столбцы в более подходящие по смыслу названия\n",
    "    pivot_table = pivot_table.rename(columns={'count': 'total', 'sum' : 'number_of_debtors', 'mean' : 'share_of_debtors'})\n",
    "    #расставляем столбцы в нужной нам последовательности\n",
    "    pivot_table = pivot_table[['total','number_of_debtors','share_of_debtors']]\n",
    "    #преобразовываем в целочисленные значения столбцы с количеством заемщиков и задолженников\n",
    "    pivot_table[['total', 'number_of_debtors']] = pivot_table[['total', 'number_of_debtors']].astype(int)\n",
    "    #сортируем по возрастанию доли должников\n",
    "    pivot_table = pivot_table.sort_values(by='share_of_debtors')\n",
    "    #возвращаем результат в виде сводной таблицы\n",
    "    return pivot_table"
   ]
  },
  {
   "cell_type": "markdown",
   "id": "cce93836",
   "metadata": {},
   "source": [
    "Во-вторых, сделаем функцию для вывода информации, чтобы доля должников печаталась в виде процентов, и имена столбцов отражались на русском языке."
   ]
  },
  {
   "cell_type": "code",
   "execution_count": 23,
   "id": "3f73a941",
   "metadata": {},
   "outputs": [],
   "source": [
    "# функция для вывода информации из сводной таблицы с информацией о доли должников\n",
    "\n",
    "def display_debt_pivot(df_pivot):\n",
    "    #переименовываем столбцы для отражения их на русском языке\n",
    "    print_pivot = df_pivot.rename(columns={'total' : 'Всего заемщиков', 'number_of_debtors' : 'Всего должников', 'share_of_debtors' : 'Доля должников'})\n",
    "    #выводим сводную таблицу, указывая долю должников в виде процентов с точностью до двух знаков после запятой\n",
    "    display(print_pivot.style.format(formatter={('Доля должников'): \"{:.2%}\"}))    "
   ]
  },
  {
   "cell_type": "markdown",
   "id": "90f70dc0",
   "metadata": {
    "deletable": false,
    "editable": false,
    "id": "c5d66278"
   },
   "source": [
    "#### 3.1 Есть ли зависимость между количеством детей и возвратом кредита в срок?"
   ]
  },
  {
   "cell_type": "markdown",
   "id": "b56c13ae",
   "metadata": {},
   "source": [
    "Посмотрим распределение заёмщиков по количеству детей"
   ]
  },
  {
   "cell_type": "code",
   "execution_count": 24,
   "id": "01bd4a1b",
   "metadata": {
    "deletable": false,
    "id": "2cacfc4a"
   },
   "outputs": [
    {
     "name": "stdout",
     "output_type": "stream",
     "text": [
      "children\n",
      "0    14091\n",
      "1     4808\n",
      "2     2052\n",
      "3      330\n",
      "4       41\n",
      "5        9\n",
      "Name: children, dtype: int64\n"
     ]
    }
   ],
   "source": [
    "# количество заёмщиков в разрезе количества детей\n",
    "print(data.groupby('children')['children'].count())"
   ]
  },
  {
   "cell_type": "code",
   "execution_count": 25,
   "id": "a2ad86d1",
   "metadata": {},
   "outputs": [
    {
     "data": {
      "image/png": "[encoded data removed]",
      "text/plain": [
       "<Figure size 720x432 with 1 Axes>"
      ]
     },
     "metadata": {
      "needs_background": "light"
     },
     "output_type": "display_data"
    }
   ],
   "source": [
    "#график: количество заёмщиков в разрезе количества детей\n",
    "fig, ax = plt.subplots(figsize=(10,6))\n",
    "data.groupby('children')['children'].count().plot.bar()\n",
    "ax.set_title('Количество заемщиков в разрезе количества детей')\n",
    "ax.set_ylabel('Количество заемщиков')\n",
    "ax.set_xlabel('Количество детей')\n",
    "plt.show()"
   ]
  },
  {
   "cell_type": "markdown",
   "id": "cbb187cd",
   "metadata": {},
   "source": [
    "Большинство заемщиков не имеют детей.\n",
    "\n",
    "Среди семей с детьми довольно малое количество с 4 и 5 детьми, и возможно в последующем следует объединить семьи с 3, 4 и 5 детьми в общую категорию \"многодетные\"."
   ]
  },
  {
   "cell_type": "markdown",
   "id": "82248f0c",
   "metadata": {},
   "source": [
    "Найдём какой процент заёмщиков имел просроченную задолженность, в зависимости от количества детей в семье:"
   ]
  },
  {
   "cell_type": "code",
   "execution_count": 26,
   "id": "a1a3252d",
   "metadata": {},
   "outputs": [],
   "source": [
    "# воспользуемся ранее созданной функцией для подсчета доли должников\n",
    "# передаем функции наш датафрейм и столбец 'children', по которому считаем долю должников \n",
    "children_pivot = create_pivot_table(data, 'children')"
   ]
  },
  {
   "cell_type": "code",
   "execution_count": 27,
   "id": "c8d9fa61",
   "metadata": {},
   "outputs": [
    {
     "data": {
      "text/html": [
       "<style  type=\"text/css\" >\n",
       "</style><table id=\"T_4293b_\" ><thead>    <tr>        <th class=\"blank level0\" ></th>        <th class=\"col_heading level0 col0\" >Всего заемщиков</th>        <th class=\"col_heading level0 col1\" >Всего должников</th>        <th class=\"col_heading level0 col2\" >Доля должников</th>    </tr>    <tr>        <th class=\"index_name level0\" >children</th>        <th class=\"blank\" ></th>        <th class=\"blank\" ></th>        <th class=\"blank\" ></th>    </tr></thead><tbody>\n",
       "                <tr>\n",
       "                        <th id=\"T_4293b_level0_row0\" class=\"row_heading level0 row0\" >5</th>\n",
       "                        <td id=\"T_4293b_row0_col0\" class=\"data row0 col0\" >9</td>\n",
       "                        <td id=\"T_4293b_row0_col1\" class=\"data row0 col1\" >0</td>\n",
       "                        <td id=\"T_4293b_row0_col2\" class=\"data row0 col2\" >0.00%</td>\n",
       "            </tr>\n",
       "            <tr>\n",
       "                        <th id=\"T_4293b_level0_row1\" class=\"row_heading level0 row1\" >0</th>\n",
       "                        <td id=\"T_4293b_row1_col0\" class=\"data row1 col0\" >14091</td>\n",
       "                        <td id=\"T_4293b_row1_col1\" class=\"data row1 col1\" >1063</td>\n",
       "                        <td id=\"T_4293b_row1_col2\" class=\"data row1 col2\" >7.54%</td>\n",
       "            </tr>\n",
       "            <tr>\n",
       "                        <th id=\"T_4293b_level0_row2\" class=\"row_heading level0 row2\" >3</th>\n",
       "                        <td id=\"T_4293b_row2_col0\" class=\"data row2 col0\" >330</td>\n",
       "                        <td id=\"T_4293b_row2_col1\" class=\"data row2 col1\" >27</td>\n",
       "                        <td id=\"T_4293b_row2_col2\" class=\"data row2 col2\" >8.18%</td>\n",
       "            </tr>\n",
       "            <tr>\n",
       "                        <th id=\"T_4293b_level0_row3\" class=\"row_heading level0 row3\" >1</th>\n",
       "                        <td id=\"T_4293b_row3_col0\" class=\"data row3 col0\" >4808</td>\n",
       "                        <td id=\"T_4293b_row3_col1\" class=\"data row3 col1\" >444</td>\n",
       "                        <td id=\"T_4293b_row3_col2\" class=\"data row3 col2\" >9.23%</td>\n",
       "            </tr>\n",
       "            <tr>\n",
       "                        <th id=\"T_4293b_level0_row4\" class=\"row_heading level0 row4\" >2</th>\n",
       "                        <td id=\"T_4293b_row4_col0\" class=\"data row4 col0\" >2052</td>\n",
       "                        <td id=\"T_4293b_row4_col1\" class=\"data row4 col1\" >194</td>\n",
       "                        <td id=\"T_4293b_row4_col2\" class=\"data row4 col2\" >9.45%</td>\n",
       "            </tr>\n",
       "            <tr>\n",
       "                        <th id=\"T_4293b_level0_row5\" class=\"row_heading level0 row5\" >4</th>\n",
       "                        <td id=\"T_4293b_row5_col0\" class=\"data row5 col0\" >41</td>\n",
       "                        <td id=\"T_4293b_row5_col1\" class=\"data row5 col1\" >4</td>\n",
       "                        <td id=\"T_4293b_row5_col2\" class=\"data row5 col2\" >9.76%</td>\n",
       "            </tr>\n",
       "    </tbody></table>"
      ],
      "text/plain": [
       "<pandas.io.formats.style.Styler at 0x1aa7dcf2910>"
      ]
     },
     "metadata": {},
     "output_type": "display_data"
    }
   ],
   "source": [
    "#выводим информацию при помощи ранее объявленной функции display_debt_pivot\n",
    "display_debt_pivot(children_pivot)"
   ]
  },
  {
   "cell_type": "markdown",
   "id": "18b90999",
   "metadata": {},
   "source": [
    "Отметим, что у клиентов без детей наблюдается наименьший процент случаев задолженности. Меньше на 1,7 - 1,9 процентных пункта, чем у заёмщиков с одним и двумя детьми, и на 2,2 п.п. чем у семей с четырьмя детьми.\n",
    "\n",
    "У заёмщиков с 3-мя детьми процент возникновения задолженности всего лишь на 0,6 п.п. больше, чем у бездетных клиентов. У заёмщиков с 5-ю детьми отмечен нулевой процент просрочек, но так как количество таких семей минимально и на порядки отличается от других категорий, то даже появление единичного случая просрочки приведёт к существенному изменению доли клиентов с задолженностью в данной категории."
   ]
  },
  {
   "cell_type": "markdown",
   "id": "289dfb13",
   "metadata": {},
   "source": [
    "Объединим в одну категорию клиентов с тремя и более детьми:"
   ]
  },
  {
   "cell_type": "code",
   "execution_count": 28,
   "id": "5e11cb6c",
   "metadata": {},
   "outputs": [],
   "source": [
    "# функция для выделения категорий в зависимости от количества детей\n",
    "def categorize_children(row):\n",
    "    try:\n",
    "        if row == 0:\n",
    "            return 'без детей'\n",
    "        elif row == 1:\n",
    "            return 'один ребёнок'\n",
    "        elif row == 2:\n",
    "            return 'двое детей'\n",
    "        elif row >= 3:\n",
    "            return 'многодетные'\n",
    "    except:\n",
    "        return 'нет категории'"
   ]
  },
  {
   "cell_type": "code",
   "execution_count": 29,
   "id": "4da495ff",
   "metadata": {},
   "outputs": [],
   "source": [
    "# добавляем колонку с категориями по числу детей\n",
    "data['children_category'] = data['children'].apply(categorize_children)"
   ]
  },
  {
   "cell_type": "code",
   "execution_count": 30,
   "id": "e8caf4b0",
   "metadata": {},
   "outputs": [],
   "source": [
    "# посчитаем долю тех, кто имел задолженность\n",
    "children_category_pivot = create_pivot_table(data, 'children_category')"
   ]
  },
  {
   "cell_type": "code",
   "execution_count": 31,
   "id": "32aa26bc",
   "metadata": {
    "scrolled": true,
    "tags": []
   },
   "outputs": [
    {
     "data": {
      "text/html": [
       "<style  type=\"text/css\" >\n",
       "</style><table id=\"T_07f5f_\" ><thead>    <tr>        <th class=\"blank level0\" ></th>        <th class=\"col_heading level0 col0\" >Всего заемщиков</th>        <th class=\"col_heading level0 col1\" >Всего должников</th>        <th class=\"col_heading level0 col2\" >Доля должников</th>    </tr>    <tr>        <th class=\"index_name level0\" >children_category</th>        <th class=\"blank\" ></th>        <th class=\"blank\" ></th>        <th class=\"blank\" ></th>    </tr></thead><tbody>\n",
       "                <tr>\n",
       "                        <th id=\"T_07f5f_level0_row0\" class=\"row_heading level0 row0\" >без детей</th>\n",
       "                        <td id=\"T_07f5f_row0_col0\" class=\"data row0 col0\" >14091</td>\n",
       "                        <td id=\"T_07f5f_row0_col1\" class=\"data row0 col1\" >1063</td>\n",
       "                        <td id=\"T_07f5f_row0_col2\" class=\"data row0 col2\" >7.54%</td>\n",
       "            </tr>\n",
       "            <tr>\n",
       "                        <th id=\"T_07f5f_level0_row1\" class=\"row_heading level0 row1\" >многодетные</th>\n",
       "                        <td id=\"T_07f5f_row1_col0\" class=\"data row1 col0\" >380</td>\n",
       "                        <td id=\"T_07f5f_row1_col1\" class=\"data row1 col1\" >31</td>\n",
       "                        <td id=\"T_07f5f_row1_col2\" class=\"data row1 col2\" >8.16%</td>\n",
       "            </tr>\n",
       "            <tr>\n",
       "                        <th id=\"T_07f5f_level0_row2\" class=\"row_heading level0 row2\" >один ребёнок</th>\n",
       "                        <td id=\"T_07f5f_row2_col0\" class=\"data row2 col0\" >4808</td>\n",
       "                        <td id=\"T_07f5f_row2_col1\" class=\"data row2 col1\" >444</td>\n",
       "                        <td id=\"T_07f5f_row2_col2\" class=\"data row2 col2\" >9.23%</td>\n",
       "            </tr>\n",
       "            <tr>\n",
       "                        <th id=\"T_07f5f_level0_row3\" class=\"row_heading level0 row3\" >двое детей</th>\n",
       "                        <td id=\"T_07f5f_row3_col0\" class=\"data row3 col0\" >2052</td>\n",
       "                        <td id=\"T_07f5f_row3_col1\" class=\"data row3 col1\" >194</td>\n",
       "                        <td id=\"T_07f5f_row3_col2\" class=\"data row3 col2\" >9.45%</td>\n",
       "            </tr>\n",
       "    </tbody></table>"
      ],
      "text/plain": [
       "<pandas.io.formats.style.Styler at 0x1aa7f180610>"
      ]
     },
     "metadata": {},
     "output_type": "display_data"
    }
   ],
   "source": [
    "# выводим результат\n",
    "display_debt_pivot(children_category_pivot)"
   ]
  },
  {
   "cell_type": "markdown",
   "id": "36f7b796",
   "metadata": {
    "deletable": false,
    "id": "3a6b99ec"
   },
   "source": [
    "**Вывод:** \n",
    "\n",
    "Доля заемщиков, имевших задолженность, на 1,7 - 2,2 процентных пункта ниже у семей без детей, по сравнению с семьями с одним, двумя или четырьмя детьми, и на 0,6 п.п ниже, чем у семей с тремя детьми.\n",
    "\n",
    "Поэтому можно сделать вывод, что **заемщики, у которых нет детей, возвращают кредит в срок чаще, чем заёмщики с детьми.**\n",
    "\n",
    "У заёмщиков с 5-ю детьми отмечен нулевой процент просрочек, но так как количество таких семей минимально и на порядки отличается от других категорий, то даже появление единичного случая задержки платежа по кредиту приведёт к существенному изменению доли клиентов с задолженностью в данной категории. Видимо более корректно объединить семьи с 3, 4 и 5-ю детьми в общую категорию. \n",
    "\n",
    "Выделив категорию \"многодетные\", определили, что по уровню доли просрочек она немного, на 0,6 п.п, уступает семьям без детей, и более дисциплинирована по сравнению с клиентами с одним или двумя детьми, у которых наблюдается самая высокая доля случаев возникновения задолженности.\n"
   ]
  },
  {
   "cell_type": "markdown",
   "id": "e09d0818",
   "metadata": {
    "deletable": false,
    "editable": false,
    "id": "97be82ca"
   },
   "source": [
    "#### 3.2 Есть ли зависимость между семейным положением и возвратом кредита в срок?"
   ]
  },
  {
   "cell_type": "code",
   "execution_count": 32,
   "id": "bf2b1968",
   "metadata": {
    "deletable": false,
    "id": "dc3f7ee8"
   },
   "outputs": [
    {
     "name": "stdout",
     "output_type": "stream",
     "text": [
      "['женат / замужем' 'гражданский брак' 'вдовец / вдова' 'в разводе'\n",
      " 'Не женат / не замужем']\n"
     ]
    }
   ],
   "source": [
    "# Посмотрим уникальные значения в столбцах с семейным статусом\n",
    "print(data['family_status'].unique())"
   ]
  },
  {
   "cell_type": "code",
   "execution_count": 33,
   "id": "60494af2",
   "metadata": {},
   "outputs": [
    {
     "name": "stdout",
     "output_type": "stream",
     "text": [
      "[0 1 2 3 4]\n"
     ]
    }
   ],
   "source": [
    "# и также проверим какие значения возможны для  family_status_id\n",
    "print(data['family_status_id'].unique())"
   ]
  },
  {
   "cell_type": "markdown",
   "id": "89c666e8",
   "metadata": {},
   "source": [
    "Сгруппируем клиентов по семейному статусу и отсортируем по убыванию количества клиентов в определённом статусе"
   ]
  },
  {
   "cell_type": "code",
   "execution_count": 34,
   "id": "ed702ae0",
   "metadata": {},
   "outputs": [
    {
     "name": "stdout",
     "output_type": "stream",
     "text": [
      "family_status\n",
      "женат / замужем          12261\n",
      "гражданский брак          4134\n",
      "Не женат / не замужем     2796\n",
      "в разводе                 1189\n",
      "вдовец / вдова             951\n",
      "Name: family_status, dtype: int64\n"
     ]
    }
   ],
   "source": [
    "print(data.groupby('family_status')['family_status'].count().sort_values(ascending=False))"
   ]
  },
  {
   "cell_type": "markdown",
   "id": "d70df683",
   "metadata": {},
   "source": [
    "Среди заёмщиков большинство женаты или находятся в гражданском браке."
   ]
  },
  {
   "cell_type": "markdown",
   "id": "16e8ff2c",
   "metadata": {},
   "source": [
    "Найдем для какой доли клиентов в каждой категории возникала задолженность."
   ]
  },
  {
   "cell_type": "code",
   "execution_count": 35,
   "id": "77c8da4c",
   "metadata": {},
   "outputs": [],
   "source": [
    "# находим доли задолженностей в разбивке по семейному статусу\n",
    "family_status_pivot = create_pivot_table(data, 'family_status')"
   ]
  },
  {
   "cell_type": "code",
   "execution_count": 36,
   "id": "5414e598",
   "metadata": {},
   "outputs": [
    {
     "data": {
      "text/html": [
       "<style  type=\"text/css\" >\n",
       "</style><table id=\"T_6d3b6_\" ><thead>    <tr>        <th class=\"blank level0\" ></th>        <th class=\"col_heading level0 col0\" >Всего заемщиков</th>        <th class=\"col_heading level0 col1\" >Всего должников</th>        <th class=\"col_heading level0 col2\" >Доля должников</th>    </tr>    <tr>        <th class=\"index_name level0\" >family_status</th>        <th class=\"blank\" ></th>        <th class=\"blank\" ></th>        <th class=\"blank\" ></th>    </tr></thead><tbody>\n",
       "                <tr>\n",
       "                        <th id=\"T_6d3b6_level0_row0\" class=\"row_heading level0 row0\" >вдовец / вдова</th>\n",
       "                        <td id=\"T_6d3b6_row0_col0\" class=\"data row0 col0\" >951</td>\n",
       "                        <td id=\"T_6d3b6_row0_col1\" class=\"data row0 col1\" >63</td>\n",
       "                        <td id=\"T_6d3b6_row0_col2\" class=\"data row0 col2\" >6.62%</td>\n",
       "            </tr>\n",
       "            <tr>\n",
       "                        <th id=\"T_6d3b6_level0_row1\" class=\"row_heading level0 row1\" >в разводе</th>\n",
       "                        <td id=\"T_6d3b6_row1_col0\" class=\"data row1 col0\" >1189</td>\n",
       "                        <td id=\"T_6d3b6_row1_col1\" class=\"data row1 col1\" >84</td>\n",
       "                        <td id=\"T_6d3b6_row1_col2\" class=\"data row1 col2\" >7.06%</td>\n",
       "            </tr>\n",
       "            <tr>\n",
       "                        <th id=\"T_6d3b6_level0_row2\" class=\"row_heading level0 row2\" >женат / замужем</th>\n",
       "                        <td id=\"T_6d3b6_row2_col0\" class=\"data row2 col0\" >12261</td>\n",
       "                        <td id=\"T_6d3b6_row2_col1\" class=\"data row2 col1\" >927</td>\n",
       "                        <td id=\"T_6d3b6_row2_col2\" class=\"data row2 col2\" >7.56%</td>\n",
       "            </tr>\n",
       "            <tr>\n",
       "                        <th id=\"T_6d3b6_level0_row3\" class=\"row_heading level0 row3\" >гражданский брак</th>\n",
       "                        <td id=\"T_6d3b6_row3_col0\" class=\"data row3 col0\" >4134</td>\n",
       "                        <td id=\"T_6d3b6_row3_col1\" class=\"data row3 col1\" >385</td>\n",
       "                        <td id=\"T_6d3b6_row3_col2\" class=\"data row3 col2\" >9.31%</td>\n",
       "            </tr>\n",
       "            <tr>\n",
       "                        <th id=\"T_6d3b6_level0_row4\" class=\"row_heading level0 row4\" >Не женат / не замужем</th>\n",
       "                        <td id=\"T_6d3b6_row4_col0\" class=\"data row4 col0\" >2796</td>\n",
       "                        <td id=\"T_6d3b6_row4_col1\" class=\"data row4 col1\" >273</td>\n",
       "                        <td id=\"T_6d3b6_row4_col2\" class=\"data row4 col2\" >9.76%</td>\n",
       "            </tr>\n",
       "    </tbody></table>"
      ],
      "text/plain": [
       "<pandas.io.formats.style.Styler at 0x1aa7f167b80>"
      ]
     },
     "metadata": {},
     "output_type": "display_data"
    }
   ],
   "source": [
    "# выводим информацию\n",
    "display_debt_pivot(family_status_pivot)"
   ]
  },
  {
   "cell_type": "markdown",
   "id": "e28e5c10",
   "metadata": {},
   "source": [
    "Можно заметить, что заёмщики в статусах \"вдовец/вдова\" и \"в разводе\" меньше других категорий допускают появление задолженности. \n",
    "\n",
    "Чаще других не возвращают кредит в срок неженатые/незамужние и живущие в гражданском браке. \n",
    "\n",
    "Женатые/замужние заёмщики представляют \"золотую середину\"."
   ]
  },
  {
   "cell_type": "markdown",
   "id": "d8712618",
   "metadata": {
    "deletable": false,
    "id": "1cef7837"
   },
   "source": [
    "**Вывод:** \n",
    "Выявили наличие зависимости между семейным положением и возвратом кредита в срок.\n",
    "\n",
    "**Наибольший риск представляют клиенты из групп \"Не женат / не замужем\" и \"гражданский брак\"**. Среди них доля допускающих задолженность на 2 процентных пункта больше, чем среди женатых, и на 3 п.п. больше, чем в категории \"вдовец / вдова\".\n",
    "\n",
    "**Наиболее аккуратными в возврате кредита являются группы \"вдовец / вдова\" и \"в разводе\"**"
   ]
  },
  {
   "cell_type": "markdown",
   "id": "d0f63105",
   "metadata": {
    "deletable": false,
    "editable": false,
    "id": "1e8b2fca"
   },
   "source": [
    "#### 3.3 Есть ли зависимость между уровнем дохода и возвратом кредита в срок?"
   ]
  },
  {
   "cell_type": "markdown",
   "id": "71d03c6b",
   "metadata": {},
   "source": [
    "Найдем для какой доли клиентов с разными уровнями доходов возникала задолженность."
   ]
  },
  {
   "cell_type": "code",
   "execution_count": 37,
   "id": "9547611f",
   "metadata": {
    "deletable": false,
    "id": "cd7e3720"
   },
   "outputs": [],
   "source": [
    "# находим доли задолженностей в разбивке по уровням доходов\n",
    "total_income_category_pivot = create_pivot_table(data, 'total_income_category')"
   ]
  },
  {
   "cell_type": "code",
   "execution_count": 38,
   "id": "a7f42e3b",
   "metadata": {},
   "outputs": [
    {
     "data": {
      "text/html": [
       "<style  type=\"text/css\" >\n",
       "</style><table id=\"T_e6e35_\" ><thead>    <tr>        <th class=\"blank level0\" ></th>        <th class=\"col_heading level0 col0\" >Всего заемщиков</th>        <th class=\"col_heading level0 col1\" >Всего должников</th>        <th class=\"col_heading level0 col2\" >Доля должников</th>    </tr>    <tr>        <th class=\"index_name level0\" >total_income_category</th>        <th class=\"blank\" ></th>        <th class=\"blank\" ></th>        <th class=\"blank\" ></th>    </tr></thead><tbody>\n",
       "                <tr>\n",
       "                        <th id=\"T_e6e35_level0_row0\" class=\"row_heading level0 row0\" >D</th>\n",
       "                        <td id=\"T_e6e35_row0_col0\" class=\"data row0 col0\" >349</td>\n",
       "                        <td id=\"T_e6e35_row0_col1\" class=\"data row0 col1\" >21</td>\n",
       "                        <td id=\"T_e6e35_row0_col2\" class=\"data row0 col2\" >6.02%</td>\n",
       "            </tr>\n",
       "            <tr>\n",
       "                        <th id=\"T_e6e35_level0_row1\" class=\"row_heading level0 row1\" >B</th>\n",
       "                        <td id=\"T_e6e35_row1_col0\" class=\"data row1 col0\" >5014</td>\n",
       "                        <td id=\"T_e6e35_row1_col1\" class=\"data row1 col1\" >354</td>\n",
       "                        <td id=\"T_e6e35_row1_col2\" class=\"data row1 col2\" >7.06%</td>\n",
       "            </tr>\n",
       "            <tr>\n",
       "                        <th id=\"T_e6e35_level0_row2\" class=\"row_heading level0 row2\" >A</th>\n",
       "                        <td id=\"T_e6e35_row2_col0\" class=\"data row2 col0\" >25</td>\n",
       "                        <td id=\"T_e6e35_row2_col1\" class=\"data row2 col1\" >2</td>\n",
       "                        <td id=\"T_e6e35_row2_col2\" class=\"data row2 col2\" >8.00%</td>\n",
       "            </tr>\n",
       "            <tr>\n",
       "                        <th id=\"T_e6e35_level0_row3\" class=\"row_heading level0 row3\" >C</th>\n",
       "                        <td id=\"T_e6e35_row3_col0\" class=\"data row3 col0\" >15921</td>\n",
       "                        <td id=\"T_e6e35_row3_col1\" class=\"data row3 col1\" >1353</td>\n",
       "                        <td id=\"T_e6e35_row3_col2\" class=\"data row3 col2\" >8.50%</td>\n",
       "            </tr>\n",
       "            <tr>\n",
       "                        <th id=\"T_e6e35_level0_row4\" class=\"row_heading level0 row4\" >E</th>\n",
       "                        <td id=\"T_e6e35_row4_col0\" class=\"data row4 col0\" >22</td>\n",
       "                        <td id=\"T_e6e35_row4_col1\" class=\"data row4 col1\" >2</td>\n",
       "                        <td id=\"T_e6e35_row4_col2\" class=\"data row4 col2\" >9.09%</td>\n",
       "            </tr>\n",
       "    </tbody></table>"
      ],
      "text/plain": [
       "<pandas.io.formats.style.Styler at 0x1aa7f126e50>"
      ]
     },
     "metadata": {},
     "output_type": "display_data"
    }
   ],
   "source": [
    "# выводим результат\n",
    "display_debt_pivot(total_income_category_pivot)"
   ]
  },
  {
   "cell_type": "markdown",
   "id": "4be93576",
   "metadata": {},
   "source": [
    "Наибольший \"вес\" имеют категории  B и C, по количеству участников они намного превосходят другие категории."
   ]
  },
  {
   "cell_type": "code",
   "execution_count": 39,
   "id": "e69260d7",
   "metadata": {},
   "outputs": [
    {
     "data": {
      "image/png": "[encoded data removed]",
      "text/plain": [
       "<Figure size 720x432 with 1 Axes>"
      ]
     },
     "metadata": {
      "needs_background": "light"
     },
     "output_type": "display_data"
    }
   ],
   "source": [
    "# выводим количество заемщиков в зависимости от категории дохода\n",
    "fig, ax = plt.subplots(figsize=(10,6))\n",
    "total_income_category_pivot.sort_index()['total'].plot.bar()\n",
    "ax.set_title('Количество заемщиков в разрезе категорий дохода')\n",
    "ax.set_xlabel('Категории по размеру дохода')\n",
    "ax.set_ylabel('Количество заемщиков')\n",
    "plt.show()"
   ]
  },
  {
   "cell_type": "code",
   "execution_count": 40,
   "id": "14e18e2c",
   "metadata": {},
   "outputs": [
    {
     "data": {
      "image/png": "[encoded data removed]",
      "text/plain": [
       "<Figure size 720x432 with 1 Axes>"
      ]
     },
     "metadata": {
      "needs_background": "light"
     },
     "output_type": "display_data"
    }
   ],
   "source": [
    "# выводим количество заемщиков в зависимости от категории дохода\n",
    "fig, ax = plt.subplots(figsize=(10,6))\n",
    "total_income_category_pivot.sort_index()['share_of_debtors'].plot.bar()\n",
    "ax.set_title('Доля должников в разрезе категорий дохода')\n",
    "ax.set_xlabel('Категории по размеру дохода')\n",
    "ax.set_ylabel('Доля должников')\n",
    "plt.show()"
   ]
  },
  {
   "cell_type": "markdown",
   "id": "13f92a14",
   "metadata": {
    "deletable": false,
    "id": "e8593def"
   },
   "source": [
    "**Вывод:** \n",
    "\n",
    "Наиболее значимыми являются группы с доходами `'B'` от 200 001 – 1 000 000 и `'C'` от 50 001 до - 200 000 так как суммарно они составляют 98% от общего числа заемщиков.\n",
    "\n",
    "- более надежной выступает категория дохода `'B'` от 200 001 – 1 000 000, у которой процент возникновения задолженностей около `7%`. \n",
    "\n",
    "\n",
    "- хуже возвращают кредиты клиенты со средними доходами `'C'` от 50 001 до - 200 000, у которых `9%` случаев задолженности.\n",
    "\n",
    "\n",
    "- хотя лучший показатель возврата кредита в срок отмечен у клиентов с категорией дохода `'D'` от 30001 до 50000, у которых `6%` задолженностей, но в этой группе относительно малое количество клиентов.\n",
    "\n",
    "**Наиболее привлекательными клиентами, чаще других возвращающими кредиты в срок, являются клиенты из категории `'B'` с доходами от 200 001 до 1 000 000.**\n"
   ]
  },
  {
   "cell_type": "markdown",
   "id": "471e9277",
   "metadata": {
    "deletable": false,
    "editable": false,
    "id": "99ecbd1f"
   },
   "source": [
    "#### 3.4 Как разные цели кредита влияют на его возврат в срок?"
   ]
  },
  {
   "cell_type": "markdown",
   "id": "cb13c5e3",
   "metadata": {
    "deletable": false,
    "id": "2b687290"
   },
   "source": [
    "Ранее мы выделили следующие категории целей взятия кредита:"
   ]
  },
  {
   "cell_type": "code",
   "execution_count": 41,
   "id": "24ae34c2",
   "metadata": {
    "scrolled": true,
    "tags": []
   },
   "outputs": [
    {
     "name": "stdout",
     "output_type": "stream",
     "text": [
      "['операции с недвижимостью' 'операции с автомобилем'\n",
      " 'получение образования' 'проведение свадьбы']\n"
     ]
    }
   ],
   "source": [
    "# посмотрим категории целей, по которым берут кредит\n",
    "print(data['purpose_category'].unique())"
   ]
  },
  {
   "cell_type": "markdown",
   "id": "0bfb2c51",
   "metadata": {},
   "source": [
    "Для каждой категории посчитаем долю клиентов, имевших задолженность:"
   ]
  },
  {
   "cell_type": "code",
   "execution_count": 42,
   "id": "3558decb",
   "metadata": {},
   "outputs": [],
   "source": [
    "# находим доли задолженностей в разбивке по целям кредита\n",
    "purpose_category_pivot = create_pivot_table(data, 'purpose_category')"
   ]
  },
  {
   "cell_type": "code",
   "execution_count": 43,
   "id": "0a783ee8",
   "metadata": {},
   "outputs": [
    {
     "data": {
      "text/html": [
       "<style  type=\"text/css\" >\n",
       "</style><table id=\"T_7c4ad_\" ><thead>    <tr>        <th class=\"blank level0\" ></th>        <th class=\"col_heading level0 col0\" >Всего заемщиков</th>        <th class=\"col_heading level0 col1\" >Всего должников</th>        <th class=\"col_heading level0 col2\" >Доля должников</th>    </tr>    <tr>        <th class=\"index_name level0\" >purpose_category</th>        <th class=\"blank\" ></th>        <th class=\"blank\" ></th>        <th class=\"blank\" ></th>    </tr></thead><tbody>\n",
       "                <tr>\n",
       "                        <th id=\"T_7c4ad_level0_row0\" class=\"row_heading level0 row0\" >операции с недвижимостью</th>\n",
       "                        <td id=\"T_7c4ad_row0_col0\" class=\"data row0 col0\" >10751</td>\n",
       "                        <td id=\"T_7c4ad_row0_col1\" class=\"data row0 col1\" >780</td>\n",
       "                        <td id=\"T_7c4ad_row0_col2\" class=\"data row0 col2\" >7.26%</td>\n",
       "            </tr>\n",
       "            <tr>\n",
       "                        <th id=\"T_7c4ad_level0_row1\" class=\"row_heading level0 row1\" >проведение свадьбы</th>\n",
       "                        <td id=\"T_7c4ad_row1_col0\" class=\"data row1 col0\" >2313</td>\n",
       "                        <td id=\"T_7c4ad_row1_col1\" class=\"data row1 col1\" >183</td>\n",
       "                        <td id=\"T_7c4ad_row1_col2\" class=\"data row1 col2\" >7.91%</td>\n",
       "            </tr>\n",
       "            <tr>\n",
       "                        <th id=\"T_7c4ad_level0_row2\" class=\"row_heading level0 row2\" >получение образования</th>\n",
       "                        <td id=\"T_7c4ad_row2_col0\" class=\"data row2 col0\" >3988</td>\n",
       "                        <td id=\"T_7c4ad_row2_col1\" class=\"data row2 col1\" >369</td>\n",
       "                        <td id=\"T_7c4ad_row2_col2\" class=\"data row2 col2\" >9.25%</td>\n",
       "            </tr>\n",
       "            <tr>\n",
       "                        <th id=\"T_7c4ad_level0_row3\" class=\"row_heading level0 row3\" >операции с автомобилем</th>\n",
       "                        <td id=\"T_7c4ad_row3_col0\" class=\"data row3 col0\" >4279</td>\n",
       "                        <td id=\"T_7c4ad_row3_col1\" class=\"data row3 col1\" >400</td>\n",
       "                        <td id=\"T_7c4ad_row3_col2\" class=\"data row3 col2\" >9.35%</td>\n",
       "            </tr>\n",
       "    </tbody></table>"
      ],
      "text/plain": [
       "<pandas.io.formats.style.Styler at 0x1aa7f1b6d30>"
      ]
     },
     "metadata": {},
     "output_type": "display_data"
    }
   ],
   "source": [
    "# выводим информацию\n",
    "display_debt_pivot(purpose_category_pivot)"
   ]
  },
  {
   "cell_type": "markdown",
   "id": "92fc3392",
   "metadata": {
    "deletable": false,
    "id": "b4bb2ce6"
   },
   "source": [
    "**Вывод:** \n",
    "\n",
    "Лучше всего возвращают в срок кредиты на недвижимость, в этой категории процент задолженности составляет `7,2%`.\n",
    "\n",
    "Хуже всего дело обстоит в категориях \"получение образование\" и \"операции с автомобилем\", в которых процент задолженности достигает `9,3%`, что примерно на 2 процентных пункта уступает лидеру.\n",
    "\n",
    "Средний результат показывает категория \"проведение свадьбы\" с `7,9%` задолженности.\n",
    "\n",
    "Видимо риск потери недвижимости в случае просрочки по ипотеке делает наиболее дисциплинированными заёмщиков в этой категории. \n"
   ]
  },
  {
   "cell_type": "markdown",
   "id": "ba2f0762",
   "metadata": {
    "deletable": false,
    "editable": false,
    "id": "09c3ac4c"
   },
   "source": [
    "#### 3.5 Приведите возможные причины появления пропусков в исходных данных."
   ]
  },
  {
   "cell_type": "markdown",
   "id": "61adc962",
   "metadata": {
    "deletable": false,
    "id": "9da2ceda"
   },
   "source": [
    "*Ответ:* \n",
    "\n",
    "Причинами пропусков в данных могут быть:\n",
    "- ошибки ввода данных\n",
    "- сокрытие информации\n",
    "- мошеннические действия\n",
    "- технические ошибки при сохранении, передаче, смене формата данных.\n",
    "\n",
    "Ошибки, в том числе те, из-за которых возникают пропуски в данных можно разделить на две большие группы: вызванные человеческим фактором и технологические."
   ]
  },
  {
   "cell_type": "markdown",
   "id": "3ba4737d",
   "metadata": {
    "deletable": false,
    "editable": false,
    "id": "7b0487d6"
   },
   "source": [
    "#### 3.6 Объясните, почему заполнить пропуски медианным значением — лучшее решение для количественных переменных."
   ]
  },
  {
   "cell_type": "markdown",
   "id": "54a7b284",
   "metadata": {
    "deletable": false,
    "id": "7ecf2b8e"
   },
   "source": [
    "*Ответ:* \n",
    "\n",
    "Важным свойством количественных переменных является возможность их сравнения между собой. Чтобы пропуски в количественных переменных не влияли негативно на возможность сравнения и анализа данных, их заполняют характерными значениями для выборки. Для заполнения пропусков можно использовать среднее или медианное значение. Медианное значение позволяет более корректно харектиризовать данные, в которых есть отклонения, то есть когда некоторые значения в выборке сильно отличаются от других, так как в этом случае среднее арифметическое может сильно отклониться вслед за единичными выбросами в данных. "
   ]
  },
  {
   "cell_type": "markdown",
   "id": "b49f27c5",
   "metadata": {
    "deletable": false,
    "editable": false,
    "id": "6db5255a"
   },
   "source": [
    "### Шаг 4: общий вывод."
   ]
  },
  {
   "cell_type": "markdown",
   "id": "92bccdc4",
   "metadata": {
    "deletable": false,
    "id": "bad65432"
   },
   "source": [
    "**Краткий обзор**\n",
    "\n",
    "Провели исследование о наличии зависимости между сроком возврата кредита и различными параметрами клиента - семейным положением, количеством детей, уровнем дохода, а также зависимости между сроком возврата и целями кредита.\n",
    "\n",
    "Получив данные для анализа, предварительно оценили их корректность и полноту. Выявили наличие пустых значений в двух колонках: ежемесячный доход и трудовой стаж, и заполнили их медианными значеними в зависимости от типа занятости. Также выявили аномальные значения в столбцах \"количество детей\" и \"общий трудовой стаж\" в днях, и устранили их, заменив отрицательные значения в трудовом стаже положительными, и удалив строки с аномальными значениями в количестве детей. Затем удалили дубликаты строк. И в завершении подготовки данных, выделили категории клиентов по величине дохода и по целям кредита, которые нужны для возможности нахождения ответов на поставленные вопросы.\n",
    "\n",
    "Для каждого параметра подсчитали долю заёмщиков, у которых была задолженность, и сравнивая долю просроченных платежей, сделали следующие заключения. \n",
    "\n",
    "**Главные выводы**\n",
    "\n",
    "Факт погашения кредита в срок имеет зависимость от каждого из рассмотренных факторов:\n",
    "- заемщики, у которых нет детей, возвращают кредит в срок чаще, чем заёмщики с детьми;\n",
    "- заёмщики в статусах \"вдовец/вдова\" и \"в разводе\" реже других допускают появление задолженности, а чаще других не возвращают кредит в срок неженатые/незамужние и живущие в гражданском браке;\n",
    "- хуже возвращают кредиты клиенты со средними доходами 'C' от 50 001 до - 200 000 и с самыми низкими доходами 'E' от 0 до 30 000, а лучше с категориями 'D' от 30001 до 50000 и 'B' от 200 001 – 1 000 000;\n",
    "- наименьший процент задолженностей для кредитов на недвижимость, а наибольший для категорий \"получение образование\" и \"операции с автомобилем\"\n",
    "\n",
    "*Получается, что наиболее дисциплинированный заёмщик, это человек без детей, в разводе или овдовевший, взявший кредит на недвижимость, и имеющий либо повышенный доход от 200 001 – 1 000 000 либо доход от от 30001 до 50000.*\n",
    "\n",
    "*Наибольший риск возникновения задолженностей будет у клиента с детьми, который не женат или живёт в гражданском браке, берёт кредит на образование или покупку автомобиля, и имеет средний или низкий доход.*\n",
    "\n",
    "\n",
    "**Рекомендации**\n",
    "\n",
    "При построении модели кредитного скоринга следует использовать все рассмотренные параметры. Можно  выполнить укрупнение некоторых групп, например, объединив категории с 3, 4 и 5 детьми в одну (\"многодетные\"), так как количество семей с 4 и 5 детьми на порядки меньше других, а также объединить категории \"вдовец/вдова\" и \"в разводе\", так как они очень близки по доле возникновения случаев задолженности."
   ]
  }
 ],
 "metadata": {
  "ExecuteTimeLog": [
   {
    "duration": 48,
    "start_time": "2022-09-14T12:15:53.204Z"
   },
   {
    "duration": 407,
    "start_time": "2022-09-14T12:16:16.966Z"
   },
   {
    "duration": 20,
    "start_time": "2022-09-14T12:16:17.374Z"
   },
   {
    "duration": 13,
    "start_time": "2022-09-14T12:16:17.395Z"
   },
   {
    "duration": 7,
    "start_time": "2022-09-14T12:16:17.410Z"
   },
   {
    "duration": 27,
    "start_time": "2022-09-14T12:16:17.419Z"
   },
   {
    "duration": 3,
    "start_time": "2022-09-14T12:16:17.448Z"
   },
   {
    "duration": 13,
    "start_time": "2022-09-14T12:16:17.452Z"
   },
   {
    "duration": 3,
    "start_time": "2022-09-14T12:16:17.466Z"
   },
   {
    "duration": 7,
    "start_time": "2022-09-14T12:16:17.470Z"
   },
   {
    "duration": 29,
    "start_time": "2022-09-14T12:16:17.480Z"
   },
   {
    "duration": 29,
    "start_time": "2022-09-14T12:16:17.510Z"
   },
   {
    "duration": 8,
    "start_time": "2022-09-14T12:16:17.540Z"
   },
   {
    "duration": 4,
    "start_time": "2022-09-14T12:16:17.549Z"
   },
   {
    "duration": 10,
    "start_time": "2022-09-14T12:16:17.554Z"
   },
   {
    "duration": 43,
    "start_time": "2022-09-14T12:16:17.566Z"
   },
   {
    "duration": 16,
    "start_time": "2022-09-14T12:16:17.611Z"
   },
   {
    "duration": 3,
    "start_time": "2022-09-14T12:16:17.629Z"
   },
   {
    "duration": 10,
    "start_time": "2022-09-14T12:16:17.634Z"
   },
   {
    "duration": 5,
    "start_time": "2022-09-14T12:16:17.645Z"
   },
   {
    "duration": 3,
    "start_time": "2022-09-14T12:16:17.652Z"
   },
   {
    "duration": 13,
    "start_time": "2022-09-14T12:16:17.656Z"
   },
   {
    "duration": 41,
    "start_time": "2022-09-14T12:16:17.670Z"
   },
   {
    "duration": 3,
    "start_time": "2022-09-14T12:16:17.712Z"
   },
   {
    "duration": 4,
    "start_time": "2022-09-14T12:16:17.716Z"
   },
   {
    "duration": 7,
    "start_time": "2022-09-14T12:16:17.722Z"
   },
   {
    "duration": 5,
    "start_time": "2022-09-14T12:16:45.531Z"
   },
   {
    "duration": 72,
    "start_time": "2022-09-14T13:16:18.113Z"
   },
   {
    "duration": 58,
    "start_time": "2022-09-14T13:16:36.892Z"
   },
   {
    "duration": 14,
    "start_time": "2022-09-14T13:16:43.079Z"
   },
   {
    "duration": 22,
    "start_time": "2022-09-14T13:16:52.040Z"
   },
   {
    "duration": 7,
    "start_time": "2022-09-14T13:17:31.512Z"
   },
   {
    "duration": 12,
    "start_time": "2022-09-14T13:17:39.480Z"
   },
   {
    "duration": 13,
    "start_time": "2022-09-14T13:19:46.474Z"
   },
   {
    "duration": 8,
    "start_time": "2022-09-14T13:20:14.266Z"
   },
   {
    "duration": 13,
    "start_time": "2022-09-14T13:21:56.523Z"
   },
   {
    "duration": 7,
    "start_time": "2022-09-14T13:21:57.137Z"
   },
   {
    "duration": 12,
    "start_time": "2022-09-14T13:22:18.522Z"
   },
   {
    "duration": 20,
    "start_time": "2022-09-14T13:22:27.100Z"
   },
   {
    "duration": 12,
    "start_time": "2022-09-14T13:22:30.540Z"
   },
   {
    "duration": 8,
    "start_time": "2022-09-14T13:24:50.606Z"
   },
   {
    "duration": 8,
    "start_time": "2022-09-14T13:25:04.975Z"
   },
   {
    "duration": 8,
    "start_time": "2022-09-14T13:25:21.874Z"
   },
   {
    "duration": 7,
    "start_time": "2022-09-14T13:25:28.558Z"
   },
   {
    "duration": 4,
    "start_time": "2022-09-14T13:27:34.114Z"
   },
   {
    "duration": 6,
    "start_time": "2022-09-14T13:27:42.815Z"
   },
   {
    "duration": 10,
    "start_time": "2022-09-14T13:28:03.057Z"
   },
   {
    "duration": 10,
    "start_time": "2022-09-14T13:28:18.946Z"
   },
   {
    "duration": 6,
    "start_time": "2022-09-14T13:28:22.945Z"
   },
   {
    "duration": 13,
    "start_time": "2022-09-14T13:29:00.691Z"
   },
   {
    "duration": 15,
    "start_time": "2022-09-14T13:33:22.822Z"
   },
   {
    "duration": 12,
    "start_time": "2022-09-14T13:34:00.887Z"
   },
   {
    "duration": 11,
    "start_time": "2022-09-14T13:34:04.231Z"
   },
   {
    "duration": 6,
    "start_time": "2022-09-14T13:34:55.591Z"
   },
   {
    "duration": 11,
    "start_time": "2022-09-14T13:34:57.558Z"
   },
   {
    "duration": 10,
    "start_time": "2022-09-14T13:36:39.870Z"
   },
   {
    "duration": 1205,
    "start_time": "2022-09-14T13:37:44.652Z"
   },
   {
    "duration": 20,
    "start_time": "2022-09-14T13:38:16.956Z"
   },
   {
    "duration": 3,
    "start_time": "2022-09-14T13:40:46.397Z"
   },
   {
    "duration": 4,
    "start_time": "2022-09-14T13:41:10.462Z"
   },
   {
    "duration": 3,
    "start_time": "2022-09-14T13:41:31.230Z"
   },
   {
    "duration": 3,
    "start_time": "2022-09-14T13:41:31.886Z"
   },
   {
    "duration": 5,
    "start_time": "2022-09-14T13:41:39.022Z"
   },
   {
    "duration": 4,
    "start_time": "2022-09-14T13:41:40.831Z"
   },
   {
    "duration": 10,
    "start_time": "2022-09-14T13:42:12.288Z"
   },
   {
    "duration": 4,
    "start_time": "2022-09-14T13:42:34.352Z"
   },
   {
    "duration": 3,
    "start_time": "2022-09-14T13:42:37.729Z"
   },
   {
    "duration": 5,
    "start_time": "2022-09-14T13:42:56.559Z"
   },
   {
    "duration": 4,
    "start_time": "2022-09-14T13:43:01.199Z"
   },
   {
    "duration": 5,
    "start_time": "2022-09-14T13:43:18.934Z"
   },
   {
    "duration": 3,
    "start_time": "2022-09-14T13:43:23.777Z"
   },
   {
    "duration": 6,
    "start_time": "2022-09-14T13:43:43.601Z"
   },
   {
    "duration": 5,
    "start_time": "2022-09-14T13:43:44.336Z"
   },
   {
    "duration": 5,
    "start_time": "2022-09-14T13:43:58.640Z"
   },
   {
    "duration": 8,
    "start_time": "2022-09-14T13:44:22.113Z"
   },
   {
    "duration": 5,
    "start_time": "2022-09-14T13:44:44.801Z"
   },
   {
    "duration": 3,
    "start_time": "2022-09-14T13:44:45.522Z"
   },
   {
    "duration": 8,
    "start_time": "2022-09-14T13:45:23.799Z"
   },
   {
    "duration": 4,
    "start_time": "2022-09-14T13:45:24.546Z"
   },
   {
    "duration": 12,
    "start_time": "2022-09-14T13:46:00.515Z"
   },
   {
    "duration": 13,
    "start_time": "2022-09-14T13:47:43.526Z"
   },
   {
    "duration": 7,
    "start_time": "2022-09-14T13:48:03.077Z"
   },
   {
    "duration": 4,
    "start_time": "2022-09-14T13:48:24.136Z"
   },
   {
    "duration": 3,
    "start_time": "2022-09-14T13:49:50.314Z"
   },
   {
    "duration": 7,
    "start_time": "2022-09-14T13:49:50.870Z"
   },
   {
    "duration": 18,
    "start_time": "2022-09-14T14:13:09.103Z"
   },
   {
    "duration": 15,
    "start_time": "2022-09-14T15:15:59.049Z"
   },
   {
    "duration": 11,
    "start_time": "2022-09-14T15:16:18.098Z"
   },
   {
    "duration": 7,
    "start_time": "2022-09-14T15:17:09.472Z"
   },
   {
    "duration": 10,
    "start_time": "2022-09-14T15:17:16.145Z"
   },
   {
    "duration": 10,
    "start_time": "2022-09-14T15:17:31.474Z"
   },
   {
    "duration": 87,
    "start_time": "2022-09-14T15:17:48.578Z"
   },
   {
    "duration": 19,
    "start_time": "2022-09-14T15:17:49.035Z"
   },
   {
    "duration": 17,
    "start_time": "2022-09-14T15:17:49.539Z"
   },
   {
    "duration": 20,
    "start_time": "2022-09-14T15:17:50.832Z"
   },
   {
    "duration": 30,
    "start_time": "2022-09-14T15:17:51.648Z"
   },
   {
    "duration": 4,
    "start_time": "2022-09-14T15:17:53.392Z"
   },
   {
    "duration": 8,
    "start_time": "2022-09-14T15:17:54.161Z"
   },
   {
    "duration": 5,
    "start_time": "2022-09-14T15:17:54.896Z"
   },
   {
    "duration": 8,
    "start_time": "2022-09-14T15:17:55.636Z"
   },
   {
    "duration": 8,
    "start_time": "2022-09-14T15:18:01.628Z"
   },
   {
    "duration": 34,
    "start_time": "2022-09-14T15:18:05.636Z"
   },
   {
    "duration": 10,
    "start_time": "2022-09-14T15:18:07.185Z"
   },
   {
    "duration": 6,
    "start_time": "2022-09-14T15:18:08.935Z"
   },
   {
    "duration": 15,
    "start_time": "2022-09-14T15:18:10.735Z"
   },
   {
    "duration": 18,
    "start_time": "2022-09-14T15:18:11.777Z"
   },
   {
    "duration": 17,
    "start_time": "2022-09-14T15:18:12.241Z"
   },
   {
    "duration": 4,
    "start_time": "2022-09-14T15:18:14.097Z"
   },
   {
    "duration": 20,
    "start_time": "2022-09-14T15:18:16.097Z"
   },
   {
    "duration": 8,
    "start_time": "2022-09-14T15:18:18.176Z"
   },
   {
    "duration": 8,
    "start_time": "2022-09-14T15:18:19.505Z"
   },
   {
    "duration": 10,
    "start_time": "2022-09-14T15:18:20.241Z"
   },
   {
    "duration": 6,
    "start_time": "2022-09-14T15:18:30.272Z"
   },
   {
    "duration": 5,
    "start_time": "2022-09-14T15:19:31.283Z"
   },
   {
    "duration": 4,
    "start_time": "2022-09-14T15:19:43.362Z"
   },
   {
    "duration": 6,
    "start_time": "2022-09-14T15:19:56.898Z"
   },
   {
    "duration": 3,
    "start_time": "2022-09-14T15:19:57.394Z"
   },
   {
    "duration": 7,
    "start_time": "2022-09-14T15:20:57.878Z"
   },
   {
    "duration": 4,
    "start_time": "2022-09-14T15:20:59.301Z"
   },
   {
    "duration": 6,
    "start_time": "2022-09-14T15:21:22.963Z"
   },
   {
    "duration": 8,
    "start_time": "2022-09-14T15:21:24.235Z"
   },
   {
    "duration": 6,
    "start_time": "2022-09-14T15:23:16.070Z"
   },
   {
    "duration": 4,
    "start_time": "2022-09-14T15:23:21.366Z"
   },
   {
    "duration": 6,
    "start_time": "2022-09-14T15:23:33.657Z"
   },
   {
    "duration": 4,
    "start_time": "2022-09-14T15:23:34.792Z"
   },
   {
    "duration": 17,
    "start_time": "2022-09-14T15:23:46.406Z"
   },
   {
    "duration": 3,
    "start_time": "2022-09-14T15:23:47.190Z"
   },
   {
    "duration": 16,
    "start_time": "2022-09-14T15:24:11.144Z"
   },
   {
    "duration": 4,
    "start_time": "2022-09-14T15:24:12.088Z"
   },
   {
    "duration": 15,
    "start_time": "2022-09-14T15:24:23.132Z"
   },
   {
    "duration": 8,
    "start_time": "2022-09-14T15:24:24.131Z"
   },
   {
    "duration": 4,
    "start_time": "2022-09-14T15:27:17.230Z"
   },
   {
    "duration": 5,
    "start_time": "2022-09-14T15:27:31.866Z"
   },
   {
    "duration": 149,
    "start_time": "2022-09-14T15:27:46.131Z"
   },
   {
    "duration": 9,
    "start_time": "2022-09-14T15:27:49.243Z"
   },
   {
    "duration": 178,
    "start_time": "2022-09-14T15:28:02.779Z"
   },
   {
    "duration": 7,
    "start_time": "2022-09-14T15:28:06.187Z"
   },
   {
    "duration": 5,
    "start_time": "2022-09-14T15:32:40.480Z"
   },
   {
    "duration": 6,
    "start_time": "2022-09-14T15:32:45.283Z"
   },
   {
    "duration": 10,
    "start_time": "2022-09-14T15:33:17.281Z"
   },
   {
    "duration": 4,
    "start_time": "2022-09-14T15:33:23.873Z"
   },
   {
    "duration": 4,
    "start_time": "2022-09-14T15:33:42.876Z"
   },
   {
    "duration": 3,
    "start_time": "2022-09-14T15:34:17.137Z"
   },
   {
    "duration": 7,
    "start_time": "2022-09-14T15:36:31.252Z"
   },
   {
    "duration": 5,
    "start_time": "2022-09-14T15:36:43.572Z"
   },
   {
    "duration": 6,
    "start_time": "2022-09-14T15:37:51.684Z"
   },
   {
    "duration": 5,
    "start_time": "2022-09-14T15:37:59.633Z"
   },
   {
    "duration": 6,
    "start_time": "2022-09-14T15:38:35.334Z"
   },
   {
    "duration": 4,
    "start_time": "2022-09-14T15:39:03.558Z"
   },
   {
    "duration": 8,
    "start_time": "2022-09-14T15:39:29.626Z"
   },
   {
    "duration": 8,
    "start_time": "2022-09-14T15:40:35.496Z"
   },
   {
    "duration": 14,
    "start_time": "2022-09-14T15:40:43.119Z"
   },
   {
    "duration": 8,
    "start_time": "2022-09-14T15:41:04.231Z"
   },
   {
    "duration": 16,
    "start_time": "2022-09-14T15:41:14.409Z"
   },
   {
    "duration": 11,
    "start_time": "2022-09-14T15:41:41.117Z"
   },
   {
    "duration": 8,
    "start_time": "2022-09-14T15:41:44.650Z"
   },
   {
    "duration": 11,
    "start_time": "2022-09-14T15:41:56.812Z"
   },
   {
    "duration": 7,
    "start_time": "2022-09-14T15:42:17.194Z"
   },
   {
    "duration": 6,
    "start_time": "2022-09-14T15:42:22.361Z"
   },
   {
    "duration": 6,
    "start_time": "2022-09-14T15:42:30.682Z"
   },
   {
    "duration": 4,
    "start_time": "2022-09-14T15:42:46.522Z"
   },
   {
    "duration": 7,
    "start_time": "2022-09-14T18:37:39.414Z"
   },
   {
    "duration": 5,
    "start_time": "2022-09-14T18:38:02.188Z"
   },
   {
    "duration": 7,
    "start_time": "2022-09-14T18:38:42.199Z"
   },
   {
    "duration": 6,
    "start_time": "2022-09-14T18:38:43.442Z"
   },
   {
    "duration": 5,
    "start_time": "2022-09-14T18:39:00.088Z"
   },
   {
    "duration": 1182,
    "start_time": "2022-09-14T18:42:40.797Z"
   },
   {
    "duration": 0,
    "start_time": "2022-09-14T18:42:41.981Z"
   },
   {
    "duration": 944,
    "start_time": "2022-09-14T18:42:57.286Z"
   },
   {
    "duration": 4,
    "start_time": "2022-09-14T18:43:00.735Z"
   },
   {
    "duration": 11,
    "start_time": "2022-09-14T18:43:27.308Z"
   },
   {
    "duration": 10,
    "start_time": "2022-09-14T19:10:18.433Z"
   },
   {
    "duration": 12,
    "start_time": "2022-09-14T19:10:29.748Z"
   },
   {
    "duration": 8,
    "start_time": "2022-09-14T19:11:59.046Z"
   },
   {
    "duration": 12,
    "start_time": "2022-09-14T19:11:59.760Z"
   },
   {
    "duration": 7,
    "start_time": "2022-09-14T19:12:17.737Z"
   },
   {
    "duration": 5,
    "start_time": "2022-09-14T19:13:26.766Z"
   },
   {
    "duration": 7,
    "start_time": "2022-09-14T19:13:53.606Z"
   },
   {
    "duration": 5,
    "start_time": "2022-09-14T19:14:05.065Z"
   },
   {
    "duration": 5,
    "start_time": "2022-09-14T19:15:43.260Z"
   },
   {
    "duration": 5,
    "start_time": "2022-09-14T19:15:43.889Z"
   },
   {
    "duration": 4,
    "start_time": "2022-09-14T19:17:25.639Z"
   },
   {
    "duration": 4,
    "start_time": "2022-09-14T19:20:49.948Z"
   },
   {
    "duration": 6,
    "start_time": "2022-09-14T19:21:58.845Z"
   },
   {
    "duration": 5,
    "start_time": "2022-09-14T19:22:05.126Z"
   },
   {
    "duration": 3,
    "start_time": "2022-09-14T19:22:52.111Z"
   },
   {
    "duration": 4,
    "start_time": "2022-09-14T19:23:24.654Z"
   },
   {
    "duration": 3,
    "start_time": "2022-09-14T19:23:37.815Z"
   },
   {
    "duration": 5,
    "start_time": "2022-09-14T19:24:07.422Z"
   },
   {
    "duration": 7,
    "start_time": "2022-09-14T19:25:03.206Z"
   },
   {
    "duration": 3,
    "start_time": "2022-09-14T19:25:03.730Z"
   },
   {
    "duration": 8,
    "start_time": "2022-09-14T19:25:04.259Z"
   },
   {
    "duration": 8,
    "start_time": "2022-09-14T19:51:49.296Z"
   },
   {
    "duration": 8,
    "start_time": "2022-09-14T19:51:50.663Z"
   },
   {
    "duration": 5,
    "start_time": "2022-09-14T19:51:57.174Z"
   },
   {
    "duration": 3,
    "start_time": "2022-09-14T19:51:57.933Z"
   },
   {
    "duration": 5,
    "start_time": "2022-09-14T19:53:14.633Z"
   },
   {
    "duration": 4,
    "start_time": "2022-09-14T19:53:15.087Z"
   },
   {
    "duration": 48,
    "start_time": "2022-09-14T19:59:30.593Z"
   },
   {
    "duration": 9,
    "start_time": "2022-09-14T20:16:58.361Z"
   },
   {
    "duration": 8,
    "start_time": "2022-09-14T20:16:59.708Z"
   },
   {
    "duration": 425,
    "start_time": "2022-09-14T20:21:50.956Z"
   },
   {
    "duration": 25,
    "start_time": "2022-09-14T20:21:51.382Z"
   },
   {
    "duration": 22,
    "start_time": "2022-09-14T20:21:51.409Z"
   },
   {
    "duration": 14,
    "start_time": "2022-09-14T20:21:51.433Z"
   },
   {
    "duration": 68,
    "start_time": "2022-09-14T20:21:51.449Z"
   },
   {
    "duration": 4,
    "start_time": "2022-09-14T20:21:51.520Z"
   },
   {
    "duration": 31,
    "start_time": "2022-09-14T20:21:51.526Z"
   },
   {
    "duration": 10,
    "start_time": "2022-09-14T20:21:51.558Z"
   },
   {
    "duration": 12,
    "start_time": "2022-09-14T20:21:51.570Z"
   },
   {
    "duration": 5,
    "start_time": "2022-09-14T20:21:51.586Z"
   },
   {
    "duration": 65,
    "start_time": "2022-09-14T20:21:51.593Z"
   },
   {
    "duration": 14,
    "start_time": "2022-09-14T20:21:51.660Z"
   },
   {
    "duration": 4,
    "start_time": "2022-09-14T20:21:51.676Z"
   },
   {
    "duration": 34,
    "start_time": "2022-09-14T20:21:51.682Z"
   },
   {
    "duration": 20,
    "start_time": "2022-09-14T20:21:51.718Z"
   },
   {
    "duration": 23,
    "start_time": "2022-09-14T20:21:51.740Z"
   },
   {
    "duration": 4,
    "start_time": "2022-09-14T20:21:51.765Z"
   },
   {
    "duration": 21,
    "start_time": "2022-09-14T20:21:51.771Z"
   },
   {
    "duration": 19,
    "start_time": "2022-09-14T20:21:51.793Z"
   },
   {
    "duration": 12,
    "start_time": "2022-09-14T20:21:51.813Z"
   },
   {
    "duration": 19,
    "start_time": "2022-09-14T20:21:51.827Z"
   },
   {
    "duration": 8,
    "start_time": "2022-09-14T20:21:51.848Z"
   },
   {
    "duration": 89,
    "start_time": "2022-09-14T20:21:51.858Z"
   },
   {
    "duration": 0,
    "start_time": "2022-09-14T20:21:51.949Z"
   },
   {
    "duration": 0,
    "start_time": "2022-09-14T20:21:51.950Z"
   },
   {
    "duration": 0,
    "start_time": "2022-09-14T20:21:51.951Z"
   },
   {
    "duration": 0,
    "start_time": "2022-09-14T20:21:51.952Z"
   },
   {
    "duration": 0,
    "start_time": "2022-09-14T20:21:51.953Z"
   },
   {
    "duration": 0,
    "start_time": "2022-09-14T20:21:51.954Z"
   },
   {
    "duration": 8,
    "start_time": "2022-09-14T20:22:37.144Z"
   },
   {
    "duration": 6,
    "start_time": "2022-09-14T20:22:38.971Z"
   },
   {
    "duration": 8,
    "start_time": "2022-09-14T20:22:48.439Z"
   },
   {
    "duration": 6,
    "start_time": "2022-09-14T20:22:52.340Z"
   },
   {
    "duration": 4,
    "start_time": "2022-09-14T20:22:52.851Z"
   },
   {
    "duration": 4,
    "start_time": "2022-09-14T20:23:00.260Z"
   },
   {
    "duration": 474,
    "start_time": "2022-09-14T20:23:07.801Z"
   },
   {
    "duration": 20,
    "start_time": "2022-09-14T20:23:08.277Z"
   },
   {
    "duration": 13,
    "start_time": "2022-09-14T20:23:08.298Z"
   },
   {
    "duration": 9,
    "start_time": "2022-09-14T20:23:08.313Z"
   },
   {
    "duration": 31,
    "start_time": "2022-09-14T20:23:08.323Z"
   },
   {
    "duration": 3,
    "start_time": "2022-09-14T20:23:08.356Z"
   },
   {
    "duration": 9,
    "start_time": "2022-09-14T20:23:08.360Z"
   },
   {
    "duration": 4,
    "start_time": "2022-09-14T20:23:08.370Z"
   },
   {
    "duration": 37,
    "start_time": "2022-09-14T20:23:08.375Z"
   },
   {
    "duration": 6,
    "start_time": "2022-09-14T20:23:08.414Z"
   },
   {
    "duration": 30,
    "start_time": "2022-09-14T20:23:08.422Z"
   },
   {
    "duration": 9,
    "start_time": "2022-09-14T20:23:08.454Z"
   },
   {
    "duration": 3,
    "start_time": "2022-09-14T20:23:08.464Z"
   },
   {
    "duration": 47,
    "start_time": "2022-09-14T20:23:08.469Z"
   },
   {
    "duration": 19,
    "start_time": "2022-09-14T20:23:08.517Z"
   },
   {
    "duration": 17,
    "start_time": "2022-09-14T20:23:08.538Z"
   },
   {
    "duration": 4,
    "start_time": "2022-09-14T20:23:08.557Z"
   },
   {
    "duration": 12,
    "start_time": "2022-09-14T20:23:08.562Z"
   },
   {
    "duration": 36,
    "start_time": "2022-09-14T20:23:08.575Z"
   },
   {
    "duration": 5,
    "start_time": "2022-09-14T20:23:08.613Z"
   },
   {
    "duration": 11,
    "start_time": "2022-09-14T20:23:08.619Z"
   },
   {
    "duration": 6,
    "start_time": "2022-09-14T20:23:08.631Z"
   },
   {
    "duration": 7,
    "start_time": "2022-09-14T20:23:08.639Z"
   },
   {
    "duration": 8,
    "start_time": "2022-09-14T20:23:08.648Z"
   },
   {
    "duration": 8,
    "start_time": "2022-09-14T20:23:08.657Z"
   },
   {
    "duration": 46,
    "start_time": "2022-09-14T20:23:08.666Z"
   },
   {
    "duration": 6,
    "start_time": "2022-09-14T20:23:08.713Z"
   },
   {
    "duration": 3,
    "start_time": "2022-09-14T20:23:08.722Z"
   },
   {
    "duration": 25,
    "start_time": "2022-09-14T20:23:08.726Z"
   },
   {
    "duration": 9,
    "start_time": "2022-09-14T20:24:19.247Z"
   },
   {
    "duration": 66,
    "start_time": "2022-09-15T10:45:14.276Z"
   },
   {
    "duration": 756,
    "start_time": "2022-09-15T10:45:27.087Z"
   },
   {
    "duration": 21,
    "start_time": "2022-09-15T10:45:27.845Z"
   },
   {
    "duration": 13,
    "start_time": "2022-09-15T10:45:27.868Z"
   },
   {
    "duration": 9,
    "start_time": "2022-09-15T10:45:27.883Z"
   },
   {
    "duration": 42,
    "start_time": "2022-09-15T10:45:27.894Z"
   },
   {
    "duration": 4,
    "start_time": "2022-09-15T10:45:27.937Z"
   },
   {
    "duration": 12,
    "start_time": "2022-09-15T10:45:27.942Z"
   },
   {
    "duration": 10,
    "start_time": "2022-09-15T10:45:27.955Z"
   },
   {
    "duration": 10,
    "start_time": "2022-09-15T10:45:27.966Z"
   },
   {
    "duration": 5,
    "start_time": "2022-09-15T10:45:27.979Z"
   },
   {
    "duration": 52,
    "start_time": "2022-09-15T10:45:27.985Z"
   },
   {
    "duration": 9,
    "start_time": "2022-09-15T10:45:28.038Z"
   },
   {
    "duration": 20,
    "start_time": "2022-09-15T10:45:28.048Z"
   },
   {
    "duration": 13,
    "start_time": "2022-09-15T10:45:28.069Z"
   },
   {
    "duration": 19,
    "start_time": "2022-09-15T10:45:28.083Z"
   },
   {
    "duration": 29,
    "start_time": "2022-09-15T10:45:28.103Z"
   },
   {
    "duration": 9,
    "start_time": "2022-09-15T10:45:28.135Z"
   },
   {
    "duration": 21,
    "start_time": "2022-09-15T10:45:28.145Z"
   },
   {
    "duration": 8,
    "start_time": "2022-09-15T10:45:28.167Z"
   },
   {
    "duration": 3,
    "start_time": "2022-09-15T10:45:28.176Z"
   },
   {
    "duration": 13,
    "start_time": "2022-09-15T10:45:28.180Z"
   },
   {
    "duration": 4,
    "start_time": "2022-09-15T10:45:28.194Z"
   },
   {
    "duration": 8,
    "start_time": "2022-09-15T10:45:28.199Z"
   },
   {
    "duration": 11,
    "start_time": "2022-09-15T10:45:28.212Z"
   },
   {
    "duration": 59,
    "start_time": "2022-09-15T10:45:28.224Z"
   },
   {
    "duration": 0,
    "start_time": "2022-09-15T10:45:28.284Z"
   },
   {
    "duration": 0,
    "start_time": "2022-09-15T10:45:28.285Z"
   },
   {
    "duration": 0,
    "start_time": "2022-09-15T10:45:28.286Z"
   },
   {
    "duration": 0,
    "start_time": "2022-09-15T10:45:28.286Z"
   },
   {
    "duration": 0,
    "start_time": "2022-09-15T10:45:28.287Z"
   },
   {
    "duration": 0,
    "start_time": "2022-09-15T10:45:28.288Z"
   },
   {
    "duration": 5,
    "start_time": "2022-09-15T10:45:37.133Z"
   },
   {
    "duration": 4,
    "start_time": "2022-09-15T10:45:37.631Z"
   },
   {
    "duration": 5,
    "start_time": "2022-09-15T10:45:44.276Z"
   },
   {
    "duration": 4,
    "start_time": "2022-09-15T10:45:59.342Z"
   },
   {
    "duration": 4,
    "start_time": "2022-09-15T10:46:17.039Z"
   },
   {
    "duration": 6,
    "start_time": "2022-09-15T10:47:46.464Z"
   },
   {
    "duration": 4,
    "start_time": "2022-09-15T10:47:46.958Z"
   },
   {
    "duration": 3,
    "start_time": "2022-09-15T10:55:04.128Z"
   },
   {
    "duration": 7,
    "start_time": "2022-09-15T10:56:30.686Z"
   },
   {
    "duration": 7,
    "start_time": "2022-09-15T10:58:42.141Z"
   },
   {
    "duration": 7,
    "start_time": "2022-09-15T10:58:51.056Z"
   },
   {
    "duration": 4,
    "start_time": "2022-09-15T10:59:06.236Z"
   },
   {
    "duration": 4,
    "start_time": "2022-09-15T11:04:46.742Z"
   },
   {
    "duration": 3,
    "start_time": "2022-09-15T11:05:26.145Z"
   },
   {
    "duration": 4,
    "start_time": "2022-09-15T11:08:58.244Z"
   },
   {
    "duration": 82,
    "start_time": "2022-09-15T11:10:36.621Z"
   },
   {
    "duration": 10,
    "start_time": "2022-09-15T11:10:54.983Z"
   },
   {
    "duration": 19,
    "start_time": "2022-09-15T11:13:29.608Z"
   },
   {
    "duration": 8,
    "start_time": "2022-09-15T11:13:40.280Z"
   },
   {
    "duration": 8,
    "start_time": "2022-09-15T11:14:10.443Z"
   },
   {
    "duration": 4,
    "start_time": "2022-09-15T11:20:30.975Z"
   },
   {
    "duration": 16,
    "start_time": "2022-09-15T11:20:51.903Z"
   },
   {
    "duration": 4,
    "start_time": "2022-09-15T11:20:59.760Z"
   },
   {
    "duration": 4,
    "start_time": "2022-09-15T11:21:10.128Z"
   },
   {
    "duration": 4,
    "start_time": "2022-09-15T11:21:34.703Z"
   },
   {
    "duration": 17,
    "start_time": "2022-09-15T11:22:14.705Z"
   },
   {
    "duration": 3,
    "start_time": "2022-09-15T11:22:29.969Z"
   },
   {
    "duration": 9,
    "start_time": "2022-09-15T11:22:46.240Z"
   },
   {
    "duration": 9,
    "start_time": "2022-09-15T11:23:14.449Z"
   },
   {
    "duration": 6,
    "start_time": "2022-09-15T11:24:02.339Z"
   },
   {
    "duration": 5,
    "start_time": "2022-09-15T11:24:42.099Z"
   },
   {
    "duration": 3,
    "start_time": "2022-09-15T12:01:05.993Z"
   },
   {
    "duration": 6,
    "start_time": "2022-09-15T12:01:06.582Z"
   },
   {
    "duration": 6,
    "start_time": "2022-09-15T12:01:07.024Z"
   },
   {
    "duration": 3,
    "start_time": "2022-09-15T12:01:07.422Z"
   },
   {
    "duration": 5,
    "start_time": "2022-09-15T12:01:07.924Z"
   },
   {
    "duration": 6,
    "start_time": "2022-09-15T12:01:08.805Z"
   },
   {
    "duration": 8,
    "start_time": "2022-09-15T12:06:58.778Z"
   },
   {
    "duration": 4,
    "start_time": "2022-09-15T12:07:06.480Z"
   },
   {
    "duration": 5,
    "start_time": "2022-09-15T12:08:56.335Z"
   },
   {
    "duration": 3,
    "start_time": "2022-09-15T12:09:09.055Z"
   },
   {
    "duration": 11,
    "start_time": "2022-09-15T12:09:13.405Z"
   },
   {
    "duration": 4,
    "start_time": "2022-09-15T12:10:16.448Z"
   },
   {
    "duration": 4,
    "start_time": "2022-09-15T12:12:11.822Z"
   },
   {
    "duration": 5,
    "start_time": "2022-09-15T12:12:34.783Z"
   },
   {
    "duration": 62,
    "start_time": "2022-09-15T12:13:01.362Z"
   },
   {
    "duration": 5,
    "start_time": "2022-09-15T12:13:15.250Z"
   },
   {
    "duration": 4,
    "start_time": "2022-09-15T12:13:46.033Z"
   },
   {
    "duration": 5,
    "start_time": "2022-09-15T12:13:59.078Z"
   },
   {
    "duration": 5,
    "start_time": "2022-09-15T12:14:06.243Z"
   },
   {
    "duration": 4,
    "start_time": "2022-09-15T12:14:14.036Z"
   },
   {
    "duration": 4,
    "start_time": "2022-09-15T12:14:18.426Z"
   },
   {
    "duration": 5,
    "start_time": "2022-09-15T12:14:28.099Z"
   },
   {
    "duration": 5,
    "start_time": "2022-09-15T12:16:09.766Z"
   },
   {
    "duration": 115,
    "start_time": "2022-09-15T12:16:25.765Z"
   },
   {
    "duration": 5,
    "start_time": "2022-09-15T12:16:29.979Z"
   },
   {
    "duration": 13,
    "start_time": "2022-09-15T12:36:00.050Z"
   },
   {
    "duration": 9,
    "start_time": "2022-09-15T12:36:46.889Z"
   },
   {
    "duration": 9,
    "start_time": "2022-09-15T12:37:59.083Z"
   },
   {
    "duration": 5,
    "start_time": "2022-09-15T12:38:23.304Z"
   },
   {
    "duration": 9,
    "start_time": "2022-09-15T12:39:05.931Z"
   },
   {
    "duration": 140,
    "start_time": "2022-09-15T12:39:20.446Z"
   },
   {
    "duration": 6,
    "start_time": "2022-09-15T12:39:25.947Z"
   },
   {
    "duration": 20,
    "start_time": "2022-09-15T12:39:45.548Z"
   },
   {
    "duration": 7,
    "start_time": "2022-09-15T12:39:54.156Z"
   },
   {
    "duration": 7,
    "start_time": "2022-09-15T12:40:17.644Z"
   },
   {
    "duration": 10,
    "start_time": "2022-09-15T12:41:29.522Z"
   },
   {
    "duration": 7,
    "start_time": "2022-09-15T13:06:35.385Z"
   },
   {
    "duration": 7,
    "start_time": "2022-09-15T13:07:06.012Z"
   },
   {
    "duration": 3,
    "start_time": "2022-09-15T13:07:10.902Z"
   },
   {
    "duration": 6,
    "start_time": "2022-09-15T13:16:11.134Z"
   },
   {
    "duration": 4,
    "start_time": "2022-09-15T13:16:12.333Z"
   },
   {
    "duration": 7,
    "start_time": "2022-09-15T13:16:44.270Z"
   },
   {
    "duration": 3,
    "start_time": "2022-09-15T13:16:52.557Z"
   },
   {
    "duration": 12,
    "start_time": "2022-09-15T13:18:33.966Z"
   },
   {
    "duration": 7,
    "start_time": "2022-09-15T13:18:51.321Z"
   },
   {
    "duration": 6,
    "start_time": "2022-09-15T13:19:04.784Z"
   },
   {
    "duration": 10,
    "start_time": "2022-09-15T13:19:19.409Z"
   },
   {
    "duration": 1465,
    "start_time": "2022-09-15T14:14:21.096Z"
   },
   {
    "duration": 9,
    "start_time": "2022-09-15T14:14:45.798Z"
   },
   {
    "duration": 776,
    "start_time": "2022-09-15T14:15:09.490Z"
   },
   {
    "duration": 1328,
    "start_time": "2022-09-15T14:15:21.430Z"
   },
   {
    "duration": 8,
    "start_time": "2022-09-15T14:15:33.591Z"
   },
   {
    "duration": 10,
    "start_time": "2022-09-15T14:15:52.278Z"
   },
   {
    "duration": 9,
    "start_time": "2022-09-15T14:17:02.697Z"
   },
   {
    "duration": 4,
    "start_time": "2022-09-15T14:20:35.780Z"
   },
   {
    "duration": 3,
    "start_time": "2022-09-15T14:20:46.622Z"
   },
   {
    "duration": 7,
    "start_time": "2022-09-15T14:21:20.091Z"
   },
   {
    "duration": 6,
    "start_time": "2022-09-15T14:21:27.081Z"
   },
   {
    "duration": 4,
    "start_time": "2022-09-15T14:21:30.790Z"
   },
   {
    "duration": 7,
    "start_time": "2022-09-15T14:22:43.726Z"
   },
   {
    "duration": 6,
    "start_time": "2022-09-15T14:22:59.186Z"
   },
   {
    "duration": 6,
    "start_time": "2022-09-15T14:23:37.358Z"
   },
   {
    "duration": 7,
    "start_time": "2022-09-15T14:25:26.494Z"
   },
   {
    "duration": 4,
    "start_time": "2022-09-15T14:26:59.235Z"
   },
   {
    "duration": 3,
    "start_time": "2022-09-15T14:27:07.745Z"
   },
   {
    "duration": 3,
    "start_time": "2022-09-15T14:27:15.473Z"
   },
   {
    "duration": 8,
    "start_time": "2022-09-15T14:27:52.304Z"
   },
   {
    "duration": 88,
    "start_time": "2022-09-15T14:30:27.461Z"
   },
   {
    "duration": 7,
    "start_time": "2022-09-15T14:30:35.701Z"
   },
   {
    "duration": 4,
    "start_time": "2022-09-15T14:31:29.396Z"
   },
   {
    "duration": 55,
    "start_time": "2022-09-15T14:32:36.568Z"
   },
   {
    "duration": 444,
    "start_time": "2022-09-15T14:46:52.922Z"
   },
   {
    "duration": 20,
    "start_time": "2022-09-15T14:46:53.368Z"
   },
   {
    "duration": 14,
    "start_time": "2022-09-15T14:46:53.391Z"
   },
   {
    "duration": 9,
    "start_time": "2022-09-15T14:46:53.406Z"
   },
   {
    "duration": 31,
    "start_time": "2022-09-15T14:46:53.416Z"
   },
   {
    "duration": 3,
    "start_time": "2022-09-15T14:46:53.448Z"
   },
   {
    "duration": 13,
    "start_time": "2022-09-15T14:46:53.452Z"
   },
   {
    "duration": 4,
    "start_time": "2022-09-15T14:46:53.466Z"
   },
   {
    "duration": 6,
    "start_time": "2022-09-15T14:46:53.473Z"
   },
   {
    "duration": 9,
    "start_time": "2022-09-15T14:46:53.480Z"
   },
   {
    "duration": 32,
    "start_time": "2022-09-15T14:46:53.509Z"
   },
   {
    "duration": 8,
    "start_time": "2022-09-15T14:46:53.542Z"
   },
   {
    "duration": 5,
    "start_time": "2022-09-15T14:46:53.551Z"
   },
   {
    "duration": 13,
    "start_time": "2022-09-15T14:46:53.557Z"
   },
   {
    "duration": 22,
    "start_time": "2022-09-15T14:46:53.571Z"
   },
   {
    "duration": 27,
    "start_time": "2022-09-15T14:46:53.595Z"
   },
   {
    "duration": 3,
    "start_time": "2022-09-15T14:46:53.624Z"
   },
   {
    "duration": 15,
    "start_time": "2022-09-15T14:46:53.628Z"
   },
   {
    "duration": 8,
    "start_time": "2022-09-15T14:46:53.644Z"
   },
   {
    "duration": 8,
    "start_time": "2022-09-15T14:46:53.654Z"
   },
   {
    "duration": 13,
    "start_time": "2022-09-15T14:46:53.663Z"
   },
   {
    "duration": 5,
    "start_time": "2022-09-15T14:46:53.678Z"
   },
   {
    "duration": 11,
    "start_time": "2022-09-15T14:46:53.684Z"
   },
   {
    "duration": 15,
    "start_time": "2022-09-15T14:46:53.696Z"
   },
   {
    "duration": 11,
    "start_time": "2022-09-15T14:46:53.713Z"
   },
   {
    "duration": 6,
    "start_time": "2022-09-15T14:46:53.725Z"
   },
   {
    "duration": 6,
    "start_time": "2022-09-15T14:46:53.734Z"
   },
   {
    "duration": 11,
    "start_time": "2022-09-15T14:46:53.742Z"
   },
   {
    "duration": 8,
    "start_time": "2022-09-15T14:46:53.754Z"
   },
   {
    "duration": 16,
    "start_time": "2022-09-15T14:46:53.767Z"
   },
   {
    "duration": 8,
    "start_time": "2022-09-15T14:46:53.785Z"
   },
   {
    "duration": 22,
    "start_time": "2022-09-15T14:46:53.795Z"
   },
   {
    "duration": 5,
    "start_time": "2022-09-15T14:46:53.820Z"
   },
   {
    "duration": 11,
    "start_time": "2022-09-15T14:46:53.827Z"
   },
   {
    "duration": 12,
    "start_time": "2022-09-15T14:46:53.840Z"
   },
   {
    "duration": 6,
    "start_time": "2022-09-15T14:46:53.854Z"
   },
   {
    "duration": 9,
    "start_time": "2022-09-15T14:46:53.862Z"
   },
   {
    "duration": 6,
    "start_time": "2022-09-15T14:46:53.873Z"
   },
   {
    "duration": 7,
    "start_time": "2022-09-15T14:49:28.566Z"
   },
   {
    "duration": 7,
    "start_time": "2022-09-15T14:49:30.949Z"
   },
   {
    "duration": 4,
    "start_time": "2022-09-15T14:49:32.151Z"
   },
   {
    "duration": 4,
    "start_time": "2022-09-15T14:50:56.278Z"
   },
   {
    "duration": 6,
    "start_time": "2022-09-15T14:50:56.759Z"
   },
   {
    "duration": 7,
    "start_time": "2022-09-15T14:50:57.223Z"
   },
   {
    "duration": 6,
    "start_time": "2022-09-15T14:50:58.122Z"
   },
   {
    "duration": 5,
    "start_time": "2022-09-15T14:54:30.763Z"
   },
   {
    "duration": 4,
    "start_time": "2022-09-15T14:54:31.213Z"
   },
   {
    "duration": 7,
    "start_time": "2022-09-15T14:54:34.058Z"
   },
   {
    "duration": 7,
    "start_time": "2022-09-15T14:54:36.410Z"
   },
   {
    "duration": 4,
    "start_time": "2022-09-15T14:54:36.860Z"
   },
   {
    "duration": 3,
    "start_time": "2022-09-15T14:55:19.147Z"
   },
   {
    "duration": 4,
    "start_time": "2022-09-15T14:55:21.100Z"
   },
   {
    "duration": 4,
    "start_time": "2022-09-15T14:55:25.383Z"
   },
   {
    "duration": 3,
    "start_time": "2022-09-15T14:56:04.776Z"
   },
   {
    "duration": 458,
    "start_time": "2022-09-15T14:57:35.508Z"
   },
   {
    "duration": 19,
    "start_time": "2022-09-15T14:57:35.969Z"
   },
   {
    "duration": 13,
    "start_time": "2022-09-15T14:57:35.992Z"
   },
   {
    "duration": 9,
    "start_time": "2022-09-15T14:57:36.006Z"
   },
   {
    "duration": 34,
    "start_time": "2022-09-15T14:57:36.016Z"
   },
   {
    "duration": 3,
    "start_time": "2022-09-15T14:57:36.052Z"
   },
   {
    "duration": 10,
    "start_time": "2022-09-15T14:57:36.056Z"
   },
   {
    "duration": 3,
    "start_time": "2022-09-15T14:57:36.067Z"
   },
   {
    "duration": 13,
    "start_time": "2022-09-15T14:57:36.073Z"
   },
   {
    "duration": 5,
    "start_time": "2022-09-15T14:57:36.087Z"
   },
   {
    "duration": 42,
    "start_time": "2022-09-15T14:57:36.093Z"
   },
   {
    "duration": 8,
    "start_time": "2022-09-15T14:57:36.136Z"
   },
   {
    "duration": 3,
    "start_time": "2022-09-15T14:57:36.145Z"
   },
   {
    "duration": 11,
    "start_time": "2022-09-15T14:57:36.149Z"
   },
   {
    "duration": 19,
    "start_time": "2022-09-15T14:57:36.161Z"
   },
   {
    "duration": 38,
    "start_time": "2022-09-15T14:57:36.182Z"
   },
   {
    "duration": 3,
    "start_time": "2022-09-15T14:57:36.222Z"
   },
   {
    "duration": 10,
    "start_time": "2022-09-15T14:57:36.227Z"
   },
   {
    "duration": 6,
    "start_time": "2022-09-15T14:57:36.239Z"
   },
   {
    "duration": 11,
    "start_time": "2022-09-15T14:57:36.247Z"
   },
   {
    "duration": 12,
    "start_time": "2022-09-15T14:57:36.259Z"
   },
   {
    "duration": 9,
    "start_time": "2022-09-15T14:57:36.273Z"
   },
   {
    "duration": 25,
    "start_time": "2022-09-15T14:57:36.284Z"
   },
   {
    "duration": 8,
    "start_time": "2022-09-15T14:57:36.310Z"
   },
   {
    "duration": 5,
    "start_time": "2022-09-15T14:57:36.319Z"
   },
   {
    "duration": 10,
    "start_time": "2022-09-15T14:57:36.325Z"
   },
   {
    "duration": 6,
    "start_time": "2022-09-15T14:57:36.337Z"
   },
   {
    "duration": 9,
    "start_time": "2022-09-15T14:57:36.344Z"
   },
   {
    "duration": 9,
    "start_time": "2022-09-15T14:57:36.354Z"
   },
   {
    "duration": 11,
    "start_time": "2022-09-15T14:57:36.364Z"
   },
   {
    "duration": 9,
    "start_time": "2022-09-15T14:57:36.376Z"
   },
   {
    "duration": 8,
    "start_time": "2022-09-15T14:57:36.386Z"
   },
   {
    "duration": 15,
    "start_time": "2022-09-15T14:57:36.395Z"
   },
   {
    "duration": 6,
    "start_time": "2022-09-15T14:57:36.411Z"
   },
   {
    "duration": 6,
    "start_time": "2022-09-15T14:57:36.419Z"
   },
   {
    "duration": 4,
    "start_time": "2022-09-15T14:57:36.427Z"
   },
   {
    "duration": 4,
    "start_time": "2022-09-15T14:57:36.432Z"
   },
   {
    "duration": 5,
    "start_time": "2022-09-15T14:57:36.437Z"
   },
   {
    "duration": 7,
    "start_time": "2022-09-15T14:59:31.677Z"
   },
   {
    "duration": 4,
    "start_time": "2022-09-15T14:59:33.212Z"
   },
   {
    "duration": 510,
    "start_time": "2022-09-15T18:24:06.195Z"
   },
   {
    "duration": 23,
    "start_time": "2022-09-15T18:24:06.706Z"
   },
   {
    "duration": 32,
    "start_time": "2022-09-15T18:24:06.731Z"
   },
   {
    "duration": 17,
    "start_time": "2022-09-15T18:24:06.765Z"
   },
   {
    "duration": 40,
    "start_time": "2022-09-15T18:24:06.783Z"
   },
   {
    "duration": 3,
    "start_time": "2022-09-15T18:24:06.825Z"
   },
   {
    "duration": 33,
    "start_time": "2022-09-15T18:24:06.830Z"
   },
   {
    "duration": 34,
    "start_time": "2022-09-15T18:24:06.865Z"
   },
   {
    "duration": 42,
    "start_time": "2022-09-15T18:24:06.901Z"
   },
   {
    "duration": 29,
    "start_time": "2022-09-15T18:24:06.947Z"
   },
   {
    "duration": 45,
    "start_time": "2022-09-15T18:24:06.978Z"
   },
   {
    "duration": 11,
    "start_time": "2022-09-15T18:24:07.025Z"
   },
   {
    "duration": 20,
    "start_time": "2022-09-15T18:24:07.037Z"
   },
   {
    "duration": 30,
    "start_time": "2022-09-15T18:24:07.058Z"
   },
   {
    "duration": 35,
    "start_time": "2022-09-15T18:24:07.090Z"
   },
   {
    "duration": 19,
    "start_time": "2022-09-15T18:24:07.127Z"
   },
   {
    "duration": 18,
    "start_time": "2022-09-15T18:24:07.147Z"
   },
   {
    "duration": 24,
    "start_time": "2022-09-15T18:24:07.167Z"
   },
   {
    "duration": 24,
    "start_time": "2022-09-15T18:24:07.192Z"
   },
   {
    "duration": 21,
    "start_time": "2022-09-15T18:24:07.218Z"
   },
   {
    "duration": 42,
    "start_time": "2022-09-15T18:24:07.242Z"
   },
   {
    "duration": 5,
    "start_time": "2022-09-15T18:24:07.286Z"
   },
   {
    "duration": 35,
    "start_time": "2022-09-15T18:24:07.293Z"
   },
   {
    "duration": 19,
    "start_time": "2022-09-15T18:24:07.330Z"
   },
   {
    "duration": 16,
    "start_time": "2022-09-15T18:24:07.350Z"
   },
   {
    "duration": 19,
    "start_time": "2022-09-15T18:24:07.368Z"
   },
   {
    "duration": 27,
    "start_time": "2022-09-15T18:24:07.389Z"
   },
   {
    "duration": 22,
    "start_time": "2022-09-15T18:24:07.421Z"
   },
   {
    "duration": 30,
    "start_time": "2022-09-15T18:24:07.445Z"
   },
   {
    "duration": 36,
    "start_time": "2022-09-15T18:24:07.476Z"
   },
   {
    "duration": 20,
    "start_time": "2022-09-15T18:24:07.514Z"
   },
   {
    "duration": 21,
    "start_time": "2022-09-15T18:24:07.536Z"
   },
   {
    "duration": 34,
    "start_time": "2022-09-15T18:24:07.560Z"
   },
   {
    "duration": 9,
    "start_time": "2022-09-15T18:24:07.595Z"
   },
   {
    "duration": 23,
    "start_time": "2022-09-15T18:24:07.606Z"
   },
   {
    "duration": 16,
    "start_time": "2022-09-15T18:24:07.631Z"
   },
   {
    "duration": 24,
    "start_time": "2022-09-15T18:24:07.649Z"
   },
   {
    "duration": 13,
    "start_time": "2022-09-15T18:26:12.081Z"
   },
   {
    "duration": 75,
    "start_time": "2022-09-15T18:27:22.456Z"
   },
   {
    "duration": 13,
    "start_time": "2022-09-15T18:27:59.148Z"
   },
   {
    "duration": 13,
    "start_time": "2022-09-15T18:31:11.884Z"
   },
   {
    "duration": 63,
    "start_time": "2022-09-15T18:39:40.869Z"
   },
   {
    "duration": 67,
    "start_time": "2022-09-15T18:40:04.934Z"
   },
   {
    "duration": 58,
    "start_time": "2022-09-15T18:41:08.069Z"
   },
   {
    "duration": 16,
    "start_time": "2022-09-15T18:42:03.497Z"
   },
   {
    "duration": 12,
    "start_time": "2022-09-15T18:42:43.128Z"
   },
   {
    "duration": 14,
    "start_time": "2022-09-15T18:42:54.724Z"
   },
   {
    "duration": 16,
    "start_time": "2022-09-15T18:43:14.557Z"
   },
   {
    "duration": 14,
    "start_time": "2022-09-15T18:43:44.052Z"
   },
   {
    "duration": 12,
    "start_time": "2022-09-15T18:48:45.595Z"
   },
   {
    "duration": 18,
    "start_time": "2022-09-15T18:49:41.741Z"
   },
   {
    "duration": 145,
    "start_time": "2022-09-15T18:49:55.568Z"
   },
   {
    "duration": 17,
    "start_time": "2022-09-15T18:50:22.541Z"
   },
   {
    "duration": 15,
    "start_time": "2022-09-15T18:50:31.847Z"
   },
   {
    "duration": 14,
    "start_time": "2022-09-15T18:50:42.074Z"
   },
   {
    "duration": 21,
    "start_time": "2022-09-15T18:53:20.650Z"
   },
   {
    "duration": 15,
    "start_time": "2022-09-15T18:53:29.048Z"
   },
   {
    "duration": 14,
    "start_time": "2022-09-15T18:53:38.119Z"
   },
   {
    "duration": 14,
    "start_time": "2022-09-15T18:58:49.318Z"
   },
   {
    "duration": 5,
    "start_time": "2022-09-15T18:59:59.561Z"
   },
   {
    "duration": 233,
    "start_time": "2022-09-15T19:00:41.275Z"
   },
   {
    "duration": 14,
    "start_time": "2022-09-15T19:00:47.905Z"
   },
   {
    "duration": 14,
    "start_time": "2022-09-15T19:00:59.716Z"
   },
   {
    "duration": 15,
    "start_time": "2022-09-15T19:01:08.851Z"
   },
   {
    "duration": 14,
    "start_time": "2022-09-15T19:01:56.796Z"
   },
   {
    "duration": 16,
    "start_time": "2022-09-15T19:02:43.587Z"
   },
   {
    "duration": 12,
    "start_time": "2022-09-15T19:03:05.251Z"
   },
   {
    "duration": 19,
    "start_time": "2022-09-15T19:04:14.021Z"
   },
   {
    "duration": 21,
    "start_time": "2022-09-15T19:04:34.763Z"
   },
   {
    "duration": 22,
    "start_time": "2022-09-15T19:05:17.153Z"
   },
   {
    "duration": 15,
    "start_time": "2022-09-15T19:06:14.969Z"
   },
   {
    "duration": 16,
    "start_time": "2022-09-15T19:06:25.376Z"
   },
   {
    "duration": 15,
    "start_time": "2022-09-15T19:06:41.074Z"
   },
   {
    "duration": 12,
    "start_time": "2022-09-15T19:07:03.245Z"
   },
   {
    "duration": 13,
    "start_time": "2022-09-15T19:09:02.783Z"
   },
   {
    "duration": 13,
    "start_time": "2022-09-15T19:09:18.780Z"
   },
   {
    "duration": 12,
    "start_time": "2022-09-15T19:09:32.463Z"
   },
   {
    "duration": 11,
    "start_time": "2022-09-15T19:10:04.791Z"
   },
   {
    "duration": 11,
    "start_time": "2022-09-15T19:11:01.837Z"
   },
   {
    "duration": 18,
    "start_time": "2022-09-15T19:11:12.544Z"
   },
   {
    "duration": 11,
    "start_time": "2022-09-15T19:11:18.560Z"
   },
   {
    "duration": 11,
    "start_time": "2022-09-15T19:11:30.683Z"
   },
   {
    "duration": 11,
    "start_time": "2022-09-15T19:12:28.907Z"
   },
   {
    "duration": 10,
    "start_time": "2022-09-15T19:12:42.942Z"
   },
   {
    "duration": 10,
    "start_time": "2022-09-15T19:12:56.118Z"
   },
   {
    "duration": 10,
    "start_time": "2022-09-15T19:13:12.795Z"
   },
   {
    "duration": 5,
    "start_time": "2022-09-15T19:13:23.181Z"
   },
   {
    "duration": 9,
    "start_time": "2022-09-15T19:13:32.713Z"
   },
   {
    "duration": 10,
    "start_time": "2022-09-15T19:13:52.310Z"
   },
   {
    "duration": 7,
    "start_time": "2022-09-15T19:13:52.801Z"
   },
   {
    "duration": 7,
    "start_time": "2022-09-15T19:14:24.605Z"
   },
   {
    "duration": 431,
    "start_time": "2022-09-16T17:48:49.548Z"
   },
   {
    "duration": 19,
    "start_time": "2022-09-16T17:48:49.981Z"
   },
   {
    "duration": 14,
    "start_time": "2022-09-16T17:48:50.002Z"
   },
   {
    "duration": 12,
    "start_time": "2022-09-16T17:48:50.018Z"
   },
   {
    "duration": 32,
    "start_time": "2022-09-16T17:48:50.031Z"
   },
   {
    "duration": 3,
    "start_time": "2022-09-16T17:48:50.064Z"
   },
   {
    "duration": 10,
    "start_time": "2022-09-16T17:48:50.068Z"
   },
   {
    "duration": 30,
    "start_time": "2022-09-16T17:48:50.079Z"
   },
   {
    "duration": 6,
    "start_time": "2022-09-16T17:48:50.111Z"
   },
   {
    "duration": 7,
    "start_time": "2022-09-16T17:48:50.120Z"
   },
   {
    "duration": 34,
    "start_time": "2022-09-16T17:48:50.129Z"
   },
   {
    "duration": 11,
    "start_time": "2022-09-16T17:48:50.165Z"
   },
   {
    "duration": 4,
    "start_time": "2022-09-16T17:48:50.209Z"
   },
   {
    "duration": 17,
    "start_time": "2022-09-16T17:48:50.215Z"
   },
   {
    "duration": 20,
    "start_time": "2022-09-16T17:48:50.234Z"
   },
   {
    "duration": 15,
    "start_time": "2022-09-16T17:48:50.256Z"
   },
   {
    "duration": 3,
    "start_time": "2022-09-16T17:48:50.272Z"
   },
   {
    "duration": 10,
    "start_time": "2022-09-16T17:48:50.308Z"
   },
   {
    "duration": 7,
    "start_time": "2022-09-16T17:48:50.320Z"
   },
   {
    "duration": 6,
    "start_time": "2022-09-16T17:48:50.328Z"
   },
   {
    "duration": 16,
    "start_time": "2022-09-16T17:48:50.336Z"
   },
   {
    "duration": 9,
    "start_time": "2022-09-16T17:48:50.355Z"
   },
   {
    "duration": 10,
    "start_time": "2022-09-16T17:48:50.365Z"
   },
   {
    "duration": 42,
    "start_time": "2022-09-16T17:48:50.377Z"
   },
   {
    "duration": 21,
    "start_time": "2022-09-16T17:48:50.421Z"
   },
   {
    "duration": 26,
    "start_time": "2022-09-16T17:48:50.444Z"
   },
   {
    "duration": 20,
    "start_time": "2022-09-16T17:48:50.472Z"
   },
   {
    "duration": 27,
    "start_time": "2022-09-16T17:48:50.494Z"
   },
   {
    "duration": 33,
    "start_time": "2022-09-16T17:48:50.522Z"
   },
   {
    "duration": 33,
    "start_time": "2022-09-16T17:48:50.556Z"
   },
   {
    "duration": 4,
    "start_time": "2022-09-16T17:48:51.005Z"
   },
   {
    "duration": 20,
    "start_time": "2022-09-16T17:48:51.012Z"
   },
   {
    "duration": 9,
    "start_time": "2022-09-16T17:48:52.193Z"
   },
   {
    "duration": 28,
    "start_time": "2022-09-16T17:48:52.204Z"
   },
   {
    "duration": 35,
    "start_time": "2022-09-16T17:48:52.234Z"
   },
   {
    "duration": 32,
    "start_time": "2022-09-16T17:48:52.272Z"
   },
   {
    "duration": 18,
    "start_time": "2022-09-16T17:48:52.305Z"
   },
   {
    "duration": 16,
    "start_time": "2022-09-16T17:48:52.331Z"
   },
   {
    "duration": 5,
    "start_time": "2022-09-16T17:58:20.466Z"
   },
   {
    "duration": 5,
    "start_time": "2022-09-16T18:00:01.900Z"
   },
   {
    "duration": 5,
    "start_time": "2022-09-16T18:01:31.388Z"
   },
   {
    "duration": 10,
    "start_time": "2022-09-16T18:07:25.868Z"
   },
   {
    "duration": 7,
    "start_time": "2022-09-16T18:07:26.315Z"
   },
   {
    "duration": 66,
    "start_time": "2022-09-16T18:24:36.562Z"
   },
   {
    "duration": 9,
    "start_time": "2022-09-16T18:24:38.943Z"
   },
   {
    "duration": 4,
    "start_time": "2022-09-16T18:25:06.907Z"
   },
   {
    "duration": 2,
    "start_time": "2022-09-16T18:25:08.162Z"
   },
   {
    "duration": 40,
    "start_time": "2022-09-16T18:25:29.819Z"
   },
   {
    "duration": 7,
    "start_time": "2022-09-16T18:25:41.793Z"
   },
   {
    "duration": 4,
    "start_time": "2022-09-16T18:25:43.335Z"
   },
   {
    "duration": 11,
    "start_time": "2022-09-16T18:26:09.325Z"
   },
   {
    "duration": 7,
    "start_time": "2022-09-16T18:26:24.784Z"
   },
   {
    "duration": 4,
    "start_time": "2022-09-16T18:26:29.424Z"
   },
   {
    "duration": 4,
    "start_time": "2022-09-16T18:29:51.510Z"
   },
   {
    "duration": 422,
    "start_time": "2022-09-16T18:43:25.840Z"
   },
   {
    "duration": 21,
    "start_time": "2022-09-16T18:43:26.264Z"
   },
   {
    "duration": 16,
    "start_time": "2022-09-16T18:43:26.286Z"
   },
   {
    "duration": 12,
    "start_time": "2022-09-16T18:43:26.303Z"
   },
   {
    "duration": 30,
    "start_time": "2022-09-16T18:43:26.317Z"
   },
   {
    "duration": 4,
    "start_time": "2022-09-16T18:43:26.348Z"
   },
   {
    "duration": 11,
    "start_time": "2022-09-16T18:43:26.353Z"
   },
   {
    "duration": 4,
    "start_time": "2022-09-16T18:43:26.366Z"
   },
   {
    "duration": 40,
    "start_time": "2022-09-16T18:43:26.371Z"
   },
   {
    "duration": 4,
    "start_time": "2022-09-16T18:43:26.412Z"
   },
   {
    "duration": 32,
    "start_time": "2022-09-16T18:43:26.417Z"
   },
   {
    "duration": 7,
    "start_time": "2022-09-16T18:43:26.450Z"
   },
   {
    "duration": 9,
    "start_time": "2022-09-16T18:43:26.458Z"
   },
   {
    "duration": 12,
    "start_time": "2022-09-16T18:43:26.469Z"
   },
   {
    "duration": 43,
    "start_time": "2022-09-16T18:43:26.482Z"
   },
   {
    "duration": 16,
    "start_time": "2022-09-16T18:43:26.526Z"
   },
   {
    "duration": 3,
    "start_time": "2022-09-16T18:43:26.543Z"
   },
   {
    "duration": 14,
    "start_time": "2022-09-16T18:43:26.547Z"
   },
   {
    "duration": 16,
    "start_time": "2022-09-16T18:43:26.562Z"
   },
   {
    "duration": 3,
    "start_time": "2022-09-16T18:43:26.580Z"
   },
   {
    "duration": 30,
    "start_time": "2022-09-16T18:43:26.584Z"
   },
   {
    "duration": 5,
    "start_time": "2022-09-16T18:43:26.615Z"
   },
   {
    "duration": 12,
    "start_time": "2022-09-16T18:43:26.621Z"
   },
   {
    "duration": 7,
    "start_time": "2022-09-16T18:43:26.634Z"
   },
   {
    "duration": 8,
    "start_time": "2022-09-16T18:43:26.642Z"
   },
   {
    "duration": 6,
    "start_time": "2022-09-16T18:43:26.651Z"
   },
   {
    "duration": 8,
    "start_time": "2022-09-16T18:43:26.659Z"
   },
   {
    "duration": 10,
    "start_time": "2022-09-16T18:43:26.668Z"
   },
   {
    "duration": 30,
    "start_time": "2022-09-16T18:43:26.679Z"
   },
   {
    "duration": 5,
    "start_time": "2022-09-16T18:43:26.711Z"
   },
   {
    "duration": 7,
    "start_time": "2022-09-16T18:43:26.717Z"
   },
   {
    "duration": 7,
    "start_time": "2022-09-16T18:43:26.725Z"
   },
   {
    "duration": 9,
    "start_time": "2022-09-16T18:43:26.734Z"
   },
   {
    "duration": 10,
    "start_time": "2022-09-16T18:43:26.744Z"
   },
   {
    "duration": 3,
    "start_time": "2022-09-16T18:43:26.756Z"
   },
   {
    "duration": 9,
    "start_time": "2022-09-16T18:43:26.761Z"
   },
   {
    "duration": 38,
    "start_time": "2022-09-16T18:43:26.772Z"
   },
   {
    "duration": 10,
    "start_time": "2022-09-16T18:43:26.811Z"
   },
   {
    "duration": 15,
    "start_time": "2022-09-16T18:43:26.822Z"
   },
   {
    "duration": 17,
    "start_time": "2022-09-16T18:43:26.839Z"
   },
   {
    "duration": 7,
    "start_time": "2022-09-16T18:44:30.459Z"
   },
   {
    "duration": 5,
    "start_time": "2022-09-16T18:44:30.901Z"
   },
   {
    "duration": 424,
    "start_time": "2022-09-16T21:10:46.142Z"
   },
   {
    "duration": 20,
    "start_time": "2022-09-16T21:10:46.567Z"
   },
   {
    "duration": 12,
    "start_time": "2022-09-16T21:10:46.589Z"
   },
   {
    "duration": 9,
    "start_time": "2022-09-16T21:10:46.602Z"
   },
   {
    "duration": 30,
    "start_time": "2022-09-16T21:10:46.613Z"
   },
   {
    "duration": 2,
    "start_time": "2022-09-16T21:10:46.644Z"
   },
   {
    "duration": 10,
    "start_time": "2022-09-16T21:10:46.648Z"
   },
   {
    "duration": 4,
    "start_time": "2022-09-16T21:10:46.660Z"
   },
   {
    "duration": 47,
    "start_time": "2022-09-16T21:10:46.665Z"
   },
   {
    "duration": 5,
    "start_time": "2022-09-16T21:10:46.713Z"
   },
   {
    "duration": 32,
    "start_time": "2022-09-16T21:10:46.720Z"
   },
   {
    "duration": 10,
    "start_time": "2022-09-16T21:10:46.753Z"
   },
   {
    "duration": 44,
    "start_time": "2022-09-16T21:10:46.765Z"
   },
   {
    "duration": 16,
    "start_time": "2022-09-16T21:10:46.813Z"
   },
   {
    "duration": 23,
    "start_time": "2022-09-16T21:10:46.830Z"
   },
   {
    "duration": 15,
    "start_time": "2022-09-16T21:10:46.854Z"
   },
   {
    "duration": 3,
    "start_time": "2022-09-16T21:10:46.871Z"
   },
   {
    "duration": 43,
    "start_time": "2022-09-16T21:10:46.875Z"
   },
   {
    "duration": 9,
    "start_time": "2022-09-16T21:10:46.919Z"
   },
   {
    "duration": 3,
    "start_time": "2022-09-16T21:10:46.929Z"
   },
   {
    "duration": 11,
    "start_time": "2022-09-16T21:10:46.934Z"
   },
   {
    "duration": 9,
    "start_time": "2022-09-16T21:10:46.947Z"
   },
   {
    "duration": 8,
    "start_time": "2022-09-16T21:10:46.958Z"
   },
   {
    "duration": 7,
    "start_time": "2022-09-16T21:10:46.967Z"
   },
   {
    "duration": 5,
    "start_time": "2022-09-16T21:10:47.009Z"
   },
   {
    "duration": 7,
    "start_time": "2022-09-16T21:10:47.015Z"
   },
   {
    "duration": 7,
    "start_time": "2022-09-16T21:10:47.023Z"
   },
   {
    "duration": 8,
    "start_time": "2022-09-16T21:10:47.031Z"
   },
   {
    "duration": 6,
    "start_time": "2022-09-16T21:10:47.040Z"
   },
   {
    "duration": 7,
    "start_time": "2022-09-16T21:10:47.047Z"
   },
   {
    "duration": 7,
    "start_time": "2022-09-16T21:10:47.055Z"
   },
   {
    "duration": 5,
    "start_time": "2022-09-16T21:10:47.063Z"
   },
   {
    "duration": 45,
    "start_time": "2022-09-16T21:10:47.069Z"
   },
   {
    "duration": 6,
    "start_time": "2022-09-16T21:10:47.116Z"
   },
   {
    "duration": 8,
    "start_time": "2022-09-16T21:10:47.123Z"
   },
   {
    "duration": 13,
    "start_time": "2022-09-16T21:10:47.133Z"
   },
   {
    "duration": 8,
    "start_time": "2022-09-16T21:10:47.147Z"
   },
   {
    "duration": 7,
    "start_time": "2022-09-16T21:10:47.156Z"
   },
   {
    "duration": 48,
    "start_time": "2022-09-16T21:10:47.164Z"
   },
   {
    "duration": 4,
    "start_time": "2022-09-16T21:10:47.214Z"
   },
   {
    "duration": 4,
    "start_time": "2022-09-17T07:01:31.606Z"
   },
   {
    "duration": 4,
    "start_time": "2022-09-17T07:01:44.739Z"
   },
   {
    "duration": 3,
    "start_time": "2022-09-17T07:01:49.904Z"
   },
   {
    "duration": 724,
    "start_time": "2022-09-17T13:48:20.508Z"
   },
   {
    "duration": 22,
    "start_time": "2022-09-17T13:48:21.234Z"
   },
   {
    "duration": 14,
    "start_time": "2022-09-17T13:48:21.258Z"
   },
   {
    "duration": 19,
    "start_time": "2022-09-17T13:48:21.274Z"
   },
   {
    "duration": 36,
    "start_time": "2022-09-17T13:48:21.295Z"
   },
   {
    "duration": 4,
    "start_time": "2022-09-17T13:48:21.332Z"
   },
   {
    "duration": 10,
    "start_time": "2022-09-17T13:48:21.338Z"
   },
   {
    "duration": 6,
    "start_time": "2022-09-17T13:48:21.349Z"
   },
   {
    "duration": 30,
    "start_time": "2022-09-17T13:48:21.357Z"
   },
   {
    "duration": 8,
    "start_time": "2022-09-17T13:48:21.390Z"
   },
   {
    "duration": 34,
    "start_time": "2022-09-17T13:48:21.399Z"
   },
   {
    "duration": 8,
    "start_time": "2022-09-17T13:48:21.434Z"
   },
   {
    "duration": 5,
    "start_time": "2022-09-17T13:48:21.444Z"
   },
   {
    "duration": 11,
    "start_time": "2022-09-17T13:48:21.450Z"
   },
   {
    "duration": 36,
    "start_time": "2022-09-17T13:48:21.462Z"
   },
   {
    "duration": 16,
    "start_time": "2022-09-17T13:48:21.500Z"
   },
   {
    "duration": 3,
    "start_time": "2022-09-17T13:48:21.518Z"
   },
   {
    "duration": 18,
    "start_time": "2022-09-17T13:48:21.523Z"
   },
   {
    "duration": 6,
    "start_time": "2022-09-17T13:48:21.543Z"
   },
   {
    "duration": 4,
    "start_time": "2022-09-17T13:48:21.551Z"
   },
   {
    "duration": 35,
    "start_time": "2022-09-17T13:48:21.556Z"
   },
   {
    "duration": 8,
    "start_time": "2022-09-17T13:48:21.593Z"
   },
   {
    "duration": 21,
    "start_time": "2022-09-17T13:48:21.603Z"
   },
   {
    "duration": 12,
    "start_time": "2022-09-17T13:48:21.626Z"
   },
   {
    "duration": 9,
    "start_time": "2022-09-17T13:48:21.639Z"
   },
   {
    "duration": 5,
    "start_time": "2022-09-17T13:48:21.649Z"
   },
   {
    "duration": 5,
    "start_time": "2022-09-17T13:48:21.656Z"
   },
   {
    "duration": 13,
    "start_time": "2022-09-17T13:48:21.679Z"
   },
   {
    "duration": 13,
    "start_time": "2022-09-17T13:48:21.693Z"
   },
   {
    "duration": 7,
    "start_time": "2022-09-17T13:48:21.707Z"
   },
   {
    "duration": 5,
    "start_time": "2022-09-17T13:48:21.716Z"
   },
   {
    "duration": 6,
    "start_time": "2022-09-17T13:48:21.723Z"
   },
   {
    "duration": 9,
    "start_time": "2022-09-17T13:48:21.731Z"
   },
   {
    "duration": 7,
    "start_time": "2022-09-17T13:48:21.741Z"
   },
   {
    "duration": 30,
    "start_time": "2022-09-17T13:48:21.749Z"
   },
   {
    "duration": 22,
    "start_time": "2022-09-17T13:48:21.783Z"
   },
   {
    "duration": 8,
    "start_time": "2022-09-17T13:48:21.806Z"
   },
   {
    "duration": 6,
    "start_time": "2022-09-17T13:48:21.815Z"
   },
   {
    "duration": 6,
    "start_time": "2022-09-17T13:48:21.823Z"
   },
   {
    "duration": 4,
    "start_time": "2022-09-17T13:48:21.830Z"
   },
   {
    "duration": 3,
    "start_time": "2022-09-17T14:27:18.945Z"
   },
   {
    "duration": 10,
    "start_time": "2022-09-17T14:27:19.497Z"
   },
   {
    "duration": 7,
    "start_time": "2022-09-17T14:27:20.059Z"
   },
   {
    "duration": 10,
    "start_time": "2022-09-17T14:27:20.790Z"
   },
   {
    "duration": 13,
    "start_time": "2022-09-17T14:41:12.217Z"
   },
   {
    "duration": 10,
    "start_time": "2022-09-17T14:41:12.698Z"
   },
   {
    "duration": 12,
    "start_time": "2022-09-17T14:42:53.198Z"
   },
   {
    "duration": 11,
    "start_time": "2022-09-17T14:42:56.298Z"
   },
   {
    "duration": 119,
    "start_time": "2022-09-17T14:44:48.989Z"
   },
   {
    "duration": 877,
    "start_time": "2022-09-17T14:45:03.044Z"
   },
   {
    "duration": 0,
    "start_time": "2022-09-17T14:45:03.923Z"
   },
   {
    "duration": 521,
    "start_time": "2022-09-17T14:45:22.346Z"
   },
   {
    "duration": 34,
    "start_time": "2022-09-17T14:45:22.869Z"
   },
   {
    "duration": 19,
    "start_time": "2022-09-17T14:45:22.905Z"
   },
   {
    "duration": 19,
    "start_time": "2022-09-17T14:45:22.927Z"
   },
   {
    "duration": 58,
    "start_time": "2022-09-17T14:45:22.948Z"
   },
   {
    "duration": 4,
    "start_time": "2022-09-17T14:45:23.008Z"
   },
   {
    "duration": 27,
    "start_time": "2022-09-17T14:45:23.014Z"
   },
   {
    "duration": 6,
    "start_time": "2022-09-17T14:45:23.043Z"
   },
   {
    "duration": 23,
    "start_time": "2022-09-17T14:45:23.051Z"
   },
   {
    "duration": 14,
    "start_time": "2022-09-17T14:45:23.079Z"
   },
   {
    "duration": 40,
    "start_time": "2022-09-17T14:45:23.095Z"
   },
   {
    "duration": 10,
    "start_time": "2022-09-17T14:45:23.137Z"
   },
   {
    "duration": 15,
    "start_time": "2022-09-17T14:45:23.148Z"
   },
   {
    "duration": 42,
    "start_time": "2022-09-17T14:45:23.164Z"
   },
   {
    "duration": 32,
    "start_time": "2022-09-17T14:45:23.208Z"
   },
   {
    "duration": 16,
    "start_time": "2022-09-17T14:45:23.242Z"
   },
   {
    "duration": 3,
    "start_time": "2022-09-17T14:45:23.260Z"
   },
   {
    "duration": 34,
    "start_time": "2022-09-17T14:45:23.265Z"
   },
   {
    "duration": 12,
    "start_time": "2022-09-17T14:45:23.301Z"
   },
   {
    "duration": 8,
    "start_time": "2022-09-17T14:45:23.314Z"
   },
   {
    "duration": 16,
    "start_time": "2022-09-17T14:45:23.324Z"
   },
   {
    "duration": 6,
    "start_time": "2022-09-17T14:45:23.342Z"
   },
   {
    "duration": 19,
    "start_time": "2022-09-17T14:45:23.350Z"
   },
   {
    "duration": 28,
    "start_time": "2022-09-17T14:45:23.371Z"
   },
   {
    "duration": 16,
    "start_time": "2022-09-17T14:45:23.401Z"
   },
   {
    "duration": 7,
    "start_time": "2022-09-17T14:45:23.418Z"
   },
   {
    "duration": 18,
    "start_time": "2022-09-17T14:45:23.426Z"
   },
   {
    "duration": 16,
    "start_time": "2022-09-17T14:45:23.447Z"
   },
   {
    "duration": 23,
    "start_time": "2022-09-17T14:45:23.464Z"
   },
   {
    "duration": 23,
    "start_time": "2022-09-17T14:45:23.488Z"
   },
   {
    "duration": 8,
    "start_time": "2022-09-17T14:45:23.513Z"
   },
   {
    "duration": 16,
    "start_time": "2022-09-17T14:45:23.522Z"
   },
   {
    "duration": 22,
    "start_time": "2022-09-17T14:45:23.540Z"
   },
   {
    "duration": 18,
    "start_time": "2022-09-17T14:45:23.564Z"
   },
   {
    "duration": 30,
    "start_time": "2022-09-17T14:45:23.584Z"
   },
   {
    "duration": 309,
    "start_time": "2022-09-17T14:45:23.617Z"
   },
   {
    "duration": 0,
    "start_time": "2022-09-17T14:45:23.930Z"
   },
   {
    "duration": 0,
    "start_time": "2022-09-17T14:45:23.931Z"
   },
   {
    "duration": 0,
    "start_time": "2022-09-17T14:45:23.933Z"
   },
   {
    "duration": 0,
    "start_time": "2022-09-17T14:45:23.934Z"
   },
   {
    "duration": 12,
    "start_time": "2022-09-17T14:45:51.206Z"
   },
   {
    "duration": 13,
    "start_time": "2022-09-17T14:45:53.266Z"
   },
   {
    "duration": 10,
    "start_time": "2022-09-17T14:45:56.204Z"
   },
   {
    "duration": 5,
    "start_time": "2022-09-17T14:46:35.640Z"
   },
   {
    "duration": 9,
    "start_time": "2022-09-17T14:46:36.920Z"
   },
   {
    "duration": 4,
    "start_time": "2022-09-17T14:46:37.720Z"
   },
   {
    "duration": 3,
    "start_time": "2022-09-17T14:48:33.145Z"
   },
   {
    "duration": 11,
    "start_time": "2022-09-17T14:48:47.677Z"
   },
   {
    "duration": 4,
    "start_time": "2022-09-17T14:49:54.000Z"
   },
   {
    "duration": 7,
    "start_time": "2022-09-17T14:50:09.572Z"
   },
   {
    "duration": 4,
    "start_time": "2022-09-17T14:50:46.137Z"
   },
   {
    "duration": 3,
    "start_time": "2022-09-17T14:50:55.046Z"
   },
   {
    "duration": 134,
    "start_time": "2022-09-17T14:52:41.515Z"
   },
   {
    "duration": 6,
    "start_time": "2022-09-17T14:53:31.909Z"
   },
   {
    "duration": 6,
    "start_time": "2022-09-17T14:53:50.708Z"
   },
   {
    "duration": 5,
    "start_time": "2022-09-17T14:53:58.924Z"
   },
   {
    "duration": 5,
    "start_time": "2022-09-17T14:54:07.348Z"
   },
   {
    "duration": 5,
    "start_time": "2022-09-17T14:54:13.733Z"
   },
   {
    "duration": 4,
    "start_time": "2022-09-17T14:54:32.624Z"
   },
   {
    "duration": 13,
    "start_time": "2022-09-17T14:56:37.474Z"
   },
   {
    "duration": 90,
    "start_time": "2022-09-17T14:57:05.313Z"
   },
   {
    "duration": 3,
    "start_time": "2022-09-17T14:57:14.663Z"
   },
   {
    "duration": 4,
    "start_time": "2022-09-17T14:58:01.952Z"
   },
   {
    "duration": 504,
    "start_time": "2022-09-17T14:58:36.164Z"
   },
   {
    "duration": 41,
    "start_time": "2022-09-17T14:58:36.670Z"
   },
   {
    "duration": 15,
    "start_time": "2022-09-17T14:58:36.713Z"
   },
   {
    "duration": 9,
    "start_time": "2022-09-17T14:58:36.731Z"
   },
   {
    "duration": 57,
    "start_time": "2022-09-17T14:58:36.742Z"
   },
   {
    "duration": 5,
    "start_time": "2022-09-17T14:58:36.802Z"
   },
   {
    "duration": 11,
    "start_time": "2022-09-17T14:58:36.810Z"
   },
   {
    "duration": 5,
    "start_time": "2022-09-17T14:58:36.822Z"
   },
   {
    "duration": 9,
    "start_time": "2022-09-17T14:58:36.829Z"
   },
   {
    "duration": 5,
    "start_time": "2022-09-17T14:58:36.841Z"
   },
   {
    "duration": 71,
    "start_time": "2022-09-17T14:58:36.848Z"
   },
   {
    "duration": 9,
    "start_time": "2022-09-17T14:58:36.921Z"
   },
   {
    "duration": 6,
    "start_time": "2022-09-17T14:58:36.932Z"
   },
   {
    "duration": 18,
    "start_time": "2022-09-17T14:58:36.941Z"
   },
   {
    "duration": 28,
    "start_time": "2022-09-17T14:58:36.960Z"
   },
   {
    "duration": 29,
    "start_time": "2022-09-17T14:58:36.991Z"
   },
   {
    "duration": 5,
    "start_time": "2022-09-17T14:58:37.022Z"
   },
   {
    "duration": 28,
    "start_time": "2022-09-17T14:58:37.029Z"
   },
   {
    "duration": 8,
    "start_time": "2022-09-17T14:58:37.059Z"
   },
   {
    "duration": 39,
    "start_time": "2022-09-17T14:58:37.069Z"
   },
   {
    "duration": 12,
    "start_time": "2022-09-17T14:58:37.110Z"
   },
   {
    "duration": 10,
    "start_time": "2022-09-17T14:58:37.124Z"
   },
   {
    "duration": 12,
    "start_time": "2022-09-17T14:58:37.136Z"
   },
   {
    "duration": 8,
    "start_time": "2022-09-17T14:58:37.150Z"
   },
   {
    "duration": 7,
    "start_time": "2022-09-17T14:58:37.160Z"
   },
   {
    "duration": 10,
    "start_time": "2022-09-17T14:58:37.169Z"
   },
   {
    "duration": 33,
    "start_time": "2022-09-17T14:58:37.181Z"
   },
   {
    "duration": 9,
    "start_time": "2022-09-17T14:58:37.217Z"
   },
   {
    "duration": 9,
    "start_time": "2022-09-17T14:58:37.228Z"
   },
   {
    "duration": 6,
    "start_time": "2022-09-17T14:58:37.238Z"
   },
   {
    "duration": 6,
    "start_time": "2022-09-17T14:58:37.246Z"
   },
   {
    "duration": 6,
    "start_time": "2022-09-17T14:58:37.253Z"
   },
   {
    "duration": 26,
    "start_time": "2022-09-17T14:58:37.261Z"
   },
   {
    "duration": 26,
    "start_time": "2022-09-17T14:58:37.289Z"
   },
   {
    "duration": 6,
    "start_time": "2022-09-17T14:58:37.316Z"
   },
   {
    "duration": 11,
    "start_time": "2022-09-17T14:58:37.323Z"
   },
   {
    "duration": 8,
    "start_time": "2022-09-17T14:58:37.336Z"
   },
   {
    "duration": 14,
    "start_time": "2022-09-17T14:58:37.345Z"
   },
   {
    "duration": 11,
    "start_time": "2022-09-17T14:58:37.361Z"
   },
   {
    "duration": 32,
    "start_time": "2022-09-17T14:58:37.373Z"
   },
   {
    "duration": 6,
    "start_time": "2022-09-17T14:59:34.252Z"
   },
   {
    "duration": 492,
    "start_time": "2022-09-17T14:59:45.764Z"
   },
   {
    "duration": 41,
    "start_time": "2022-09-17T14:59:46.258Z"
   },
   {
    "duration": 14,
    "start_time": "2022-09-17T14:59:46.304Z"
   },
   {
    "duration": 9,
    "start_time": "2022-09-17T14:59:46.320Z"
   },
   {
    "duration": 38,
    "start_time": "2022-09-17T14:59:46.330Z"
   },
   {
    "duration": 3,
    "start_time": "2022-09-17T14:59:46.370Z"
   },
   {
    "duration": 41,
    "start_time": "2022-09-17T14:59:46.374Z"
   },
   {
    "duration": 14,
    "start_time": "2022-09-17T14:59:46.417Z"
   },
   {
    "duration": 7,
    "start_time": "2022-09-17T14:59:46.433Z"
   },
   {
    "duration": 8,
    "start_time": "2022-09-17T14:59:46.443Z"
   },
   {
    "duration": 44,
    "start_time": "2022-09-17T14:59:46.453Z"
   },
   {
    "duration": 10,
    "start_time": "2022-09-17T14:59:46.500Z"
   },
   {
    "duration": 4,
    "start_time": "2022-09-17T14:59:46.512Z"
   },
   {
    "duration": 20,
    "start_time": "2022-09-17T14:59:46.518Z"
   },
   {
    "duration": 21,
    "start_time": "2022-09-17T14:59:46.540Z"
   },
   {
    "duration": 40,
    "start_time": "2022-09-17T14:59:46.563Z"
   },
   {
    "duration": 4,
    "start_time": "2022-09-17T14:59:46.604Z"
   },
   {
    "duration": 14,
    "start_time": "2022-09-17T14:59:46.609Z"
   },
   {
    "duration": 5,
    "start_time": "2022-09-17T14:59:46.624Z"
   },
   {
    "duration": 6,
    "start_time": "2022-09-17T14:59:46.631Z"
   },
   {
    "duration": 11,
    "start_time": "2022-09-17T14:59:46.638Z"
   },
   {
    "duration": 5,
    "start_time": "2022-09-17T14:59:46.651Z"
   },
   {
    "duration": 30,
    "start_time": "2022-09-17T14:59:46.657Z"
   },
   {
    "duration": 9,
    "start_time": "2022-09-17T14:59:46.688Z"
   },
   {
    "duration": 13,
    "start_time": "2022-09-17T14:59:46.699Z"
   },
   {
    "duration": 7,
    "start_time": "2022-09-17T14:59:46.714Z"
   },
   {
    "duration": 12,
    "start_time": "2022-09-17T14:59:46.723Z"
   },
   {
    "duration": 12,
    "start_time": "2022-09-17T14:59:46.738Z"
   },
   {
    "duration": 7,
    "start_time": "2022-09-17T14:59:46.751Z"
   },
   {
    "duration": 22,
    "start_time": "2022-09-17T14:59:46.759Z"
   },
   {
    "duration": 12,
    "start_time": "2022-09-17T14:59:46.783Z"
   },
   {
    "duration": 15,
    "start_time": "2022-09-17T14:59:46.797Z"
   },
   {
    "duration": 12,
    "start_time": "2022-09-17T14:59:46.813Z"
   },
   {
    "duration": 7,
    "start_time": "2022-09-17T14:59:46.827Z"
   },
   {
    "duration": 5,
    "start_time": "2022-09-17T14:59:46.836Z"
   },
   {
    "duration": 11,
    "start_time": "2022-09-17T14:59:46.843Z"
   },
   {
    "duration": 25,
    "start_time": "2022-09-17T14:59:46.856Z"
   },
   {
    "duration": 7,
    "start_time": "2022-09-17T14:59:46.882Z"
   },
   {
    "duration": 13,
    "start_time": "2022-09-17T14:59:46.896Z"
   },
   {
    "duration": 8,
    "start_time": "2022-09-17T14:59:46.911Z"
   },
   {
    "duration": 471,
    "start_time": "2022-09-17T15:04:32.795Z"
   },
   {
    "duration": 32,
    "start_time": "2022-09-17T15:04:33.268Z"
   },
   {
    "duration": 28,
    "start_time": "2022-09-17T15:04:33.302Z"
   },
   {
    "duration": 8,
    "start_time": "2022-09-17T15:04:33.333Z"
   },
   {
    "duration": 48,
    "start_time": "2022-09-17T15:04:33.343Z"
   },
   {
    "duration": 11,
    "start_time": "2022-09-17T15:04:33.392Z"
   },
   {
    "duration": 12,
    "start_time": "2022-09-17T15:04:33.406Z"
   },
   {
    "duration": 3,
    "start_time": "2022-09-17T15:04:33.420Z"
   },
   {
    "duration": 9,
    "start_time": "2022-09-17T15:04:33.425Z"
   },
   {
    "duration": 5,
    "start_time": "2022-09-17T15:04:33.436Z"
   },
   {
    "duration": 41,
    "start_time": "2022-09-17T15:04:33.442Z"
   },
   {
    "duration": 22,
    "start_time": "2022-09-17T15:04:33.484Z"
   },
   {
    "duration": 5,
    "start_time": "2022-09-17T15:04:33.508Z"
   },
   {
    "duration": 20,
    "start_time": "2022-09-17T15:04:33.515Z"
   },
   {
    "duration": 19,
    "start_time": "2022-09-17T15:04:33.536Z"
   },
   {
    "duration": 15,
    "start_time": "2022-09-17T15:04:33.556Z"
   },
   {
    "duration": 11,
    "start_time": "2022-09-17T15:04:33.577Z"
   },
   {
    "duration": 23,
    "start_time": "2022-09-17T15:04:33.591Z"
   },
   {
    "duration": 9,
    "start_time": "2022-09-17T15:04:33.616Z"
   },
   {
    "duration": 8,
    "start_time": "2022-09-17T15:04:33.626Z"
   },
   {
    "duration": 13,
    "start_time": "2022-09-17T15:04:33.635Z"
   },
   {
    "duration": 4,
    "start_time": "2022-09-17T15:04:33.650Z"
   },
   {
    "duration": 11,
    "start_time": "2022-09-17T15:04:33.655Z"
   },
   {
    "duration": 8,
    "start_time": "2022-09-17T15:04:33.667Z"
   },
   {
    "duration": 33,
    "start_time": "2022-09-17T15:04:33.679Z"
   },
   {
    "duration": 16,
    "start_time": "2022-09-17T15:04:33.713Z"
   },
   {
    "duration": 4,
    "start_time": "2022-09-17T15:04:33.731Z"
   },
   {
    "duration": 11,
    "start_time": "2022-09-17T15:04:33.736Z"
   },
   {
    "duration": 7,
    "start_time": "2022-09-17T15:04:33.748Z"
   },
   {
    "duration": 7,
    "start_time": "2022-09-17T15:04:33.756Z"
   },
   {
    "duration": 7,
    "start_time": "2022-09-17T15:04:33.765Z"
   },
   {
    "duration": 29,
    "start_time": "2022-09-17T15:04:33.774Z"
   },
   {
    "duration": 12,
    "start_time": "2022-09-17T15:04:33.805Z"
   },
   {
    "duration": 7,
    "start_time": "2022-09-17T15:04:33.818Z"
   },
   {
    "duration": 5,
    "start_time": "2022-09-17T15:04:33.826Z"
   },
   {
    "duration": 14,
    "start_time": "2022-09-17T15:04:33.832Z"
   },
   {
    "duration": 7,
    "start_time": "2022-09-17T15:04:33.847Z"
   },
   {
    "duration": 6,
    "start_time": "2022-09-17T15:04:33.856Z"
   },
   {
    "duration": 7,
    "start_time": "2022-09-17T15:04:33.863Z"
   },
   {
    "duration": 15,
    "start_time": "2022-09-17T15:04:33.872Z"
   },
   {
    "duration": 485,
    "start_time": "2022-09-17T15:23:59.110Z"
   },
   {
    "duration": 24,
    "start_time": "2022-09-17T15:23:59.597Z"
   },
   {
    "duration": 21,
    "start_time": "2022-09-17T15:23:59.623Z"
   },
   {
    "duration": 12,
    "start_time": "2022-09-17T15:23:59.646Z"
   },
   {
    "duration": 59,
    "start_time": "2022-09-17T15:23:59.660Z"
   },
   {
    "duration": 8,
    "start_time": "2022-09-17T15:23:59.720Z"
   },
   {
    "duration": 29,
    "start_time": "2022-09-17T15:23:59.730Z"
   },
   {
    "duration": 52,
    "start_time": "2022-09-17T15:23:59.761Z"
   },
   {
    "duration": 17,
    "start_time": "2022-09-17T15:23:59.815Z"
   },
   {
    "duration": 18,
    "start_time": "2022-09-17T15:23:59.837Z"
   },
   {
    "duration": 86,
    "start_time": "2022-09-17T15:23:59.857Z"
   },
   {
    "duration": 9,
    "start_time": "2022-09-17T15:23:59.945Z"
   },
   {
    "duration": 39,
    "start_time": "2022-09-17T15:23:59.955Z"
   },
   {
    "duration": 41,
    "start_time": "2022-09-17T15:24:00.000Z"
   },
   {
    "duration": 61,
    "start_time": "2022-09-17T15:24:00.042Z"
   },
   {
    "duration": 24,
    "start_time": "2022-09-17T15:24:00.108Z"
   },
   {
    "duration": 25,
    "start_time": "2022-09-17T15:24:00.133Z"
   },
   {
    "duration": 54,
    "start_time": "2022-09-17T15:24:00.159Z"
   },
   {
    "duration": 38,
    "start_time": "2022-09-17T15:24:00.215Z"
   },
   {
    "duration": 49,
    "start_time": "2022-09-17T15:24:00.254Z"
   },
   {
    "duration": 34,
    "start_time": "2022-09-17T15:24:00.305Z"
   },
   {
    "duration": 32,
    "start_time": "2022-09-17T15:24:00.340Z"
   },
   {
    "duration": 50,
    "start_time": "2022-09-17T15:24:00.373Z"
   },
   {
    "duration": 44,
    "start_time": "2022-09-17T15:24:00.425Z"
   },
   {
    "duration": 56,
    "start_time": "2022-09-17T15:24:00.471Z"
   },
   {
    "duration": 40,
    "start_time": "2022-09-17T15:24:00.529Z"
   },
   {
    "duration": 53,
    "start_time": "2022-09-17T15:24:00.571Z"
   },
   {
    "duration": 40,
    "start_time": "2022-09-17T15:24:00.627Z"
   },
   {
    "duration": 41,
    "start_time": "2022-09-17T15:24:00.669Z"
   },
   {
    "duration": 28,
    "start_time": "2022-09-17T15:24:00.712Z"
   },
   {
    "duration": 23,
    "start_time": "2022-09-17T15:24:00.741Z"
   },
   {
    "duration": 44,
    "start_time": "2022-09-17T15:24:00.765Z"
   },
   {
    "duration": 17,
    "start_time": "2022-09-17T15:24:00.812Z"
   },
   {
    "duration": 13,
    "start_time": "2022-09-17T15:24:00.832Z"
   },
   {
    "duration": 32,
    "start_time": "2022-09-17T15:24:00.847Z"
   },
   {
    "duration": 36,
    "start_time": "2022-09-17T15:24:00.881Z"
   },
   {
    "duration": 34,
    "start_time": "2022-09-17T15:24:00.919Z"
   },
   {
    "duration": 15,
    "start_time": "2022-09-17T15:24:00.955Z"
   },
   {
    "duration": 56,
    "start_time": "2022-09-17T15:24:00.971Z"
   },
   {
    "duration": 16,
    "start_time": "2022-09-17T15:24:01.029Z"
   },
   {
    "duration": 56,
    "start_time": "2022-09-17T19:24:35.138Z"
   },
   {
    "duration": 714,
    "start_time": "2022-09-17T19:25:09.601Z"
   },
   {
    "duration": 22,
    "start_time": "2022-09-17T19:25:10.317Z"
   },
   {
    "duration": 27,
    "start_time": "2022-09-17T19:25:10.341Z"
   },
   {
    "duration": 15,
    "start_time": "2022-09-17T19:25:10.372Z"
   },
   {
    "duration": 41,
    "start_time": "2022-09-17T19:25:10.389Z"
   },
   {
    "duration": 4,
    "start_time": "2022-09-17T19:25:10.431Z"
   },
   {
    "duration": 18,
    "start_time": "2022-09-17T19:25:10.436Z"
   },
   {
    "duration": 25,
    "start_time": "2022-09-17T19:25:10.455Z"
   },
   {
    "duration": 12,
    "start_time": "2022-09-17T19:25:10.481Z"
   },
   {
    "duration": 4,
    "start_time": "2022-09-17T19:25:10.495Z"
   },
   {
    "duration": 42,
    "start_time": "2022-09-17T19:25:10.500Z"
   },
   {
    "duration": 16,
    "start_time": "2022-09-17T19:25:10.544Z"
   },
   {
    "duration": 13,
    "start_time": "2022-09-17T19:25:10.562Z"
   },
   {
    "duration": 16,
    "start_time": "2022-09-17T19:25:10.576Z"
   },
   {
    "duration": 20,
    "start_time": "2022-09-17T19:25:10.593Z"
   },
   {
    "duration": 16,
    "start_time": "2022-09-17T19:25:10.615Z"
   },
   {
    "duration": 16,
    "start_time": "2022-09-17T19:25:10.633Z"
   },
   {
    "duration": 26,
    "start_time": "2022-09-17T19:25:10.651Z"
   },
   {
    "duration": 11,
    "start_time": "2022-09-17T19:25:10.679Z"
   },
   {
    "duration": 4,
    "start_time": "2022-09-17T19:25:10.692Z"
   },
   {
    "duration": 17,
    "start_time": "2022-09-17T19:25:10.698Z"
   },
   {
    "duration": 2,
    "start_time": "2022-09-17T19:25:10.717Z"
   },
   {
    "duration": 9,
    "start_time": "2022-09-17T19:25:10.721Z"
   },
   {
    "duration": 17,
    "start_time": "2022-09-17T19:25:10.747Z"
   },
   {
    "duration": 11,
    "start_time": "2022-09-17T19:25:10.766Z"
   },
   {
    "duration": 11,
    "start_time": "2022-09-17T19:25:10.779Z"
   },
   {
    "duration": 5,
    "start_time": "2022-09-17T19:25:10.792Z"
   },
   {
    "duration": 8,
    "start_time": "2022-09-17T19:25:10.800Z"
   },
   {
    "duration": 14,
    "start_time": "2022-09-17T19:25:10.809Z"
   },
   {
    "duration": 24,
    "start_time": "2022-09-17T19:25:10.825Z"
   },
   {
    "duration": 14,
    "start_time": "2022-09-17T19:25:10.851Z"
   },
   {
    "duration": 16,
    "start_time": "2022-09-17T19:25:10.874Z"
   },
   {
    "duration": 11,
    "start_time": "2022-09-17T19:25:10.892Z"
   },
   {
    "duration": 13,
    "start_time": "2022-09-17T19:25:10.905Z"
   },
   {
    "duration": 11,
    "start_time": "2022-09-17T19:25:10.920Z"
   },
   {
    "duration": 11,
    "start_time": "2022-09-17T19:25:10.933Z"
   },
   {
    "duration": 48,
    "start_time": "2022-09-17T19:25:10.946Z"
   },
   {
    "duration": 21,
    "start_time": "2022-09-17T19:25:10.996Z"
   },
   {
    "duration": 21,
    "start_time": "2022-09-17T19:25:11.019Z"
   },
   {
    "duration": 19,
    "start_time": "2022-09-17T19:25:11.042Z"
   },
   {
    "duration": 18,
    "start_time": "2022-09-17T19:25:11.062Z"
   },
   {
    "duration": 74,
    "start_time": "2022-09-17T19:25:38.527Z"
   },
   {
    "duration": 23,
    "start_time": "2022-09-17T19:25:54.441Z"
   },
   {
    "duration": 15,
    "start_time": "2022-09-17T19:26:13.502Z"
   },
   {
    "duration": 9,
    "start_time": "2022-09-17T19:27:21.173Z"
   },
   {
    "duration": 15,
    "start_time": "2022-09-17T19:27:43.119Z"
   },
   {
    "duration": 9,
    "start_time": "2022-09-17T19:27:43.675Z"
   },
   {
    "duration": 7,
    "start_time": "2022-09-17T19:28:08.593Z"
   },
   {
    "duration": 13,
    "start_time": "2022-09-17T19:29:31.468Z"
   },
   {
    "duration": 5,
    "start_time": "2022-09-17T19:29:32.365Z"
   },
   {
    "duration": 18,
    "start_time": "2022-09-17T19:29:47.758Z"
   },
   {
    "duration": 4,
    "start_time": "2022-09-17T19:29:48.877Z"
   },
   {
    "duration": 15,
    "start_time": "2022-09-17T19:30:01.769Z"
   },
   {
    "duration": 7,
    "start_time": "2022-09-17T19:30:02.853Z"
   },
   {
    "duration": 8,
    "start_time": "2022-09-17T20:13:20.220Z"
   },
   {
    "duration": 565,
    "start_time": "2022-09-17T20:13:49.997Z"
   },
   {
    "duration": 102,
    "start_time": "2022-09-17T20:14:15.409Z"
   },
   {
    "duration": 150,
    "start_time": "2022-09-17T20:15:57.818Z"
   },
   {
    "duration": 16,
    "start_time": "2022-09-17T20:26:11.823Z"
   },
   {
    "duration": 6,
    "start_time": "2022-09-17T20:26:12.241Z"
   },
   {
    "duration": 15,
    "start_time": "2022-09-17T20:26:20.216Z"
   },
   {
    "duration": 5,
    "start_time": "2022-09-17T20:26:21.008Z"
   },
   {
    "duration": 15,
    "start_time": "2022-09-17T20:26:32.608Z"
   },
   {
    "duration": 17,
    "start_time": "2022-09-17T20:26:41.998Z"
   },
   {
    "duration": 8,
    "start_time": "2022-09-17T20:26:42.555Z"
   },
   {
    "duration": 7,
    "start_time": "2022-09-17T20:26:48.106Z"
   },
   {
    "duration": 6,
    "start_time": "2022-09-17T20:26:48.666Z"
   },
   {
    "duration": 18,
    "start_time": "2022-09-17T20:27:06.379Z"
   },
   {
    "duration": 15,
    "start_time": "2022-09-17T20:33:33.265Z"
   },
   {
    "duration": 6,
    "start_time": "2022-09-17T20:33:34.371Z"
   },
   {
    "duration": 84,
    "start_time": "2022-09-17T20:34:03.005Z"
   },
   {
    "duration": 5,
    "start_time": "2022-09-17T20:34:03.888Z"
   },
   {
    "duration": 17,
    "start_time": "2022-09-17T20:35:19.055Z"
   },
   {
    "duration": 3,
    "start_time": "2022-09-17T20:35:44.937Z"
   },
   {
    "duration": 4,
    "start_time": "2022-09-17T20:35:53.334Z"
   },
   {
    "duration": 19,
    "start_time": "2022-09-17T20:36:03.543Z"
   },
   {
    "duration": 13,
    "start_time": "2022-09-17T20:36:18.313Z"
   },
   {
    "duration": 53,
    "start_time": "2022-09-17T20:37:40.292Z"
   },
   {
    "duration": 16,
    "start_time": "2022-09-17T20:37:49.535Z"
   },
   {
    "duration": 6,
    "start_time": "2022-09-17T20:37:50.913Z"
   },
   {
    "duration": 56,
    "start_time": "2022-09-18T07:32:28.877Z"
   },
   {
    "duration": 8,
    "start_time": "2022-09-18T07:32:35.943Z"
   },
   {
    "duration": 610,
    "start_time": "2022-09-18T07:32:42.906Z"
   },
   {
    "duration": 50,
    "start_time": "2022-09-18T07:32:43.518Z"
   },
   {
    "duration": 30,
    "start_time": "2022-09-18T07:32:43.570Z"
   },
   {
    "duration": 8,
    "start_time": "2022-09-18T07:32:43.601Z"
   },
   {
    "duration": 56,
    "start_time": "2022-09-18T07:32:43.611Z"
   },
   {
    "duration": 5,
    "start_time": "2022-09-18T07:32:43.669Z"
   },
   {
    "duration": 10,
    "start_time": "2022-09-18T07:32:43.676Z"
   },
   {
    "duration": 6,
    "start_time": "2022-09-18T07:32:43.688Z"
   },
   {
    "duration": 9,
    "start_time": "2022-09-18T07:32:43.695Z"
   },
   {
    "duration": 21,
    "start_time": "2022-09-18T07:32:43.706Z"
   },
   {
    "duration": 73,
    "start_time": "2022-09-18T07:32:43.729Z"
   },
   {
    "duration": 9,
    "start_time": "2022-09-18T07:32:43.803Z"
   },
   {
    "duration": 4,
    "start_time": "2022-09-18T07:32:43.814Z"
   },
   {
    "duration": 60,
    "start_time": "2022-09-18T07:32:43.825Z"
   },
   {
    "duration": 21,
    "start_time": "2022-09-18T07:32:43.887Z"
   },
   {
    "duration": 25,
    "start_time": "2022-09-18T07:32:43.910Z"
   },
   {
    "duration": 6,
    "start_time": "2022-09-18T07:32:43.941Z"
   },
   {
    "duration": 31,
    "start_time": "2022-09-18T07:32:43.953Z"
   },
   {
    "duration": 10,
    "start_time": "2022-09-18T07:32:43.985Z"
   },
   {
    "duration": 6,
    "start_time": "2022-09-18T07:32:43.996Z"
   },
   {
    "duration": 27,
    "start_time": "2022-09-18T07:32:44.004Z"
   },
   {
    "duration": 59,
    "start_time": "2022-09-18T07:32:44.041Z"
   },
   {
    "duration": 5,
    "start_time": "2022-09-18T07:32:44.102Z"
   },
   {
    "duration": 606,
    "start_time": "2022-09-18T07:32:44.109Z"
   },
   {
    "duration": 16,
    "start_time": "2022-09-18T07:32:44.717Z"
   },
   {
    "duration": 170,
    "start_time": "2022-09-18T07:32:44.735Z"
   },
   {
    "duration": 11,
    "start_time": "2022-09-18T07:32:44.907Z"
   },
   {
    "duration": 22,
    "start_time": "2022-09-18T07:32:44.920Z"
   },
   {
    "duration": 35,
    "start_time": "2022-09-18T07:32:44.949Z"
   },
   {
    "duration": 9,
    "start_time": "2022-09-18T07:32:44.985Z"
   },
   {
    "duration": 8,
    "start_time": "2022-09-18T07:32:44.996Z"
   },
   {
    "duration": 11,
    "start_time": "2022-09-18T07:32:45.006Z"
   },
   {
    "duration": 55,
    "start_time": "2022-09-18T07:32:45.018Z"
   },
   {
    "duration": 13,
    "start_time": "2022-09-18T07:32:45.075Z"
   },
   {
    "duration": 6,
    "start_time": "2022-09-18T07:32:45.090Z"
   },
   {
    "duration": 5,
    "start_time": "2022-09-18T07:32:45.097Z"
   },
   {
    "duration": 8,
    "start_time": "2022-09-18T07:32:45.104Z"
   },
   {
    "duration": 14,
    "start_time": "2022-09-18T07:32:45.114Z"
   },
   {
    "duration": 40,
    "start_time": "2022-09-18T07:32:45.131Z"
   },
   {
    "duration": 11,
    "start_time": "2022-09-18T07:32:45.173Z"
   },
   {
    "duration": 7,
    "start_time": "2022-09-18T07:32:45.187Z"
   },
   {
    "duration": 8,
    "start_time": "2022-09-18T07:32:45.196Z"
   },
   {
    "duration": 8,
    "start_time": "2022-09-18T07:32:45.206Z"
   },
   {
    "duration": 5,
    "start_time": "2022-09-18T07:32:45.215Z"
   },
   {
    "duration": 101,
    "start_time": "2022-09-18T07:36:03.510Z"
   },
   {
    "duration": 20,
    "start_time": "2022-09-18T07:36:09.573Z"
   },
   {
    "duration": 34,
    "start_time": "2022-09-18T07:38:11.959Z"
   },
   {
    "duration": 8,
    "start_time": "2022-09-18T07:38:31.396Z"
   },
   {
    "duration": 10,
    "start_time": "2022-09-18T07:38:36.559Z"
   },
   {
    "duration": 41,
    "start_time": "2022-09-18T07:43:07.012Z"
   },
   {
    "duration": 23,
    "start_time": "2022-09-18T07:43:37.509Z"
   },
   {
    "duration": 8,
    "start_time": "2022-09-18T07:43:39.194Z"
   },
   {
    "duration": 9,
    "start_time": "2022-09-18T07:45:34.153Z"
   },
   {
    "duration": 3,
    "start_time": "2022-09-18T07:46:40.501Z"
   },
   {
    "duration": 4,
    "start_time": "2022-09-18T07:47:05.660Z"
   },
   {
    "duration": 5,
    "start_time": "2022-09-18T07:47:11.768Z"
   },
   {
    "duration": 4,
    "start_time": "2022-09-18T07:47:20.696Z"
   },
   {
    "duration": 3,
    "start_time": "2022-09-18T07:47:26.640Z"
   },
   {
    "duration": 2,
    "start_time": "2022-09-18T07:48:01.818Z"
   },
   {
    "duration": 3,
    "start_time": "2022-09-18T07:48:09.794Z"
   },
   {
    "duration": 4,
    "start_time": "2022-09-18T07:48:13.766Z"
   },
   {
    "duration": 1749,
    "start_time": "2022-09-18T07:51:00.592Z"
   },
   {
    "duration": 13,
    "start_time": "2022-09-18T07:51:16.727Z"
   },
   {
    "duration": 22,
    "start_time": "2022-09-18T07:51:31.541Z"
   },
   {
    "duration": 10,
    "start_time": "2022-09-18T07:51:57.336Z"
   },
   {
    "duration": 7,
    "start_time": "2022-09-18T07:52:22.967Z"
   },
   {
    "duration": 73,
    "start_time": "2022-09-18T07:53:33.843Z"
   },
   {
    "duration": 93,
    "start_time": "2022-09-18T07:53:44.675Z"
   },
   {
    "duration": 90,
    "start_time": "2022-09-18T07:53:57.118Z"
   },
   {
    "duration": 87,
    "start_time": "2022-09-18T07:54:29.055Z"
   },
   {
    "duration": 100,
    "start_time": "2022-09-18T07:54:33.700Z"
   },
   {
    "duration": 7,
    "start_time": "2022-09-18T07:55:22.657Z"
   },
   {
    "duration": 8,
    "start_time": "2022-09-18T07:55:46.102Z"
   },
   {
    "duration": 7,
    "start_time": "2022-09-18T07:55:58.945Z"
   },
   {
    "duration": 12,
    "start_time": "2022-09-18T07:56:10.131Z"
   },
   {
    "duration": 6,
    "start_time": "2022-09-18T07:56:26.620Z"
   },
   {
    "duration": 8,
    "start_time": "2022-09-18T07:57:27.746Z"
   },
   {
    "duration": 7,
    "start_time": "2022-09-18T07:57:36.268Z"
   },
   {
    "duration": 13,
    "start_time": "2022-09-18T07:58:22.261Z"
   },
   {
    "duration": 5,
    "start_time": "2022-09-18T07:59:04.642Z"
   },
   {
    "duration": 9,
    "start_time": "2022-09-18T07:59:11.627Z"
   },
   {
    "duration": 8,
    "start_time": "2022-09-18T07:59:16.643Z"
   },
   {
    "duration": 24,
    "start_time": "2022-09-18T08:00:55.343Z"
   },
   {
    "duration": 11,
    "start_time": "2022-09-18T08:00:56.273Z"
   },
   {
    "duration": 18,
    "start_time": "2022-09-18T08:01:13.868Z"
   },
   {
    "duration": 20,
    "start_time": "2022-09-18T08:01:14.521Z"
   },
   {
    "duration": 6,
    "start_time": "2022-09-18T08:01:24.375Z"
   },
   {
    "duration": 6,
    "start_time": "2022-09-18T08:01:25.197Z"
   },
   {
    "duration": 7,
    "start_time": "2022-09-18T08:03:26.839Z"
   },
   {
    "duration": 11,
    "start_time": "2022-09-18T08:03:44.518Z"
   },
   {
    "duration": 6,
    "start_time": "2022-09-18T08:04:50.950Z"
   },
   {
    "duration": 7,
    "start_time": "2022-09-18T08:04:58.712Z"
   },
   {
    "duration": 7,
    "start_time": "2022-09-18T08:05:03.574Z"
   },
   {
    "duration": 11,
    "start_time": "2022-09-18T08:05:10.221Z"
   },
   {
    "duration": 11,
    "start_time": "2022-09-18T08:05:15.731Z"
   },
   {
    "duration": 8,
    "start_time": "2022-09-18T08:05:26.516Z"
   },
   {
    "duration": 7,
    "start_time": "2022-09-18T08:05:35.613Z"
   },
   {
    "duration": 24,
    "start_time": "2022-09-18T08:11:32.657Z"
   },
   {
    "duration": 21,
    "start_time": "2022-09-18T08:11:33.149Z"
   },
   {
    "duration": 62,
    "start_time": "2022-09-18T08:11:42.649Z"
   },
   {
    "duration": 8,
    "start_time": "2022-09-18T08:12:39.013Z"
   },
   {
    "duration": 21,
    "start_time": "2022-09-18T08:12:44.653Z"
   },
   {
    "duration": 5,
    "start_time": "2022-09-18T08:20:56.085Z"
   },
   {
    "duration": 12,
    "start_time": "2022-09-18T08:21:21.348Z"
   },
   {
    "duration": 9,
    "start_time": "2022-09-18T08:21:47.893Z"
   },
   {
    "duration": 11,
    "start_time": "2022-09-18T08:22:46.037Z"
   },
   {
    "duration": 11,
    "start_time": "2022-09-18T08:23:11.455Z"
   },
   {
    "duration": 25,
    "start_time": "2022-09-18T08:23:17.512Z"
   },
   {
    "duration": 9,
    "start_time": "2022-09-18T08:23:18.016Z"
   },
   {
    "duration": 16,
    "start_time": "2022-09-18T08:24:21.642Z"
   },
   {
    "duration": 8,
    "start_time": "2022-09-18T08:24:36.815Z"
   },
   {
    "duration": 7,
    "start_time": "2022-09-18T08:25:06.763Z"
   },
   {
    "duration": 89,
    "start_time": "2022-09-18T08:25:40.213Z"
   },
   {
    "duration": 5,
    "start_time": "2022-09-18T08:25:47.048Z"
   },
   {
    "duration": 12,
    "start_time": "2022-09-18T08:25:51.462Z"
   },
   {
    "duration": 894,
    "start_time": "2022-09-18T08:30:12.384Z"
   },
   {
    "duration": 13,
    "start_time": "2022-09-18T08:30:13.744Z"
   },
   {
    "duration": 895,
    "start_time": "2022-09-18T08:32:32.803Z"
   },
   {
    "duration": 26,
    "start_time": "2022-09-18T08:33:37.405Z"
   },
   {
    "duration": 9,
    "start_time": "2022-09-18T08:33:40.093Z"
   },
   {
    "duration": 38,
    "start_time": "2022-09-18T08:35:57.220Z"
   },
   {
    "duration": 27,
    "start_time": "2022-09-18T08:36:11.506Z"
   },
   {
    "duration": 12,
    "start_time": "2022-09-18T08:36:28.372Z"
   },
   {
    "duration": 29,
    "start_time": "2022-09-18T08:37:38.109Z"
   },
   {
    "duration": 10,
    "start_time": "2022-09-18T08:37:39.303Z"
   },
   {
    "duration": 9,
    "start_time": "2022-09-18T08:37:43.297Z"
   },
   {
    "duration": 10,
    "start_time": "2022-09-18T08:38:06.369Z"
   },
   {
    "duration": 7,
    "start_time": "2022-09-18T08:38:15.103Z"
   },
   {
    "duration": 10,
    "start_time": "2022-09-18T08:38:25.148Z"
   },
   {
    "duration": 27,
    "start_time": "2022-09-18T08:38:31.180Z"
   },
   {
    "duration": 26,
    "start_time": "2022-09-18T08:38:44.628Z"
   },
   {
    "duration": 45,
    "start_time": "2022-09-18T08:40:05.043Z"
   },
   {
    "duration": 16,
    "start_time": "2022-09-18T08:40:06.664Z"
   },
   {
    "duration": 8,
    "start_time": "2022-09-18T08:40:12.080Z"
   },
   {
    "duration": 8,
    "start_time": "2022-09-18T08:40:17.868Z"
   },
   {
    "duration": 15,
    "start_time": "2022-09-18T08:40:31.717Z"
   },
   {
    "duration": 6,
    "start_time": "2022-09-18T08:40:37.610Z"
   },
   {
    "duration": 12,
    "start_time": "2022-09-18T08:40:44.235Z"
   },
   {
    "duration": 12,
    "start_time": "2022-09-18T08:44:56.656Z"
   },
   {
    "duration": 4,
    "start_time": "2022-09-18T09:13:08.777Z"
   },
   {
    "duration": 4,
    "start_time": "2022-09-18T09:20:00.770Z"
   },
   {
    "duration": 3,
    "start_time": "2022-09-18T09:23:33.125Z"
   },
   {
    "duration": 4,
    "start_time": "2022-09-18T09:24:29.365Z"
   },
   {
    "duration": 3,
    "start_time": "2022-09-18T09:24:32.119Z"
   },
   {
    "duration": 6,
    "start_time": "2022-09-18T09:24:53.282Z"
   },
   {
    "duration": 5,
    "start_time": "2022-09-18T09:25:03.961Z"
   },
   {
    "duration": 124,
    "start_time": "2022-09-18T09:25:04.589Z"
   },
   {
    "duration": 5,
    "start_time": "2022-09-18T09:26:48.877Z"
   },
   {
    "duration": 4,
    "start_time": "2022-09-18T09:26:50.926Z"
   },
   {
    "duration": 17,
    "start_time": "2022-09-18T09:27:28.556Z"
   },
   {
    "duration": 7,
    "start_time": "2022-09-18T09:28:02.983Z"
   },
   {
    "duration": 6,
    "start_time": "2022-09-18T09:29:12.392Z"
   },
   {
    "duration": 3,
    "start_time": "2022-09-18T09:30:32.709Z"
   },
   {
    "duration": 9,
    "start_time": "2022-09-18T09:30:39.774Z"
   },
   {
    "duration": 4,
    "start_time": "2022-09-18T09:37:50.269Z"
   },
   {
    "duration": 17,
    "start_time": "2022-09-18T09:37:57.898Z"
   },
   {
    "duration": 6,
    "start_time": "2022-09-18T09:37:58.443Z"
   },
   {
    "duration": 3,
    "start_time": "2022-09-18T09:41:02.503Z"
   },
   {
    "duration": 5,
    "start_time": "2022-09-18T09:41:05.865Z"
   },
   {
    "duration": 153,
    "start_time": "2022-09-18T09:41:08.343Z"
   },
   {
    "duration": 30,
    "start_time": "2022-09-18T09:41:23.210Z"
   },
   {
    "duration": 7,
    "start_time": "2022-09-18T09:41:28.042Z"
   },
   {
    "duration": 147,
    "start_time": "2022-09-18T09:43:32.537Z"
   },
   {
    "duration": 79,
    "start_time": "2022-09-18T09:44:04.875Z"
   },
   {
    "duration": 4,
    "start_time": "2022-09-18T09:45:47.037Z"
   },
   {
    "duration": 5,
    "start_time": "2022-09-18T09:45:51.238Z"
   },
   {
    "duration": 5,
    "start_time": "2022-09-18T09:45:54.839Z"
   },
   {
    "duration": 3,
    "start_time": "2022-09-18T09:45:56.813Z"
   },
   {
    "duration": 6,
    "start_time": "2022-09-18T09:46:01.459Z"
   },
   {
    "duration": 152,
    "start_time": "2022-09-18T09:46:02.208Z"
   },
   {
    "duration": 10,
    "start_time": "2022-09-18T09:49:37.418Z"
   },
   {
    "duration": 10,
    "start_time": "2022-09-18T09:49:50.412Z"
   },
   {
    "duration": 22,
    "start_time": "2022-09-18T09:51:40.077Z"
   },
   {
    "duration": 26,
    "start_time": "2022-09-18T09:51:56.672Z"
   },
   {
    "duration": 7,
    "start_time": "2022-09-18T09:52:27.463Z"
   },
   {
    "duration": 18,
    "start_time": "2022-09-18T09:55:40.959Z"
   },
   {
    "duration": 7,
    "start_time": "2022-09-18T09:56:16.458Z"
   },
   {
    "duration": 3,
    "start_time": "2022-09-18T09:58:26.379Z"
   },
   {
    "duration": 6,
    "start_time": "2022-09-18T09:58:27.853Z"
   },
   {
    "duration": 122,
    "start_time": "2022-09-18T09:58:28.618Z"
   },
   {
    "duration": 16,
    "start_time": "2022-09-18T09:58:30.835Z"
   },
   {
    "duration": 10,
    "start_time": "2022-09-18T09:58:34.028Z"
   },
   {
    "duration": 17,
    "start_time": "2022-09-18T09:59:01.146Z"
   },
   {
    "duration": 7,
    "start_time": "2022-09-18T09:59:01.632Z"
   },
   {
    "duration": 3,
    "start_time": "2022-09-18T10:00:03.664Z"
   },
   {
    "duration": 4,
    "start_time": "2022-09-18T10:00:05.282Z"
   },
   {
    "duration": 106,
    "start_time": "2022-09-18T10:00:05.867Z"
   },
   {
    "duration": 18,
    "start_time": "2022-09-18T10:00:08.275Z"
   },
   {
    "duration": 7,
    "start_time": "2022-09-18T10:00:09.634Z"
   },
   {
    "duration": 3,
    "start_time": "2022-09-18T10:01:24.002Z"
   },
   {
    "duration": 8,
    "start_time": "2022-09-18T10:01:24.634Z"
   },
   {
    "duration": 18,
    "start_time": "2022-09-18T10:01:25.173Z"
   },
   {
    "duration": 6,
    "start_time": "2022-09-18T10:01:26.148Z"
   },
   {
    "duration": 8,
    "start_time": "2022-09-18T10:02:45.630Z"
   },
   {
    "duration": 4,
    "start_time": "2022-09-18T10:02:46.171Z"
   },
   {
    "duration": 9,
    "start_time": "2022-09-18T10:02:47.337Z"
   },
   {
    "duration": 18,
    "start_time": "2022-09-18T10:02:49.784Z"
   },
   {
    "duration": 6,
    "start_time": "2022-09-18T10:02:50.546Z"
   },
   {
    "duration": 21,
    "start_time": "2022-09-18T10:04:50.449Z"
   },
   {
    "duration": 17,
    "start_time": "2022-09-18T10:06:12.574Z"
   },
   {
    "duration": 6,
    "start_time": "2022-09-18T10:06:13.172Z"
   },
   {
    "duration": 11,
    "start_time": "2022-09-18T10:13:24.755Z"
   },
   {
    "duration": 1299,
    "start_time": "2022-09-18T10:13:56.850Z"
   },
   {
    "duration": 109,
    "start_time": "2022-09-18T10:14:23.248Z"
   },
   {
    "duration": 133,
    "start_time": "2022-09-18T10:40:17.806Z"
   },
   {
    "duration": 19,
    "start_time": "2022-09-18T10:43:12.650Z"
   },
   {
    "duration": 6,
    "start_time": "2022-09-18T10:44:04.255Z"
   },
   {
    "duration": 132,
    "start_time": "2022-09-18T10:46:17.817Z"
   },
   {
    "duration": 526,
    "start_time": "2022-09-18T10:49:36.102Z"
   },
   {
    "duration": 22,
    "start_time": "2022-09-18T10:49:36.630Z"
   },
   {
    "duration": 14,
    "start_time": "2022-09-18T10:49:36.653Z"
   },
   {
    "duration": 8,
    "start_time": "2022-09-18T10:49:36.668Z"
   },
   {
    "duration": 32,
    "start_time": "2022-09-18T10:49:36.678Z"
   },
   {
    "duration": 6,
    "start_time": "2022-09-18T10:49:36.721Z"
   },
   {
    "duration": 35,
    "start_time": "2022-09-18T10:49:36.728Z"
   },
   {
    "duration": 11,
    "start_time": "2022-09-18T10:49:36.765Z"
   },
   {
    "duration": 12,
    "start_time": "2022-09-18T10:49:36.778Z"
   },
   {
    "duration": 4,
    "start_time": "2022-09-18T10:49:36.792Z"
   },
   {
    "duration": 41,
    "start_time": "2022-09-18T10:49:36.798Z"
   },
   {
    "duration": 10,
    "start_time": "2022-09-18T10:49:36.841Z"
   },
   {
    "duration": 3,
    "start_time": "2022-09-18T10:49:36.853Z"
   },
   {
    "duration": 12,
    "start_time": "2022-09-18T10:49:36.859Z"
   },
   {
    "duration": 19,
    "start_time": "2022-09-18T10:49:36.873Z"
   },
   {
    "duration": 46,
    "start_time": "2022-09-18T10:49:36.894Z"
   },
   {
    "duration": 3,
    "start_time": "2022-09-18T10:49:36.942Z"
   },
   {
    "duration": 16,
    "start_time": "2022-09-18T10:49:36.947Z"
   },
   {
    "duration": 8,
    "start_time": "2022-09-18T10:49:36.965Z"
   },
   {
    "duration": 4,
    "start_time": "2022-09-18T10:49:36.975Z"
   },
   {
    "duration": 10,
    "start_time": "2022-09-18T10:49:36.980Z"
   },
   {
    "duration": 4,
    "start_time": "2022-09-18T10:49:36.992Z"
   },
   {
    "duration": 39,
    "start_time": "2022-09-18T10:49:36.997Z"
   },
   {
    "duration": 8,
    "start_time": "2022-09-18T10:49:37.037Z"
   },
   {
    "duration": 374,
    "start_time": "2022-09-18T10:49:37.046Z"
   },
   {
    "duration": 34,
    "start_time": "2022-09-18T10:49:37.421Z"
   },
   {
    "duration": 41,
    "start_time": "2022-09-18T10:49:37.457Z"
   },
   {
    "duration": 3,
    "start_time": "2022-09-18T10:49:37.500Z"
   },
   {
    "duration": 35,
    "start_time": "2022-09-18T10:49:37.504Z"
   },
   {
    "duration": 24,
    "start_time": "2022-09-18T10:49:37.541Z"
   },
   {
    "duration": 6,
    "start_time": "2022-09-18T10:49:37.567Z"
   },
   {
    "duration": 6,
    "start_time": "2022-09-18T10:49:37.575Z"
   },
   {
    "duration": 5,
    "start_time": "2022-09-18T10:49:37.583Z"
   },
   {
    "duration": 9,
    "start_time": "2022-09-18T10:49:37.589Z"
   },
   {
    "duration": 51,
    "start_time": "2022-09-18T10:49:37.600Z"
   },
   {
    "duration": 7,
    "start_time": "2022-09-18T10:49:37.654Z"
   },
   {
    "duration": 20,
    "start_time": "2022-09-18T10:49:37.663Z"
   },
   {
    "duration": 6,
    "start_time": "2022-09-18T10:49:37.684Z"
   },
   {
    "duration": 150,
    "start_time": "2022-09-18T10:49:37.691Z"
   },
   {
    "duration": 5,
    "start_time": "2022-09-18T10:49:37.843Z"
   },
   {
    "duration": 31,
    "start_time": "2022-09-18T10:49:37.851Z"
   },
   {
    "duration": 6,
    "start_time": "2022-09-18T10:49:37.884Z"
   },
   {
    "duration": 428,
    "start_time": "2022-09-18T10:55:04.169Z"
   },
   {
    "duration": 20,
    "start_time": "2022-09-18T10:55:04.599Z"
   },
   {
    "duration": 21,
    "start_time": "2022-09-18T10:55:04.620Z"
   },
   {
    "duration": 8,
    "start_time": "2022-09-18T10:55:04.643Z"
   },
   {
    "duration": 36,
    "start_time": "2022-09-18T10:55:04.652Z"
   },
   {
    "duration": 4,
    "start_time": "2022-09-18T10:55:04.689Z"
   },
   {
    "duration": 16,
    "start_time": "2022-09-18T10:55:04.723Z"
   },
   {
    "duration": 4,
    "start_time": "2022-09-18T10:55:04.741Z"
   },
   {
    "duration": 9,
    "start_time": "2022-09-18T10:55:04.746Z"
   },
   {
    "duration": 7,
    "start_time": "2022-09-18T10:55:04.758Z"
   },
   {
    "duration": 33,
    "start_time": "2022-09-18T10:55:04.766Z"
   },
   {
    "duration": 8,
    "start_time": "2022-09-18T10:55:04.800Z"
   },
   {
    "duration": 4,
    "start_time": "2022-09-18T10:55:04.809Z"
   },
   {
    "duration": 21,
    "start_time": "2022-09-18T10:55:04.814Z"
   },
   {
    "duration": 17,
    "start_time": "2022-09-18T10:55:04.838Z"
   },
   {
    "duration": 14,
    "start_time": "2022-09-18T10:55:04.857Z"
   },
   {
    "duration": 4,
    "start_time": "2022-09-18T10:55:04.872Z"
   },
   {
    "duration": 10,
    "start_time": "2022-09-18T10:55:04.877Z"
   },
   {
    "duration": 8,
    "start_time": "2022-09-18T10:55:04.888Z"
   },
   {
    "duration": 3,
    "start_time": "2022-09-18T10:55:04.897Z"
   },
   {
    "duration": 10,
    "start_time": "2022-09-18T10:55:04.901Z"
   },
   {
    "duration": 4,
    "start_time": "2022-09-18T10:55:04.912Z"
   },
   {
    "duration": 22,
    "start_time": "2022-09-18T10:55:04.917Z"
   },
   {
    "duration": 9,
    "start_time": "2022-09-18T10:55:04.941Z"
   },
   {
    "duration": 489,
    "start_time": "2022-09-18T10:55:04.951Z"
   },
   {
    "duration": 20,
    "start_time": "2022-09-18T10:55:05.441Z"
   },
   {
    "duration": 83,
    "start_time": "2022-09-18T10:55:05.463Z"
   },
   {
    "duration": 3,
    "start_time": "2022-09-18T10:55:05.549Z"
   },
   {
    "duration": 27,
    "start_time": "2022-09-18T10:55:05.553Z"
   },
   {
    "duration": 69,
    "start_time": "2022-09-18T10:55:05.582Z"
   },
   {
    "duration": 6,
    "start_time": "2022-09-18T10:55:05.652Z"
   },
   {
    "duration": 6,
    "start_time": "2022-09-18T10:55:05.660Z"
   },
   {
    "duration": 5,
    "start_time": "2022-09-18T10:55:05.667Z"
   },
   {
    "duration": 31,
    "start_time": "2022-09-18T10:55:05.673Z"
   },
   {
    "duration": 66,
    "start_time": "2022-09-18T10:55:05.705Z"
   },
   {
    "duration": 10,
    "start_time": "2022-09-18T10:55:05.772Z"
   },
   {
    "duration": 34,
    "start_time": "2022-09-18T10:55:05.783Z"
   },
   {
    "duration": 22,
    "start_time": "2022-09-18T10:55:05.819Z"
   },
   {
    "duration": 121,
    "start_time": "2022-09-18T10:55:05.842Z"
   },
   {
    "duration": 5,
    "start_time": "2022-09-18T10:55:05.964Z"
   },
   {
    "duration": 31,
    "start_time": "2022-09-18T10:55:05.971Z"
   },
   {
    "duration": 13,
    "start_time": "2022-09-18T10:55:06.005Z"
   },
   {
    "duration": 6,
    "start_time": "2022-09-18T10:57:11.916Z"
   },
   {
    "duration": 3,
    "start_time": "2022-09-18T10:58:55.372Z"
   },
   {
    "duration": 434,
    "start_time": "2022-09-18T10:59:10.355Z"
   },
   {
    "duration": 22,
    "start_time": "2022-09-18T10:59:10.791Z"
   },
   {
    "duration": 20,
    "start_time": "2022-09-18T10:59:10.815Z"
   },
   {
    "duration": 10,
    "start_time": "2022-09-18T10:59:10.836Z"
   },
   {
    "duration": 30,
    "start_time": "2022-09-18T10:59:10.848Z"
   },
   {
    "duration": 3,
    "start_time": "2022-09-18T10:59:10.879Z"
   },
   {
    "duration": 10,
    "start_time": "2022-09-18T10:59:10.883Z"
   },
   {
    "duration": 3,
    "start_time": "2022-09-18T10:59:10.895Z"
   },
   {
    "duration": 9,
    "start_time": "2022-09-18T10:59:10.899Z"
   },
   {
    "duration": 14,
    "start_time": "2022-09-18T10:59:10.909Z"
   },
   {
    "duration": 39,
    "start_time": "2022-09-18T10:59:10.925Z"
   },
   {
    "duration": 8,
    "start_time": "2022-09-18T10:59:10.965Z"
   },
   {
    "duration": 3,
    "start_time": "2022-09-18T10:59:10.974Z"
   },
   {
    "duration": 11,
    "start_time": "2022-09-18T10:59:10.980Z"
   },
   {
    "duration": 42,
    "start_time": "2022-09-18T10:59:10.993Z"
   },
   {
    "duration": 18,
    "start_time": "2022-09-18T10:59:11.037Z"
   },
   {
    "duration": 4,
    "start_time": "2022-09-18T10:59:11.056Z"
   },
   {
    "duration": 12,
    "start_time": "2022-09-18T10:59:11.062Z"
   },
   {
    "duration": 5,
    "start_time": "2022-09-18T10:59:11.075Z"
   },
   {
    "duration": 3,
    "start_time": "2022-09-18T10:59:11.081Z"
   },
   {
    "duration": 14,
    "start_time": "2022-09-18T10:59:11.085Z"
   },
   {
    "duration": 4,
    "start_time": "2022-09-18T10:59:11.100Z"
   },
   {
    "duration": 18,
    "start_time": "2022-09-18T10:59:11.105Z"
   },
   {
    "duration": 15,
    "start_time": "2022-09-18T10:59:11.131Z"
   },
   {
    "duration": 346,
    "start_time": "2022-09-18T10:59:11.148Z"
   },
   {
    "duration": 41,
    "start_time": "2022-09-18T10:59:11.496Z"
   },
   {
    "duration": 41,
    "start_time": "2022-09-18T10:59:11.539Z"
   },
   {
    "duration": 3,
    "start_time": "2022-09-18T10:59:11.581Z"
   },
   {
    "duration": 14,
    "start_time": "2022-09-18T10:59:11.586Z"
   },
   {
    "duration": 35,
    "start_time": "2022-09-18T10:59:11.601Z"
   },
   {
    "duration": 6,
    "start_time": "2022-09-18T10:59:11.637Z"
   },
   {
    "duration": 8,
    "start_time": "2022-09-18T10:59:11.645Z"
   },
   {
    "duration": 5,
    "start_time": "2022-09-18T10:59:11.654Z"
   },
   {
    "duration": 8,
    "start_time": "2022-09-18T10:59:11.661Z"
   },
   {
    "duration": 19,
    "start_time": "2022-09-18T10:59:11.671Z"
   },
   {
    "duration": 5,
    "start_time": "2022-09-18T10:59:11.691Z"
   },
   {
    "duration": 49,
    "start_time": "2022-09-18T10:59:11.698Z"
   },
   {
    "duration": 5,
    "start_time": "2022-09-18T10:59:11.748Z"
   },
   {
    "duration": 122,
    "start_time": "2022-09-18T10:59:11.755Z"
   },
   {
    "duration": 4,
    "start_time": "2022-09-18T10:59:11.879Z"
   },
   {
    "duration": 20,
    "start_time": "2022-09-18T10:59:11.886Z"
   },
   {
    "duration": 9,
    "start_time": "2022-09-18T10:59:11.921Z"
   },
   {
    "duration": 402,
    "start_time": "2022-09-18T10:59:29.576Z"
   },
   {
    "duration": 20,
    "start_time": "2022-09-18T10:59:29.980Z"
   },
   {
    "duration": 12,
    "start_time": "2022-09-18T10:59:30.002Z"
   },
   {
    "duration": 13,
    "start_time": "2022-09-18T10:59:30.016Z"
   },
   {
    "duration": 36,
    "start_time": "2022-09-18T10:59:30.031Z"
   },
   {
    "duration": 3,
    "start_time": "2022-09-18T10:59:30.068Z"
   },
   {
    "duration": 14,
    "start_time": "2022-09-18T10:59:30.072Z"
   },
   {
    "duration": 7,
    "start_time": "2022-09-18T10:59:30.088Z"
   },
   {
    "duration": 11,
    "start_time": "2022-09-18T10:59:30.097Z"
   },
   {
    "duration": 11,
    "start_time": "2022-09-18T10:59:30.111Z"
   },
   {
    "duration": 37,
    "start_time": "2022-09-18T10:59:30.123Z"
   },
   {
    "duration": 8,
    "start_time": "2022-09-18T10:59:30.161Z"
   },
   {
    "duration": 6,
    "start_time": "2022-09-18T10:59:30.170Z"
   },
   {
    "duration": 12,
    "start_time": "2022-09-18T10:59:30.177Z"
   },
   {
    "duration": 41,
    "start_time": "2022-09-18T10:59:30.191Z"
   },
   {
    "duration": 16,
    "start_time": "2022-09-18T10:59:30.233Z"
   },
   {
    "duration": 4,
    "start_time": "2022-09-18T10:59:30.251Z"
   },
   {
    "duration": 21,
    "start_time": "2022-09-18T10:59:30.256Z"
   },
   {
    "duration": 11,
    "start_time": "2022-09-18T10:59:30.279Z"
   },
   {
    "duration": 8,
    "start_time": "2022-09-18T10:59:30.291Z"
   },
   {
    "duration": 13,
    "start_time": "2022-09-18T10:59:30.301Z"
   },
   {
    "duration": 3,
    "start_time": "2022-09-18T10:59:30.316Z"
   },
   {
    "duration": 21,
    "start_time": "2022-09-18T10:59:30.320Z"
   },
   {
    "duration": 10,
    "start_time": "2022-09-18T10:59:30.342Z"
   },
   {
    "duration": 353,
    "start_time": "2022-09-18T10:59:30.353Z"
   },
   {
    "duration": 30,
    "start_time": "2022-09-18T10:59:30.707Z"
   },
   {
    "duration": 36,
    "start_time": "2022-09-18T10:59:30.738Z"
   },
   {
    "duration": 3,
    "start_time": "2022-09-18T10:59:30.777Z"
   },
   {
    "duration": 25,
    "start_time": "2022-09-18T10:59:30.781Z"
   },
   {
    "duration": 36,
    "start_time": "2022-09-18T10:59:30.807Z"
   },
   {
    "duration": 9,
    "start_time": "2022-09-18T10:59:30.844Z"
   },
   {
    "duration": 14,
    "start_time": "2022-09-18T10:59:30.854Z"
   },
   {
    "duration": 5,
    "start_time": "2022-09-18T10:59:30.869Z"
   },
   {
    "duration": 19,
    "start_time": "2022-09-18T10:59:30.875Z"
   },
   {
    "duration": 21,
    "start_time": "2022-09-18T10:59:30.895Z"
   },
   {
    "duration": 19,
    "start_time": "2022-09-18T10:59:30.918Z"
   },
   {
    "duration": 17,
    "start_time": "2022-09-18T10:59:30.939Z"
   },
   {
    "duration": 14,
    "start_time": "2022-09-18T10:59:30.957Z"
   },
   {
    "duration": 132,
    "start_time": "2022-09-18T10:59:30.972Z"
   },
   {
    "duration": 5,
    "start_time": "2022-09-18T10:59:31.105Z"
   },
   {
    "duration": 29,
    "start_time": "2022-09-18T10:59:31.122Z"
   },
   {
    "duration": 5,
    "start_time": "2022-09-18T10:59:31.153Z"
   },
   {
    "duration": 462,
    "start_time": "2022-09-18T11:04:59.011Z"
   },
   {
    "duration": 21,
    "start_time": "2022-09-18T11:04:59.475Z"
   },
   {
    "duration": 13,
    "start_time": "2022-09-18T11:04:59.498Z"
   },
   {
    "duration": 15,
    "start_time": "2022-09-18T11:04:59.513Z"
   },
   {
    "duration": 31,
    "start_time": "2022-09-18T11:04:59.530Z"
   },
   {
    "duration": 3,
    "start_time": "2022-09-18T11:04:59.563Z"
   },
   {
    "duration": 10,
    "start_time": "2022-09-18T11:04:59.567Z"
   },
   {
    "duration": 4,
    "start_time": "2022-09-18T11:04:59.578Z"
   },
   {
    "duration": 7,
    "start_time": "2022-09-18T11:04:59.583Z"
   },
   {
    "duration": 12,
    "start_time": "2022-09-18T11:04:59.591Z"
   },
   {
    "duration": 41,
    "start_time": "2022-09-18T11:04:59.604Z"
   },
   {
    "duration": 7,
    "start_time": "2022-09-18T11:04:59.646Z"
   },
   {
    "duration": 3,
    "start_time": "2022-09-18T11:04:59.655Z"
   },
   {
    "duration": 10,
    "start_time": "2022-09-18T11:04:59.660Z"
   },
   {
    "duration": 19,
    "start_time": "2022-09-18T11:04:59.672Z"
   },
   {
    "duration": 38,
    "start_time": "2022-09-18T11:04:59.692Z"
   },
   {
    "duration": 3,
    "start_time": "2022-09-18T11:04:59.731Z"
   },
   {
    "duration": 11,
    "start_time": "2022-09-18T11:04:59.736Z"
   },
   {
    "duration": 4,
    "start_time": "2022-09-18T11:04:59.748Z"
   },
   {
    "duration": 4,
    "start_time": "2022-09-18T11:04:59.753Z"
   },
   {
    "duration": 12,
    "start_time": "2022-09-18T11:04:59.758Z"
   },
   {
    "duration": 4,
    "start_time": "2022-09-18T11:04:59.771Z"
   },
   {
    "duration": 5,
    "start_time": "2022-09-18T11:04:59.776Z"
   },
   {
    "duration": 8,
    "start_time": "2022-09-18T11:04:59.782Z"
   },
   {
    "duration": 343,
    "start_time": "2022-09-18T11:04:59.792Z"
   },
   {
    "duration": 23,
    "start_time": "2022-09-18T11:05:00.136Z"
   },
   {
    "duration": 37,
    "start_time": "2022-09-18T11:05:00.160Z"
   },
   {
    "duration": 24,
    "start_time": "2022-09-18T11:05:00.198Z"
   },
   {
    "duration": 6,
    "start_time": "2022-09-18T11:05:00.224Z"
   },
   {
    "duration": 32,
    "start_time": "2022-09-18T11:05:00.232Z"
   },
   {
    "duration": 5,
    "start_time": "2022-09-18T11:05:00.266Z"
   },
   {
    "duration": 16,
    "start_time": "2022-09-18T11:05:00.272Z"
   },
   {
    "duration": 7,
    "start_time": "2022-09-18T11:05:00.289Z"
   },
   {
    "duration": 10,
    "start_time": "2022-09-18T11:05:00.297Z"
   },
   {
    "duration": 27,
    "start_time": "2022-09-18T11:05:00.309Z"
   },
   {
    "duration": 5,
    "start_time": "2022-09-18T11:05:00.338Z"
   },
   {
    "duration": 33,
    "start_time": "2022-09-18T11:05:00.344Z"
   },
   {
    "duration": 12,
    "start_time": "2022-09-18T11:05:00.379Z"
   },
   {
    "duration": 122,
    "start_time": "2022-09-18T11:05:00.393Z"
   },
   {
    "duration": 7,
    "start_time": "2022-09-18T11:05:00.517Z"
   },
   {
    "duration": 51,
    "start_time": "2022-09-18T11:05:00.529Z"
   },
   {
    "duration": 19,
    "start_time": "2022-09-18T11:05:00.582Z"
   },
   {
    "duration": 524,
    "start_time": "2022-09-18T11:25:00.966Z"
   },
   {
    "duration": 24,
    "start_time": "2022-09-18T11:25:01.492Z"
   },
   {
    "duration": 16,
    "start_time": "2022-09-18T11:25:01.518Z"
   },
   {
    "duration": 11,
    "start_time": "2022-09-18T11:25:01.536Z"
   },
   {
    "duration": 59,
    "start_time": "2022-09-18T11:25:01.549Z"
   },
   {
    "duration": 3,
    "start_time": "2022-09-18T11:25:01.610Z"
   },
   {
    "duration": 12,
    "start_time": "2022-09-18T11:25:01.615Z"
   },
   {
    "duration": 11,
    "start_time": "2022-09-18T11:25:01.629Z"
   },
   {
    "duration": 11,
    "start_time": "2022-09-18T11:25:01.642Z"
   },
   {
    "duration": 18,
    "start_time": "2022-09-18T11:25:01.655Z"
   },
   {
    "duration": 44,
    "start_time": "2022-09-18T11:25:01.675Z"
   },
   {
    "duration": 10,
    "start_time": "2022-09-18T11:25:01.720Z"
   },
   {
    "duration": 10,
    "start_time": "2022-09-18T11:25:01.732Z"
   },
   {
    "duration": 24,
    "start_time": "2022-09-18T11:25:01.745Z"
   },
   {
    "duration": 37,
    "start_time": "2022-09-18T11:25:01.771Z"
   },
   {
    "duration": 18,
    "start_time": "2022-09-18T11:25:01.810Z"
   },
   {
    "duration": 4,
    "start_time": "2022-09-18T11:25:01.829Z"
   },
   {
    "duration": 14,
    "start_time": "2022-09-18T11:25:01.835Z"
   },
   {
    "duration": 35,
    "start_time": "2022-09-18T11:25:01.851Z"
   },
   {
    "duration": 6,
    "start_time": "2022-09-18T11:25:01.888Z"
   },
   {
    "duration": 25,
    "start_time": "2022-09-18T11:25:01.896Z"
   },
   {
    "duration": 7,
    "start_time": "2022-09-18T11:25:01.924Z"
   },
   {
    "duration": 22,
    "start_time": "2022-09-18T11:25:01.933Z"
   },
   {
    "duration": 31,
    "start_time": "2022-09-18T11:25:01.958Z"
   },
   {
    "duration": 488,
    "start_time": "2022-09-18T11:25:01.992Z"
   },
   {
    "duration": 34,
    "start_time": "2022-09-18T11:25:02.483Z"
   },
   {
    "duration": 52,
    "start_time": "2022-09-18T11:25:02.519Z"
   },
   {
    "duration": 4,
    "start_time": "2022-09-18T11:25:02.573Z"
   },
   {
    "duration": 19,
    "start_time": "2022-09-18T11:25:02.579Z"
   },
   {
    "duration": 36,
    "start_time": "2022-09-18T11:25:02.599Z"
   },
   {
    "duration": 6,
    "start_time": "2022-09-18T11:25:02.637Z"
   },
   {
    "duration": 14,
    "start_time": "2022-09-18T11:25:02.645Z"
   },
   {
    "duration": 5,
    "start_time": "2022-09-18T11:25:02.661Z"
   },
   {
    "duration": 32,
    "start_time": "2022-09-18T11:25:02.668Z"
   },
   {
    "duration": 32,
    "start_time": "2022-09-18T11:25:02.702Z"
   },
   {
    "duration": 7,
    "start_time": "2022-09-18T11:25:02.736Z"
   },
   {
    "duration": 50,
    "start_time": "2022-09-18T11:25:02.745Z"
   },
   {
    "duration": 8,
    "start_time": "2022-09-18T11:25:02.797Z"
   },
   {
    "duration": 166,
    "start_time": "2022-09-18T11:25:02.807Z"
   },
   {
    "duration": 5,
    "start_time": "2022-09-18T11:25:02.975Z"
   },
   {
    "duration": 20,
    "start_time": "2022-09-18T11:25:02.997Z"
   },
   {
    "duration": 7,
    "start_time": "2022-09-18T11:25:03.018Z"
   },
   {
    "duration": 524,
    "start_time": "2022-09-18T11:35:46.609Z"
   },
   {
    "duration": 26,
    "start_time": "2022-09-18T11:35:47.135Z"
   },
   {
    "duration": 17,
    "start_time": "2022-09-18T11:35:47.162Z"
   },
   {
    "duration": 11,
    "start_time": "2022-09-18T11:35:47.196Z"
   },
   {
    "duration": 38,
    "start_time": "2022-09-18T11:35:47.209Z"
   },
   {
    "duration": 3,
    "start_time": "2022-09-18T11:35:47.249Z"
   },
   {
    "duration": 17,
    "start_time": "2022-09-18T11:35:47.254Z"
   },
   {
    "duration": 25,
    "start_time": "2022-09-18T11:35:47.274Z"
   },
   {
    "duration": 13,
    "start_time": "2022-09-18T11:35:47.302Z"
   },
   {
    "duration": 6,
    "start_time": "2022-09-18T11:35:47.320Z"
   },
   {
    "duration": 37,
    "start_time": "2022-09-18T11:35:47.328Z"
   },
   {
    "duration": 35,
    "start_time": "2022-09-18T11:35:47.366Z"
   },
   {
    "duration": 4,
    "start_time": "2022-09-18T11:35:47.403Z"
   },
   {
    "duration": 11,
    "start_time": "2022-09-18T11:35:47.409Z"
   },
   {
    "duration": 20,
    "start_time": "2022-09-18T11:35:47.422Z"
   },
   {
    "duration": 18,
    "start_time": "2022-09-18T11:35:47.444Z"
   },
   {
    "duration": 4,
    "start_time": "2022-09-18T11:35:47.496Z"
   },
   {
    "duration": 13,
    "start_time": "2022-09-18T11:35:47.502Z"
   },
   {
    "duration": 9,
    "start_time": "2022-09-18T11:35:47.516Z"
   },
   {
    "duration": 4,
    "start_time": "2022-09-18T11:35:47.526Z"
   },
   {
    "duration": 18,
    "start_time": "2022-09-18T11:35:47.532Z"
   },
   {
    "duration": 570,
    "start_time": "2022-09-18T11:35:47.551Z"
   },
   {
    "duration": 5,
    "start_time": "2022-09-18T11:35:48.123Z"
   },
   {
    "duration": 24,
    "start_time": "2022-09-18T11:35:48.129Z"
   },
   {
    "duration": 40,
    "start_time": "2022-09-18T11:35:48.156Z"
   },
   {
    "duration": 422,
    "start_time": "2022-09-18T11:35:48.198Z"
   },
   {
    "duration": 21,
    "start_time": "2022-09-18T11:35:48.621Z"
   },
   {
    "duration": 63,
    "start_time": "2022-09-18T11:35:48.647Z"
   },
   {
    "duration": 4,
    "start_time": "2022-09-18T11:35:48.712Z"
   },
   {
    "duration": 22,
    "start_time": "2022-09-18T11:35:48.718Z"
   },
   {
    "duration": 45,
    "start_time": "2022-09-18T11:35:48.742Z"
   },
   {
    "duration": 6,
    "start_time": "2022-09-18T11:35:48.789Z"
   },
   {
    "duration": 28,
    "start_time": "2022-09-18T11:35:48.797Z"
   },
   {
    "duration": 13,
    "start_time": "2022-09-18T11:35:48.827Z"
   },
   {
    "duration": 25,
    "start_time": "2022-09-18T11:35:48.842Z"
   },
   {
    "duration": 21,
    "start_time": "2022-09-18T11:35:48.870Z"
   },
   {
    "duration": 6,
    "start_time": "2022-09-18T11:35:48.892Z"
   },
   {
    "duration": 26,
    "start_time": "2022-09-18T11:35:48.900Z"
   },
   {
    "duration": 8,
    "start_time": "2022-09-18T11:35:48.928Z"
   },
   {
    "duration": 182,
    "start_time": "2022-09-18T11:35:48.938Z"
   },
   {
    "duration": 6,
    "start_time": "2022-09-18T11:35:49.121Z"
   },
   {
    "duration": 35,
    "start_time": "2022-09-18T11:35:49.129Z"
   },
   {
    "duration": 8,
    "start_time": "2022-09-18T11:35:49.166Z"
   },
   {
    "duration": 575,
    "start_time": "2022-09-18T12:01:16.562Z"
   },
   {
    "duration": 25,
    "start_time": "2022-09-18T12:01:17.139Z"
   },
   {
    "duration": 29,
    "start_time": "2022-09-18T12:01:17.166Z"
   },
   {
    "duration": 10,
    "start_time": "2022-09-18T12:01:17.197Z"
   },
   {
    "duration": 40,
    "start_time": "2022-09-18T12:01:17.210Z"
   },
   {
    "duration": 4,
    "start_time": "2022-09-18T12:01:17.252Z"
   },
   {
    "duration": 13,
    "start_time": "2022-09-18T12:01:17.257Z"
   },
   {
    "duration": 24,
    "start_time": "2022-09-18T12:01:17.272Z"
   },
   {
    "duration": 10,
    "start_time": "2022-09-18T12:01:17.299Z"
   },
   {
    "duration": 8,
    "start_time": "2022-09-18T12:01:17.311Z"
   },
   {
    "duration": 48,
    "start_time": "2022-09-18T12:01:17.320Z"
   },
   {
    "duration": 26,
    "start_time": "2022-09-18T12:01:17.370Z"
   },
   {
    "duration": 4,
    "start_time": "2022-09-18T12:01:17.397Z"
   },
   {
    "duration": 18,
    "start_time": "2022-09-18T12:01:17.404Z"
   },
   {
    "duration": 24,
    "start_time": "2022-09-18T12:01:17.424Z"
   },
   {
    "duration": 18,
    "start_time": "2022-09-18T12:01:17.449Z"
   },
   {
    "duration": 28,
    "start_time": "2022-09-18T12:01:17.468Z"
   },
   {
    "duration": 18,
    "start_time": "2022-09-18T12:01:17.498Z"
   },
   {
    "duration": 10,
    "start_time": "2022-09-18T12:01:17.518Z"
   },
   {
    "duration": 4,
    "start_time": "2022-09-18T12:01:17.529Z"
   },
   {
    "duration": 14,
    "start_time": "2022-09-18T12:01:17.534Z"
   },
   {
    "duration": 583,
    "start_time": "2022-09-18T12:01:17.550Z"
   },
   {
    "duration": 4,
    "start_time": "2022-09-18T12:01:18.134Z"
   },
   {
    "duration": 24,
    "start_time": "2022-09-18T12:01:18.140Z"
   },
   {
    "duration": 49,
    "start_time": "2022-09-18T12:01:18.166Z"
   },
   {
    "duration": 439,
    "start_time": "2022-09-18T12:01:18.217Z"
   },
   {
    "duration": 21,
    "start_time": "2022-09-18T12:01:18.658Z"
   },
   {
    "duration": 51,
    "start_time": "2022-09-18T12:01:18.681Z"
   },
   {
    "duration": 3,
    "start_time": "2022-09-18T12:01:18.734Z"
   },
   {
    "duration": 16,
    "start_time": "2022-09-18T12:01:18.739Z"
   },
   {
    "duration": 38,
    "start_time": "2022-09-18T12:01:18.757Z"
   },
   {
    "duration": 7,
    "start_time": "2022-09-18T12:01:18.797Z"
   },
   {
    "duration": 14,
    "start_time": "2022-09-18T12:01:18.805Z"
   },
   {
    "duration": 11,
    "start_time": "2022-09-18T12:01:18.821Z"
   },
   {
    "duration": 13,
    "start_time": "2022-09-18T12:01:18.834Z"
   },
   {
    "duration": 21,
    "start_time": "2022-09-18T12:01:18.849Z"
   },
   {
    "duration": 6,
    "start_time": "2022-09-18T12:01:18.872Z"
   },
   {
    "duration": 21,
    "start_time": "2022-09-18T12:01:18.896Z"
   },
   {
    "duration": 7,
    "start_time": "2022-09-18T12:01:18.919Z"
   },
   {
    "duration": 173,
    "start_time": "2022-09-18T12:01:18.927Z"
   },
   {
    "duration": 5,
    "start_time": "2022-09-18T12:01:19.104Z"
   },
   {
    "duration": 38,
    "start_time": "2022-09-18T12:01:19.111Z"
   },
   {
    "duration": 7,
    "start_time": "2022-09-18T12:01:19.151Z"
   },
   {
    "duration": 698,
    "start_time": "2022-09-18T16:17:54.714Z"
   },
   {
    "duration": 27,
    "start_time": "2022-09-18T16:17:55.413Z"
   },
   {
    "duration": 14,
    "start_time": "2022-09-18T16:17:55.442Z"
   },
   {
    "duration": 10,
    "start_time": "2022-09-18T16:17:55.457Z"
   },
   {
    "duration": 45,
    "start_time": "2022-09-18T16:17:55.470Z"
   },
   {
    "duration": 3,
    "start_time": "2022-09-18T16:17:55.516Z"
   },
   {
    "duration": 9,
    "start_time": "2022-09-18T16:17:55.521Z"
   },
   {
    "duration": 4,
    "start_time": "2022-09-18T16:17:55.532Z"
   },
   {
    "duration": 8,
    "start_time": "2022-09-18T16:17:55.537Z"
   },
   {
    "duration": 3,
    "start_time": "2022-09-18T16:17:55.546Z"
   },
   {
    "duration": 64,
    "start_time": "2022-09-18T16:17:55.551Z"
   },
   {
    "duration": 9,
    "start_time": "2022-09-18T16:17:55.616Z"
   },
   {
    "duration": 4,
    "start_time": "2022-09-18T16:17:55.626Z"
   },
   {
    "duration": 12,
    "start_time": "2022-09-18T16:17:55.632Z"
   },
   {
    "duration": 22,
    "start_time": "2022-09-18T16:17:55.645Z"
   },
   {
    "duration": 42,
    "start_time": "2022-09-18T16:17:55.669Z"
   },
   {
    "duration": 4,
    "start_time": "2022-09-18T16:17:55.712Z"
   },
   {
    "duration": 11,
    "start_time": "2022-09-18T16:17:55.717Z"
   },
   {
    "duration": 7,
    "start_time": "2022-09-18T16:17:55.729Z"
   },
   {
    "duration": 3,
    "start_time": "2022-09-18T16:17:55.738Z"
   },
   {
    "duration": 14,
    "start_time": "2022-09-18T16:17:55.742Z"
   },
   {
    "duration": 481,
    "start_time": "2022-09-18T16:17:55.757Z"
   },
   {
    "duration": 4,
    "start_time": "2022-09-18T16:17:56.239Z"
   },
   {
    "duration": 7,
    "start_time": "2022-09-18T16:17:56.245Z"
   },
   {
    "duration": 9,
    "start_time": "2022-09-18T16:17:56.253Z"
   },
   {
    "duration": 572,
    "start_time": "2022-09-18T16:17:56.263Z"
   },
   {
    "duration": 23,
    "start_time": "2022-09-18T16:17:56.836Z"
   },
   {
    "duration": 56,
    "start_time": "2022-09-18T16:17:56.861Z"
   },
   {
    "duration": 4,
    "start_time": "2022-09-18T16:17:56.918Z"
   },
   {
    "duration": 11,
    "start_time": "2022-09-18T16:17:56.924Z"
   },
   {
    "duration": 21,
    "start_time": "2022-09-18T16:17:56.936Z"
   },
   {
    "duration": 5,
    "start_time": "2022-09-18T16:17:56.958Z"
   },
   {
    "duration": 8,
    "start_time": "2022-09-18T16:17:56.964Z"
   },
   {
    "duration": 10,
    "start_time": "2022-09-18T16:17:56.973Z"
   },
   {
    "duration": 34,
    "start_time": "2022-09-18T16:17:56.984Z"
   },
   {
    "duration": 18,
    "start_time": "2022-09-18T16:17:57.020Z"
   },
   {
    "duration": 6,
    "start_time": "2022-09-18T16:17:57.040Z"
   },
   {
    "duration": 20,
    "start_time": "2022-09-18T16:17:57.047Z"
   },
   {
    "duration": 5,
    "start_time": "2022-09-18T16:17:57.068Z"
   },
   {
    "duration": 132,
    "start_time": "2022-09-18T16:17:57.074Z"
   },
   {
    "duration": 9,
    "start_time": "2022-09-18T16:17:57.209Z"
   },
   {
    "duration": 33,
    "start_time": "2022-09-18T16:17:57.219Z"
   },
   {
    "duration": 5,
    "start_time": "2022-09-18T16:17:57.253Z"
   },
   {
    "duration": 598,
    "start_time": "2022-10-23T19:44:19.712Z"
   },
   {
    "duration": 570,
    "start_time": "2022-10-23T19:44:41.715Z"
   },
   {
    "duration": 31,
    "start_time": "2022-10-23T19:44:42.287Z"
   },
   {
    "duration": 21,
    "start_time": "2022-10-23T19:44:42.320Z"
   },
   {
    "duration": 18,
    "start_time": "2022-10-23T19:44:42.343Z"
   },
   {
    "duration": 52,
    "start_time": "2022-10-23T19:44:42.363Z"
   },
   {
    "duration": 4,
    "start_time": "2022-10-23T19:44:42.416Z"
   },
   {
    "duration": 16,
    "start_time": "2022-10-23T19:44:42.422Z"
   },
   {
    "duration": 16,
    "start_time": "2022-10-23T19:44:42.440Z"
   },
   {
    "duration": 13,
    "start_time": "2022-10-23T19:44:42.458Z"
   },
   {
    "duration": 5,
    "start_time": "2022-10-23T19:44:42.475Z"
   },
   {
    "duration": 52,
    "start_time": "2022-10-23T19:44:42.482Z"
   },
   {
    "duration": 11,
    "start_time": "2022-10-23T19:44:42.553Z"
   },
   {
    "duration": 8,
    "start_time": "2022-10-23T19:44:42.566Z"
   },
   {
    "duration": 15,
    "start_time": "2022-10-23T19:44:42.576Z"
   },
   {
    "duration": 21,
    "start_time": "2022-10-23T19:44:42.593Z"
   },
   {
    "duration": 46,
    "start_time": "2022-10-23T19:44:42.616Z"
   },
   {
    "duration": 4,
    "start_time": "2022-10-23T19:44:42.664Z"
   },
   {
    "duration": 20,
    "start_time": "2022-10-23T19:44:42.670Z"
   },
   {
    "duration": 14,
    "start_time": "2022-10-23T19:44:42.692Z"
   },
   {
    "duration": 5,
    "start_time": "2022-10-23T19:44:42.707Z"
   },
   {
    "duration": 15,
    "start_time": "2022-10-23T19:44:42.713Z"
   },
   {
    "duration": 551,
    "start_time": "2022-10-23T19:44:42.730Z"
   },
   {
    "duration": 5,
    "start_time": "2022-10-23T19:44:43.283Z"
   },
   {
    "duration": 9,
    "start_time": "2022-10-23T19:44:43.289Z"
   },
   {
    "duration": 12,
    "start_time": "2022-10-23T19:44:43.299Z"
   },
   {
    "duration": 648,
    "start_time": "2022-10-23T19:44:43.313Z"
   },
   {
    "duration": 23,
    "start_time": "2022-10-23T19:44:43.963Z"
   },
   {
    "duration": 43,
    "start_time": "2022-10-23T19:44:43.991Z"
   },
   {
    "duration": 19,
    "start_time": "2022-10-23T19:44:44.036Z"
   },
   {
    "duration": 55,
    "start_time": "2022-10-23T19:44:44.057Z"
   },
   {
    "duration": 32,
    "start_time": "2022-10-23T19:44:44.115Z"
   },
   {
    "duration": 7,
    "start_time": "2022-10-23T19:44:44.149Z"
   },
   {
    "duration": 22,
    "start_time": "2022-10-23T19:44:44.157Z"
   },
   {
    "duration": 4,
    "start_time": "2022-10-23T19:44:44.181Z"
   },
   {
    "duration": 9,
    "start_time": "2022-10-23T19:44:44.187Z"
   },
   {
    "duration": 19,
    "start_time": "2022-10-23T19:44:44.198Z"
   },
   {
    "duration": 7,
    "start_time": "2022-10-23T19:44:44.219Z"
   },
   {
    "duration": 48,
    "start_time": "2022-10-23T19:44:44.228Z"
   },
   {
    "duration": 14,
    "start_time": "2022-10-23T19:44:44.278Z"
   },
   {
    "duration": 152,
    "start_time": "2022-10-23T19:44:44.295Z"
   },
   {
    "duration": 6,
    "start_time": "2022-10-23T19:44:44.454Z"
   },
   {
    "duration": 41,
    "start_time": "2022-10-23T19:44:44.462Z"
   },
   {
    "duration": 6,
    "start_time": "2022-10-23T19:44:44.504Z"
   },
   {
    "duration": 585,
    "start_time": "2022-11-16T08:59:23.714Z"
   },
   {
    "duration": 24,
    "start_time": "2022-11-16T08:59:24.301Z"
   },
   {
    "duration": 14,
    "start_time": "2022-11-16T08:59:24.327Z"
   },
   {
    "duration": 9,
    "start_time": "2022-11-16T08:59:24.343Z"
   },
   {
    "duration": 31,
    "start_time": "2022-11-16T08:59:24.353Z"
   },
   {
    "duration": 4,
    "start_time": "2022-11-16T08:59:24.386Z"
   },
   {
    "duration": 36,
    "start_time": "2022-11-16T08:59:24.391Z"
   },
   {
    "duration": 5,
    "start_time": "2022-11-16T08:59:24.428Z"
   },
   {
    "duration": 10,
    "start_time": "2022-11-16T08:59:24.435Z"
   },
   {
    "duration": 5,
    "start_time": "2022-11-16T08:59:24.449Z"
   },
   {
    "duration": 36,
    "start_time": "2022-11-16T08:59:24.455Z"
   },
   {
    "duration": 30,
    "start_time": "2022-11-16T08:59:24.493Z"
   },
   {
    "duration": 4,
    "start_time": "2022-11-16T08:59:24.524Z"
   },
   {
    "duration": 15,
    "start_time": "2022-11-16T08:59:24.530Z"
   },
   {
    "duration": 19,
    "start_time": "2022-11-16T08:59:24.547Z"
   },
   {
    "duration": 17,
    "start_time": "2022-11-16T08:59:24.567Z"
   },
   {
    "duration": 4,
    "start_time": "2022-11-16T08:59:24.585Z"
   },
   {
    "duration": 41,
    "start_time": "2022-11-16T08:59:24.590Z"
   },
   {
    "duration": 8,
    "start_time": "2022-11-16T08:59:24.633Z"
   },
   {
    "duration": 4,
    "start_time": "2022-11-16T08:59:24.642Z"
   },
   {
    "duration": 13,
    "start_time": "2022-11-16T08:59:24.647Z"
   },
   {
    "duration": 553,
    "start_time": "2022-11-16T08:59:24.662Z"
   },
   {
    "duration": 5,
    "start_time": "2022-11-16T08:59:25.217Z"
   },
   {
    "duration": 9,
    "start_time": "2022-11-16T08:59:25.224Z"
   },
   {
    "duration": 12,
    "start_time": "2022-11-16T08:59:25.234Z"
   },
   {
    "duration": 426,
    "start_time": "2022-11-16T08:59:25.248Z"
   },
   {
    "duration": 19,
    "start_time": "2022-11-16T08:59:25.676Z"
   },
   {
    "duration": 53,
    "start_time": "2022-11-16T08:59:25.698Z"
   },
   {
    "duration": 4,
    "start_time": "2022-11-16T08:59:25.752Z"
   },
   {
    "duration": 12,
    "start_time": "2022-11-16T08:59:25.757Z"
   },
   {
    "duration": 23,
    "start_time": "2022-11-16T08:59:25.771Z"
   },
   {
    "duration": 27,
    "start_time": "2022-11-16T08:59:25.795Z"
   },
   {
    "duration": 6,
    "start_time": "2022-11-16T08:59:25.824Z"
   },
   {
    "duration": 10,
    "start_time": "2022-11-16T08:59:25.832Z"
   },
   {
    "duration": 26,
    "start_time": "2022-11-16T08:59:25.843Z"
   },
   {
    "duration": 24,
    "start_time": "2022-11-16T08:59:25.871Z"
   },
   {
    "duration": 7,
    "start_time": "2022-11-16T08:59:25.896Z"
   },
   {
    "duration": 32,
    "start_time": "2022-11-16T08:59:25.904Z"
   },
   {
    "duration": 6,
    "start_time": "2022-11-16T08:59:25.938Z"
   },
   {
    "duration": 142,
    "start_time": "2022-11-16T08:59:25.946Z"
   },
   {
    "duration": 6,
    "start_time": "2022-11-16T08:59:26.089Z"
   },
   {
    "duration": 31,
    "start_time": "2022-11-16T08:59:26.097Z"
   },
   {
    "duration": 6,
    "start_time": "2022-11-16T08:59:26.129Z"
   },
   {
    "duration": 529,
    "start_time": "2023-04-21T10:07:26.087Z"
   },
   {
    "duration": 28,
    "start_time": "2023-04-21T10:07:26.618Z"
   },
   {
    "duration": 21,
    "start_time": "2023-04-21T10:07:26.649Z"
   },
   {
    "duration": 11,
    "start_time": "2023-04-21T10:07:26.673Z"
   },
   {
    "duration": 37,
    "start_time": "2023-04-21T10:07:26.686Z"
   },
   {
    "duration": 3,
    "start_time": "2023-04-21T10:07:26.725Z"
   },
   {
    "duration": 9,
    "start_time": "2023-04-21T10:07:26.729Z"
   },
   {
    "duration": 27,
    "start_time": "2023-04-21T10:07:26.739Z"
   },
   {
    "duration": 12,
    "start_time": "2023-04-21T10:07:26.768Z"
   },
   {
    "duration": 5,
    "start_time": "2023-04-21T10:07:26.782Z"
   },
   {
    "duration": 39,
    "start_time": "2023-04-21T10:07:26.788Z"
   },
   {
    "duration": 10,
    "start_time": "2023-04-21T10:07:26.829Z"
   },
   {
    "duration": 6,
    "start_time": "2023-04-21T10:07:26.864Z"
   },
   {
    "duration": 16,
    "start_time": "2023-04-21T10:07:26.872Z"
   },
   {
    "duration": 22,
    "start_time": "2023-04-21T10:07:26.890Z"
   },
   {
    "duration": 49,
    "start_time": "2023-04-21T10:07:26.914Z"
   },
   {
    "duration": 5,
    "start_time": "2023-04-21T10:07:26.965Z"
   },
   {
    "duration": 18,
    "start_time": "2023-04-21T10:07:26.972Z"
   },
   {
    "duration": 9,
    "start_time": "2023-04-21T10:07:26.992Z"
   },
   {
    "duration": 9,
    "start_time": "2023-04-21T10:07:27.003Z"
   },
   {
    "duration": 17,
    "start_time": "2023-04-21T10:07:27.014Z"
   },
   {
    "duration": 580,
    "start_time": "2023-04-21T10:07:27.033Z"
   },
   {
    "duration": 6,
    "start_time": "2023-04-21T10:07:27.614Z"
   },
   {
    "duration": 42,
    "start_time": "2023-04-21T10:07:27.622Z"
   },
   {
    "duration": 50,
    "start_time": "2023-04-21T10:07:27.666Z"
   },
   {
    "duration": 422,
    "start_time": "2023-04-21T10:07:27.718Z"
   },
   {
    "duration": 27,
    "start_time": "2023-04-21T10:07:28.142Z"
   },
   {
    "duration": 40,
    "start_time": "2023-04-21T10:07:28.173Z"
   },
   {
    "duration": 3,
    "start_time": "2023-04-21T10:07:28.215Z"
   },
   {
    "duration": 29,
    "start_time": "2023-04-21T10:07:28.220Z"
   },
   {
    "duration": 36,
    "start_time": "2023-04-21T10:07:28.251Z"
   },
   {
    "duration": 5,
    "start_time": "2023-04-21T10:07:28.289Z"
   },
   {
    "duration": 29,
    "start_time": "2023-04-21T10:07:28.295Z"
   },
   {
    "duration": 23,
    "start_time": "2023-04-21T10:07:28.326Z"
   },
   {
    "duration": 24,
    "start_time": "2023-04-21T10:07:28.350Z"
   },
   {
    "duration": 40,
    "start_time": "2023-04-21T10:07:28.376Z"
   },
   {
    "duration": 5,
    "start_time": "2023-04-21T10:07:28.418Z"
   },
   {
    "duration": 57,
    "start_time": "2023-04-21T10:07:28.425Z"
   },
   {
    "duration": 7,
    "start_time": "2023-04-21T10:07:28.484Z"
   },
   {
    "duration": 139,
    "start_time": "2023-04-21T10:07:28.492Z"
   },
   {
    "duration": 6,
    "start_time": "2023-04-21T10:07:28.633Z"
   },
   {
    "duration": 34,
    "start_time": "2023-04-21T10:07:28.640Z"
   },
   {
    "duration": 6,
    "start_time": "2023-04-21T10:07:28.676Z"
   },
   {
    "duration": 1500,
    "start_time": "2023-04-22T06:32:19.288Z"
   },
   {
    "duration": 30,
    "start_time": "2023-04-22T06:32:20.833Z"
   },
   {
    "duration": 68,
    "start_time": "2023-04-22T06:32:20.865Z"
   },
   {
    "duration": 10,
    "start_time": "2023-04-22T06:32:20.936Z"
   },
   {
    "duration": 128,
    "start_time": "2023-04-22T06:32:20.948Z"
   },
   {
    "duration": 57,
    "start_time": "2023-04-22T06:32:21.077Z"
   },
   {
    "duration": 31,
    "start_time": "2023-04-22T06:32:21.136Z"
   },
   {
    "duration": 66,
    "start_time": "2023-04-22T06:32:21.169Z"
   },
   {
    "duration": 32,
    "start_time": "2023-04-22T06:32:21.237Z"
   },
   {
    "duration": 10,
    "start_time": "2023-04-22T06:32:21.272Z"
   },
   {
    "duration": 78,
    "start_time": "2023-04-22T06:32:21.284Z"
   },
   {
    "duration": 75,
    "start_time": "2023-04-22T06:32:21.364Z"
   },
   {
    "duration": 93,
    "start_time": "2023-04-22T06:32:21.440Z"
   },
   {
    "duration": 16,
    "start_time": "2023-04-22T06:32:21.535Z"
   },
   {
    "duration": 89,
    "start_time": "2023-04-22T06:32:21.553Z"
   },
   {
    "duration": 20,
    "start_time": "2023-04-22T06:32:21.643Z"
   },
   {
    "duration": 14,
    "start_time": "2023-04-22T06:32:21.665Z"
   },
   {
    "duration": 70,
    "start_time": "2023-04-22T06:32:21.680Z"
   },
   {
    "duration": 44,
    "start_time": "2023-04-22T06:32:21.752Z"
   },
   {
    "duration": 42,
    "start_time": "2023-04-22T06:32:21.798Z"
   },
   {
    "duration": 73,
    "start_time": "2023-04-22T06:32:21.842Z"
   },
   {
    "duration": 1204,
    "start_time": "2023-04-22T06:32:21.933Z"
   },
   {
    "duration": 4,
    "start_time": "2023-04-22T06:32:23.139Z"
   },
   {
    "duration": 89,
    "start_time": "2023-04-22T06:32:23.145Z"
   },
   {
    "duration": 97,
    "start_time": "2023-04-22T06:32:23.236Z"
   },
   {
    "duration": 630,
    "start_time": "2023-04-22T06:32:23.335Z"
   },
   {
    "duration": 74,
    "start_time": "2023-04-22T06:32:23.967Z"
   },
   {
    "duration": 94,
    "start_time": "2023-04-22T06:32:24.045Z"
   },
   {
    "duration": 3,
    "start_time": "2023-04-22T06:32:24.140Z"
   },
   {
    "duration": 44,
    "start_time": "2023-04-22T06:32:24.145Z"
   },
   {
    "duration": 60,
    "start_time": "2023-04-22T06:32:24.190Z"
   },
   {
    "duration": 6,
    "start_time": "2023-04-22T06:32:24.252Z"
   },
   {
    "duration": 78,
    "start_time": "2023-04-22T06:32:24.259Z"
   },
   {
    "duration": 57,
    "start_time": "2023-04-22T06:32:24.339Z"
   },
   {
    "duration": 7,
    "start_time": "2023-04-22T06:32:24.434Z"
   },
   {
    "duration": 113,
    "start_time": "2023-04-22T06:32:24.442Z"
   },
   {
    "duration": 12,
    "start_time": "2023-04-22T06:32:24.557Z"
   },
   {
    "duration": 77,
    "start_time": "2023-04-22T06:32:24.570Z"
   },
   {
    "duration": 20,
    "start_time": "2023-04-22T06:32:24.649Z"
   },
   {
    "duration": 273,
    "start_time": "2023-04-22T06:32:24.671Z"
   },
   {
    "duration": 4,
    "start_time": "2023-04-22T06:32:24.946Z"
   },
   {
    "duration": 90,
    "start_time": "2023-04-22T06:32:24.952Z"
   },
   {
    "duration": 41,
    "start_time": "2023-04-22T06:32:25.044Z"
   },
   {
    "duration": 650,
    "start_time": "2023-04-25T05:44:08.680Z"
   },
   {
    "duration": 31,
    "start_time": "2023-04-25T05:44:09.332Z"
   },
   {
    "duration": 21,
    "start_time": "2023-04-25T05:44:09.365Z"
   },
   {
    "duration": 32,
    "start_time": "2023-04-25T05:44:09.388Z"
   },
   {
    "duration": 36,
    "start_time": "2023-04-25T05:44:09.423Z"
   },
   {
    "duration": 4,
    "start_time": "2023-04-25T05:44:09.462Z"
   },
   {
    "duration": 13,
    "start_time": "2023-04-25T05:44:09.468Z"
   },
   {
    "duration": 30,
    "start_time": "2023-04-25T05:44:09.483Z"
   },
   {
    "duration": 9,
    "start_time": "2023-04-25T05:44:09.515Z"
   },
   {
    "duration": 5,
    "start_time": "2023-04-25T05:44:09.526Z"
   },
   {
    "duration": 43,
    "start_time": "2023-04-25T05:44:09.533Z"
   },
   {
    "duration": 44,
    "start_time": "2023-04-25T05:44:09.579Z"
   },
   {
    "duration": 4,
    "start_time": "2023-04-25T05:44:09.625Z"
   },
   {
    "duration": 14,
    "start_time": "2023-04-25T05:44:09.631Z"
   },
   {
    "duration": 23,
    "start_time": "2023-04-25T05:44:09.647Z"
   },
   {
    "duration": 51,
    "start_time": "2023-04-25T05:44:09.672Z"
   },
   {
    "duration": 4,
    "start_time": "2023-04-25T05:44:09.725Z"
   },
   {
    "duration": 15,
    "start_time": "2023-04-25T05:44:09.731Z"
   },
   {
    "duration": 8,
    "start_time": "2023-04-25T05:44:09.748Z"
   },
   {
    "duration": 4,
    "start_time": "2023-04-25T05:44:09.757Z"
   },
   {
    "duration": 10,
    "start_time": "2023-04-25T05:44:09.763Z"
   },
   {
    "duration": 563,
    "start_time": "2023-04-25T05:44:09.775Z"
   },
   {
    "duration": 4,
    "start_time": "2023-04-25T05:44:10.340Z"
   },
   {
    "duration": 9,
    "start_time": "2023-04-25T05:44:10.346Z"
   },
   {
    "duration": 9,
    "start_time": "2023-04-25T05:44:10.357Z"
   },
   {
    "duration": 480,
    "start_time": "2023-04-25T05:44:10.368Z"
   },
   {
    "duration": 19,
    "start_time": "2023-04-25T05:44:10.850Z"
   },
   {
    "duration": 53,
    "start_time": "2023-04-25T05:44:10.872Z"
   },
   {
    "duration": 4,
    "start_time": "2023-04-25T05:44:10.926Z"
   },
   {
    "duration": 44,
    "start_time": "2023-04-25T05:44:10.932Z"
   },
   {
    "duration": 27,
    "start_time": "2023-04-25T05:44:10.977Z"
   },
   {
    "duration": 6,
    "start_time": "2023-04-25T05:44:11.006Z"
   },
   {
    "duration": 6,
    "start_time": "2023-04-25T05:44:11.013Z"
   },
   {
    "duration": 4,
    "start_time": "2023-04-25T05:44:11.020Z"
   },
   {
    "duration": 11,
    "start_time": "2023-04-25T05:44:11.026Z"
   },
   {
    "duration": 20,
    "start_time": "2023-04-25T05:44:11.039Z"
   },
   {
    "duration": 9,
    "start_time": "2023-04-25T05:44:11.060Z"
   },
   {
    "duration": 63,
    "start_time": "2023-04-25T05:44:11.071Z"
   },
   {
    "duration": 8,
    "start_time": "2023-04-25T05:44:11.137Z"
   },
   {
    "duration": 150,
    "start_time": "2023-04-25T05:44:11.146Z"
   },
   {
    "duration": 15,
    "start_time": "2023-04-25T05:44:11.298Z"
   },
   {
    "duration": 53,
    "start_time": "2023-04-25T05:44:11.315Z"
   },
   {
    "duration": 7,
    "start_time": "2023-04-25T05:44:11.370Z"
   },
   {
    "duration": 520,
    "start_time": "2023-04-26T07:12:23.402Z"
   },
   {
    "duration": 21,
    "start_time": "2023-04-26T07:12:23.924Z"
   },
   {
    "duration": 47,
    "start_time": "2023-04-26T07:12:23.946Z"
   },
   {
    "duration": 19,
    "start_time": "2023-04-26T07:12:23.996Z"
   },
   {
    "duration": 57,
    "start_time": "2023-04-26T07:12:24.016Z"
   },
   {
    "duration": 18,
    "start_time": "2023-04-26T07:12:24.075Z"
   },
   {
    "duration": 43,
    "start_time": "2023-04-26T07:12:24.095Z"
   },
   {
    "duration": 35,
    "start_time": "2023-04-26T07:12:24.140Z"
   },
   {
    "duration": 22,
    "start_time": "2023-04-26T07:12:24.177Z"
   },
   {
    "duration": 11,
    "start_time": "2023-04-26T07:12:24.203Z"
   },
   {
    "duration": 78,
    "start_time": "2023-04-26T07:12:24.216Z"
   },
   {
    "duration": 10,
    "start_time": "2023-04-26T07:12:24.296Z"
   },
   {
    "duration": 37,
    "start_time": "2023-04-26T07:12:24.307Z"
   },
   {
    "duration": 49,
    "start_time": "2023-04-26T07:12:24.345Z"
   },
   {
    "duration": 66,
    "start_time": "2023-04-26T07:12:24.396Z"
   },
   {
    "duration": 18,
    "start_time": "2023-04-26T07:12:24.464Z"
   },
   {
    "duration": 6,
    "start_time": "2023-04-26T07:12:24.484Z"
   },
   {
    "duration": 22,
    "start_time": "2023-04-26T07:12:24.492Z"
   },
   {
    "duration": 20,
    "start_time": "2023-04-26T07:12:24.516Z"
   },
   {
    "duration": 53,
    "start_time": "2023-04-26T07:12:24.538Z"
   },
   {
    "duration": 22,
    "start_time": "2023-04-26T07:12:24.593Z"
   },
   {
    "duration": 543,
    "start_time": "2023-04-26T07:12:24.617Z"
   },
   {
    "duration": 4,
    "start_time": "2023-04-26T07:12:25.161Z"
   },
   {
    "duration": 41,
    "start_time": "2023-04-26T07:12:25.167Z"
   },
   {
    "duration": 24,
    "start_time": "2023-04-26T07:12:25.210Z"
   },
   {
    "duration": 354,
    "start_time": "2023-04-26T07:12:25.259Z"
   },
   {
    "duration": 18,
    "start_time": "2023-04-26T07:12:25.615Z"
   },
   {
    "duration": 50,
    "start_time": "2023-04-26T07:12:25.636Z"
   },
   {
    "duration": 3,
    "start_time": "2023-04-26T07:12:25.687Z"
   },
   {
    "duration": 34,
    "start_time": "2023-04-26T07:12:25.692Z"
   },
   {
    "duration": 53,
    "start_time": "2023-04-26T07:12:25.727Z"
   },
   {
    "duration": 17,
    "start_time": "2023-04-26T07:12:25.782Z"
   },
   {
    "duration": 22,
    "start_time": "2023-04-26T07:12:25.801Z"
   },
   {
    "duration": 5,
    "start_time": "2023-04-26T07:12:25.825Z"
   },
   {
    "duration": 16,
    "start_time": "2023-04-26T07:12:25.832Z"
   },
   {
    "duration": 19,
    "start_time": "2023-04-26T07:12:25.851Z"
   },
   {
    "duration": 6,
    "start_time": "2023-04-26T07:12:25.872Z"
   },
   {
    "duration": 20,
    "start_time": "2023-04-26T07:12:25.879Z"
   },
   {
    "duration": 6,
    "start_time": "2023-04-26T07:12:25.900Z"
   },
   {
    "duration": 153,
    "start_time": "2023-04-26T07:12:25.908Z"
   },
   {
    "duration": 4,
    "start_time": "2023-04-26T07:12:26.063Z"
   },
   {
    "duration": 35,
    "start_time": "2023-04-26T07:12:26.069Z"
   },
   {
    "duration": 13,
    "start_time": "2023-04-26T07:12:26.106Z"
   },
   {
    "duration": 497,
    "start_time": "2023-04-26T07:12:49.062Z"
   },
   {
    "duration": 28,
    "start_time": "2023-04-26T07:12:49.561Z"
   },
   {
    "duration": 23,
    "start_time": "2023-04-26T07:12:49.591Z"
   },
   {
    "duration": 19,
    "start_time": "2023-04-26T07:12:49.617Z"
   },
   {
    "duration": 73,
    "start_time": "2023-04-26T07:12:49.638Z"
   },
   {
    "duration": 12,
    "start_time": "2023-04-26T07:12:49.713Z"
   },
   {
    "duration": 15,
    "start_time": "2023-04-26T07:12:49.727Z"
   },
   {
    "duration": 18,
    "start_time": "2023-04-26T07:12:49.744Z"
   },
   {
    "duration": 12,
    "start_time": "2023-04-26T07:12:49.766Z"
   },
   {
    "duration": 13,
    "start_time": "2023-04-26T07:12:49.782Z"
   },
   {
    "duration": 86,
    "start_time": "2023-04-26T07:12:49.797Z"
   },
   {
    "duration": 12,
    "start_time": "2023-04-26T07:12:49.886Z"
   },
   {
    "duration": 18,
    "start_time": "2023-04-26T07:12:49.900Z"
   },
   {
    "duration": 30,
    "start_time": "2023-04-26T07:12:49.920Z"
   },
   {
    "duration": 51,
    "start_time": "2023-04-26T07:12:49.952Z"
   },
   {
    "duration": 47,
    "start_time": "2023-04-26T07:12:50.005Z"
   },
   {
    "duration": 4,
    "start_time": "2023-04-26T07:12:50.054Z"
   },
   {
    "duration": 31,
    "start_time": "2023-04-26T07:12:50.059Z"
   },
   {
    "duration": 14,
    "start_time": "2023-04-26T07:12:50.092Z"
   },
   {
    "duration": 9,
    "start_time": "2023-04-26T07:12:50.108Z"
   },
   {
    "duration": 20,
    "start_time": "2023-04-26T07:12:50.118Z"
   },
   {
    "duration": 529,
    "start_time": "2023-04-26T07:12:50.140Z"
   },
   {
    "duration": 5,
    "start_time": "2023-04-26T07:12:50.670Z"
   },
   {
    "duration": 19,
    "start_time": "2023-04-26T07:12:50.676Z"
   },
   {
    "duration": 17,
    "start_time": "2023-04-26T07:12:50.697Z"
   },
   {
    "duration": 435,
    "start_time": "2023-04-26T07:12:50.715Z"
   },
   {
    "duration": 19,
    "start_time": "2023-04-26T07:12:51.158Z"
   },
   {
    "duration": 54,
    "start_time": "2023-04-26T07:12:51.180Z"
   },
   {
    "duration": 5,
    "start_time": "2023-04-26T07:12:51.236Z"
   },
   {
    "duration": 21,
    "start_time": "2023-04-26T07:12:51.243Z"
   },
   {
    "duration": 38,
    "start_time": "2023-04-26T07:12:51.266Z"
   },
   {
    "duration": 7,
    "start_time": "2023-04-26T07:12:51.306Z"
   },
   {
    "duration": 22,
    "start_time": "2023-04-26T07:12:51.314Z"
   },
   {
    "duration": 17,
    "start_time": "2023-04-26T07:12:51.338Z"
   },
   {
    "duration": 36,
    "start_time": "2023-04-26T07:12:51.357Z"
   },
   {
    "duration": 50,
    "start_time": "2023-04-26T07:12:51.395Z"
   },
   {
    "duration": 6,
    "start_time": "2023-04-26T07:12:51.447Z"
   },
   {
    "duration": 36,
    "start_time": "2023-04-26T07:12:51.454Z"
   },
   {
    "duration": 6,
    "start_time": "2023-04-26T07:12:51.492Z"
   },
   {
    "duration": 161,
    "start_time": "2023-04-26T07:12:51.500Z"
   },
   {
    "duration": 5,
    "start_time": "2023-04-26T07:12:51.664Z"
   },
   {
    "duration": 53,
    "start_time": "2023-04-26T07:12:51.671Z"
   },
   {
    "duration": 53,
    "start_time": "2023-04-26T07:12:51.726Z"
   },
   {
    "duration": 872,
    "start_time": "2023-04-30T09:56:35.415Z"
   },
   {
    "duration": 37,
    "start_time": "2023-04-30T09:56:36.291Z"
   },
   {
    "duration": 38,
    "start_time": "2023-04-30T09:56:36.330Z"
   },
   {
    "duration": 23,
    "start_time": "2023-04-30T09:56:36.371Z"
   },
   {
    "duration": 53,
    "start_time": "2023-04-30T09:56:36.396Z"
   },
   {
    "duration": 11,
    "start_time": "2023-04-30T09:56:36.453Z"
   },
   {
    "duration": 41,
    "start_time": "2023-04-30T09:56:36.467Z"
   },
   {
    "duration": 16,
    "start_time": "2023-04-30T09:56:36.510Z"
   },
   {
    "duration": 54,
    "start_time": "2023-04-30T09:56:36.528Z"
   },
   {
    "duration": 6,
    "start_time": "2023-04-30T09:56:36.587Z"
   },
   {
    "duration": 58,
    "start_time": "2023-04-30T09:56:36.595Z"
   },
   {
    "duration": 16,
    "start_time": "2023-04-30T09:56:36.660Z"
   },
   {
    "duration": 6,
    "start_time": "2023-04-30T09:56:36.678Z"
   },
   {
    "duration": 53,
    "start_time": "2023-04-30T09:56:36.686Z"
   },
   {
    "duration": 57,
    "start_time": "2023-04-30T09:56:36.742Z"
   },
   {
    "duration": 22,
    "start_time": "2023-04-30T09:56:36.800Z"
   },
   {
    "duration": 3,
    "start_time": "2023-04-30T09:56:36.824Z"
   },
   {
    "duration": 24,
    "start_time": "2023-04-30T09:56:36.829Z"
   },
   {
    "duration": 21,
    "start_time": "2023-04-30T09:56:36.856Z"
   },
   {
    "duration": 5,
    "start_time": "2023-04-30T09:56:36.879Z"
   },
   {
    "duration": 26,
    "start_time": "2023-04-30T09:56:36.886Z"
   },
   {
    "duration": 682,
    "start_time": "2023-04-30T09:56:36.914Z"
   },
   {
    "duration": 5,
    "start_time": "2023-04-30T09:56:37.598Z"
   },
   {
    "duration": 10,
    "start_time": "2023-04-30T09:56:37.606Z"
   },
   {
    "duration": 26,
    "start_time": "2023-04-30T09:56:37.618Z"
   },
   {
    "duration": 748,
    "start_time": "2023-04-30T09:56:37.647Z"
   },
   {
    "duration": 22,
    "start_time": "2023-04-30T09:56:38.397Z"
   },
   {
    "duration": 69,
    "start_time": "2023-04-30T09:56:38.422Z"
   },
   {
    "duration": 4,
    "start_time": "2023-04-30T09:56:38.493Z"
   },
   {
    "duration": 13,
    "start_time": "2023-04-30T09:56:38.499Z"
   },
   {
    "duration": 60,
    "start_time": "2023-04-30T09:56:38.514Z"
   },
   {
    "duration": 7,
    "start_time": "2023-04-30T09:56:38.576Z"
   },
   {
    "duration": 9,
    "start_time": "2023-04-30T09:56:38.585Z"
   },
   {
    "duration": 5,
    "start_time": "2023-04-30T09:56:38.595Z"
   },
   {
    "duration": 21,
    "start_time": "2023-04-30T09:56:38.602Z"
   },
   {
    "duration": 46,
    "start_time": "2023-04-30T09:56:38.625Z"
   },
   {
    "duration": 8,
    "start_time": "2023-04-30T09:56:38.673Z"
   },
   {
    "duration": 26,
    "start_time": "2023-04-30T09:56:38.683Z"
   },
   {
    "duration": 7,
    "start_time": "2023-04-30T09:56:38.711Z"
   },
   {
    "duration": 180,
    "start_time": "2023-04-30T09:56:38.719Z"
   },
   {
    "duration": 5,
    "start_time": "2023-04-30T09:56:38.901Z"
   },
   {
    "duration": 55,
    "start_time": "2023-04-30T09:56:38.908Z"
   },
   {
    "duration": 7,
    "start_time": "2023-04-30T09:56:38.966Z"
   },
   {
    "duration": 1285,
    "start_time": "2023-07-06T13:01:02.145Z"
   },
   {
    "duration": 25,
    "start_time": "2023-07-06T13:01:03.432Z"
   },
   {
    "duration": 65,
    "start_time": "2023-07-06T13:01:03.459Z"
   },
   {
    "duration": 9,
    "start_time": "2023-07-06T13:01:03.526Z"
   },
   {
    "duration": 77,
    "start_time": "2023-07-06T13:01:03.536Z"
   },
   {
    "duration": 3,
    "start_time": "2023-07-06T13:01:03.615Z"
   },
   {
    "duration": 22,
    "start_time": "2023-07-06T13:01:03.620Z"
   },
   {
    "duration": 5,
    "start_time": "2023-07-06T13:01:03.643Z"
   },
   {
    "duration": 48,
    "start_time": "2023-07-06T13:01:03.650Z"
   },
   {
    "duration": 8,
    "start_time": "2023-07-06T13:01:03.700Z"
   },
   {
    "duration": 49,
    "start_time": "2023-07-06T13:01:03.710Z"
   },
   {
    "duration": 14,
    "start_time": "2023-07-06T13:01:03.761Z"
   },
   {
    "duration": 78,
    "start_time": "2023-07-06T13:01:03.777Z"
   },
   {
    "duration": 35,
    "start_time": "2023-07-06T13:01:03.858Z"
   },
   {
    "duration": 22,
    "start_time": "2023-07-06T13:01:03.895Z"
   },
   {
    "duration": 18,
    "start_time": "2023-07-06T13:01:03.919Z"
   },
   {
    "duration": 4,
    "start_time": "2023-07-06T13:01:03.939Z"
   },
   {
    "duration": 42,
    "start_time": "2023-07-06T13:01:03.944Z"
   },
   {
    "duration": 18,
    "start_time": "2023-07-06T13:01:03.988Z"
   },
   {
    "duration": 5,
    "start_time": "2023-07-06T13:01:04.007Z"
   },
   {
    "duration": 18,
    "start_time": "2023-07-06T13:01:04.014Z"
   },
   {
    "duration": 643,
    "start_time": "2023-07-06T13:01:04.034Z"
   },
   {
    "duration": 6,
    "start_time": "2023-07-06T13:01:04.679Z"
   },
   {
    "duration": 87,
    "start_time": "2023-07-06T13:01:04.687Z"
   },
   {
    "duration": 20,
    "start_time": "2023-07-06T13:01:04.777Z"
   },
   {
    "duration": 736,
    "start_time": "2023-07-06T13:01:04.799Z"
   },
   {
    "duration": 47,
    "start_time": "2023-07-06T13:01:05.537Z"
   },
   {
    "duration": 45,
    "start_time": "2023-07-06T13:01:05.588Z"
   },
   {
    "duration": 3,
    "start_time": "2023-07-06T13:01:05.635Z"
   },
   {
    "duration": 51,
    "start_time": "2023-07-06T13:01:05.640Z"
   },
   {
    "duration": 42,
    "start_time": "2023-07-06T13:01:05.693Z"
   },
   {
    "duration": 6,
    "start_time": "2023-07-06T13:01:05.737Z"
   },
   {
    "duration": 38,
    "start_time": "2023-07-06T13:01:05.745Z"
   },
   {
    "duration": 14,
    "start_time": "2023-07-06T13:01:05.784Z"
   },
   {
    "duration": 11,
    "start_time": "2023-07-06T13:01:05.800Z"
   },
   {
    "duration": 21,
    "start_time": "2023-07-06T13:01:05.813Z"
   },
   {
    "duration": 6,
    "start_time": "2023-07-06T13:01:05.836Z"
   },
   {
    "duration": 57,
    "start_time": "2023-07-06T13:01:05.844Z"
   },
   {
    "duration": 17,
    "start_time": "2023-07-06T13:01:05.903Z"
   },
   {
    "duration": 168,
    "start_time": "2023-07-06T13:01:05.922Z"
   },
   {
    "duration": 5,
    "start_time": "2023-07-06T13:01:06.092Z"
   },
   {
    "duration": 221,
    "start_time": "2023-07-06T13:01:06.098Z"
   },
   {
    "duration": 22,
    "start_time": "2023-07-06T13:01:06.321Z"
   },
   {
    "duration": 123,
    "start_time": "2023-07-06T13:04:12.918Z"
   },
   {
    "duration": 250,
    "start_time": "2023-07-06T13:04:44.075Z"
   },
   {
    "duration": 99,
    "start_time": "2023-07-06T13:09:41.921Z"
   },
   {
    "duration": 168,
    "start_time": "2023-07-06T13:09:56.239Z"
   },
   {
    "duration": 772,
    "start_time": "2023-07-06T13:10:11.806Z"
   },
   {
    "duration": 20,
    "start_time": "2023-07-06T13:10:12.581Z"
   },
   {
    "duration": 14,
    "start_time": "2023-07-06T13:10:12.603Z"
   },
   {
    "duration": 10,
    "start_time": "2023-07-06T13:10:12.618Z"
   },
   {
    "duration": 69,
    "start_time": "2023-07-06T13:10:12.630Z"
   },
   {
    "duration": 4,
    "start_time": "2023-07-06T13:10:12.701Z"
   },
   {
    "duration": 21,
    "start_time": "2023-07-06T13:10:12.706Z"
   },
   {
    "duration": 7,
    "start_time": "2023-07-06T13:10:12.728Z"
   },
   {
    "duration": 8,
    "start_time": "2023-07-06T13:10:12.737Z"
   },
   {
    "duration": 19,
    "start_time": "2023-07-06T13:10:12.746Z"
   },
   {
    "duration": 49,
    "start_time": "2023-07-06T13:10:12.767Z"
   },
   {
    "duration": 8,
    "start_time": "2023-07-06T13:10:12.818Z"
   },
   {
    "duration": 8,
    "start_time": "2023-07-06T13:10:12.828Z"
   },
   {
    "duration": 22,
    "start_time": "2023-07-06T13:10:12.839Z"
   },
   {
    "duration": 40,
    "start_time": "2023-07-06T13:10:12.863Z"
   },
   {
    "duration": 17,
    "start_time": "2023-07-06T13:10:12.904Z"
   },
   {
    "duration": 3,
    "start_time": "2023-07-06T13:10:12.923Z"
   },
   {
    "duration": 11,
    "start_time": "2023-07-06T13:10:12.928Z"
   },
   {
    "duration": 7,
    "start_time": "2023-07-06T13:10:12.941Z"
   },
   {
    "duration": 29,
    "start_time": "2023-07-06T13:10:12.950Z"
   },
   {
    "duration": 20,
    "start_time": "2023-07-06T13:10:12.981Z"
   },
   {
    "duration": 589,
    "start_time": "2023-07-06T13:10:13.002Z"
   },
   {
    "duration": 4,
    "start_time": "2023-07-06T13:10:13.593Z"
   },
   {
    "duration": 189,
    "start_time": "2023-07-06T13:10:13.598Z"
   },
   {
    "duration": 9,
    "start_time": "2023-07-06T13:10:13.789Z"
   },
   {
    "duration": 144,
    "start_time": "2023-07-06T13:10:13.800Z"
   },
   {
    "duration": 32,
    "start_time": "2023-07-06T13:10:13.945Z"
   },
   {
    "duration": 53,
    "start_time": "2023-07-06T13:10:13.981Z"
   },
   {
    "duration": 3,
    "start_time": "2023-07-06T13:10:14.036Z"
   },
   {
    "duration": 33,
    "start_time": "2023-07-06T13:10:14.040Z"
   },
   {
    "duration": 35,
    "start_time": "2023-07-06T13:10:14.076Z"
   },
   {
    "duration": 6,
    "start_time": "2023-07-06T13:10:14.112Z"
   },
   {
    "duration": 8,
    "start_time": "2023-07-06T13:10:14.119Z"
   },
   {
    "duration": 6,
    "start_time": "2023-07-06T13:10:14.129Z"
   },
   {
    "duration": 13,
    "start_time": "2023-07-06T13:10:14.137Z"
   },
   {
    "duration": 28,
    "start_time": "2023-07-06T13:10:14.159Z"
   },
   {
    "duration": 8,
    "start_time": "2023-07-06T13:10:14.189Z"
   },
   {
    "duration": 33,
    "start_time": "2023-07-06T13:10:14.198Z"
   },
   {
    "duration": 8,
    "start_time": "2023-07-06T13:10:14.233Z"
   },
   {
    "duration": 165,
    "start_time": "2023-07-06T13:10:14.243Z"
   },
   {
    "duration": 5,
    "start_time": "2023-07-06T13:10:14.411Z"
   },
   {
    "duration": 79,
    "start_time": "2023-07-06T13:10:14.417Z"
   },
   {
    "duration": 22,
    "start_time": "2023-07-06T13:10:14.497Z"
   },
   {
    "duration": 144,
    "start_time": "2023-07-06T13:42:44.236Z"
   },
   {
    "duration": 179,
    "start_time": "2023-07-06T13:43:15.369Z"
   },
   {
    "duration": 293,
    "start_time": "2023-07-06T13:43:21.882Z"
   },
   {
    "duration": 142,
    "start_time": "2023-07-06T13:43:27.932Z"
   },
   {
    "duration": 10,
    "start_time": "2023-07-06T13:43:49.938Z"
   },
   {
    "duration": 22,
    "start_time": "2023-07-06T13:43:59.651Z"
   },
   {
    "duration": 11,
    "start_time": "2023-07-06T13:44:15.498Z"
   },
   {
    "duration": 14,
    "start_time": "2023-07-06T13:44:20.333Z"
   },
   {
    "duration": 39,
    "start_time": "2023-07-06T13:45:03.179Z"
   },
   {
    "duration": 11,
    "start_time": "2023-07-06T13:45:21.911Z"
   },
   {
    "duration": 15,
    "start_time": "2023-07-06T13:45:37.788Z"
   },
   {
    "duration": 12,
    "start_time": "2023-07-06T13:46:06.586Z"
   },
   {
    "duration": 117,
    "start_time": "2023-07-06T13:46:10.877Z"
   },
   {
    "duration": 173,
    "start_time": "2023-07-06T13:49:35.456Z"
   },
   {
    "duration": 104,
    "start_time": "2023-07-06T13:50:39.297Z"
   },
   {
    "duration": 167,
    "start_time": "2023-07-06T13:50:48.888Z"
   },
   {
    "duration": 150,
    "start_time": "2023-07-06T13:51:10.180Z"
   },
   {
    "duration": 146,
    "start_time": "2023-07-06T13:51:14.311Z"
   },
   {
    "duration": 152,
    "start_time": "2023-07-06T13:51:34.771Z"
   },
   {
    "duration": 155,
    "start_time": "2023-07-06T13:53:51.072Z"
   },
   {
    "duration": 7,
    "start_time": "2023-07-06T13:55:35.728Z"
   },
   {
    "duration": 8,
    "start_time": "2023-07-06T13:55:58.133Z"
   },
   {
    "duration": 4,
    "start_time": "2023-07-06T13:58:40.189Z"
   },
   {
    "duration": 5,
    "start_time": "2023-07-06T13:59:27.694Z"
   },
   {
    "duration": 14,
    "start_time": "2023-07-06T13:59:58.645Z"
   },
   {
    "duration": 11,
    "start_time": "2023-07-06T14:00:04.172Z"
   },
   {
    "duration": 8,
    "start_time": "2023-07-06T14:00:34.713Z"
   },
   {
    "duration": 7,
    "start_time": "2023-07-06T14:01:22.549Z"
   },
   {
    "duration": 9,
    "start_time": "2023-07-06T14:02:25.094Z"
   },
   {
    "duration": 10,
    "start_time": "2023-07-06T14:02:54.628Z"
   },
   {
    "duration": 9,
    "start_time": "2023-07-06T14:03:12.912Z"
   },
   {
    "duration": 12,
    "start_time": "2023-07-06T14:03:29.405Z"
   },
   {
    "duration": 10,
    "start_time": "2023-07-06T14:03:40.521Z"
   },
   {
    "duration": 9,
    "start_time": "2023-07-06T14:05:29.498Z"
   },
   {
    "duration": 8,
    "start_time": "2023-07-06T14:05:50.656Z"
   },
   {
    "duration": 124,
    "start_time": "2023-07-06T14:06:05.144Z"
   },
   {
    "duration": 141,
    "start_time": "2023-07-06T14:06:16.021Z"
   },
   {
    "duration": 160,
    "start_time": "2023-07-06T14:06:52.343Z"
   },
   {
    "duration": 161,
    "start_time": "2023-07-06T14:07:14.470Z"
   },
   {
    "duration": 169,
    "start_time": "2023-07-06T14:07:30.047Z"
   },
   {
    "duration": 158,
    "start_time": "2023-07-06T14:08:25.441Z"
   },
   {
    "duration": 156,
    "start_time": "2023-07-06T14:09:35.306Z"
   },
   {
    "duration": 130,
    "start_time": "2023-07-06T14:10:04.290Z"
   },
   {
    "duration": 833,
    "start_time": "2023-07-06T14:11:27.073Z"
   },
   {
    "duration": 21,
    "start_time": "2023-07-06T14:11:27.908Z"
   },
   {
    "duration": 23,
    "start_time": "2023-07-06T14:11:27.931Z"
   },
   {
    "duration": 34,
    "start_time": "2023-07-06T14:11:27.956Z"
   },
   {
    "duration": 40,
    "start_time": "2023-07-06T14:11:27.993Z"
   },
   {
    "duration": 4,
    "start_time": "2023-07-06T14:11:28.035Z"
   },
   {
    "duration": 28,
    "start_time": "2023-07-06T14:11:28.042Z"
   },
   {
    "duration": 16,
    "start_time": "2023-07-06T14:11:28.074Z"
   },
   {
    "duration": 9,
    "start_time": "2023-07-06T14:11:28.091Z"
   },
   {
    "duration": 4,
    "start_time": "2023-07-06T14:11:28.102Z"
   },
   {
    "duration": 87,
    "start_time": "2023-07-06T14:11:28.107Z"
   },
   {
    "duration": 10,
    "start_time": "2023-07-06T14:11:28.195Z"
   },
   {
    "duration": 7,
    "start_time": "2023-07-06T14:11:28.206Z"
   },
   {
    "duration": 44,
    "start_time": "2023-07-06T14:11:28.216Z"
   },
   {
    "duration": 47,
    "start_time": "2023-07-06T14:11:28.264Z"
   },
   {
    "duration": 20,
    "start_time": "2023-07-06T14:11:28.314Z"
   },
   {
    "duration": 12,
    "start_time": "2023-07-06T14:11:28.336Z"
   },
   {
    "duration": 46,
    "start_time": "2023-07-06T14:11:28.350Z"
   },
   {
    "duration": 18,
    "start_time": "2023-07-06T14:11:28.399Z"
   },
   {
    "duration": 9,
    "start_time": "2023-07-06T14:11:28.419Z"
   },
   {
    "duration": 19,
    "start_time": "2023-07-06T14:11:28.430Z"
   },
   {
    "duration": 853,
    "start_time": "2023-07-06T14:11:28.452Z"
   },
   {
    "duration": 4,
    "start_time": "2023-07-06T14:11:29.307Z"
   },
   {
    "duration": 67,
    "start_time": "2023-07-06T14:11:29.313Z"
   },
   {
    "duration": 37,
    "start_time": "2023-07-06T14:11:29.382Z"
   },
   {
    "duration": 184,
    "start_time": "2023-07-06T14:11:29.421Z"
   },
   {
    "duration": 30,
    "start_time": "2023-07-06T14:11:29.653Z"
   },
   {
    "duration": 113,
    "start_time": "2023-07-06T14:11:29.686Z"
   },
   {
    "duration": 4,
    "start_time": "2023-07-06T14:11:29.801Z"
   },
   {
    "duration": 84,
    "start_time": "2023-07-06T14:11:29.806Z"
   },
   {
    "duration": 69,
    "start_time": "2023-07-06T14:11:29.893Z"
   },
   {
    "duration": 12,
    "start_time": "2023-07-06T14:11:29.964Z"
   },
   {
    "duration": 21,
    "start_time": "2023-07-06T14:11:29.978Z"
   },
   {
    "duration": 35,
    "start_time": "2023-07-06T14:11:30.001Z"
   },
   {
    "duration": 62,
    "start_time": "2023-07-06T14:11:30.038Z"
   },
   {
    "duration": 63,
    "start_time": "2023-07-06T14:11:30.102Z"
   },
   {
    "duration": 27,
    "start_time": "2023-07-06T14:11:30.167Z"
   },
   {
    "duration": 46,
    "start_time": "2023-07-06T14:11:30.196Z"
   },
   {
    "duration": 46,
    "start_time": "2023-07-06T14:11:30.245Z"
   },
   {
    "duration": 207,
    "start_time": "2023-07-06T14:11:30.293Z"
   },
   {
    "duration": 184,
    "start_time": "2023-07-06T14:11:30.506Z"
   },
   {
    "duration": 5,
    "start_time": "2023-07-06T14:11:30.691Z"
   },
   {
    "duration": 75,
    "start_time": "2023-07-06T14:11:30.698Z"
   },
   {
    "duration": 38,
    "start_time": "2023-07-06T14:11:30.776Z"
   },
   {
    "duration": 12,
    "start_time": "2023-07-06T14:13:50.253Z"
   },
   {
    "duration": 6,
    "start_time": "2023-07-06T14:14:07.408Z"
   },
   {
    "duration": 6,
    "start_time": "2023-07-06T14:14:56.369Z"
   },
   {
    "duration": 774,
    "start_time": "2023-07-06T14:15:12.534Z"
   },
   {
    "duration": 21,
    "start_time": "2023-07-06T14:15:13.310Z"
   },
   {
    "duration": 14,
    "start_time": "2023-07-06T14:15:13.333Z"
   },
   {
    "duration": 17,
    "start_time": "2023-07-06T14:15:13.350Z"
   },
   {
    "duration": 52,
    "start_time": "2023-07-06T14:15:13.369Z"
   },
   {
    "duration": 3,
    "start_time": "2023-07-06T14:15:13.423Z"
   },
   {
    "duration": 13,
    "start_time": "2023-07-06T14:15:13.427Z"
   },
   {
    "duration": 8,
    "start_time": "2023-07-06T14:15:13.441Z"
   },
   {
    "duration": 22,
    "start_time": "2023-07-06T14:15:13.450Z"
   },
   {
    "duration": 4,
    "start_time": "2023-07-06T14:15:13.474Z"
   },
   {
    "duration": 32,
    "start_time": "2023-07-06T14:15:13.480Z"
   },
   {
    "duration": 8,
    "start_time": "2023-07-06T14:15:13.514Z"
   },
   {
    "duration": 6,
    "start_time": "2023-07-06T14:15:13.524Z"
   },
   {
    "duration": 27,
    "start_time": "2023-07-06T14:15:13.531Z"
   },
   {
    "duration": 21,
    "start_time": "2023-07-06T14:15:13.559Z"
   },
   {
    "duration": 17,
    "start_time": "2023-07-06T14:15:13.582Z"
   },
   {
    "duration": 4,
    "start_time": "2023-07-06T14:15:13.600Z"
   },
   {
    "duration": 19,
    "start_time": "2023-07-06T14:15:13.606Z"
   },
   {
    "duration": 16,
    "start_time": "2023-07-06T14:15:13.627Z"
   },
   {
    "duration": 23,
    "start_time": "2023-07-06T14:15:13.645Z"
   },
   {
    "duration": 11,
    "start_time": "2023-07-06T14:15:13.670Z"
   },
   {
    "duration": 518,
    "start_time": "2023-07-06T14:15:13.682Z"
   },
   {
    "duration": 5,
    "start_time": "2023-07-06T14:15:14.203Z"
   },
   {
    "duration": 13,
    "start_time": "2023-07-06T14:15:14.209Z"
   },
   {
    "duration": 10,
    "start_time": "2023-07-06T14:15:14.224Z"
   },
   {
    "duration": 188,
    "start_time": "2023-07-06T14:15:14.236Z"
   },
   {
    "duration": 31,
    "start_time": "2023-07-06T14:15:14.426Z"
   },
   {
    "duration": 39,
    "start_time": "2023-07-06T14:15:14.461Z"
   },
   {
    "duration": 4,
    "start_time": "2023-07-06T14:15:14.502Z"
   },
   {
    "duration": 14,
    "start_time": "2023-07-06T14:15:14.507Z"
   },
   {
    "duration": 37,
    "start_time": "2023-07-06T14:15:14.523Z"
   },
   {
    "duration": 6,
    "start_time": "2023-07-06T14:15:14.563Z"
   },
   {
    "duration": 8,
    "start_time": "2023-07-06T14:15:14.570Z"
   },
   {
    "duration": 5,
    "start_time": "2023-07-06T14:15:14.579Z"
   },
   {
    "duration": 9,
    "start_time": "2023-07-06T14:15:14.586Z"
   },
   {
    "duration": 18,
    "start_time": "2023-07-06T14:15:14.597Z"
   },
   {
    "duration": 6,
    "start_time": "2023-07-06T14:15:14.616Z"
   },
   {
    "duration": 33,
    "start_time": "2023-07-06T14:15:14.652Z"
   },
   {
    "duration": 6,
    "start_time": "2023-07-06T14:15:14.686Z"
   },
   {
    "duration": 161,
    "start_time": "2023-07-06T14:15:14.694Z"
   },
   {
    "duration": 138,
    "start_time": "2023-07-06T14:15:14.857Z"
   },
   {
    "duration": 6,
    "start_time": "2023-07-06T14:15:14.997Z"
   },
   {
    "duration": 63,
    "start_time": "2023-07-06T14:15:15.004Z"
   },
   {
    "duration": 16,
    "start_time": "2023-07-06T14:15:15.069Z"
   },
   {
    "duration": 129,
    "start_time": "2023-07-06T14:16:31.905Z"
   },
   {
    "duration": 167,
    "start_time": "2023-07-06T14:17:19.894Z"
   },
   {
    "duration": 145,
    "start_time": "2023-07-06T14:17:59.293Z"
   },
   {
    "duration": 150,
    "start_time": "2023-07-06T14:18:28.590Z"
   },
   {
    "duration": 894,
    "start_time": "2023-07-06T14:19:41.456Z"
   },
   {
    "duration": 31,
    "start_time": "2023-07-06T14:19:42.354Z"
   },
   {
    "duration": 20,
    "start_time": "2023-07-06T14:19:42.387Z"
   },
   {
    "duration": 9,
    "start_time": "2023-07-06T14:19:42.410Z"
   },
   {
    "duration": 62,
    "start_time": "2023-07-06T14:19:42.421Z"
   },
   {
    "duration": 5,
    "start_time": "2023-07-06T14:19:42.486Z"
   },
   {
    "duration": 12,
    "start_time": "2023-07-06T14:19:42.492Z"
   },
   {
    "duration": 6,
    "start_time": "2023-07-06T14:19:42.505Z"
   },
   {
    "duration": 12,
    "start_time": "2023-07-06T14:19:42.513Z"
   },
   {
    "duration": 4,
    "start_time": "2023-07-06T14:19:42.529Z"
   },
   {
    "duration": 43,
    "start_time": "2023-07-06T14:19:42.535Z"
   },
   {
    "duration": 9,
    "start_time": "2023-07-06T14:19:42.580Z"
   },
   {
    "duration": 9,
    "start_time": "2023-07-06T14:19:42.590Z"
   },
   {
    "duration": 14,
    "start_time": "2023-07-06T14:19:42.601Z"
   },
   {
    "duration": 30,
    "start_time": "2023-07-06T14:19:42.617Z"
   },
   {
    "duration": 25,
    "start_time": "2023-07-06T14:19:42.651Z"
   },
   {
    "duration": 11,
    "start_time": "2023-07-06T14:19:42.680Z"
   },
   {
    "duration": 15,
    "start_time": "2023-07-06T14:19:42.693Z"
   },
   {
    "duration": 9,
    "start_time": "2023-07-06T14:19:42.709Z"
   },
   {
    "duration": 4,
    "start_time": "2023-07-06T14:19:42.719Z"
   },
   {
    "duration": 10,
    "start_time": "2023-07-06T14:19:42.724Z"
   },
   {
    "duration": 551,
    "start_time": "2023-07-06T14:19:42.735Z"
   },
   {
    "duration": 4,
    "start_time": "2023-07-06T14:19:43.288Z"
   },
   {
    "duration": 9,
    "start_time": "2023-07-06T14:19:43.294Z"
   },
   {
    "duration": 10,
    "start_time": "2023-07-06T14:19:43.304Z"
   },
   {
    "duration": 220,
    "start_time": "2023-07-06T14:19:43.315Z"
   },
   {
    "duration": 34,
    "start_time": "2023-07-06T14:19:43.536Z"
   },
   {
    "duration": 43,
    "start_time": "2023-07-06T14:19:43.576Z"
   },
   {
    "duration": 4,
    "start_time": "2023-07-06T14:19:43.620Z"
   },
   {
    "duration": 18,
    "start_time": "2023-07-06T14:19:43.625Z"
   },
   {
    "duration": 37,
    "start_time": "2023-07-06T14:19:43.645Z"
   },
   {
    "duration": 8,
    "start_time": "2023-07-06T14:19:43.684Z"
   },
   {
    "duration": 10,
    "start_time": "2023-07-06T14:19:43.693Z"
   },
   {
    "duration": 6,
    "start_time": "2023-07-06T14:19:43.704Z"
   },
   {
    "duration": 12,
    "start_time": "2023-07-06T14:19:43.712Z"
   },
   {
    "duration": 44,
    "start_time": "2023-07-06T14:19:43.725Z"
   },
   {
    "duration": 9,
    "start_time": "2023-07-06T14:19:43.774Z"
   },
   {
    "duration": 25,
    "start_time": "2023-07-06T14:19:43.785Z"
   },
   {
    "duration": 5,
    "start_time": "2023-07-06T14:19:43.812Z"
   },
   {
    "duration": 168,
    "start_time": "2023-07-06T14:19:43.819Z"
   },
   {
    "duration": 141,
    "start_time": "2023-07-06T14:19:43.989Z"
   },
   {
    "duration": 5,
    "start_time": "2023-07-06T14:19:44.131Z"
   },
   {
    "duration": 35,
    "start_time": "2023-07-06T14:19:44.138Z"
   },
   {
    "duration": 11,
    "start_time": "2023-07-06T14:19:44.174Z"
   },
   {
    "duration": 11,
    "start_time": "2023-07-06T14:20:37.121Z"
   },
   {
    "duration": 4,
    "start_time": "2023-07-06T14:21:01.095Z"
   },
   {
    "duration": 7,
    "start_time": "2023-07-06T14:21:32.166Z"
   },
   {
    "duration": 11,
    "start_time": "2023-07-06T14:22:07.112Z"
   },
   {
    "duration": 24,
    "start_time": "2023-07-06T14:23:16.609Z"
   },
   {
    "duration": 790,
    "start_time": "2023-07-06T14:23:30.743Z"
   },
   {
    "duration": 28,
    "start_time": "2023-07-06T14:23:31.535Z"
   },
   {
    "duration": 52,
    "start_time": "2023-07-06T14:23:31.565Z"
   },
   {
    "duration": 26,
    "start_time": "2023-07-06T14:23:31.619Z"
   },
   {
    "duration": 53,
    "start_time": "2023-07-06T14:23:31.646Z"
   },
   {
    "duration": 4,
    "start_time": "2023-07-06T14:23:31.700Z"
   },
   {
    "duration": 43,
    "start_time": "2023-07-06T14:23:31.706Z"
   },
   {
    "duration": 31,
    "start_time": "2023-07-06T14:23:31.751Z"
   },
   {
    "duration": 21,
    "start_time": "2023-07-06T14:23:31.783Z"
   },
   {
    "duration": 22,
    "start_time": "2023-07-06T14:23:31.807Z"
   },
   {
    "duration": 65,
    "start_time": "2023-07-06T14:23:31.831Z"
   },
   {
    "duration": 10,
    "start_time": "2023-07-06T14:23:31.898Z"
   },
   {
    "duration": 32,
    "start_time": "2023-07-06T14:23:31.909Z"
   },
   {
    "duration": 35,
    "start_time": "2023-07-06T14:23:31.943Z"
   },
   {
    "duration": 62,
    "start_time": "2023-07-06T14:23:31.980Z"
   },
   {
    "duration": 36,
    "start_time": "2023-07-06T14:23:32.044Z"
   },
   {
    "duration": 18,
    "start_time": "2023-07-06T14:23:32.082Z"
   },
   {
    "duration": 32,
    "start_time": "2023-07-06T14:23:32.102Z"
   },
   {
    "duration": 11,
    "start_time": "2023-07-06T14:23:32.136Z"
   },
   {
    "duration": 23,
    "start_time": "2023-07-06T14:23:32.148Z"
   },
   {
    "duration": 32,
    "start_time": "2023-07-06T14:23:32.173Z"
   },
   {
    "duration": 616,
    "start_time": "2023-07-06T14:23:32.207Z"
   },
   {
    "duration": 4,
    "start_time": "2023-07-06T14:23:32.825Z"
   },
   {
    "duration": 26,
    "start_time": "2023-07-06T14:23:32.831Z"
   },
   {
    "duration": 25,
    "start_time": "2023-07-06T14:23:32.858Z"
   },
   {
    "duration": 205,
    "start_time": "2023-07-06T14:23:32.885Z"
   },
   {
    "duration": 19,
    "start_time": "2023-07-06T14:23:33.093Z"
   },
   {
    "duration": 56,
    "start_time": "2023-07-06T14:23:33.115Z"
   },
   {
    "duration": 3,
    "start_time": "2023-07-06T14:23:33.173Z"
   },
   {
    "duration": 24,
    "start_time": "2023-07-06T14:23:33.178Z"
   },
   {
    "duration": 39,
    "start_time": "2023-07-06T14:23:33.204Z"
   },
   {
    "duration": 8,
    "start_time": "2023-07-06T14:23:33.245Z"
   },
   {
    "duration": 22,
    "start_time": "2023-07-06T14:23:33.254Z"
   },
   {
    "duration": 13,
    "start_time": "2023-07-06T14:23:33.278Z"
   },
   {
    "duration": 10,
    "start_time": "2023-07-06T14:23:33.294Z"
   },
   {
    "duration": 30,
    "start_time": "2023-07-06T14:23:33.305Z"
   },
   {
    "duration": 7,
    "start_time": "2023-07-06T14:23:33.337Z"
   },
   {
    "duration": 91,
    "start_time": "2023-07-06T14:23:33.345Z"
   },
   {
    "duration": 11,
    "start_time": "2023-07-06T14:23:33.438Z"
   },
   {
    "duration": 163,
    "start_time": "2023-07-06T14:23:33.451Z"
   },
   {
    "duration": 140,
    "start_time": "2023-07-06T14:23:33.616Z"
   },
   {
    "duration": 8,
    "start_time": "2023-07-06T14:23:33.760Z"
   },
   {
    "duration": 23,
    "start_time": "2023-07-06T14:23:33.770Z"
   },
   {
    "duration": 7,
    "start_time": "2023-07-06T14:23:33.794Z"
   },
   {
    "duration": 1024,
    "start_time": "2023-07-06T17:55:05.913Z"
   },
   {
    "duration": 30,
    "start_time": "2023-07-06T17:55:06.940Z"
   },
   {
    "duration": 29,
    "start_time": "2023-07-06T17:55:06.973Z"
   },
   {
    "duration": 11,
    "start_time": "2023-07-06T17:55:07.004Z"
   },
   {
    "duration": 52,
    "start_time": "2023-07-06T17:55:07.016Z"
   },
   {
    "duration": 5,
    "start_time": "2023-07-06T17:55:07.070Z"
   },
   {
    "duration": 11,
    "start_time": "2023-07-06T17:55:07.076Z"
   },
   {
    "duration": 23,
    "start_time": "2023-07-06T17:55:07.089Z"
   },
   {
    "duration": 12,
    "start_time": "2023-07-06T17:55:07.114Z"
   },
   {
    "duration": 4,
    "start_time": "2023-07-06T17:55:07.129Z"
   },
   {
    "duration": 53,
    "start_time": "2023-07-06T17:55:07.134Z"
   },
   {
    "duration": 9,
    "start_time": "2023-07-06T17:55:07.189Z"
   },
   {
    "duration": 18,
    "start_time": "2023-07-06T17:55:07.200Z"
   },
   {
    "duration": 17,
    "start_time": "2023-07-06T17:55:07.220Z"
   },
   {
    "duration": 30,
    "start_time": "2023-07-06T17:55:07.239Z"
   },
   {
    "duration": 23,
    "start_time": "2023-07-06T17:55:07.280Z"
   },
   {
    "duration": 5,
    "start_time": "2023-07-06T17:55:07.305Z"
   },
   {
    "duration": 21,
    "start_time": "2023-07-06T17:55:07.313Z"
   },
   {
    "duration": 7,
    "start_time": "2023-07-06T17:55:07.336Z"
   },
   {
    "duration": 9,
    "start_time": "2023-07-06T17:55:07.345Z"
   },
   {
    "duration": 33,
    "start_time": "2023-07-06T17:55:07.356Z"
   },
   {
    "duration": 696,
    "start_time": "2023-07-06T17:55:07.391Z"
   },
   {
    "duration": 5,
    "start_time": "2023-07-06T17:55:08.089Z"
   },
   {
    "duration": 11,
    "start_time": "2023-07-06T17:55:08.096Z"
   },
   {
    "duration": 20,
    "start_time": "2023-07-06T17:55:08.108Z"
   },
   {
    "duration": 267,
    "start_time": "2023-07-06T17:55:08.130Z"
   },
   {
    "duration": 21,
    "start_time": "2023-07-06T17:55:08.400Z"
   },
   {
    "duration": 75,
    "start_time": "2023-07-06T17:55:08.426Z"
   },
   {
    "duration": 5,
    "start_time": "2023-07-06T17:55:08.503Z"
   },
   {
    "duration": 24,
    "start_time": "2023-07-06T17:55:08.509Z"
   },
   {
    "duration": 36,
    "start_time": "2023-07-06T17:55:08.535Z"
   },
   {
    "duration": 6,
    "start_time": "2023-07-06T17:55:08.577Z"
   },
   {
    "duration": 12,
    "start_time": "2023-07-06T17:55:08.586Z"
   },
   {
    "duration": 19,
    "start_time": "2023-07-06T17:55:08.600Z"
   },
   {
    "duration": 11,
    "start_time": "2023-07-06T17:55:08.621Z"
   },
   {
    "duration": 39,
    "start_time": "2023-07-06T17:55:08.634Z"
   },
   {
    "duration": 7,
    "start_time": "2023-07-06T17:55:08.679Z"
   },
   {
    "duration": 20,
    "start_time": "2023-07-06T17:55:08.691Z"
   },
   {
    "duration": 6,
    "start_time": "2023-07-06T17:55:08.713Z"
   },
   {
    "duration": 183,
    "start_time": "2023-07-06T17:55:08.721Z"
   },
   {
    "duration": 189,
    "start_time": "2023-07-06T17:55:08.906Z"
   },
   {
    "duration": 7,
    "start_time": "2023-07-06T17:55:09.100Z"
   },
   {
    "duration": 25,
    "start_time": "2023-07-06T17:55:09.108Z"
   },
   {
    "duration": 7,
    "start_time": "2023-07-06T17:55:09.134Z"
   },
   {
    "duration": 990,
    "start_time": "2023-07-24T11:46:55.398Z"
   },
   {
    "duration": 23,
    "start_time": "2023-07-24T11:46:56.391Z"
   },
   {
    "duration": 20,
    "start_time": "2023-07-24T11:46:56.416Z"
   },
   {
    "duration": 14,
    "start_time": "2023-07-24T11:46:56.439Z"
   },
   {
    "duration": 51,
    "start_time": "2023-07-24T11:46:56.454Z"
   },
   {
    "duration": 4,
    "start_time": "2023-07-24T11:46:56.507Z"
   },
   {
    "duration": 23,
    "start_time": "2023-07-24T11:46:56.514Z"
   },
   {
    "duration": 8,
    "start_time": "2023-07-24T11:46:56.539Z"
   },
   {
    "duration": 30,
    "start_time": "2023-07-24T11:46:56.548Z"
   },
   {
    "duration": 14,
    "start_time": "2023-07-24T11:46:56.580Z"
   },
   {
    "duration": 44,
    "start_time": "2023-07-24T11:46:56.596Z"
   },
   {
    "duration": 9,
    "start_time": "2023-07-24T11:46:56.641Z"
   },
   {
    "duration": 8,
    "start_time": "2023-07-24T11:46:56.652Z"
   },
   {
    "duration": 31,
    "start_time": "2023-07-24T11:46:56.662Z"
   },
   {
    "duration": 30,
    "start_time": "2023-07-24T11:46:56.695Z"
   },
   {
    "duration": 29,
    "start_time": "2023-07-24T11:46:56.727Z"
   },
   {
    "duration": 3,
    "start_time": "2023-07-24T11:46:56.758Z"
   },
   {
    "duration": 31,
    "start_time": "2023-07-24T11:46:56.762Z"
   },
   {
    "duration": 8,
    "start_time": "2023-07-24T11:46:56.795Z"
   },
   {
    "duration": 12,
    "start_time": "2023-07-24T11:46:56.804Z"
   },
   {
    "duration": 16,
    "start_time": "2023-07-24T11:46:56.817Z"
   },
   {
    "duration": 590,
    "start_time": "2023-07-24T11:46:56.834Z"
   },
   {
    "duration": 4,
    "start_time": "2023-07-24T11:46:57.426Z"
   },
   {
    "duration": 14,
    "start_time": "2023-07-24T11:46:57.432Z"
   },
   {
    "duration": 11,
    "start_time": "2023-07-24T11:46:57.448Z"
   },
   {
    "duration": 255,
    "start_time": "2023-07-24T11:46:57.461Z"
   },
   {
    "duration": 19,
    "start_time": "2023-07-24T11:46:57.718Z"
   },
   {
    "duration": 41,
    "start_time": "2023-07-24T11:46:57.741Z"
   },
   {
    "duration": 4,
    "start_time": "2023-07-24T11:46:57.784Z"
   },
   {
    "duration": 28,
    "start_time": "2023-07-24T11:46:57.790Z"
   },
   {
    "duration": 38,
    "start_time": "2023-07-24T11:46:57.820Z"
   },
   {
    "duration": 6,
    "start_time": "2023-07-24T11:46:57.860Z"
   },
   {
    "duration": 9,
    "start_time": "2023-07-24T11:46:57.868Z"
   },
   {
    "duration": 5,
    "start_time": "2023-07-24T11:46:57.879Z"
   },
   {
    "duration": 8,
    "start_time": "2023-07-24T11:46:57.885Z"
   },
   {
    "duration": 36,
    "start_time": "2023-07-24T11:46:57.895Z"
   },
   {
    "duration": 7,
    "start_time": "2023-07-24T11:46:57.932Z"
   },
   {
    "duration": 30,
    "start_time": "2023-07-24T11:46:57.940Z"
   },
   {
    "duration": 6,
    "start_time": "2023-07-24T11:46:57.972Z"
   },
   {
    "duration": 173,
    "start_time": "2023-07-24T11:46:57.980Z"
   },
   {
    "duration": 189,
    "start_time": "2023-07-24T11:46:58.156Z"
   },
   {
    "duration": 5,
    "start_time": "2023-07-24T11:46:58.348Z"
   },
   {
    "duration": 27,
    "start_time": "2023-07-24T11:46:58.354Z"
   },
   {
    "duration": 6,
    "start_time": "2023-07-24T11:46:58.383Z"
   }
  ],
  "colab": {
   "name": "dpp_template_part2.ipynb",
   "provenance": []
  },
  "kernelspec": {
   "display_name": "Python 3 (ipykernel)",
   "language": "python",
   "name": "python3"
  },
  "language_info": {
   "codemirror_mode": {
    "name": "ipython",
    "version": 3
   },
   "file_extension": ".py",
   "mimetype": "text/x-python",
   "name": "python",
   "nbconvert_exporter": "python",
   "pygments_lexer": "ipython3",
   "version": "3.9.5"
  },
  "toc": {
   "base_numbering": 1,
   "nav_menu": {},
   "number_sections": true,
   "sideBar": true,
   "skip_h1_title": true,
   "title_cell": "Table of Contents",
   "title_sidebar": "Contents",
   "toc_cell": false,
   "toc_position": {
    "height": "calc(100% - 180px)",
    "left": "10px",
    "top": "150px",
    "width": "165px"
   },
   "toc_section_display": true,
   "toc_window_display": true
  },
  "toc-autonumbering": false
 },
 "nbformat": 4,
 "nbformat_minor": 5
}
