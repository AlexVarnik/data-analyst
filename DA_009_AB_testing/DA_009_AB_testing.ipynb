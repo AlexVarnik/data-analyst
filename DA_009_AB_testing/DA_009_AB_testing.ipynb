{
 "cells": [
  {
   "cell_type": "markdown",
   "metadata": {},
   "source": [
    "# Описание проекта"
   ]
  },
  {
   "cell_type": "markdown",
   "metadata": {},
   "source": [
    "Вместе с отделом маркетинга крупного интернет-магазина мы подготовили список гипотез для увеличения выручки.\n",
    "\n",
    "**Цели исследования**\n",
    "- Выполнить приоритизацию гипотез и выбрать наиболее перспективные идеи для тестирования.\n",
    "- Провести анализ и сделать выводы о результатах A/B-теста. Принять решение по результам теста.\n",
    "\n",
    "**Ход исследования**\n",
    "\n",
    "Исследование пройдёт в два этапа.\n",
    "\n",
    "- В первой части проекта выполним приоритизацию гипотез методами ICE и RICE.\n",
    "- Во второй части проекта проведём анализ результатов A/B-теста и примем решение, следует ли зафиксировать победу одной из групп или отсутствие различий между группами, либо следует продолжить тест."
   ]
  },
  {
   "cell_type": "markdown",
   "metadata": {},
   "source": [
    "Загрузим библиотеки"
   ]
  },
  {
   "cell_type": "code",
   "execution_count": 1,
   "metadata": {},
   "outputs": [],
   "source": [
    "#загружаем библиотеки\n",
    "import pandas as pd\n",
    "import numpy as np\n",
    "import scipy.stats as stats\n",
    "import datetime as dt\n",
    "import seaborn as sns\n",
    "sns.set_style('white')\n",
    "\n",
    "# отключаем предупреждения Anaconda\n",
    "import warnings\n",
    "warnings.simplefilter('ignore')\n",
    "\n",
    "import matplotlib.pyplot as plt\n",
    "from pandas.plotting import register_matplotlib_converters\n",
    "# конвертеры, которые позволяют использовать типы pandas в matplotlib  \n",
    "register_matplotlib_converters()\n",
    "\n",
    "%matplotlib inline"
   ]
  },
  {
   "cell_type": "code",
   "execution_count": 2,
   "metadata": {},
   "outputs": [],
   "source": [
    "#настроим вывод так чтобы:\n",
    "#текст в ячейке отображался полностью вне зависимости от длины (пригодится, чтобы посмотреть полное описание гипотез)\n",
    "pd.set_option('display.max_colwidth', None)\n",
    "#числа отображались с двумя знаками после запятой\n",
    "pd.set_option('display.float_format', '{:.2f}'.format)"
   ]
  },
  {
   "cell_type": "markdown",
   "metadata": {},
   "source": [
    "## Приоритизация гипотез"
   ]
  },
  {
   "cell_type": "markdown",
   "metadata": {},
   "source": [
    "### Определение приоритета методом ICE"
   ]
  },
  {
   "cell_type": "markdown",
   "metadata": {},
   "source": [
    "Считаем наш список гипотез из файла в датафрейм `hypothesis`."
   ]
  },
  {
   "cell_type": "code",
   "execution_count": 3,
   "metadata": {},
   "outputs": [],
   "source": [
    "try:\n",
    "    hypothesis = pd.read_csv('C:\\\\Users\\\\alexv\\\\Downloads\\\\hypothesis.csv')  \n",
    "except:\n",
    "    hypothesis = pd.read_csv('/datasets/hypothesis.csv')"
   ]
  },
  {
   "cell_type": "markdown",
   "metadata": {},
   "source": [
    "Выведем гипотезы на экран."
   ]
  },
  {
   "cell_type": "code",
   "execution_count": 4,
   "metadata": {},
   "outputs": [
    {
     "data": {
      "text/html": [
       "<div>\n",
       "<style scoped>\n",
       "    .dataframe tbody tr th:only-of-type {\n",
       "        vertical-align: middle;\n",
       "    }\n",
       "\n",
       "    .dataframe tbody tr th {\n",
       "        vertical-align: top;\n",
       "    }\n",
       "\n",
       "    .dataframe thead th {\n",
       "        text-align: right;\n",
       "    }\n",
       "</style>\n",
       "<table border=\"1\" class=\"dataframe\">\n",
       "  <thead>\n",
       "    <tr style=\"text-align: right;\">\n",
       "      <th></th>\n",
       "      <th>Hypothesis</th>\n",
       "      <th>Reach</th>\n",
       "      <th>Impact</th>\n",
       "      <th>Confidence</th>\n",
       "      <th>Efforts</th>\n",
       "    </tr>\n",
       "  </thead>\n",
       "  <tbody>\n",
       "    <tr>\n",
       "      <th>0</th>\n",
       "      <td>Добавить два новых канала привлечения трафика, что позволит привлекать на 30% больше пользователей</td>\n",
       "      <td>3</td>\n",
       "      <td>10</td>\n",
       "      <td>8</td>\n",
       "      <td>6</td>\n",
       "    </tr>\n",
       "    <tr>\n",
       "      <th>1</th>\n",
       "      <td>Запустить собственную службу доставки, что сократит срок доставки заказов</td>\n",
       "      <td>2</td>\n",
       "      <td>5</td>\n",
       "      <td>4</td>\n",
       "      <td>10</td>\n",
       "    </tr>\n",
       "    <tr>\n",
       "      <th>2</th>\n",
       "      <td>Добавить блоки рекомендаций товаров на сайт интернет магазина, чтобы повысить конверсию и средний чек заказа</td>\n",
       "      <td>8</td>\n",
       "      <td>3</td>\n",
       "      <td>7</td>\n",
       "      <td>3</td>\n",
       "    </tr>\n",
       "    <tr>\n",
       "      <th>3</th>\n",
       "      <td>Изменить структура категорий, что увеличит конверсию, т.к. пользователи быстрее найдут нужный товар</td>\n",
       "      <td>8</td>\n",
       "      <td>3</td>\n",
       "      <td>3</td>\n",
       "      <td>8</td>\n",
       "    </tr>\n",
       "    <tr>\n",
       "      <th>4</th>\n",
       "      <td>Изменить цвет фона главной страницы, чтобы увеличить вовлеченность пользователей</td>\n",
       "      <td>3</td>\n",
       "      <td>1</td>\n",
       "      <td>1</td>\n",
       "      <td>1</td>\n",
       "    </tr>\n",
       "    <tr>\n",
       "      <th>5</th>\n",
       "      <td>Добавить страницу отзывов клиентов о магазине, что позволит увеличить количество заказов</td>\n",
       "      <td>3</td>\n",
       "      <td>2</td>\n",
       "      <td>2</td>\n",
       "      <td>3</td>\n",
       "    </tr>\n",
       "    <tr>\n",
       "      <th>6</th>\n",
       "      <td>Показать на главной странице баннеры с актуальными акциями и распродажами, чтобы увеличить конверсию</td>\n",
       "      <td>5</td>\n",
       "      <td>3</td>\n",
       "      <td>8</td>\n",
       "      <td>3</td>\n",
       "    </tr>\n",
       "    <tr>\n",
       "      <th>7</th>\n",
       "      <td>Добавить форму подписки на все основные страницы, чтобы собрать базу клиентов для email-рассылок</td>\n",
       "      <td>10</td>\n",
       "      <td>7</td>\n",
       "      <td>8</td>\n",
       "      <td>5</td>\n",
       "    </tr>\n",
       "    <tr>\n",
       "      <th>8</th>\n",
       "      <td>Запустить акцию, дающую скидку на товар в день рождения</td>\n",
       "      <td>1</td>\n",
       "      <td>9</td>\n",
       "      <td>9</td>\n",
       "      <td>5</td>\n",
       "    </tr>\n",
       "  </tbody>\n",
       "</table>\n",
       "</div>"
      ],
      "text/plain": [
       "                                                                                                     Hypothesis  \\\n",
       "0            Добавить два новых канала привлечения трафика, что позволит привлекать на 30% больше пользователей   \n",
       "1                                     Запустить собственную службу доставки, что сократит срок доставки заказов   \n",
       "2  Добавить блоки рекомендаций товаров на сайт интернет магазина, чтобы повысить конверсию и средний чек заказа   \n",
       "3           Изменить структура категорий, что увеличит конверсию, т.к. пользователи быстрее найдут нужный товар   \n",
       "4                              Изменить цвет фона главной страницы, чтобы увеличить вовлеченность пользователей   \n",
       "5                      Добавить страницу отзывов клиентов о магазине, что позволит увеличить количество заказов   \n",
       "6          Показать на главной странице баннеры с актуальными акциями и распродажами, чтобы увеличить конверсию   \n",
       "7              Добавить форму подписки на все основные страницы, чтобы собрать базу клиентов для email-рассылок   \n",
       "8                                                       Запустить акцию, дающую скидку на товар в день рождения   \n",
       "\n",
       "   Reach  Impact  Confidence  Efforts  \n",
       "0      3      10           8        6  \n",
       "1      2       5           4       10  \n",
       "2      8       3           7        3  \n",
       "3      8       3           3        8  \n",
       "4      3       1           1        1  \n",
       "5      3       2           2        3  \n",
       "6      5       3           8        3  \n",
       "7     10       7           8        5  \n",
       "8      1       9           9        5  "
      ]
     },
     "metadata": {},
     "output_type": "display_data"
    }
   ],
   "source": [
    "#выведем список гипотез\n",
    "display(hypothesis)"
   ]
  },
  {
   "cell_type": "markdown",
   "metadata": {},
   "source": [
    "Посчитаем оценку ICE и выведем список гипотез по убыванию значения ICE."
   ]
  },
  {
   "cell_type": "code",
   "execution_count": 5,
   "metadata": {},
   "outputs": [
    {
     "data": {
      "text/html": [
       "<div>\n",
       "<style scoped>\n",
       "    .dataframe tbody tr th:only-of-type {\n",
       "        vertical-align: middle;\n",
       "    }\n",
       "\n",
       "    .dataframe tbody tr th {\n",
       "        vertical-align: top;\n",
       "    }\n",
       "\n",
       "    .dataframe thead th {\n",
       "        text-align: right;\n",
       "    }\n",
       "</style>\n",
       "<table border=\"1\" class=\"dataframe\">\n",
       "  <thead>\n",
       "    <tr style=\"text-align: right;\">\n",
       "      <th></th>\n",
       "      <th>Hypothesis</th>\n",
       "      <th>Reach</th>\n",
       "      <th>Impact</th>\n",
       "      <th>Confidence</th>\n",
       "      <th>Efforts</th>\n",
       "      <th>ICE</th>\n",
       "    </tr>\n",
       "  </thead>\n",
       "  <tbody>\n",
       "    <tr>\n",
       "      <th>8</th>\n",
       "      <td>Запустить акцию, дающую скидку на товар в день рождения</td>\n",
       "      <td>1</td>\n",
       "      <td>9</td>\n",
       "      <td>9</td>\n",
       "      <td>5</td>\n",
       "      <td>16.20</td>\n",
       "    </tr>\n",
       "    <tr>\n",
       "      <th>0</th>\n",
       "      <td>Добавить два новых канала привлечения трафика, что позволит привлекать на 30% больше пользователей</td>\n",
       "      <td>3</td>\n",
       "      <td>10</td>\n",
       "      <td>8</td>\n",
       "      <td>6</td>\n",
       "      <td>13.33</td>\n",
       "    </tr>\n",
       "    <tr>\n",
       "      <th>7</th>\n",
       "      <td>Добавить форму подписки на все основные страницы, чтобы собрать базу клиентов для email-рассылок</td>\n",
       "      <td>10</td>\n",
       "      <td>7</td>\n",
       "      <td>8</td>\n",
       "      <td>5</td>\n",
       "      <td>11.20</td>\n",
       "    </tr>\n",
       "    <tr>\n",
       "      <th>6</th>\n",
       "      <td>Показать на главной странице баннеры с актуальными акциями и распродажами, чтобы увеличить конверсию</td>\n",
       "      <td>5</td>\n",
       "      <td>3</td>\n",
       "      <td>8</td>\n",
       "      <td>3</td>\n",
       "      <td>8.00</td>\n",
       "    </tr>\n",
       "    <tr>\n",
       "      <th>2</th>\n",
       "      <td>Добавить блоки рекомендаций товаров на сайт интернет магазина, чтобы повысить конверсию и средний чек заказа</td>\n",
       "      <td>8</td>\n",
       "      <td>3</td>\n",
       "      <td>7</td>\n",
       "      <td>3</td>\n",
       "      <td>7.00</td>\n",
       "    </tr>\n",
       "    <tr>\n",
       "      <th>1</th>\n",
       "      <td>Запустить собственную службу доставки, что сократит срок доставки заказов</td>\n",
       "      <td>2</td>\n",
       "      <td>5</td>\n",
       "      <td>4</td>\n",
       "      <td>10</td>\n",
       "      <td>2.00</td>\n",
       "    </tr>\n",
       "    <tr>\n",
       "      <th>5</th>\n",
       "      <td>Добавить страницу отзывов клиентов о магазине, что позволит увеличить количество заказов</td>\n",
       "      <td>3</td>\n",
       "      <td>2</td>\n",
       "      <td>2</td>\n",
       "      <td>3</td>\n",
       "      <td>1.33</td>\n",
       "    </tr>\n",
       "    <tr>\n",
       "      <th>3</th>\n",
       "      <td>Изменить структура категорий, что увеличит конверсию, т.к. пользователи быстрее найдут нужный товар</td>\n",
       "      <td>8</td>\n",
       "      <td>3</td>\n",
       "      <td>3</td>\n",
       "      <td>8</td>\n",
       "      <td>1.12</td>\n",
       "    </tr>\n",
       "    <tr>\n",
       "      <th>4</th>\n",
       "      <td>Изменить цвет фона главной страницы, чтобы увеличить вовлеченность пользователей</td>\n",
       "      <td>3</td>\n",
       "      <td>1</td>\n",
       "      <td>1</td>\n",
       "      <td>1</td>\n",
       "      <td>1.00</td>\n",
       "    </tr>\n",
       "  </tbody>\n",
       "</table>\n",
       "</div>"
      ],
      "text/plain": [
       "                                                                                                     Hypothesis  \\\n",
       "8                                                       Запустить акцию, дающую скидку на товар в день рождения   \n",
       "0            Добавить два новых канала привлечения трафика, что позволит привлекать на 30% больше пользователей   \n",
       "7              Добавить форму подписки на все основные страницы, чтобы собрать базу клиентов для email-рассылок   \n",
       "6          Показать на главной странице баннеры с актуальными акциями и распродажами, чтобы увеличить конверсию   \n",
       "2  Добавить блоки рекомендаций товаров на сайт интернет магазина, чтобы повысить конверсию и средний чек заказа   \n",
       "1                                     Запустить собственную службу доставки, что сократит срок доставки заказов   \n",
       "5                      Добавить страницу отзывов клиентов о магазине, что позволит увеличить количество заказов   \n",
       "3           Изменить структура категорий, что увеличит конверсию, т.к. пользователи быстрее найдут нужный товар   \n",
       "4                              Изменить цвет фона главной страницы, чтобы увеличить вовлеченность пользователей   \n",
       "\n",
       "   Reach  Impact  Confidence  Efforts   ICE  \n",
       "8      1       9           9        5 16.20  \n",
       "0      3      10           8        6 13.33  \n",
       "7     10       7           8        5 11.20  \n",
       "6      5       3           8        3  8.00  \n",
       "2      8       3           7        3  7.00  \n",
       "1      2       5           4       10  2.00  \n",
       "5      3       2           2        3  1.33  \n",
       "3      8       3           3        8  1.12  \n",
       "4      3       1           1        1  1.00  "
      ]
     },
     "metadata": {},
     "output_type": "display_data"
    }
   ],
   "source": [
    "#рассчитаем ICE\n",
    "hypothesis['ICE'] = (hypothesis['Impact'] * hypothesis['Confidence']) / hypothesis['Efforts']\n",
    "\n",
    "#выведем гипотезы по убыванию ICE\n",
    "display(hypothesis.sort_values(by='ICE', ascending=False))"
   ]
  },
  {
   "cell_type": "markdown",
   "metadata": {},
   "source": [
    "Наибольшее количество баллов по методу ICE набрали гипотезы с номерами 8, 0 и 7. Эти гипотезы имеют большие значения \"влияния\" и \"уверенности\" при средних значениях \"затрат\" на реализацию.\n"
   ]
  },
  {
   "cell_type": "markdown",
   "metadata": {},
   "source": [
    "### Определение приоритета методом RICE"
   ]
  },
  {
   "cell_type": "markdown",
   "metadata": {},
   "source": [
    "Посчитаем RICE для гипотез и выведем их список по убыванию показателя RICE."
   ]
  },
  {
   "cell_type": "code",
   "execution_count": 6,
   "metadata": {},
   "outputs": [
    {
     "data": {
      "text/html": [
       "<div>\n",
       "<style scoped>\n",
       "    .dataframe tbody tr th:only-of-type {\n",
       "        vertical-align: middle;\n",
       "    }\n",
       "\n",
       "    .dataframe tbody tr th {\n",
       "        vertical-align: top;\n",
       "    }\n",
       "\n",
       "    .dataframe thead th {\n",
       "        text-align: right;\n",
       "    }\n",
       "</style>\n",
       "<table border=\"1\" class=\"dataframe\">\n",
       "  <thead>\n",
       "    <tr style=\"text-align: right;\">\n",
       "      <th></th>\n",
       "      <th>Hypothesis</th>\n",
       "      <th>Reach</th>\n",
       "      <th>Impact</th>\n",
       "      <th>Confidence</th>\n",
       "      <th>Efforts</th>\n",
       "      <th>ICE</th>\n",
       "      <th>RICE</th>\n",
       "    </tr>\n",
       "  </thead>\n",
       "  <tbody>\n",
       "    <tr>\n",
       "      <th>7</th>\n",
       "      <td>Добавить форму подписки на все основные страницы, чтобы собрать базу клиентов для email-рассылок</td>\n",
       "      <td>10</td>\n",
       "      <td>7</td>\n",
       "      <td>8</td>\n",
       "      <td>5</td>\n",
       "      <td>11.20</td>\n",
       "      <td>112.00</td>\n",
       "    </tr>\n",
       "    <tr>\n",
       "      <th>2</th>\n",
       "      <td>Добавить блоки рекомендаций товаров на сайт интернет магазина, чтобы повысить конверсию и средний чек заказа</td>\n",
       "      <td>8</td>\n",
       "      <td>3</td>\n",
       "      <td>7</td>\n",
       "      <td>3</td>\n",
       "      <td>7.00</td>\n",
       "      <td>56.00</td>\n",
       "    </tr>\n",
       "    <tr>\n",
       "      <th>0</th>\n",
       "      <td>Добавить два новых канала привлечения трафика, что позволит привлекать на 30% больше пользователей</td>\n",
       "      <td>3</td>\n",
       "      <td>10</td>\n",
       "      <td>8</td>\n",
       "      <td>6</td>\n",
       "      <td>13.33</td>\n",
       "      <td>40.00</td>\n",
       "    </tr>\n",
       "    <tr>\n",
       "      <th>6</th>\n",
       "      <td>Показать на главной странице баннеры с актуальными акциями и распродажами, чтобы увеличить конверсию</td>\n",
       "      <td>5</td>\n",
       "      <td>3</td>\n",
       "      <td>8</td>\n",
       "      <td>3</td>\n",
       "      <td>8.00</td>\n",
       "      <td>40.00</td>\n",
       "    </tr>\n",
       "    <tr>\n",
       "      <th>8</th>\n",
       "      <td>Запустить акцию, дающую скидку на товар в день рождения</td>\n",
       "      <td>1</td>\n",
       "      <td>9</td>\n",
       "      <td>9</td>\n",
       "      <td>5</td>\n",
       "      <td>16.20</td>\n",
       "      <td>16.20</td>\n",
       "    </tr>\n",
       "    <tr>\n",
       "      <th>3</th>\n",
       "      <td>Изменить структура категорий, что увеличит конверсию, т.к. пользователи быстрее найдут нужный товар</td>\n",
       "      <td>8</td>\n",
       "      <td>3</td>\n",
       "      <td>3</td>\n",
       "      <td>8</td>\n",
       "      <td>1.12</td>\n",
       "      <td>9.00</td>\n",
       "    </tr>\n",
       "    <tr>\n",
       "      <th>1</th>\n",
       "      <td>Запустить собственную службу доставки, что сократит срок доставки заказов</td>\n",
       "      <td>2</td>\n",
       "      <td>5</td>\n",
       "      <td>4</td>\n",
       "      <td>10</td>\n",
       "      <td>2.00</td>\n",
       "      <td>4.00</td>\n",
       "    </tr>\n",
       "    <tr>\n",
       "      <th>5</th>\n",
       "      <td>Добавить страницу отзывов клиентов о магазине, что позволит увеличить количество заказов</td>\n",
       "      <td>3</td>\n",
       "      <td>2</td>\n",
       "      <td>2</td>\n",
       "      <td>3</td>\n",
       "      <td>1.33</td>\n",
       "      <td>4.00</td>\n",
       "    </tr>\n",
       "    <tr>\n",
       "      <th>4</th>\n",
       "      <td>Изменить цвет фона главной страницы, чтобы увеличить вовлеченность пользователей</td>\n",
       "      <td>3</td>\n",
       "      <td>1</td>\n",
       "      <td>1</td>\n",
       "      <td>1</td>\n",
       "      <td>1.00</td>\n",
       "      <td>3.00</td>\n",
       "    </tr>\n",
       "  </tbody>\n",
       "</table>\n",
       "</div>"
      ],
      "text/plain": [
       "                                                                                                     Hypothesis  \\\n",
       "7              Добавить форму подписки на все основные страницы, чтобы собрать базу клиентов для email-рассылок   \n",
       "2  Добавить блоки рекомендаций товаров на сайт интернет магазина, чтобы повысить конверсию и средний чек заказа   \n",
       "0            Добавить два новых канала привлечения трафика, что позволит привлекать на 30% больше пользователей   \n",
       "6          Показать на главной странице баннеры с актуальными акциями и распродажами, чтобы увеличить конверсию   \n",
       "8                                                       Запустить акцию, дающую скидку на товар в день рождения   \n",
       "3           Изменить структура категорий, что увеличит конверсию, т.к. пользователи быстрее найдут нужный товар   \n",
       "1                                     Запустить собственную службу доставки, что сократит срок доставки заказов   \n",
       "5                      Добавить страницу отзывов клиентов о магазине, что позволит увеличить количество заказов   \n",
       "4                              Изменить цвет фона главной страницы, чтобы увеличить вовлеченность пользователей   \n",
       "\n",
       "   Reach  Impact  Confidence  Efforts   ICE   RICE  \n",
       "7     10       7           8        5 11.20 112.00  \n",
       "2      8       3           7        3  7.00  56.00  \n",
       "0      3      10           8        6 13.33  40.00  \n",
       "6      5       3           8        3  8.00  40.00  \n",
       "8      1       9           9        5 16.20  16.20  \n",
       "3      8       3           3        8  1.12   9.00  \n",
       "1      2       5           4       10  2.00   4.00  \n",
       "5      3       2           2        3  1.33   4.00  \n",
       "4      3       1           1        1  1.00   3.00  "
      ]
     },
     "metadata": {},
     "output_type": "display_data"
    }
   ],
   "source": [
    "#добавляем колонку с оценкой RICE\n",
    "hypothesis['RICE'] = (hypothesis['Reach'] * hypothesis['Impact'] * hypothesis['Confidence']) / hypothesis['Efforts']\n",
    "\n",
    "#выводим список гипотез с сортировкой по убыванию RICE\n",
    "display(hypothesis.sort_values(by='RICE', ascending=False))\n"
   ]
  },
  {
   "cell_type": "markdown",
   "metadata": {},
   "source": [
    "Гипотезы 0 и 7 остались в тройке лидеров, а гипотеза 8, которая была лидером по методу ICE, откатилась на пятое место. Так произошло, потому что у гипотезы 8 наименьший охват пользователей. Гипотеза с номером 7 наборот, имеет наибольший охват (Reach=10), что с учетом остальных показателей позволило ей занять первое место и лидировать с большим отрывом от остальных. Также в тройку лидеров вошла гипотеза с номером 2, у которой показатель Reach равен 8."
   ]
  },
  {
   "cell_type": "markdown",
   "metadata": {},
   "source": [
    "## Анализ A/B-теста"
   ]
  },
  {
   "cell_type": "markdown",
   "metadata": {},
   "source": [
    "Мы провели A/B-тест и получили результаты, которые описаны в файлах /datasets/orders.csv и /datasets/visitors.csv.\n",
    "\n",
    "Считаем информацию из файлов в датафреймы `orders` и`visitors`."
   ]
  },
  {
   "cell_type": "code",
   "execution_count": 7,
   "metadata": {},
   "outputs": [],
   "source": [
    "#получаем данные о заказах\n",
    "try:\n",
    "    orders = pd.read_csv('orders.csv')\n",
    "except:\n",
    "    orders = pd.read_csv('/datasets/orders.csv')\n",
    "    \n",
    "#получаем данные о посетителях\n",
    "try:\n",
    "    visitors = pd.read_csv('visitors.csv')\n",
    "except:\n",
    "    visitors = pd.read_csv('/datasets/visitors.csv')"
   ]
  },
  {
   "cell_type": "markdown",
   "metadata": {},
   "source": [
    "Посмотрим сведения о заказах."
   ]
  },
  {
   "cell_type": "code",
   "execution_count": 8,
   "metadata": {},
   "outputs": [
    {
     "name": "stdout",
     "output_type": "stream",
     "text": [
      "<class 'pandas.core.frame.DataFrame'>\n",
      "RangeIndex: 1197 entries, 0 to 1196\n",
      "Data columns (total 5 columns):\n",
      " #   Column         Non-Null Count  Dtype \n",
      "---  ------         --------------  ----- \n",
      " 0   transactionId  1197 non-null   int64 \n",
      " 1   visitorId      1197 non-null   int64 \n",
      " 2   date           1197 non-null   object\n",
      " 3   revenue        1197 non-null   int64 \n",
      " 4   group          1197 non-null   object\n",
      "dtypes: int64(3), object(2)\n",
      "memory usage: 46.9+ KB\n"
     ]
    }
   ],
   "source": [
    "orders.info()"
   ]
  },
  {
   "cell_type": "markdown",
   "metadata": {},
   "source": [
    "Пустые значения отсутствуют. \n",
    "Выведем первые пять строк."
   ]
  },
  {
   "cell_type": "code",
   "execution_count": 9,
   "metadata": {},
   "outputs": [
    {
     "data": {
      "text/html": [
       "<div>\n",
       "<style scoped>\n",
       "    .dataframe tbody tr th:only-of-type {\n",
       "        vertical-align: middle;\n",
       "    }\n",
       "\n",
       "    .dataframe tbody tr th {\n",
       "        vertical-align: top;\n",
       "    }\n",
       "\n",
       "    .dataframe thead th {\n",
       "        text-align: right;\n",
       "    }\n",
       "</style>\n",
       "<table border=\"1\" class=\"dataframe\">\n",
       "  <thead>\n",
       "    <tr style=\"text-align: right;\">\n",
       "      <th></th>\n",
       "      <th>transactionId</th>\n",
       "      <th>visitorId</th>\n",
       "      <th>date</th>\n",
       "      <th>revenue</th>\n",
       "      <th>group</th>\n",
       "    </tr>\n",
       "  </thead>\n",
       "  <tbody>\n",
       "    <tr>\n",
       "      <th>0</th>\n",
       "      <td>3667963787</td>\n",
       "      <td>3312258926</td>\n",
       "      <td>2019-08-15</td>\n",
       "      <td>1650</td>\n",
       "      <td>B</td>\n",
       "    </tr>\n",
       "    <tr>\n",
       "      <th>1</th>\n",
       "      <td>2804400009</td>\n",
       "      <td>3642806036</td>\n",
       "      <td>2019-08-15</td>\n",
       "      <td>730</td>\n",
       "      <td>B</td>\n",
       "    </tr>\n",
       "    <tr>\n",
       "      <th>2</th>\n",
       "      <td>2961555356</td>\n",
       "      <td>4069496402</td>\n",
       "      <td>2019-08-15</td>\n",
       "      <td>400</td>\n",
       "      <td>A</td>\n",
       "    </tr>\n",
       "    <tr>\n",
       "      <th>3</th>\n",
       "      <td>3797467345</td>\n",
       "      <td>1196621759</td>\n",
       "      <td>2019-08-15</td>\n",
       "      <td>9759</td>\n",
       "      <td>B</td>\n",
       "    </tr>\n",
       "    <tr>\n",
       "      <th>4</th>\n",
       "      <td>2282983706</td>\n",
       "      <td>2322279887</td>\n",
       "      <td>2019-08-15</td>\n",
       "      <td>2308</td>\n",
       "      <td>B</td>\n",
       "    </tr>\n",
       "  </tbody>\n",
       "</table>\n",
       "</div>"
      ],
      "text/plain": [
       "   transactionId   visitorId        date  revenue group\n",
       "0     3667963787  3312258926  2019-08-15     1650     B\n",
       "1     2804400009  3642806036  2019-08-15      730     B\n",
       "2     2961555356  4069496402  2019-08-15      400     A\n",
       "3     3797467345  1196621759  2019-08-15     9759     B\n",
       "4     2282983706  2322279887  2019-08-15     2308     B"
      ]
     },
     "execution_count": 9,
     "metadata": {},
     "output_type": "execute_result"
    }
   ],
   "source": [
    "orders.head(5)"
   ]
  },
  {
   "cell_type": "markdown",
   "metadata": {},
   "source": [
    "Переведём значения в столце date в формат даты."
   ]
  },
  {
   "cell_type": "code",
   "execution_count": 10,
   "metadata": {},
   "outputs": [],
   "source": [
    "#меняем тип данных в столбце date\n",
    "orders['date'] = pd.to_datetime(orders['date'])"
   ]
  },
  {
   "cell_type": "code",
   "execution_count": 11,
   "metadata": {},
   "outputs": [
    {
     "name": "stdout",
     "output_type": "stream",
     "text": [
      "<class 'pandas.core.frame.DataFrame'>\n",
      "RangeIndex: 1197 entries, 0 to 1196\n",
      "Data columns (total 5 columns):\n",
      " #   Column         Non-Null Count  Dtype         \n",
      "---  ------         --------------  -----         \n",
      " 0   transactionId  1197 non-null   int64         \n",
      " 1   visitorId      1197 non-null   int64         \n",
      " 2   date           1197 non-null   datetime64[ns]\n",
      " 3   revenue        1197 non-null   int64         \n",
      " 4   group          1197 non-null   object        \n",
      "dtypes: datetime64[ns](1), int64(3), object(1)\n",
      "memory usage: 46.9+ KB\n"
     ]
    }
   ],
   "source": [
    "orders.info()"
   ]
  },
  {
   "cell_type": "code",
   "execution_count": 12,
   "metadata": {},
   "outputs": [
    {
     "data": {
      "text/html": [
       "<div>\n",
       "<style scoped>\n",
       "    .dataframe tbody tr th:only-of-type {\n",
       "        vertical-align: middle;\n",
       "    }\n",
       "\n",
       "    .dataframe tbody tr th {\n",
       "        vertical-align: top;\n",
       "    }\n",
       "\n",
       "    .dataframe thead th {\n",
       "        text-align: right;\n",
       "    }\n",
       "</style>\n",
       "<table border=\"1\" class=\"dataframe\">\n",
       "  <thead>\n",
       "    <tr style=\"text-align: right;\">\n",
       "      <th></th>\n",
       "      <th>transactionId</th>\n",
       "      <th>visitorId</th>\n",
       "      <th>date</th>\n",
       "      <th>revenue</th>\n",
       "      <th>group</th>\n",
       "    </tr>\n",
       "  </thead>\n",
       "  <tbody>\n",
       "    <tr>\n",
       "      <th>0</th>\n",
       "      <td>3667963787</td>\n",
       "      <td>3312258926</td>\n",
       "      <td>2019-08-15</td>\n",
       "      <td>1650</td>\n",
       "      <td>B</td>\n",
       "    </tr>\n",
       "    <tr>\n",
       "      <th>1</th>\n",
       "      <td>2804400009</td>\n",
       "      <td>3642806036</td>\n",
       "      <td>2019-08-15</td>\n",
       "      <td>730</td>\n",
       "      <td>B</td>\n",
       "    </tr>\n",
       "    <tr>\n",
       "      <th>2</th>\n",
       "      <td>2961555356</td>\n",
       "      <td>4069496402</td>\n",
       "      <td>2019-08-15</td>\n",
       "      <td>400</td>\n",
       "      <td>A</td>\n",
       "    </tr>\n",
       "    <tr>\n",
       "      <th>3</th>\n",
       "      <td>3797467345</td>\n",
       "      <td>1196621759</td>\n",
       "      <td>2019-08-15</td>\n",
       "      <td>9759</td>\n",
       "      <td>B</td>\n",
       "    </tr>\n",
       "    <tr>\n",
       "      <th>4</th>\n",
       "      <td>2282983706</td>\n",
       "      <td>2322279887</td>\n",
       "      <td>2019-08-15</td>\n",
       "      <td>2308</td>\n",
       "      <td>B</td>\n",
       "    </tr>\n",
       "  </tbody>\n",
       "</table>\n",
       "</div>"
      ],
      "text/plain": [
       "   transactionId   visitorId       date  revenue group\n",
       "0     3667963787  3312258926 2019-08-15     1650     B\n",
       "1     2804400009  3642806036 2019-08-15      730     B\n",
       "2     2961555356  4069496402 2019-08-15      400     A\n",
       "3     3797467345  1196621759 2019-08-15     9759     B\n",
       "4     2282983706  2322279887 2019-08-15     2308     B"
      ]
     },
     "execution_count": 12,
     "metadata": {},
     "output_type": "execute_result"
    }
   ],
   "source": [
    "orders.head(5)"
   ]
  },
  {
   "cell_type": "markdown",
   "metadata": {},
   "source": [
    "Посмотрим общую информацию и первые пять строк с данным о количестве посещений."
   ]
  },
  {
   "cell_type": "code",
   "execution_count": 13,
   "metadata": {},
   "outputs": [
    {
     "name": "stdout",
     "output_type": "stream",
     "text": [
      "<class 'pandas.core.frame.DataFrame'>\n",
      "RangeIndex: 62 entries, 0 to 61\n",
      "Data columns (total 3 columns):\n",
      " #   Column    Non-Null Count  Dtype \n",
      "---  ------    --------------  ----- \n",
      " 0   date      62 non-null     object\n",
      " 1   group     62 non-null     object\n",
      " 2   visitors  62 non-null     int64 \n",
      "dtypes: int64(1), object(2)\n",
      "memory usage: 1.6+ KB\n"
     ]
    }
   ],
   "source": [
    "visitors.info()"
   ]
  },
  {
   "cell_type": "code",
   "execution_count": 14,
   "metadata": {},
   "outputs": [
    {
     "data": {
      "text/html": [
       "<div>\n",
       "<style scoped>\n",
       "    .dataframe tbody tr th:only-of-type {\n",
       "        vertical-align: middle;\n",
       "    }\n",
       "\n",
       "    .dataframe tbody tr th {\n",
       "        vertical-align: top;\n",
       "    }\n",
       "\n",
       "    .dataframe thead th {\n",
       "        text-align: right;\n",
       "    }\n",
       "</style>\n",
       "<table border=\"1\" class=\"dataframe\">\n",
       "  <thead>\n",
       "    <tr style=\"text-align: right;\">\n",
       "      <th></th>\n",
       "      <th>date</th>\n",
       "      <th>group</th>\n",
       "      <th>visitors</th>\n",
       "    </tr>\n",
       "  </thead>\n",
       "  <tbody>\n",
       "    <tr>\n",
       "      <th>0</th>\n",
       "      <td>2019-08-01</td>\n",
       "      <td>A</td>\n",
       "      <td>719</td>\n",
       "    </tr>\n",
       "    <tr>\n",
       "      <th>1</th>\n",
       "      <td>2019-08-02</td>\n",
       "      <td>A</td>\n",
       "      <td>619</td>\n",
       "    </tr>\n",
       "    <tr>\n",
       "      <th>2</th>\n",
       "      <td>2019-08-03</td>\n",
       "      <td>A</td>\n",
       "      <td>507</td>\n",
       "    </tr>\n",
       "    <tr>\n",
       "      <th>3</th>\n",
       "      <td>2019-08-04</td>\n",
       "      <td>A</td>\n",
       "      <td>717</td>\n",
       "    </tr>\n",
       "    <tr>\n",
       "      <th>4</th>\n",
       "      <td>2019-08-05</td>\n",
       "      <td>A</td>\n",
       "      <td>756</td>\n",
       "    </tr>\n",
       "  </tbody>\n",
       "</table>\n",
       "</div>"
      ],
      "text/plain": [
       "         date group  visitors\n",
       "0  2019-08-01     A       719\n",
       "1  2019-08-02     A       619\n",
       "2  2019-08-03     A       507\n",
       "3  2019-08-04     A       717\n",
       "4  2019-08-05     A       756"
      ]
     },
     "execution_count": 14,
     "metadata": {},
     "output_type": "execute_result"
    }
   ],
   "source": [
    "visitors.head(5)"
   ]
  },
  {
   "cell_type": "markdown",
   "metadata": {},
   "source": [
    "Меняем тип данных в столбце `date`."
   ]
  },
  {
   "cell_type": "code",
   "execution_count": 15,
   "metadata": {},
   "outputs": [],
   "source": [
    "#меняем тип данных в столбце date\n",
    "visitors['date'] = visitors['date'].map(\n",
    "    lambda x: dt.datetime.strptime(x, '%Y-%m-%d')\n",
    ")"
   ]
  },
  {
   "cell_type": "code",
   "execution_count": 16,
   "metadata": {},
   "outputs": [
    {
     "name": "stdout",
     "output_type": "stream",
     "text": [
      "<class 'pandas.core.frame.DataFrame'>\n",
      "RangeIndex: 62 entries, 0 to 61\n",
      "Data columns (total 3 columns):\n",
      " #   Column    Non-Null Count  Dtype         \n",
      "---  ------    --------------  -----         \n",
      " 0   date      62 non-null     datetime64[ns]\n",
      " 1   group     62 non-null     object        \n",
      " 2   visitors  62 non-null     int64         \n",
      "dtypes: datetime64[ns](1), int64(1), object(1)\n",
      "memory usage: 1.6+ KB\n"
     ]
    }
   ],
   "source": [
    "visitors.info()"
   ]
  },
  {
   "cell_type": "markdown",
   "metadata": {},
   "source": [
    "На всякий случай проверим наличие полных дубликатов в данных о заказах и посетителях."
   ]
  },
  {
   "cell_type": "code",
   "execution_count": 17,
   "metadata": {},
   "outputs": [
    {
     "name": "stdout",
     "output_type": "stream",
     "text": [
      "Количество дубликатов в данных о заказах: 0\n",
      "Количество дубликатов в данных о посетителях: 0\n"
     ]
    }
   ],
   "source": [
    "print(f\"Количество дубликатов в данных о заказах: {orders.duplicated().sum()}\")\n",
    "print(f\"Количество дубликатов в данных о посетителях: {visitors.duplicated().sum()}\")"
   ]
  },
  {
   "cell_type": "markdown",
   "metadata": {},
   "source": [
    "**Проверим, корректно ли учитывались пользователи по своим группам.**"
   ]
  },
  {
   "cell_type": "markdown",
   "metadata": {},
   "source": [
    "Вынесем информацию о заказах в разрезе групп A и B в отдельные датафреймы `orders_A` и `orders_B`. "
   ]
  },
  {
   "cell_type": "code",
   "execution_count": 18,
   "metadata": {},
   "outputs": [
    {
     "name": "stdout",
     "output_type": "stream",
     "text": [
      "Количество клиентов, сделавших хотя бы один заказ, в группе А: 503\n",
      "Количество клиентов, сделавших хотя бы один заказ, в группе B: 586\n"
     ]
    }
   ],
   "source": [
    "orders_A = orders[orders['group']=='A'] \n",
    "orders_B = orders[orders['group']=='B']\n",
    "print('Количество клиентов, сделавших хотя бы один заказ, в группе А: {}'.format(orders_A['visitorId'].nunique()))\n",
    "print('Количество клиентов, сделавших хотя бы один заказ, в группе B: {}'.format(orders_B['visitorId'].nunique()))"
   ]
  },
  {
   "cell_type": "markdown",
   "metadata": {},
   "source": [
    "Проверим, нет ли случаев, когда один и тот же посетитель, учтен в разных группах."
   ]
  },
  {
   "cell_type": "markdown",
   "metadata": {},
   "source": [
    "Выполним merge `orders_A` и `orders_B` на основе значения поля `visitorId`. Так как по умолчанию функция `merge`производит внутреннее соединение (`'inner'`), то в результирующий объект попадут посетители, присутствующие в обеих группах. "
   ]
  },
  {
   "cell_type": "code",
   "execution_count": 19,
   "metadata": {},
   "outputs": [],
   "source": [
    "visitors_AB = orders_A.merge(orders_B, on='visitorId', suffixes=('_A', '_B')).sort_values(by='visitorId')"
   ]
  },
  {
   "cell_type": "code",
   "execution_count": 20,
   "metadata": {},
   "outputs": [
    {
     "data": {
      "text/html": [
       "<div>\n",
       "<style scoped>\n",
       "    .dataframe tbody tr th:only-of-type {\n",
       "        vertical-align: middle;\n",
       "    }\n",
       "\n",
       "    .dataframe tbody tr th {\n",
       "        vertical-align: top;\n",
       "    }\n",
       "\n",
       "    .dataframe thead th {\n",
       "        text-align: right;\n",
       "    }\n",
       "</style>\n",
       "<table border=\"1\" class=\"dataframe\">\n",
       "  <thead>\n",
       "    <tr style=\"text-align: right;\">\n",
       "      <th></th>\n",
       "      <th>transactionId_A</th>\n",
       "      <th>visitorId</th>\n",
       "      <th>date_A</th>\n",
       "      <th>revenue_A</th>\n",
       "      <th>group_A</th>\n",
       "      <th>transactionId_B</th>\n",
       "      <th>date_B</th>\n",
       "      <th>revenue_B</th>\n",
       "      <th>group_B</th>\n",
       "    </tr>\n",
       "  </thead>\n",
       "  <tbody>\n",
       "    <tr>\n",
       "      <th>149</th>\n",
       "      <td>4293855558</td>\n",
       "      <td>8300375</td>\n",
       "      <td>2019-08-07</td>\n",
       "      <td>1790</td>\n",
       "      <td>A</td>\n",
       "      <td>3679129301</td>\n",
       "      <td>2019-08-01</td>\n",
       "      <td>10510</td>\n",
       "      <td>B</td>\n",
       "    </tr>\n",
       "    <tr>\n",
       "      <th>1</th>\n",
       "      <td>2223239646</td>\n",
       "      <td>199603092</td>\n",
       "      <td>2019-08-15</td>\n",
       "      <td>3488</td>\n",
       "      <td>A</td>\n",
       "      <td>437656952</td>\n",
       "      <td>2019-08-02</td>\n",
       "      <td>3488</td>\n",
       "      <td>B</td>\n",
       "    </tr>\n",
       "    <tr>\n",
       "      <th>2</th>\n",
       "      <td>62794304</td>\n",
       "      <td>199603092</td>\n",
       "      <td>2019-08-22</td>\n",
       "      <td>6976</td>\n",
       "      <td>A</td>\n",
       "      <td>437656952</td>\n",
       "      <td>2019-08-02</td>\n",
       "      <td>3488</td>\n",
       "      <td>B</td>\n",
       "    </tr>\n",
       "    <tr>\n",
       "      <th>3</th>\n",
       "      <td>2971973105</td>\n",
       "      <td>199603092</td>\n",
       "      <td>2019-08-27</td>\n",
       "      <td>2790</td>\n",
       "      <td>A</td>\n",
       "      <td>437656952</td>\n",
       "      <td>2019-08-02</td>\n",
       "      <td>3488</td>\n",
       "      <td>B</td>\n",
       "    </tr>\n",
       "    <tr>\n",
       "      <th>4</th>\n",
       "      <td>1941707234</td>\n",
       "      <td>199603092</td>\n",
       "      <td>2019-08-12</td>\n",
       "      <td>6438</td>\n",
       "      <td>A</td>\n",
       "      <td>437656952</td>\n",
       "      <td>2019-08-02</td>\n",
       "      <td>3488</td>\n",
       "      <td>B</td>\n",
       "    </tr>\n",
       "  </tbody>\n",
       "</table>\n",
       "</div>"
      ],
      "text/plain": [
       "     transactionId_A  visitorId     date_A  revenue_A group_A  \\\n",
       "149       4293855558    8300375 2019-08-07       1790       A   \n",
       "1         2223239646  199603092 2019-08-15       3488       A   \n",
       "2           62794304  199603092 2019-08-22       6976       A   \n",
       "3         2971973105  199603092 2019-08-27       2790       A   \n",
       "4         1941707234  199603092 2019-08-12       6438       A   \n",
       "\n",
       "     transactionId_B     date_B  revenue_B group_B  \n",
       "149       3679129301 2019-08-01      10510       B  \n",
       "1          437656952 2019-08-02       3488       B  \n",
       "2          437656952 2019-08-02       3488       B  \n",
       "3          437656952 2019-08-02       3488       B  \n",
       "4          437656952 2019-08-02       3488       B  "
      ]
     },
     "execution_count": 20,
     "metadata": {},
     "output_type": "execute_result"
    }
   ],
   "source": [
    "visitors_AB.head()"
   ]
  },
  {
   "cell_type": "markdown",
   "metadata": {},
   "source": [
    "Обнаружили, что существуют посетители, которые присутствуют в обеих группах.\n",
    "\n",
    "Посчитаем, сколько таких пользователей."
   ]
  },
  {
   "cell_type": "code",
   "execution_count": 21,
   "metadata": {},
   "outputs": [
    {
     "name": "stdout",
     "output_type": "stream",
     "text": [
      "Общее количество уникальных пользователей: 1031\n",
      "Количество пользователей, учтённых в обеих группах: 58\n",
      "Процент пользователей, учтённых в обеих группах: 5.63%\n"
     ]
    }
   ],
   "source": [
    "visitors_AB_count = visitors_AB['visitorId'].nunique()\n",
    "visitors_total = orders['visitorId'].nunique()\n",
    "print(f\"Общее количество уникальных пользователей: {visitors_total}\")\n",
    "print(f\"Количество пользователей, учтённых в обеих группах: {visitors_AB_count}\")\n",
    "print(\"Процент пользователей, учтённых в обеих группах: {0:.2f}%\".format((visitors_AB_count / visitors_total)*100))"
   ]
  },
  {
   "cell_type": "markdown",
   "metadata": {},
   "source": [
    "Посмотрим, сколько раз каждый пользователь из тех, что учтены в обеих группах, совершал заказы в рамках одной и другой группы."
   ]
  },
  {
   "cell_type": "code",
   "execution_count": 22,
   "metadata": {},
   "outputs": [
    {
     "data": {
      "text/html": [
       "<div>\n",
       "<style scoped>\n",
       "    .dataframe tbody tr th:only-of-type {\n",
       "        vertical-align: middle;\n",
       "    }\n",
       "\n",
       "    .dataframe tbody tr th {\n",
       "        vertical-align: top;\n",
       "    }\n",
       "\n",
       "    .dataframe thead th {\n",
       "        text-align: right;\n",
       "    }\n",
       "</style>\n",
       "<table border=\"1\" class=\"dataframe\">\n",
       "  <thead>\n",
       "    <tr style=\"text-align: right;\">\n",
       "      <th></th>\n",
       "      <th>transactionId_A</th>\n",
       "      <th>transactionId_B</th>\n",
       "    </tr>\n",
       "    <tr>\n",
       "      <th>visitorId</th>\n",
       "      <th></th>\n",
       "      <th></th>\n",
       "    </tr>\n",
       "  </thead>\n",
       "  <tbody>\n",
       "    <tr>\n",
       "      <th>8300375</th>\n",
       "      <td>1</td>\n",
       "      <td>1</td>\n",
       "    </tr>\n",
       "    <tr>\n",
       "      <th>199603092</th>\n",
       "      <td>4</td>\n",
       "      <td>1</td>\n",
       "    </tr>\n",
       "    <tr>\n",
       "      <th>232979603</th>\n",
       "      <td>1</td>\n",
       "      <td>1</td>\n",
       "    </tr>\n",
       "    <tr>\n",
       "      <th>237748145</th>\n",
       "      <td>4</td>\n",
       "      <td>1</td>\n",
       "    </tr>\n",
       "    <tr>\n",
       "      <th>276558944</th>\n",
       "      <td>1</td>\n",
       "      <td>1</td>\n",
       "    </tr>\n",
       "    <tr>\n",
       "      <th>351125977</th>\n",
       "      <td>1</td>\n",
       "      <td>1</td>\n",
       "    </tr>\n",
       "    <tr>\n",
       "      <th>393266494</th>\n",
       "      <td>1</td>\n",
       "      <td>2</td>\n",
       "    </tr>\n",
       "    <tr>\n",
       "      <th>457167155</th>\n",
       "      <td>1</td>\n",
       "      <td>3</td>\n",
       "    </tr>\n",
       "    <tr>\n",
       "      <th>471551937</th>\n",
       "      <td>1</td>\n",
       "      <td>1</td>\n",
       "    </tr>\n",
       "    <tr>\n",
       "      <th>477780734</th>\n",
       "      <td>1</td>\n",
       "      <td>1</td>\n",
       "    </tr>\n",
       "    <tr>\n",
       "      <th>818047933</th>\n",
       "      <td>1</td>\n",
       "      <td>1</td>\n",
       "    </tr>\n",
       "    <tr>\n",
       "      <th>963407295</th>\n",
       "      <td>1</td>\n",
       "      <td>1</td>\n",
       "    </tr>\n",
       "    <tr>\n",
       "      <th>1230306981</th>\n",
       "      <td>3</td>\n",
       "      <td>2</td>\n",
       "    </tr>\n",
       "    <tr>\n",
       "      <th>1294878855</th>\n",
       "      <td>2</td>\n",
       "      <td>1</td>\n",
       "    </tr>\n",
       "    <tr>\n",
       "      <th>1316129916</th>\n",
       "      <td>1</td>\n",
       "      <td>1</td>\n",
       "    </tr>\n",
       "    <tr>\n",
       "      <th>1333886533</th>\n",
       "      <td>1</td>\n",
       "      <td>1</td>\n",
       "    </tr>\n",
       "    <tr>\n",
       "      <th>1404934699</th>\n",
       "      <td>1</td>\n",
       "      <td>2</td>\n",
       "    </tr>\n",
       "    <tr>\n",
       "      <th>1602967004</th>\n",
       "      <td>1</td>\n",
       "      <td>1</td>\n",
       "    </tr>\n",
       "    <tr>\n",
       "      <th>1614305549</th>\n",
       "      <td>3</td>\n",
       "      <td>1</td>\n",
       "    </tr>\n",
       "    <tr>\n",
       "      <th>1648269707</th>\n",
       "      <td>1</td>\n",
       "      <td>1</td>\n",
       "    </tr>\n",
       "    <tr>\n",
       "      <th>1668030113</th>\n",
       "      <td>1</td>\n",
       "      <td>2</td>\n",
       "    </tr>\n",
       "    <tr>\n",
       "      <th>1738359350</th>\n",
       "      <td>1</td>\n",
       "      <td>2</td>\n",
       "    </tr>\n",
       "    <tr>\n",
       "      <th>1801183820</th>\n",
       "      <td>1</td>\n",
       "      <td>1</td>\n",
       "    </tr>\n",
       "    <tr>\n",
       "      <th>1959144690</th>\n",
       "      <td>1</td>\n",
       "      <td>1</td>\n",
       "    </tr>\n",
       "    <tr>\n",
       "      <th>2038680547</th>\n",
       "      <td>5</td>\n",
       "      <td>3</td>\n",
       "    </tr>\n",
       "    <tr>\n",
       "      <th>2044997962</th>\n",
       "      <td>1</td>\n",
       "      <td>2</td>\n",
       "    </tr>\n",
       "    <tr>\n",
       "      <th>2378935119</th>\n",
       "      <td>4</td>\n",
       "      <td>5</td>\n",
       "    </tr>\n",
       "    <tr>\n",
       "      <th>2458001652</th>\n",
       "      <td>5</td>\n",
       "      <td>6</td>\n",
       "    </tr>\n",
       "    <tr>\n",
       "      <th>2579882178</th>\n",
       "      <td>1</td>\n",
       "      <td>1</td>\n",
       "    </tr>\n",
       "    <tr>\n",
       "      <th>2587333274</th>\n",
       "      <td>1</td>\n",
       "      <td>3</td>\n",
       "    </tr>\n",
       "    <tr>\n",
       "      <th>2600415354</th>\n",
       "      <td>1</td>\n",
       "      <td>1</td>\n",
       "    </tr>\n",
       "    <tr>\n",
       "      <th>2654030115</th>\n",
       "      <td>1</td>\n",
       "      <td>1</td>\n",
       "    </tr>\n",
       "    <tr>\n",
       "      <th>2686716486</th>\n",
       "      <td>1</td>\n",
       "      <td>1</td>\n",
       "    </tr>\n",
       "    <tr>\n",
       "      <th>2712142231</th>\n",
       "      <td>1</td>\n",
       "      <td>1</td>\n",
       "    </tr>\n",
       "    <tr>\n",
       "      <th>2716752286</th>\n",
       "      <td>1</td>\n",
       "      <td>1</td>\n",
       "    </tr>\n",
       "    <tr>\n",
       "      <th>2780786433</th>\n",
       "      <td>2</td>\n",
       "      <td>1</td>\n",
       "    </tr>\n",
       "    <tr>\n",
       "      <th>2927087541</th>\n",
       "      <td>1</td>\n",
       "      <td>1</td>\n",
       "    </tr>\n",
       "    <tr>\n",
       "      <th>2949041841</th>\n",
       "      <td>1</td>\n",
       "      <td>1</td>\n",
       "    </tr>\n",
       "    <tr>\n",
       "      <th>2954449915</th>\n",
       "      <td>1</td>\n",
       "      <td>1</td>\n",
       "    </tr>\n",
       "    <tr>\n",
       "      <th>3062433592</th>\n",
       "      <td>1</td>\n",
       "      <td>4</td>\n",
       "    </tr>\n",
       "    <tr>\n",
       "      <th>3202540741</th>\n",
       "      <td>1</td>\n",
       "      <td>1</td>\n",
       "    </tr>\n",
       "    <tr>\n",
       "      <th>3234906277</th>\n",
       "      <td>1</td>\n",
       "      <td>1</td>\n",
       "    </tr>\n",
       "    <tr>\n",
       "      <th>3656415546</th>\n",
       "      <td>1</td>\n",
       "      <td>1</td>\n",
       "    </tr>\n",
       "    <tr>\n",
       "      <th>3717692402</th>\n",
       "      <td>1</td>\n",
       "      <td>4</td>\n",
       "    </tr>\n",
       "    <tr>\n",
       "      <th>3766097110</th>\n",
       "      <td>1</td>\n",
       "      <td>1</td>\n",
       "    </tr>\n",
       "    <tr>\n",
       "      <th>3803269165</th>\n",
       "      <td>1</td>\n",
       "      <td>4</td>\n",
       "    </tr>\n",
       "    <tr>\n",
       "      <th>3891541246</th>\n",
       "      <td>2</td>\n",
       "      <td>1</td>\n",
       "    </tr>\n",
       "    <tr>\n",
       "      <th>3941795274</th>\n",
       "      <td>1</td>\n",
       "      <td>1</td>\n",
       "    </tr>\n",
       "    <tr>\n",
       "      <th>3951559397</th>\n",
       "      <td>1</td>\n",
       "      <td>1</td>\n",
       "    </tr>\n",
       "    <tr>\n",
       "      <th>3957174400</th>\n",
       "      <td>1</td>\n",
       "      <td>1</td>\n",
       "    </tr>\n",
       "    <tr>\n",
       "      <th>3963646447</th>\n",
       "      <td>1</td>\n",
       "      <td>1</td>\n",
       "    </tr>\n",
       "    <tr>\n",
       "      <th>3972127743</th>\n",
       "      <td>1</td>\n",
       "      <td>1</td>\n",
       "    </tr>\n",
       "    <tr>\n",
       "      <th>3984495233</th>\n",
       "      <td>2</td>\n",
       "      <td>1</td>\n",
       "    </tr>\n",
       "    <tr>\n",
       "      <th>4069496402</th>\n",
       "      <td>1</td>\n",
       "      <td>1</td>\n",
       "    </tr>\n",
       "    <tr>\n",
       "      <th>4120364173</th>\n",
       "      <td>1</td>\n",
       "      <td>1</td>\n",
       "    </tr>\n",
       "    <tr>\n",
       "      <th>4186807279</th>\n",
       "      <td>1</td>\n",
       "      <td>2</td>\n",
       "    </tr>\n",
       "    <tr>\n",
       "      <th>4256040402</th>\n",
       "      <td>7</td>\n",
       "      <td>4</td>\n",
       "    </tr>\n",
       "    <tr>\n",
       "      <th>4266935830</th>\n",
       "      <td>1</td>\n",
       "      <td>1</td>\n",
       "    </tr>\n",
       "  </tbody>\n",
       "</table>\n",
       "</div>"
      ],
      "text/plain": [
       "            transactionId_A  transactionId_B\n",
       "visitorId                                   \n",
       "8300375                   1                1\n",
       "199603092                 4                1\n",
       "232979603                 1                1\n",
       "237748145                 4                1\n",
       "276558944                 1                1\n",
       "351125977                 1                1\n",
       "393266494                 1                2\n",
       "457167155                 1                3\n",
       "471551937                 1                1\n",
       "477780734                 1                1\n",
       "818047933                 1                1\n",
       "963407295                 1                1\n",
       "1230306981                3                2\n",
       "1294878855                2                1\n",
       "1316129916                1                1\n",
       "1333886533                1                1\n",
       "1404934699                1                2\n",
       "1602967004                1                1\n",
       "1614305549                3                1\n",
       "1648269707                1                1\n",
       "1668030113                1                2\n",
       "1738359350                1                2\n",
       "1801183820                1                1\n",
       "1959144690                1                1\n",
       "2038680547                5                3\n",
       "2044997962                1                2\n",
       "2378935119                4                5\n",
       "2458001652                5                6\n",
       "2579882178                1                1\n",
       "2587333274                1                3\n",
       "2600415354                1                1\n",
       "2654030115                1                1\n",
       "2686716486                1                1\n",
       "2712142231                1                1\n",
       "2716752286                1                1\n",
       "2780786433                2                1\n",
       "2927087541                1                1\n",
       "2949041841                1                1\n",
       "2954449915                1                1\n",
       "3062433592                1                4\n",
       "3202540741                1                1\n",
       "3234906277                1                1\n",
       "3656415546                1                1\n",
       "3717692402                1                4\n",
       "3766097110                1                1\n",
       "3803269165                1                4\n",
       "3891541246                2                1\n",
       "3941795274                1                1\n",
       "3951559397                1                1\n",
       "3957174400                1                1\n",
       "3963646447                1                1\n",
       "3972127743                1                1\n",
       "3984495233                2                1\n",
       "4069496402                1                1\n",
       "4120364173                1                1\n",
       "4186807279                1                2\n",
       "4256040402                7                4\n",
       "4266935830                1                1"
      ]
     },
     "execution_count": 22,
     "metadata": {},
     "output_type": "execute_result"
    }
   ],
   "source": [
    "(visitors_AB.groupby('visitorId')\n",
    "    .agg({\n",
    "        'transactionId_A' : 'nunique',\n",
    "        'transactionId_B' : 'nunique'\n",
    "    })\n",
    ")"
   ]
  },
  {
   "cell_type": "markdown",
   "metadata": {},
   "source": [
    "Итак мы обнаружили, что около 5% пользователей, участвовавших в эксперименте, переходили из группы в группу. Так как у нас нет информации о причинах такого поведения теста, то оставим все данные для анализа, но отметим, что в последующем требуется разобраться в причинах и внести корректировки в проведение теста, чтобы пользователь, отнесённый к определённой группе, оставался в рамках этой группы на протяжении всего эксперимента."
   ]
  },
  {
   "cell_type": "markdown",
   "metadata": {},
   "source": [
    "### Кумулятивная выручка по группам"
   ]
  },
  {
   "cell_type": "markdown",
   "metadata": {},
   "source": [
    "Подготовим данные и построим график кумулятивной выручки по дням в разрезе групп."
   ]
  },
  {
   "cell_type": "markdown",
   "metadata": {},
   "source": [
    "Создадим датафрейм `datesGroup` с уникальными парами значений дата-группа из таблицы `orders`. "
   ]
  },
  {
   "cell_type": "code",
   "execution_count": 23,
   "metadata": {},
   "outputs": [],
   "source": [
    "datesGroup = orders[['date', 'group']].drop_duplicates()"
   ]
  },
  {
   "cell_type": "code",
   "execution_count": 24,
   "metadata": {},
   "outputs": [
    {
     "name": "stdout",
     "output_type": "stream",
     "text": [
      "<class 'pandas.core.frame.DataFrame'>\n",
      "Int64Index: 62 entries, 0 to 1150\n",
      "Data columns (total 2 columns):\n",
      " #   Column  Non-Null Count  Dtype         \n",
      "---  ------  --------------  -----         \n",
      " 0   date    62 non-null     datetime64[ns]\n",
      " 1   group   62 non-null     object        \n",
      "dtypes: datetime64[ns](1), object(1)\n",
      "memory usage: 1.5+ KB\n"
     ]
    }
   ],
   "source": [
    "datesGroup.info()"
   ]
  },
  {
   "cell_type": "code",
   "execution_count": 25,
   "metadata": {},
   "outputs": [
    {
     "data": {
      "text/html": [
       "<div>\n",
       "<style scoped>\n",
       "    .dataframe tbody tr th:only-of-type {\n",
       "        vertical-align: middle;\n",
       "    }\n",
       "\n",
       "    .dataframe tbody tr th {\n",
       "        vertical-align: top;\n",
       "    }\n",
       "\n",
       "    .dataframe thead th {\n",
       "        text-align: right;\n",
       "    }\n",
       "</style>\n",
       "<table border=\"1\" class=\"dataframe\">\n",
       "  <thead>\n",
       "    <tr style=\"text-align: right;\">\n",
       "      <th></th>\n",
       "      <th>date</th>\n",
       "      <th>group</th>\n",
       "    </tr>\n",
       "  </thead>\n",
       "  <tbody>\n",
       "    <tr>\n",
       "      <th>0</th>\n",
       "      <td>2019-08-15</td>\n",
       "      <td>B</td>\n",
       "    </tr>\n",
       "    <tr>\n",
       "      <th>2</th>\n",
       "      <td>2019-08-15</td>\n",
       "      <td>A</td>\n",
       "    </tr>\n",
       "    <tr>\n",
       "      <th>45</th>\n",
       "      <td>2019-08-16</td>\n",
       "      <td>A</td>\n",
       "    </tr>\n",
       "    <tr>\n",
       "      <th>47</th>\n",
       "      <td>2019-08-16</td>\n",
       "      <td>B</td>\n",
       "    </tr>\n",
       "    <tr>\n",
       "      <th>55</th>\n",
       "      <td>2019-08-01</td>\n",
       "      <td>A</td>\n",
       "    </tr>\n",
       "  </tbody>\n",
       "</table>\n",
       "</div>"
      ],
      "text/plain": [
       "         date group\n",
       "0  2019-08-15     B\n",
       "2  2019-08-15     A\n",
       "45 2019-08-16     A\n",
       "47 2019-08-16     B\n",
       "55 2019-08-01     A"
      ]
     },
     "execution_count": 25,
     "metadata": {},
     "output_type": "execute_result"
    }
   ],
   "source": [
    "datesGroup.head(5)"
   ]
  },
  {
   "cell_type": "markdown",
   "metadata": {},
   "source": [
    "Объявим переменную ordersAggregated, содержащую:\n",
    "- дату;\n",
    "- группу A/B-теста;\n",
    "- число уникальных заказов в группе теста по указанную дату включительно;\n",
    "- число уникальных пользователей, совершивших хотя бы 1 заказ в группе теста по указанную дату включительно;\n",
    "- суммарную выручку заказов в группе теста по указанную дату включительно."
   ]
  },
  {
   "cell_type": "code",
   "execution_count": 26,
   "metadata": {},
   "outputs": [],
   "source": [
    "#создаем датафрейм с накоплением данных на основе информации о заказах\n",
    "ordersAggregated = datesGroup.apply(\n",
    "    lambda x: orders[np.logical_and(orders['date'] <= x['date'], orders['group']==x['group'])]\n",
    "    .agg({\n",
    "        'date' : 'max',\n",
    "        'group' : 'max',\n",
    "        'transactionId' : 'nunique',\n",
    "        'visitorId' : 'nunique',\n",
    "        'revenue' : 'sum'\n",
    "    }), axis=1\n",
    ").sort_values(by=['date', 'group'])"
   ]
  },
  {
   "cell_type": "code",
   "execution_count": 27,
   "metadata": {},
   "outputs": [
    {
     "data": {
      "text/html": [
       "<div>\n",
       "<style scoped>\n",
       "    .dataframe tbody tr th:only-of-type {\n",
       "        vertical-align: middle;\n",
       "    }\n",
       "\n",
       "    .dataframe tbody tr th {\n",
       "        vertical-align: top;\n",
       "    }\n",
       "\n",
       "    .dataframe thead th {\n",
       "        text-align: right;\n",
       "    }\n",
       "</style>\n",
       "<table border=\"1\" class=\"dataframe\">\n",
       "  <thead>\n",
       "    <tr style=\"text-align: right;\">\n",
       "      <th></th>\n",
       "      <th>date</th>\n",
       "      <th>group</th>\n",
       "      <th>transactionId</th>\n",
       "      <th>visitorId</th>\n",
       "      <th>revenue</th>\n",
       "    </tr>\n",
       "  </thead>\n",
       "  <tbody>\n",
       "    <tr>\n",
       "      <th>55</th>\n",
       "      <td>2019-08-01</td>\n",
       "      <td>A</td>\n",
       "      <td>24</td>\n",
       "      <td>20</td>\n",
       "      <td>148579</td>\n",
       "    </tr>\n",
       "    <tr>\n",
       "      <th>66</th>\n",
       "      <td>2019-08-01</td>\n",
       "      <td>B</td>\n",
       "      <td>21</td>\n",
       "      <td>20</td>\n",
       "      <td>101217</td>\n",
       "    </tr>\n",
       "    <tr>\n",
       "      <th>175</th>\n",
       "      <td>2019-08-02</td>\n",
       "      <td>A</td>\n",
       "      <td>44</td>\n",
       "      <td>38</td>\n",
       "      <td>242401</td>\n",
       "    </tr>\n",
       "    <tr>\n",
       "      <th>173</th>\n",
       "      <td>2019-08-02</td>\n",
       "      <td>B</td>\n",
       "      <td>45</td>\n",
       "      <td>43</td>\n",
       "      <td>266748</td>\n",
       "    </tr>\n",
       "    <tr>\n",
       "      <th>291</th>\n",
       "      <td>2019-08-03</td>\n",
       "      <td>A</td>\n",
       "      <td>68</td>\n",
       "      <td>62</td>\n",
       "      <td>354874</td>\n",
       "    </tr>\n",
       "    <tr>\n",
       "      <th>310</th>\n",
       "      <td>2019-08-03</td>\n",
       "      <td>B</td>\n",
       "      <td>61</td>\n",
       "      <td>59</td>\n",
       "      <td>380996</td>\n",
       "    </tr>\n",
       "  </tbody>\n",
       "</table>\n",
       "</div>"
      ],
      "text/plain": [
       "          date group  transactionId  visitorId  revenue\n",
       "55  2019-08-01     A             24         20   148579\n",
       "66  2019-08-01     B             21         20   101217\n",
       "175 2019-08-02     A             44         38   242401\n",
       "173 2019-08-02     B             45         43   266748\n",
       "291 2019-08-03     A             68         62   354874\n",
       "310 2019-08-03     B             61         59   380996"
      ]
     },
     "metadata": {},
     "output_type": "display_data"
    }
   ],
   "source": [
    "display(ordersAggregated.head(6))"
   ]
  },
  {
   "cell_type": "markdown",
   "metadata": {},
   "source": [
    "Объявим переменную visitorsAggregated, содержащую:\n",
    "- дату;\n",
    "- группу A/B-теста;\n",
    "- количество уникальных посетителей в группе теста по указанную дату включительно."
   ]
  },
  {
   "cell_type": "code",
   "execution_count": 28,
   "metadata": {},
   "outputs": [],
   "source": [
    "visitorsAggregated = datesGroup.apply(\n",
    "    lambda x: visitors[(visitors['date']<=x['date']) & (visitors['group']==x['group'])]\n",
    "    .agg({\n",
    "        'date' : 'max',\n",
    "        'group' : 'max',\n",
    "        'visitors' : 'sum'\n",
    "    }), axis=1\n",
    ").sort_values(by=['date', 'group'])"
   ]
  },
  {
   "cell_type": "code",
   "execution_count": 29,
   "metadata": {},
   "outputs": [
    {
     "data": {
      "text/html": [
       "<div>\n",
       "<style scoped>\n",
       "    .dataframe tbody tr th:only-of-type {\n",
       "        vertical-align: middle;\n",
       "    }\n",
       "\n",
       "    .dataframe tbody tr th {\n",
       "        vertical-align: top;\n",
       "    }\n",
       "\n",
       "    .dataframe thead th {\n",
       "        text-align: right;\n",
       "    }\n",
       "</style>\n",
       "<table border=\"1\" class=\"dataframe\">\n",
       "  <thead>\n",
       "    <tr style=\"text-align: right;\">\n",
       "      <th></th>\n",
       "      <th>date</th>\n",
       "      <th>group</th>\n",
       "      <th>visitors</th>\n",
       "    </tr>\n",
       "  </thead>\n",
       "  <tbody>\n",
       "    <tr>\n",
       "      <th>55</th>\n",
       "      <td>2019-08-01</td>\n",
       "      <td>A</td>\n",
       "      <td>719</td>\n",
       "    </tr>\n",
       "    <tr>\n",
       "      <th>66</th>\n",
       "      <td>2019-08-01</td>\n",
       "      <td>B</td>\n",
       "      <td>713</td>\n",
       "    </tr>\n",
       "    <tr>\n",
       "      <th>175</th>\n",
       "      <td>2019-08-02</td>\n",
       "      <td>A</td>\n",
       "      <td>1338</td>\n",
       "    </tr>\n",
       "    <tr>\n",
       "      <th>173</th>\n",
       "      <td>2019-08-02</td>\n",
       "      <td>B</td>\n",
       "      <td>1294</td>\n",
       "    </tr>\n",
       "    <tr>\n",
       "      <th>291</th>\n",
       "      <td>2019-08-03</td>\n",
       "      <td>A</td>\n",
       "      <td>1845</td>\n",
       "    </tr>\n",
       "    <tr>\n",
       "      <th>310</th>\n",
       "      <td>2019-08-03</td>\n",
       "      <td>B</td>\n",
       "      <td>1803</td>\n",
       "    </tr>\n",
       "  </tbody>\n",
       "</table>\n",
       "</div>"
      ],
      "text/plain": [
       "          date group  visitors\n",
       "55  2019-08-01     A       719\n",
       "66  2019-08-01     B       713\n",
       "175 2019-08-02     A      1338\n",
       "173 2019-08-02     B      1294\n",
       "291 2019-08-03     A      1845\n",
       "310 2019-08-03     B      1803"
      ]
     },
     "metadata": {},
     "output_type": "display_data"
    }
   ],
   "source": [
    "display(visitorsAggregated.head(6))"
   ]
  },
  {
   "cell_type": "markdown",
   "metadata": {},
   "source": [
    " Определим переменную cumulativeData, объединив ordersAggregated и visitorsAggregated по колонкам 'date', 'group' методом merge()"
   ]
  },
  {
   "cell_type": "code",
   "execution_count": 30,
   "metadata": {},
   "outputs": [],
   "source": [
    "cumulativeData = ordersAggregated.merge(visitorsAggregated, on=['date', 'group'])"
   ]
  },
  {
   "cell_type": "code",
   "execution_count": 31,
   "metadata": {},
   "outputs": [
    {
     "data": {
      "text/html": [
       "<div>\n",
       "<style scoped>\n",
       "    .dataframe tbody tr th:only-of-type {\n",
       "        vertical-align: middle;\n",
       "    }\n",
       "\n",
       "    .dataframe tbody tr th {\n",
       "        vertical-align: top;\n",
       "    }\n",
       "\n",
       "    .dataframe thead th {\n",
       "        text-align: right;\n",
       "    }\n",
       "</style>\n",
       "<table border=\"1\" class=\"dataframe\">\n",
       "  <thead>\n",
       "    <tr style=\"text-align: right;\">\n",
       "      <th></th>\n",
       "      <th>date</th>\n",
       "      <th>group</th>\n",
       "      <th>transactionId</th>\n",
       "      <th>visitorId</th>\n",
       "      <th>revenue</th>\n",
       "      <th>visitors</th>\n",
       "    </tr>\n",
       "  </thead>\n",
       "  <tbody>\n",
       "    <tr>\n",
       "      <th>0</th>\n",
       "      <td>2019-08-01</td>\n",
       "      <td>A</td>\n",
       "      <td>24</td>\n",
       "      <td>20</td>\n",
       "      <td>148579</td>\n",
       "      <td>719</td>\n",
       "    </tr>\n",
       "    <tr>\n",
       "      <th>1</th>\n",
       "      <td>2019-08-01</td>\n",
       "      <td>B</td>\n",
       "      <td>21</td>\n",
       "      <td>20</td>\n",
       "      <td>101217</td>\n",
       "      <td>713</td>\n",
       "    </tr>\n",
       "    <tr>\n",
       "      <th>2</th>\n",
       "      <td>2019-08-02</td>\n",
       "      <td>A</td>\n",
       "      <td>44</td>\n",
       "      <td>38</td>\n",
       "      <td>242401</td>\n",
       "      <td>1338</td>\n",
       "    </tr>\n",
       "    <tr>\n",
       "      <th>3</th>\n",
       "      <td>2019-08-02</td>\n",
       "      <td>B</td>\n",
       "      <td>45</td>\n",
       "      <td>43</td>\n",
       "      <td>266748</td>\n",
       "      <td>1294</td>\n",
       "    </tr>\n",
       "    <tr>\n",
       "      <th>4</th>\n",
       "      <td>2019-08-03</td>\n",
       "      <td>A</td>\n",
       "      <td>68</td>\n",
       "      <td>62</td>\n",
       "      <td>354874</td>\n",
       "      <td>1845</td>\n",
       "    </tr>\n",
       "    <tr>\n",
       "      <th>5</th>\n",
       "      <td>2019-08-03</td>\n",
       "      <td>B</td>\n",
       "      <td>61</td>\n",
       "      <td>59</td>\n",
       "      <td>380996</td>\n",
       "      <td>1803</td>\n",
       "    </tr>\n",
       "  </tbody>\n",
       "</table>\n",
       "</div>"
      ],
      "text/plain": [
       "        date group  transactionId  visitorId  revenue  visitors\n",
       "0 2019-08-01     A             24         20   148579       719\n",
       "1 2019-08-01     B             21         20   101217       713\n",
       "2 2019-08-02     A             44         38   242401      1338\n",
       "3 2019-08-02     B             45         43   266748      1294\n",
       "4 2019-08-03     A             68         62   354874      1845\n",
       "5 2019-08-03     B             61         59   380996      1803"
      ]
     },
     "execution_count": 31,
     "metadata": {},
     "output_type": "execute_result"
    }
   ],
   "source": [
    "cumulativeData.head(6)"
   ]
  },
  {
   "cell_type": "markdown",
   "metadata": {},
   "source": [
    "Переименуем столбцы."
   ]
  },
  {
   "cell_type": "code",
   "execution_count": 32,
   "metadata": {},
   "outputs": [],
   "source": [
    "cumulativeData.columns=['date', 'group', 'orders', 'buyers', 'revenue', 'visitors']"
   ]
  },
  {
   "cell_type": "code",
   "execution_count": 33,
   "metadata": {},
   "outputs": [
    {
     "data": {
      "text/html": [
       "<div>\n",
       "<style scoped>\n",
       "    .dataframe tbody tr th:only-of-type {\n",
       "        vertical-align: middle;\n",
       "    }\n",
       "\n",
       "    .dataframe tbody tr th {\n",
       "        vertical-align: top;\n",
       "    }\n",
       "\n",
       "    .dataframe thead th {\n",
       "        text-align: right;\n",
       "    }\n",
       "</style>\n",
       "<table border=\"1\" class=\"dataframe\">\n",
       "  <thead>\n",
       "    <tr style=\"text-align: right;\">\n",
       "      <th></th>\n",
       "      <th>date</th>\n",
       "      <th>group</th>\n",
       "      <th>orders</th>\n",
       "      <th>buyers</th>\n",
       "      <th>revenue</th>\n",
       "      <th>visitors</th>\n",
       "    </tr>\n",
       "  </thead>\n",
       "  <tbody>\n",
       "    <tr>\n",
       "      <th>0</th>\n",
       "      <td>2019-08-01</td>\n",
       "      <td>A</td>\n",
       "      <td>24</td>\n",
       "      <td>20</td>\n",
       "      <td>148579</td>\n",
       "      <td>719</td>\n",
       "    </tr>\n",
       "    <tr>\n",
       "      <th>1</th>\n",
       "      <td>2019-08-01</td>\n",
       "      <td>B</td>\n",
       "      <td>21</td>\n",
       "      <td>20</td>\n",
       "      <td>101217</td>\n",
       "      <td>713</td>\n",
       "    </tr>\n",
       "    <tr>\n",
       "      <th>2</th>\n",
       "      <td>2019-08-02</td>\n",
       "      <td>A</td>\n",
       "      <td>44</td>\n",
       "      <td>38</td>\n",
       "      <td>242401</td>\n",
       "      <td>1338</td>\n",
       "    </tr>\n",
       "    <tr>\n",
       "      <th>3</th>\n",
       "      <td>2019-08-02</td>\n",
       "      <td>B</td>\n",
       "      <td>45</td>\n",
       "      <td>43</td>\n",
       "      <td>266748</td>\n",
       "      <td>1294</td>\n",
       "    </tr>\n",
       "  </tbody>\n",
       "</table>\n",
       "</div>"
      ],
      "text/plain": [
       "        date group  orders  buyers  revenue  visitors\n",
       "0 2019-08-01     A      24      20   148579       719\n",
       "1 2019-08-01     B      21      20   101217       713\n",
       "2 2019-08-02     A      44      38   242401      1338\n",
       "3 2019-08-02     B      45      43   266748      1294"
      ]
     },
     "execution_count": 33,
     "metadata": {},
     "output_type": "execute_result"
    }
   ],
   "source": [
    "cumulativeData.head(4)"
   ]
  },
  {
   "cell_type": "markdown",
   "metadata": {},
   "source": [
    "Объявим переменные cumulativeRevenueA и cumulativeRevenueB, в которых сохраним данные о датах, выручке и числе заказов в группах A и B"
   ]
  },
  {
   "cell_type": "code",
   "execution_count": 34,
   "metadata": {},
   "outputs": [
    {
     "data": {
      "text/html": [
       "<div>\n",
       "<style scoped>\n",
       "    .dataframe tbody tr th:only-of-type {\n",
       "        vertical-align: middle;\n",
       "    }\n",
       "\n",
       "    .dataframe tbody tr th {\n",
       "        vertical-align: top;\n",
       "    }\n",
       "\n",
       "    .dataframe thead th {\n",
       "        text-align: right;\n",
       "    }\n",
       "</style>\n",
       "<table border=\"1\" class=\"dataframe\">\n",
       "  <thead>\n",
       "    <tr style=\"text-align: right;\">\n",
       "      <th></th>\n",
       "      <th>date</th>\n",
       "      <th>revenue</th>\n",
       "      <th>orders</th>\n",
       "    </tr>\n",
       "  </thead>\n",
       "  <tbody>\n",
       "    <tr>\n",
       "      <th>0</th>\n",
       "      <td>2019-08-01</td>\n",
       "      <td>148579</td>\n",
       "      <td>24</td>\n",
       "    </tr>\n",
       "    <tr>\n",
       "      <th>2</th>\n",
       "      <td>2019-08-02</td>\n",
       "      <td>242401</td>\n",
       "      <td>44</td>\n",
       "    </tr>\n",
       "    <tr>\n",
       "      <th>4</th>\n",
       "      <td>2019-08-03</td>\n",
       "      <td>354874</td>\n",
       "      <td>68</td>\n",
       "    </tr>\n",
       "    <tr>\n",
       "      <th>6</th>\n",
       "      <td>2019-08-04</td>\n",
       "      <td>425699</td>\n",
       "      <td>84</td>\n",
       "    </tr>\n",
       "    <tr>\n",
       "      <th>8</th>\n",
       "      <td>2019-08-05</td>\n",
       "      <td>549917</td>\n",
       "      <td>109</td>\n",
       "    </tr>\n",
       "  </tbody>\n",
       "</table>\n",
       "</div>"
      ],
      "text/plain": [
       "        date  revenue  orders\n",
       "0 2019-08-01   148579      24\n",
       "2 2019-08-02   242401      44\n",
       "4 2019-08-03   354874      68\n",
       "6 2019-08-04   425699      84\n",
       "8 2019-08-05   549917     109"
      ]
     },
     "metadata": {},
     "output_type": "display_data"
    },
    {
     "data": {
      "text/html": [
       "<div>\n",
       "<style scoped>\n",
       "    .dataframe tbody tr th:only-of-type {\n",
       "        vertical-align: middle;\n",
       "    }\n",
       "\n",
       "    .dataframe tbody tr th {\n",
       "        vertical-align: top;\n",
       "    }\n",
       "\n",
       "    .dataframe thead th {\n",
       "        text-align: right;\n",
       "    }\n",
       "</style>\n",
       "<table border=\"1\" class=\"dataframe\">\n",
       "  <thead>\n",
       "    <tr style=\"text-align: right;\">\n",
       "      <th></th>\n",
       "      <th>date</th>\n",
       "      <th>revenue</th>\n",
       "      <th>orders</th>\n",
       "    </tr>\n",
       "  </thead>\n",
       "  <tbody>\n",
       "    <tr>\n",
       "      <th>1</th>\n",
       "      <td>2019-08-01</td>\n",
       "      <td>101217</td>\n",
       "      <td>21</td>\n",
       "    </tr>\n",
       "    <tr>\n",
       "      <th>3</th>\n",
       "      <td>2019-08-02</td>\n",
       "      <td>266748</td>\n",
       "      <td>45</td>\n",
       "    </tr>\n",
       "    <tr>\n",
       "      <th>5</th>\n",
       "      <td>2019-08-03</td>\n",
       "      <td>380996</td>\n",
       "      <td>61</td>\n",
       "    </tr>\n",
       "    <tr>\n",
       "      <th>7</th>\n",
       "      <td>2019-08-04</td>\n",
       "      <td>489567</td>\n",
       "      <td>78</td>\n",
       "    </tr>\n",
       "    <tr>\n",
       "      <th>9</th>\n",
       "      <td>2019-08-05</td>\n",
       "      <td>581995</td>\n",
       "      <td>101</td>\n",
       "    </tr>\n",
       "  </tbody>\n",
       "</table>\n",
       "</div>"
      ],
      "text/plain": [
       "        date  revenue  orders\n",
       "1 2019-08-01   101217      21\n",
       "3 2019-08-02   266748      45\n",
       "5 2019-08-03   380996      61\n",
       "7 2019-08-04   489567      78\n",
       "9 2019-08-05   581995     101"
      ]
     },
     "metadata": {},
     "output_type": "display_data"
    }
   ],
   "source": [
    "cumulativeRevenueA = cumulativeData.query('group==\"A\"')[['date', 'revenue', 'orders']]\n",
    "cumulativeRevenueB = cumulativeData.query('group==\"B\"')[['date', 'revenue', 'orders']]\n",
    "\n",
    "display(cumulativeRevenueA.head(5))\n",
    "\n",
    "display(cumulativeRevenueB.head(5))"
   ]
  },
  {
   "cell_type": "markdown",
   "metadata": {},
   "source": [
    "Построим графики кумулятивной выручки по дням по группам A и B."
   ]
  },
  {
   "cell_type": "code",
   "execution_count": 35,
   "metadata": {},
   "outputs": [
    {
     "data": {
      "image/png": "[encoded data removed]",
      "text/plain": [
       "<Figure size 720x432 with 1 Axes>"
      ]
     },
     "metadata": {
      "needs_background": "light"
     },
     "output_type": "display_data"
    }
   ],
   "source": [
    "plt.figure(figsize=(10,6))\n",
    "plt.title('Кумулятивная выручка по дням')\n",
    "plt.xlabel('Дата')\n",
    "plt.ylabel('Кумулятивная сумма выручки')\n",
    "plt.plot(cumulativeRevenueA['date'], cumulativeRevenueA['revenue'], label = 'A')\n",
    "plt.plot(cumulativeRevenueB['date'], cumulativeRevenueB['revenue'], label = 'B')\n",
    "plt.xticks(rotation=45)\n",
    "plt.legend()\n",
    "plt.show()"
   ]
  },
  {
   "cell_type": "markdown",
   "metadata": {},
   "source": [
    "Примерно до середины теста выручка по группе А немного превышала выручку по группе B, а затем резко оторвалась вперёд и продолжала лидировать. Видимо следует обратить внимание на аномально большие заказы, которые могли повлиять на результат, и удалить их при заключительном анализе."
   ]
  },
  {
   "cell_type": "markdown",
   "metadata": {},
   "source": [
    "### График кумулятивного среднего чека по группам"
   ]
  },
  {
   "cell_type": "markdown",
   "metadata": {},
   "source": [
    "Для групп A и B построим графики кумулятивного среднего чека."
   ]
  },
  {
   "cell_type": "code",
   "execution_count": 36,
   "metadata": {},
   "outputs": [
    {
     "data": {
      "image/png": "[encoded data removed]",
      "text/plain": [
       "<Figure size 720x432 with 1 Axes>"
      ]
     },
     "metadata": {
      "needs_background": "light"
     },
     "output_type": "display_data"
    }
   ],
   "source": [
    "plt.figure(figsize=(10,6))\n",
    "plt.title('Кумулятивный средний чек по дням')\n",
    "plt.ylabel('Сумма среднего чека')\n",
    "plt.xlabel('Дата')\n",
    "\n",
    "plt.plot(cumulativeRevenueA['date'], cumulativeRevenueA['revenue'] / cumulativeRevenueA['orders'], label='A')\n",
    "plt.plot(cumulativeRevenueB['date'], cumulativeRevenueB['revenue'] / cumulativeRevenueB['orders'], label='B')\n",
    "plt.xticks(rotation=45)\n",
    "\n",
    "plt.legend()\n",
    "plt.show()"
   ]
  },
  {
   "cell_type": "markdown",
   "metadata": {},
   "source": [
    "Кумулятивное значение среднего чека для группы `B` резко выросло в середине теста, а затем постепенно снижается. Требуется дополнительный анализ выбросов, которые могут искажать результаты."
   ]
  },
  {
   "cell_type": "markdown",
   "metadata": {},
   "source": [
    "### График относительного изменения кумулятивного среднего чека группы B к группе A"
   ]
  },
  {
   "cell_type": "markdown",
   "metadata": {},
   "source": [
    "Построим график относительного различия среднего чека."
   ]
  },
  {
   "cell_type": "code",
   "execution_count": 37,
   "metadata": {},
   "outputs": [
    {
     "data": {
      "image/png": "[encoded data removed]",
      "text/plain": [
       "<Figure size 720x432 with 1 Axes>"
      ]
     },
     "metadata": {
      "needs_background": "light"
     },
     "output_type": "display_data"
    }
   ],
   "source": [
    "#объединяем данные в одном датафрейме\n",
    "mergedCumulativeRevenue = cumulativeRevenueA.merge(cumulativeRevenueB, on='date', how='left', suffixes=['A', 'B'])\n",
    "\n",
    "#строим отношение средних чеков\n",
    "plt.figure(figsize=(10,6))\n",
    "plt.title('График относительного различия среднего чека между группами B и A')\n",
    "plt.xlabel('Дата')\n",
    "plt.ylabel('Доля различия среднего чека')\n",
    "\n",
    "plt.plot(mergedCumulativeRevenue['date'],\n",
    "         (mergedCumulativeRevenue['revenueB'] / mergedCumulativeRevenue['ordersB']) /\n",
    "         (mergedCumulativeRevenue['revenueA'] / mergedCumulativeRevenue['ordersA']) - 1 \n",
    "        )\n",
    "plt.xticks(rotation=45)\n",
    "plt.axhline(y=0, linestyle='--', color='black')\n",
    "\n",
    "plt.show()"
   ]
  },
  {
   "cell_type": "markdown",
   "metadata": {},
   "source": [
    "На графике заментны резкие скачки различия между средними чеками групп B и A. Видимо есть влияние больших заказов, которые несколько раз сдвигали значение среднего чека и выводили вперед в относительном значении среднего чека то группу A, то группу B.  "
   ]
  },
  {
   "cell_type": "markdown",
   "metadata": {},
   "source": [
    "### График кумулятивного среднего количества заказов на посетителя по группам"
   ]
  },
  {
   "cell_type": "markdown",
   "metadata": {},
   "source": [
    "Посмотрим график кумулятивного среднего количества заказов на посетителя."
   ]
  },
  {
   "cell_type": "code",
   "execution_count": 38,
   "metadata": {},
   "outputs": [
    {
     "data": {
      "image/png": "[encoded data removed]",
      "text/plain": [
       "<Figure size 720x432 with 1 Axes>"
      ]
     },
     "metadata": {
      "needs_background": "light"
     },
     "output_type": "display_data"
    }
   ],
   "source": [
    "# считаем среднее количество заказов на посетителя\n",
    "cumulativeData['conversion'] = cumulativeData['orders']/cumulativeData['visitors']\n",
    "\n",
    "# отделяем данные по группе A\n",
    "cumulativeDataA = cumulativeData[cumulativeData['group']=='A']\n",
    "\n",
    "# отделяем данные по группе B\n",
    "cumulativeDataB = cumulativeData[cumulativeData['group']=='B']\n",
    "\n",
    "# строим графики\n",
    "plt.figure(figsize=(10,6))\n",
    "plt.title('График кумулятивного среднего количества заказов на посетителя по группам')\n",
    "plt.xlabel('Дата')\n",
    "plt.ylabel('Кумулятивная конверсия')\n",
    "plt.plot(cumulativeDataA['date'], cumulativeDataA['conversion'], label='A')\n",
    "plt.plot(cumulativeDataB['date'], cumulativeDataB['conversion'], label='B')\n",
    "plt.legend()\n",
    "\n",
    "# задаем масштаб осей\n",
    "plt.axis([\"2019-08-01\", '2019-09-01', 0, 0.04])\n",
    "plt.grid(True, axis='y')\n",
    "plt.xticks(rotation=45)\n",
    "\n",
    "plt.show()"
   ]
  },
  {
   "cell_type": "markdown",
   "metadata": {},
   "source": [
    "Через неделю после начала эксперимента конверсия группы `A` снизилась, а конверсия группы `B` подросла и вышла вперёд. На протяжении всего эксперимента конверсии в группах держались примерно на одном уровне, и конверсия в группе `B` стабильно превышает конверсию в группе `A`. "
   ]
  },
  {
   "cell_type": "markdown",
   "metadata": {},
   "source": [
    "### График относительного изменения кумулятивного среднего количества заказов на посетителя группы B к группе A"
   ]
  },
  {
   "cell_type": "markdown",
   "metadata": {},
   "source": [
    "Построим график относительного различия кумулятивных конверсий:"
   ]
  },
  {
   "cell_type": "code",
   "execution_count": 39,
   "metadata": {},
   "outputs": [
    {
     "data": {
      "image/png": "[encoded data removed]",
      "text/plain": [
       "<Figure size 720x432 with 1 Axes>"
      ]
     },
     "metadata": {
      "needs_background": "light"
     },
     "output_type": "display_data"
    }
   ],
   "source": [
    "mergedCumulativeConversions = cumulativeDataA[['date','conversion']].merge(cumulativeDataB[['date','conversion']], on='date', how='left', suffixes=['A', 'B'])\n",
    "\n",
    "plt.figure(figsize=(10, 6))\n",
    "plt.title('Относительное изменение кумулятивного среднего количества заказов на посетителя группы B к группе A')\n",
    "plt.xlabel('Дата')\n",
    "plt.ylabel('Относительное изменение')\n",
    "plt.plot(mergedCumulativeConversions['date'], mergedCumulativeConversions['conversionB']/mergedCumulativeConversions['conversionA']-1, label=\"Относительный прирост конверсии группы B относительно группы A\")\n",
    "plt.legend()\n",
    "\n",
    "plt.axhline(y=0, color='black', linestyle='--')\n",
    "plt.axhline(y=0.15, color='grey', linestyle='--')\n",
    "plt.axis([\"2019-08-01\", '2019-09-01', -0.5, 0.5])\n",
    "plt.xticks(rotation=45)\n",
    "\n",
    "plt.show()"
   ]
  },
  {
   "cell_type": "markdown",
   "metadata": {},
   "source": [
    "В начале теста группа `B` немного проигрывала группе `A`, затем вышла вперёд и на протяжении всего теста лидировала. Прирост конверсии держится около значения 0,15."
   ]
  },
  {
   "cell_type": "markdown",
   "metadata": {},
   "source": [
    "### Точечный график количества заказов по пользователям"
   ]
  },
  {
   "cell_type": "markdown",
   "metadata": {},
   "source": [
    "Оценим количество заказов на одного пользователя.\n",
    "\n",
    "Построим гистрограмму распределения количества заказов на одного пользователя."
   ]
  },
  {
   "cell_type": "code",
   "execution_count": 40,
   "metadata": {},
   "outputs": [
    {
     "data": {
      "image/png": "[encoded data removed]",
      "text/plain": [
       "<Figure size 720x432 with 1 Axes>"
      ]
     },
     "metadata": {
      "needs_background": "light"
     },
     "output_type": "display_data"
    }
   ],
   "source": [
    "#Построим гистрограмму распределения количества заказов на одного пользователя\n",
    "orders.groupby('visitorId').agg({'transactionId' : 'nunique'}).hist(figsize=(10,6))\n",
    "plt.title('Гистограмма по количеству заказов на пользователя')\n",
    "plt.xlabel('Количество заказов')\n",
    "plt.ylabel('Количество пользователей')\n",
    "\n",
    "plt.show()"
   ]
  },
  {
   "cell_type": "markdown",
   "metadata": {},
   "source": [
    "Большинство пользователей заказывали один раз, но также есть некоторая доля пользователей, заказывавших два-три раза, и очень мало тех, кто делал больше заказов."
   ]
  },
  {
   "cell_type": "markdown",
   "metadata": {},
   "source": [
    "Построим точечную диаграмму числа заказов на одного пользователя:"
   ]
  },
  {
   "cell_type": "code",
   "execution_count": 41,
   "metadata": {},
   "outputs": [
    {
     "data": {
      "image/png": "[encoded data removed]",
      "text/plain": [
       "<Figure size 720x432 with 1 Axes>"
      ]
     },
     "metadata": {
      "needs_background": "light"
     },
     "output_type": "display_data"
    }
   ],
   "source": [
    "#Построим точечную диаграмму числа заказов на одного пользователя:\n",
    "transByUsers = orders.groupby('visitorId').agg({'transactionId' : 'nunique'})\n",
    "transByUsers.columns=(['orders'])\n",
    "x_values = pd.Series(range(0, len(transByUsers)))\n",
    "\n",
    "plt.figure(figsize=(10,6))\n",
    "plt.title('Диаграмма числа заказов на одного пользователя')\n",
    "plt.xlabel('Пользователи')\n",
    "plt.ylabel('Число заказов')\n",
    "\n",
    "plt.scatter(x_values, transByUsers['orders'])\n",
    "plt.show()"
   ]
  },
  {
   "cell_type": "markdown",
   "metadata": {},
   "source": [
    "Достаточно много пользователей с 2-3 заказами. Их точная доля не ясна, поэтому непонятно, считать их аномалиями или нет. "
   ]
  },
  {
   "cell_type": "markdown",
   "metadata": {},
   "source": [
    "###  Граница для определения аномальных пользователей."
   ]
  },
  {
   "cell_type": "markdown",
   "metadata": {},
   "source": [
    "Посчитаем 95-й и 99-й перцентили количества заказов на одного пользователя:"
   ]
  },
  {
   "cell_type": "code",
   "execution_count": 42,
   "metadata": {},
   "outputs": [
    {
     "name": "stdout",
     "output_type": "stream",
     "text": [
      "[2. 4.]\n"
     ]
    }
   ],
   "source": [
    "print(np.percentile(transByUsers['orders'],  [95, 99]))"
   ]
  },
  {
   "cell_type": "markdown",
   "metadata": {},
   "source": [
    "Не более 5% пользователей оформляли более чем два заказа, и не более 1% пользователей оформляли больше 4-х заказов. Можно выбрать 4 заказа как верхнюю границу числа заказов, и отсеять аномальных пользователей по ней. "
   ]
  },
  {
   "cell_type": "markdown",
   "metadata": {},
   "source": [
    "### Точечный график стоимостей заказов"
   ]
  },
  {
   "cell_type": "markdown",
   "metadata": {},
   "source": [
    "Для начала посмотрим гистограмму распределения стоимости заказов."
   ]
  },
  {
   "cell_type": "code",
   "execution_count": 43,
   "metadata": {},
   "outputs": [
    {
     "data": {
      "image/png": "[encoded data removed]",
      "text/plain": [
       "<Figure size 720x432 with 1 Axes>"
      ]
     },
     "metadata": {
      "needs_background": "light"
     },
     "output_type": "display_data"
    }
   ],
   "source": [
    "#Построим гистрограмму распределения стоимости заказов\n",
    "orders['revenue'].hist(figsize=(10,6), bins=100)\n",
    "plt.title('Гистограмма стоимости заказов')\n",
    "plt.ylabel('Количество пользователей')\n",
    "plt.xlabel('Сумма заказа')\n",
    "\n",
    "plt.show()"
   ]
  },
  {
   "cell_type": "markdown",
   "metadata": {},
   "source": [
    "На гистограмме сложно увидеть аномальные по сумме заказы и их количество.\n",
    "Построим точечную диаграмму."
   ]
  },
  {
   "cell_type": "code",
   "execution_count": 44,
   "metadata": {},
   "outputs": [
    {
     "data": {
      "image/png": "[encoded data removed]",
      "text/plain": [
       "<Figure size 720x432 with 1 Axes>"
      ]
     },
     "metadata": {
      "needs_background": "light"
     },
     "output_type": "display_data"
    }
   ],
   "source": [
    "#Построим точечную диаграмму распределения стоимости заказов\n",
    "x_values = pd.Series(range(0, len(orders['revenue'])))\n",
    "plt.figure(figsize=(10,6))\n",
    "plt.grid(True, axis='y')\n",
    "plt.scatter(x_values, orders['revenue'])\n",
    "plt.title('Диаграмма стоимости заказов')\n",
    "plt.xlabel('Пользователи')\n",
    "plt.ylabel('Сумма заказа')\n",
    "\n",
    "plt.show()"
   ]
  },
  {
   "cell_type": "markdown",
   "metadata": {},
   "source": [
    "Заказы на суммы 200 тысяч и 1,2 миллиона выглядят аномально, а также не позволяют оценить на диаграмме другие суммы заказов, которые выбиваются из общей массы.    "
   ]
  },
  {
   "cell_type": "markdown",
   "metadata": {},
   "source": [
    "Посмотрим на эту же диаграмму без учета аномально больших значений. Ограничим ось Y верхним значением  100000."
   ]
  },
  {
   "cell_type": "code",
   "execution_count": 45,
   "metadata": {},
   "outputs": [
    {
     "data": {
      "image/png": "[encoded data removed]",
      "text/plain": [
       "<Figure size 720x432 with 1 Axes>"
      ]
     },
     "metadata": {
      "needs_background": "light"
     },
     "output_type": "display_data"
    }
   ],
   "source": [
    "#Построим точечную диаграмму распределения стоимости заказов\n",
    "x_values = pd.Series(range(0, len(orders['revenue'])))\n",
    "plt.figure(figsize=(10,6))\n",
    "plt.grid(True, axis='y')\n",
    "plt.scatter(x_values, orders['revenue'])\n",
    "plt.title('Диаграмма стоимости заказов')\n",
    "plt.xlabel('Пользователи')\n",
    "plt.ylabel('Сумма заказа')\n",
    "plt.ylim(0, 100000)\n",
    "\n",
    "plt.show()"
   ]
  },
  {
   "cell_type": "markdown",
   "metadata": {},
   "source": [
    "### Граница для определения аномальных заказов"
   ]
  },
  {
   "cell_type": "markdown",
   "metadata": {},
   "source": [
    "Посчитаем 95-й и 99-й перцентили стоимости заказов. "
   ]
  },
  {
   "cell_type": "code",
   "execution_count": 46,
   "metadata": {
    "scrolled": true
   },
   "outputs": [
    {
     "name": "stdout",
     "output_type": "stream",
     "text": [
      "[28000.  58233.2]\n"
     ]
    }
   ],
   "source": [
    "print(np.percentile(orders['revenue'], [95, 99]))"
   ]
  },
  {
   "cell_type": "markdown",
   "metadata": {},
   "source": [
    "Не более, чем у 5% заказов чек дороже 28000, и не больше, чем у 1% заказов - дороже 58233 рублей."
   ]
  },
  {
   "cell_type": "markdown",
   "metadata": {},
   "source": [
    "### Cтатистическая значимость различий в среднем количестве заказов на посетителя между группами по «сырым» данным"
   ]
  },
  {
   "cell_type": "markdown",
   "metadata": {},
   "source": [
    "Проверим, есть ли статистически значимые различия между группами `A` и `B` по среднему количеству заказов на одного посетителя.\n",
    "\n",
    "Сформулируем гипотезы:\n",
    "\n",
    "```\n",
    "H_0: Среднее количество заказов на посетителя из группы B = среднему количеству заказов на посетителя из группы A. Разницы между группами нет.\n",
    "H_1: Среднее количество заказов на посетителя из группы B ≠ среднему количеству заказов на посетителя из группы A. Разница между группами есть.\n",
    "alpha = 0.05\n",
    "```"
   ]
  },
  {
   "cell_type": "markdown",
   "metadata": {},
   "source": [
    "Создадим переменные ordersByUsersA и ordersByUsersB со столбцами `['userId', 'orders']`, где для пользователей, совершивших хотя бы 1 заказ, будет указано число заказов. "
   ]
  },
  {
   "cell_type": "code",
   "execution_count": 47,
   "metadata": {},
   "outputs": [
    {
     "data": {
      "text/html": [
       "<div>\n",
       "<style scoped>\n",
       "    .dataframe tbody tr th:only-of-type {\n",
       "        vertical-align: middle;\n",
       "    }\n",
       "\n",
       "    .dataframe tbody tr th {\n",
       "        vertical-align: top;\n",
       "    }\n",
       "\n",
       "    .dataframe thead th {\n",
       "        text-align: right;\n",
       "    }\n",
       "</style>\n",
       "<table border=\"1\" class=\"dataframe\">\n",
       "  <thead>\n",
       "    <tr style=\"text-align: right;\">\n",
       "      <th></th>\n",
       "      <th>userId</th>\n",
       "      <th>orders</th>\n",
       "    </tr>\n",
       "  </thead>\n",
       "  <tbody>\n",
       "    <tr>\n",
       "      <th>0</th>\n",
       "      <td>8300375</td>\n",
       "      <td>1</td>\n",
       "    </tr>\n",
       "    <tr>\n",
       "      <th>1</th>\n",
       "      <td>11685486</td>\n",
       "      <td>1</td>\n",
       "    </tr>\n",
       "    <tr>\n",
       "      <th>2</th>\n",
       "      <td>54447517</td>\n",
       "      <td>1</td>\n",
       "    </tr>\n",
       "    <tr>\n",
       "      <th>3</th>\n",
       "      <td>66685450</td>\n",
       "      <td>1</td>\n",
       "    </tr>\n",
       "    <tr>\n",
       "      <th>4</th>\n",
       "      <td>78758296</td>\n",
       "      <td>1</td>\n",
       "    </tr>\n",
       "  </tbody>\n",
       "</table>\n",
       "</div>"
      ],
      "text/plain": [
       "     userId  orders\n",
       "0   8300375       1\n",
       "1  11685486       1\n",
       "2  54447517       1\n",
       "3  66685450       1\n",
       "4  78758296       1"
      ]
     },
     "execution_count": 47,
     "metadata": {},
     "output_type": "execute_result"
    }
   ],
   "source": [
    "ordersByUsersA = (orders[orders['group']=='A']\n",
    "                  .groupby('visitorId', as_index=False)\n",
    "                  .agg({'transactionId' : 'nunique'})\n",
    ")\n",
    "ordersByUsersA.columns=['userId', 'orders']\n",
    "ordersByUsersA.head(5)"
   ]
  },
  {
   "cell_type": "code",
   "execution_count": 48,
   "metadata": {},
   "outputs": [
    {
     "data": {
      "text/html": [
       "<div>\n",
       "<style scoped>\n",
       "    .dataframe tbody tr th:only-of-type {\n",
       "        vertical-align: middle;\n",
       "    }\n",
       "\n",
       "    .dataframe tbody tr th {\n",
       "        vertical-align: top;\n",
       "    }\n",
       "\n",
       "    .dataframe thead th {\n",
       "        text-align: right;\n",
       "    }\n",
       "</style>\n",
       "<table border=\"1\" class=\"dataframe\">\n",
       "  <thead>\n",
       "    <tr style=\"text-align: right;\">\n",
       "      <th></th>\n",
       "      <th>userId</th>\n",
       "      <th>orders</th>\n",
       "    </tr>\n",
       "  </thead>\n",
       "  <tbody>\n",
       "    <tr>\n",
       "      <th>0</th>\n",
       "      <td>5114589</td>\n",
       "      <td>1</td>\n",
       "    </tr>\n",
       "    <tr>\n",
       "      <th>1</th>\n",
       "      <td>6958315</td>\n",
       "      <td>1</td>\n",
       "    </tr>\n",
       "    <tr>\n",
       "      <th>2</th>\n",
       "      <td>8300375</td>\n",
       "      <td>1</td>\n",
       "    </tr>\n",
       "    <tr>\n",
       "      <th>3</th>\n",
       "      <td>39475350</td>\n",
       "      <td>1</td>\n",
       "    </tr>\n",
       "    <tr>\n",
       "      <th>4</th>\n",
       "      <td>47206413</td>\n",
       "      <td>1</td>\n",
       "    </tr>\n",
       "  </tbody>\n",
       "</table>\n",
       "</div>"
      ],
      "text/plain": [
       "     userId  orders\n",
       "0   5114589       1\n",
       "1   6958315       1\n",
       "2   8300375       1\n",
       "3  39475350       1\n",
       "4  47206413       1"
      ]
     },
     "execution_count": 48,
     "metadata": {},
     "output_type": "execute_result"
    }
   ],
   "source": [
    "ordersByUsersB = (orders[orders['group']=='B']\n",
    "                  .groupby('visitorId', as_index=False)\n",
    "                  .agg({'transactionId' : 'nunique'})\n",
    ")\n",
    "ordersByUsersB.columns=['userId', 'orders']\n",
    "ordersByUsersB.head(5)"
   ]
  },
  {
   "cell_type": "code",
   "execution_count": 49,
   "metadata": {},
   "outputs": [],
   "source": [
    "visitorsADaily = visitors[visitors['group']=='A'][['date', 'visitors']]\n",
    "visitorsBDaily = visitors[visitors['group']=='B'][['date', 'visitors']]"
   ]
  },
  {
   "cell_type": "markdown",
   "metadata": {},
   "source": [
    "Объявим переменные `sampleA` и `sampleB`, в которых пользователям с заказами будет соответствовать число заказов пользователя. А пользователям без заказов — нули. "
   ]
  },
  {
   "cell_type": "code",
   "execution_count": 50,
   "metadata": {},
   "outputs": [],
   "source": [
    "sampleA = pd.concat([ordersByUsersA['orders'],\n",
    "                    pd.Series(0, index=np.arange(visitorsADaily['visitors'].sum() -\n",
    "                    len(ordersByUsersA['orders'])), name='orders')], axis=0)\n",
    "\n",
    "sampleB = pd.concat([ordersByUsersB['orders'],\n",
    "                    pd.Series(0, index=np.arange(visitorsBDaily['visitors'].sum() -\n",
    "                    len(ordersByUsersB['orders'])), name='orders')], axis=0)"
   ]
  },
  {
   "cell_type": "markdown",
   "metadata": {},
   "source": [
    "Выведем относительный прирост среднего количества заказов на пользователя группы B:"
   ]
  },
  {
   "cell_type": "code",
   "execution_count": 51,
   "metadata": {},
   "outputs": [
    {
     "name": "stdout",
     "output_type": "stream",
     "text": [
      "Относительное изменение среднего количества заказов на пользователя: 13.81%\n"
     ]
    }
   ],
   "source": [
    "print(f'Относительное изменение среднего количества заказов на пользователя: {sampleB.mean() / sampleA.mean() - 1:.2%}')"
   ]
  },
  {
   "cell_type": "markdown",
   "metadata": {},
   "source": [
    "Посчитаем статистическую значимость различия среднего количества заказов по результатам теста методом Манна-Уитни."
   ]
  },
  {
   "cell_type": "code",
   "execution_count": 52,
   "metadata": {},
   "outputs": [
    {
     "name": "stdout",
     "output_type": "stream",
     "text": [
      "Значение p_value = 0.017\n",
      "Отвергаем нулевую гипотезу.\n"
     ]
    }
   ],
   "source": [
    "#вызов метода для проверки гипотезы\n",
    "result = stats.mannwhitneyu(sampleA, sampleB)\n",
    "\n",
    "# зададим значение уровня значимости alpha\n",
    "alpha=0.05\n",
    "\n",
    "#вывод значения pvalue на экран\n",
    "print(f\"Значение p_value = {result.pvalue:.3f}\")\n",
    "\n",
    "#вывод результата проверки гипотезы\n",
    "if result.pvalue < alpha:\n",
    "    print(\"Отвергаем нулевую гипотезу.\")\n",
    "else:\n",
    "    print(\"Не получилось отвергнуть нулевую гипотезу.\")"
   ]
  },
  {
   "cell_type": "markdown",
   "metadata": {},
   "source": [
    "**Вывод**\n",
    "\n",
    "На \"сырых\" данных, на уровне значимости 5%, есть основания отвергнуть нулевую гипотезу о равенстве среднего количества заказов на посетителя между группами в пользу альтернативной гипотезы. Относительный прирост среднего количества заказов на посетителя в группе `B` составил `13,8%`."
   ]
  },
  {
   "cell_type": "markdown",
   "metadata": {},
   "source": [
    "### Cтатистическая значимость различий в среднем чеке заказа между группами по «сырым» данным"
   ]
  },
  {
   "cell_type": "markdown",
   "metadata": {},
   "source": [
    "Найдём относительные различия в среднем чеке между группами:"
   ]
  },
  {
   "cell_type": "code",
   "execution_count": 53,
   "metadata": {},
   "outputs": [
    {
     "name": "stdout",
     "output_type": "stream",
     "text": [
      "Относительное изменение среднего чека пользователя: 25.87%\n"
     ]
    }
   ],
   "source": [
    "print(f\"Относительное изменение среднего чека пользователя: {orders[orders['group']=='B']['revenue'].mean() / orders[orders['group']=='A']['revenue'].mean() - 1:.2%}\")"
   ]
  },
  {
   "cell_type": "markdown",
   "metadata": {},
   "source": [
    "Проверим статистическую значимость различий в среднем чеке между группами `A` и `B`."
   ]
  },
  {
   "cell_type": "markdown",
   "metadata": {},
   "source": [
    "Сформулируем гипотезы:\n",
    "\n",
    "```\n",
    "H_0: Средний чек пользователя из группы B = среднему чеку пользователя из группы A. Различий в среднем чеке нет.\n",
    "H_1: Средний чек пользователя из группы B ≠ среднему чеку пользователя из группы A. Различия в среднем чеке между группами есть.\n",
    "alpha = 0.05\n",
    "```"
   ]
  },
  {
   "cell_type": "code",
   "execution_count": 54,
   "metadata": {},
   "outputs": [
    {
     "name": "stdout",
     "output_type": "stream",
     "text": [
      "Значение p_value = 0.729\n",
      "Не получилось отвергнуть нулевую гипотезу.\n"
     ]
    }
   ],
   "source": [
    "#вызов метода для проверки гипотезы\n",
    "#передадим критерию mannwhitneyu() данные о выручке с заказов.\n",
    "result = stats.mannwhitneyu(orders[orders['group']=='A']['revenue'] , orders[orders['group']=='B']['revenue'])\n",
    "\n",
    "# зададим значение уровня значимости alpha\n",
    "alpha=0.05\n",
    "\n",
    "#вывод значения pvalue на экран\n",
    "print(f\"Значение p_value = {result.pvalue:.3f}\")\n",
    "\n",
    "#вывод результата проверки гипотезы\n",
    "if result.pvalue < alpha:\n",
    "    print(\"Отвергаем нулевую гипотезу.\")\n",
    "else:\n",
    "    print(\"Не получилось отвергнуть нулевую гипотезу.\")"
   ]
  },
  {
   "cell_type": "markdown",
   "metadata": {},
   "source": [
    "P-value намного больше 0.05. Значит, причин отвергать нулевую гипотезу и считать, что в среднем чеке есть различия, нет. При этом средний чек группы `B` на 25% выше среднего чека группы `A`."
   ]
  },
  {
   "cell_type": "markdown",
   "metadata": {},
   "source": [
    "### Статистическая значимость различий в среднем количестве заказов на посетителя между группами по «очищенным» данным. "
   ]
  },
  {
   "cell_type": "markdown",
   "metadata": {},
   "source": [
    "Ранее мы определили, что менее 5% покупателей делают более двух заказов, и только 1% покупателей делают 4 и более заказов. 95-й и 99-й перцентили средних чеков равны 28000 и 58233 рублям.\n",
    "\n",
    "Примем за аномальных пользователей тех, кто совершил более 3-х заказов или совершил заказ дороже 30000 рублей. Таким образом уберём 1% пользователей с наибольшим числом заказов и от 1% до 5% пользователей с дорогими заказами.\n",
    "\n",
    "Сделаем срезы пользователей с числом заказов больше 3 — usersWithManyOrders и пользователей, совершивших заказы дороже 30000 — usersWithExpensiveOrders. Объединим их в таблице abnormalUsers"
   ]
  },
  {
   "cell_type": "code",
   "execution_count": 55,
   "metadata": {},
   "outputs": [],
   "source": [
    "usersWithManyOrders = pd.concat(\n",
    "    [\n",
    "        ordersByUsersA[ordersByUsersA['orders']>3]['userId'],\n",
    "        ordersByUsersB[ordersByUsersB['orders']>3]['userId']\n",
    "    ], axis=0\n",
    ")\n",
    "\n",
    "usersWithExpensiveOrders = orders[orders['revenue']>30000]['visitorId']\n",
    "\n",
    "abnormalUsers = pd.concat(\n",
    "    [usersWithManyOrders, usersWithExpensiveOrders], axis = 0\n",
    ").drop_duplicates()"
   ]
  },
  {
   "cell_type": "code",
   "execution_count": 56,
   "metadata": {},
   "outputs": [
    {
     "name": "stdout",
     "output_type": "stream",
     "text": [
      "Количество аномальных пользователей: 57\n"
     ]
    }
   ],
   "source": [
    "print(f\"Количество аномальных пользователей: {abnormalUsers.shape[0]}\")"
   ]
  },
  {
   "cell_type": "markdown",
   "metadata": {},
   "source": [
    "Подготовим выборки количества заказов по пользователям внутри групп."
   ]
  },
  {
   "cell_type": "code",
   "execution_count": 57,
   "metadata": {},
   "outputs": [],
   "source": [
    "sampleAFiltered = pd.concat(\n",
    "    [\n",
    "        ordersByUsersA[~(ordersByUsersA['userId'].isin(abnormalUsers))]['orders'],\n",
    "        pd.Series(0,\n",
    "                 index=np.arange(\n",
    "                     visitorsADaily['visitors'].sum() - len(ordersByUsersA['orders'])\n",
    "                     - len(ordersByUsersA[(ordersByUsersA['userId'].isin(abnormalUsers))]['orders'])\n",
    "                 ),\n",
    "                 name='orders'\n",
    "        )\n",
    "    ], axis=0    \n",
    ")\n",
    "\n",
    "sampleBFiltered = pd.concat(\n",
    "    [\n",
    "        ordersByUsersB[~(ordersByUsersB['userId'].isin(abnormalUsers))]['orders'],\n",
    "        pd.Series(0,\n",
    "                 index=np.arange(\n",
    "                     visitorsBDaily['visitors'].sum() - len(ordersByUsersB['orders'])\n",
    "                     - len(ordersByUsersB[(ordersByUsersB['userId'].isin(abnormalUsers))]['orders'])\n",
    "                 ),\n",
    "                 name='orders'\n",
    "        )\n",
    "    ], axis=0    \n",
    ")"
   ]
  },
  {
   "cell_type": "code",
   "execution_count": 58,
   "metadata": {},
   "outputs": [
    {
     "name": "stdout",
     "output_type": "stream",
     "text": [
      "Относительное изменение среднего количества заказов на пользователя: 14.77%\n"
     ]
    }
   ],
   "source": [
    "print(f'Относительное изменение среднего количества заказов на пользователя: {sampleBFiltered.mean() / sampleAFiltered.mean() - 1:.2%}')"
   ]
  },
  {
   "cell_type": "markdown",
   "metadata": {},
   "source": [
    "Применим статистический критерий Манна-Уитни к полученным выборкам."
   ]
  },
  {
   "cell_type": "code",
   "execution_count": 59,
   "metadata": {},
   "outputs": [
    {
     "name": "stdout",
     "output_type": "stream",
     "text": [
      "Значение p_value = 0.018\n",
      "Отвергаем нулевую гипотезу.\n"
     ]
    }
   ],
   "source": [
    "#вызов метода для проверки гипотезы\n",
    "result = stats.mannwhitneyu(sampleAFiltered, sampleBFiltered)\n",
    "\n",
    "# зададим значение уровня значимости alpha\n",
    "alpha=0.05\n",
    "\n",
    "#вывод значения pvalue на экран\n",
    "print(f\"Значение p_value = {result.pvalue:.3f}\")\n",
    "\n",
    "#вывод результата проверки гипотезы\n",
    "if result.pvalue < alpha:\n",
    "    print(\"Отвергаем нулевую гипотезу.\")\n",
    "else:\n",
    "    print(\"Не получилось отвергнуть нулевую гипотезу.\")"
   ]
  },
  {
   "cell_type": "markdown",
   "metadata": {},
   "source": [
    "По среднему количеству заказов результаты практически не изменились. Всё также фиксируем статистически значимые отличия между группами. Относительное изменение количества заказов составило `14,7%`."
   ]
  },
  {
   "cell_type": "markdown",
   "metadata": {},
   "source": [
    "### Статистическая значимость различий в среднем чеке заказа между группами по «очищенным» данным."
   ]
  },
  {
   "cell_type": "markdown",
   "metadata": {},
   "source": [
    "Исключим из заказов данные по аномальным пользователям и проверим, изменятся ли на \"очищенных\" данных результаты по среднему чеку."
   ]
  },
  {
   "cell_type": "code",
   "execution_count": 60,
   "metadata": {},
   "outputs": [],
   "source": [
    "#исключаем данные по аномальным пользователям\n",
    "ordersAFiltered = orders[(orders['group']=='A') & ~(orders['visitorId'].isin(abnormalUsers))]['revenue']\n",
    "ordersBFiltered = orders[(orders['group']=='B') & ~(orders['visitorId'].isin(abnormalUsers))]['revenue']"
   ]
  },
  {
   "cell_type": "code",
   "execution_count": 61,
   "metadata": {},
   "outputs": [
    {
     "name": "stdout",
     "output_type": "stream",
     "text": [
      "Значение p_value = 0.958\n",
      "Не получилось отвергнуть нулевую гипотезу.\n"
     ]
    }
   ],
   "source": [
    "#вызов метода для проверки гипотезы\n",
    "#передадим критерию mannwhitneyu() очищенные данные о выручке с заказов.\n",
    "result = stats.mannwhitneyu(ordersAFiltered , ordersBFiltered)\n",
    "\n",
    "# зададим значение уровня значимости alpha\n",
    "alpha=0.05\n",
    "\n",
    "#вывод значения pvalue на экран\n",
    "print(f\"Значение p_value = {result.pvalue:.3f}\")\n",
    "\n",
    "#вывод результата проверки гипотезы\n",
    "if result.pvalue < alpha:\n",
    "    print(\"Отвергаем нулевую гипотезу.\")\n",
    "else:\n",
    "    print(\"Не получилось отвергнуть нулевую гипотезу.\")"
   ]
  },
  {
   "cell_type": "code",
   "execution_count": 62,
   "metadata": {},
   "outputs": [
    {
     "name": "stdout",
     "output_type": "stream",
     "text": [
      "Относительное изменение среднего чека пользователя: -1.97%\n"
     ]
    }
   ],
   "source": [
    "print(f\"Относительное изменение среднего чека пользователя: {ordersBFiltered.mean() / ordersAFiltered.mean() - 1:.2%}\")"
   ]
  },
  {
   "cell_type": "markdown",
   "metadata": {},
   "source": [
    "На очищенных данных подросло значение p_value и существенно поменялось значение относительного изменения среднего чека. Теперь мы видим, что в среднем чеке практически нет разницы между группами. Можем с большой степенью уверенности сделать вывод, что между группами нет статиститически значимого различия по среднему размеру чека. "
   ]
  },
  {
   "cell_type": "markdown",
   "metadata": {},
   "source": [
    "### Графики на \"очищенных\" данных"
   ]
  },
  {
   "cell_type": "markdown",
   "metadata": {},
   "source": [
    "Для наглядности построим графики на основе очищенных данных."
   ]
  },
  {
   "cell_type": "markdown",
   "metadata": {},
   "source": [
    "Исключим аномальных пользователей из списка заказов."
   ]
  },
  {
   "cell_type": "code",
   "execution_count": 63,
   "metadata": {},
   "outputs": [],
   "source": [
    "orders = orders[~(orders['visitorId'].isin(abnormalUsers))]"
   ]
  },
  {
   "cell_type": "markdown",
   "metadata": {},
   "source": [
    "И построим те же графики, которые были в предыдущих разделах, но теперь без учёта аномальных значений по сумме заказа и количеству заказов."
   ]
  },
  {
   "cell_type": "code",
   "execution_count": 64,
   "metadata": {},
   "outputs": [],
   "source": [
    "#создаем датафрейм с накоплением данных на основе информации о заказах\n",
    "ordersAggregated = datesGroup.apply(\n",
    "    lambda x: orders[np.logical_and(orders['date'] <= x['date'], orders['group']==x['group'])]\n",
    "    .agg({\n",
    "        'date' : 'max',\n",
    "        'group' : 'max',\n",
    "        'transactionId' : 'nunique',\n",
    "        'visitorId' : 'nunique',\n",
    "        'revenue' : 'sum'\n",
    "    }), axis=1\n",
    ").sort_values(by=['date', 'group'])"
   ]
  },
  {
   "cell_type": "code",
   "execution_count": 65,
   "metadata": {},
   "outputs": [],
   "source": [
    "visitorsAggregated = datesGroup.apply(\n",
    "    lambda x: visitors[(visitors['date']<=x['date']) & (visitors['group']==x['group'])]\n",
    "    .agg({\n",
    "        'date' : 'max',\n",
    "        'group' : 'max',\n",
    "        'visitors' : 'sum'\n",
    "    }), axis=1\n",
    ").sort_values(by=['date', 'group'])"
   ]
  },
  {
   "cell_type": "code",
   "execution_count": 66,
   "metadata": {},
   "outputs": [],
   "source": [
    "cumulativeData = ordersAggregated.merge(visitorsAggregated, on=['date', 'group'])"
   ]
  },
  {
   "cell_type": "code",
   "execution_count": 67,
   "metadata": {},
   "outputs": [],
   "source": [
    "cumulativeData.columns=['date', 'group', 'orders', 'buyers', 'revenue', 'visitors']"
   ]
  },
  {
   "cell_type": "code",
   "execution_count": 68,
   "metadata": {},
   "outputs": [],
   "source": [
    "cumulativeRevenueA = cumulativeData.query('group==\"A\"')[['date', 'revenue', 'orders']]\n",
    "cumulativeRevenueB = cumulativeData.query('group==\"B\"')[['date', 'revenue', 'orders']]"
   ]
  },
  {
   "cell_type": "code",
   "execution_count": 69,
   "metadata": {},
   "outputs": [
    {
     "data": {
      "image/png": "[encoded data removed]",
      "text/plain": [
       "<Figure size 720x432 with 1 Axes>"
      ]
     },
     "metadata": {
      "needs_background": "light"
     },
     "output_type": "display_data"
    }
   ],
   "source": [
    "plt.figure(figsize=(10,6))\n",
    "plt.title('Кумулятивный средний чек по дням')\n",
    "plt.xlabel('Дата')\n",
    "plt.ylabel('Сумма среднего чека')\n",
    "plt.plot(cumulativeRevenueA['date'], cumulativeRevenueA['revenue']\n",
    "         / cumulativeRevenueA['orders'], label='A')\n",
    "plt.plot(cumulativeRevenueB['date'], cumulativeRevenueB['revenue'] \n",
    "         / cumulativeRevenueB['orders'], label='B')\n",
    "plt.xticks(rotation=45)\n",
    "plt.legend()\n",
    "plt.show()"
   ]
  },
  {
   "cell_type": "code",
   "execution_count": 70,
   "metadata": {},
   "outputs": [
    {
     "data": {
      "image/png": "[encoded data removed]",
      "text/plain": [
       "<Figure size 720x432 with 1 Axes>"
      ]
     },
     "metadata": {
      "needs_background": "light"
     },
     "output_type": "display_data"
    }
   ],
   "source": [
    "#объединяем данные в одном датафрейме\n",
    "mergedCumulativeRevenue = cumulativeRevenueA.merge(cumulativeRevenueB, on='date', how='left', suffixes=['A', 'B'])\n",
    "\n",
    "#строим отношение средних чеков\n",
    "plt.figure(figsize=(10,6))\n",
    "plt.title('График относительного различия среднего чека между группами B и A')\n",
    "plt.xlabel('Дата')\n",
    "plt.ylabel('Доля различия среднего чека')\n",
    "\n",
    "plt.plot(mergedCumulativeRevenue['date'],\n",
    "         (mergedCumulativeRevenue['revenueB'] / mergedCumulativeRevenue['ordersB']) /\n",
    "         (mergedCumulativeRevenue['revenueA'] / mergedCumulativeRevenue['ordersA']) - 1 \n",
    "        )\n",
    "plt.axhline(y=0, linestyle='--', color='black')\n",
    "plt.xticks(rotation=45)\n",
    "\n",
    "plt.show()"
   ]
  },
  {
   "cell_type": "markdown",
   "metadata": {},
   "source": [
    "Можно отметить, что различие в среднем чеке колеблется около нулевой отметки."
   ]
  },
  {
   "cell_type": "code",
   "execution_count": 71,
   "metadata": {},
   "outputs": [
    {
     "data": {
      "image/png": "[encoded data removed]",
      "text/plain": [
       "<Figure size 720x432 with 1 Axes>"
      ]
     },
     "metadata": {
      "needs_background": "light"
     },
     "output_type": "display_data"
    }
   ],
   "source": [
    "# считаем среднее количество заказов на посетителя\n",
    "cumulativeData['conversion'] = cumulativeData['orders']/cumulativeData['visitors']\n",
    "\n",
    "# отделяем данные по группе A\n",
    "cumulativeDataA = cumulativeData[cumulativeData['group']=='A']\n",
    "\n",
    "# отделяем данные по группе B\n",
    "cumulativeDataB = cumulativeData[cumulativeData['group']=='B']\n",
    "\n",
    "# строим графики\n",
    "plt.figure(figsize=(10,6))\n",
    "plt.title('График кумулятивного среднего количества заказов на посетителя по группам')\n",
    "plt.xlabel('Дата')\n",
    "plt.ylabel('Кумулятивная конверсия')\n",
    "plt.plot(cumulativeDataA['date'], cumulativeDataA['conversion'], label='A')\n",
    "plt.plot(cumulativeDataB['date'], cumulativeDataB['conversion'], label='B')\n",
    "plt.legend()\n",
    "\n",
    "# задаем масштаб осей\n",
    "plt.axis([\"2019-08-01\", '2019-09-01', 0, 0.04])\n",
    "plt.grid(True, axis='y')\n",
    "plt.xticks(rotation=45)\n",
    "\n",
    "plt.show()"
   ]
  },
  {
   "cell_type": "code",
   "execution_count": 72,
   "metadata": {},
   "outputs": [
    {
     "data": {
      "image/png": "[encoded data removed]",
      "text/plain": [
       "<Figure size 720x432 with 1 Axes>"
      ]
     },
     "metadata": {
      "needs_background": "light"
     },
     "output_type": "display_data"
    }
   ],
   "source": [
    "mergedCumulativeConversions = cumulativeDataA[['date','conversion']].merge(cumulativeDataB[['date','conversion']], on='date', how='left', suffixes=['A', 'B'])\n",
    "\n",
    "plt.figure(figsize=(10, 6))\n",
    "plt.title('Относительное изменение кумулятивного среднего количества заказов на посетителя группы B к группе A')\n",
    "plt.xlabel('Дата')\n",
    "plt.ylabel('Относительное изменение')\n",
    "plt.plot(mergedCumulativeConversions['date'], mergedCumulativeConversions['conversionB']/mergedCumulativeConversions['conversionA']-1, label=\"Относительный прирост конверсии группы B относительно группы A\")\n",
    "plt.legend()\n",
    "\n",
    "plt.axhline(y=0, color='black', linestyle='--')\n",
    "plt.axhline(y=0.15, color='grey', linestyle='--')\n",
    "plt.axis([\"2019-08-01\", '2019-09-01', -0.5, 0.5])\n",
    "plt.xticks(rotation=45)\n",
    "\n",
    "plt.show()"
   ]
  },
  {
   "cell_type": "markdown",
   "metadata": {},
   "source": [
    "Графики на основе очищенных данных позволяют увидеть, что средний чек по группам не имеет значительных отлиичий, а среднее количество заказов в группе `А` стабильно выше, чем в группе `B`."
   ]
  },
  {
   "cell_type": "markdown",
   "metadata": {},
   "source": [
    "### Общий вывод"
   ]
  },
  {
   "cell_type": "markdown",
   "metadata": {},
   "source": [
    "В первой части проекта мы выполнили приоритизацию гипотез методами ICE и RICE. Гипотеза, которая лидировала по методу ICE, после рассчёта оценки по методу RICE откатилась на пятое место, так как имела низкий охват посетителей, а на первое место по приоритету для проверки вышла гипотеза с наибольшим охватом, высокими оценками \"влияния\" и \"уверенности\" и умеренными затратами на реализацию.\n",
    "\n",
    "Во второй части проекта был проведён анализ результатов A/B-теста.\n",
    "\n",
    "Предварительный анализ показал, что некоторые пользователи в ходе теста попадали в обе группы, что некорректно и может приводить к искажению результатов. Можно дать рекомендации - найти и устранить причины, из-за которых клиенты учитывались в обеих группах, чтобы исключить подобные случаи в дальнейших исследованииях.\n",
    "\n",
    "Результаты анализа A/B-теста показали:\n",
    "- Есть статистически значимое различие по среднему количеству заказов на посетителя как по сырым данным, так и после фильтрации аномалий.\n",
    "- Относительное изменение среднего количества заказов составило 13,8% по сырым данным и 14,7% по очищенным. По графику можно видеть, что результаты группы `B` лучше группы `A`.\n",
    "- По сырым данным нет статистически значимого различия по среднему чеку, но при этом относительное измененение фиксировалось в районе 25%. После удаления аномалий относительное изменение составило около 1%. То есть отличия среднего чека по сырым данным были вызваны аномально большими суммами заказов. По очищенным данным нет статистически значимого различия по размеру среднего чека между группами. \n",
    "\n",
    "**По результатам теста** можно принять решение остановить тест и признать победу группы `B`.\n"
   ]
  }
 ],
 "metadata": {
  "ExecuteTimeLog": [
   {
    "duration": 390,
    "start_time": "2023-02-23T08:04:28.082Z"
   },
   {
    "duration": 68,
    "start_time": "2023-02-23T08:06:22.307Z"
   },
   {
    "duration": 83,
    "start_time": "2023-02-23T08:06:34.082Z"
   },
   {
    "duration": 14,
    "start_time": "2023-02-23T08:06:45.229Z"
   },
   {
    "duration": 8,
    "start_time": "2023-02-23T08:07:03.506Z"
   },
   {
    "duration": 8,
    "start_time": "2023-02-23T08:07:40.991Z"
   },
   {
    "duration": 8,
    "start_time": "2023-02-23T08:09:40.882Z"
   },
   {
    "duration": 26,
    "start_time": "2023-02-23T08:10:11.048Z"
   },
   {
    "duration": 8,
    "start_time": "2023-02-23T08:10:15.560Z"
   },
   {
    "duration": 61,
    "start_time": "2023-02-23T08:10:22.296Z"
   },
   {
    "duration": 74,
    "start_time": "2023-02-23T08:11:33.105Z"
   },
   {
    "duration": 67,
    "start_time": "2023-02-23T08:13:24.067Z"
   },
   {
    "duration": 63,
    "start_time": "2023-02-23T08:13:38.996Z"
   },
   {
    "duration": 3,
    "start_time": "2023-02-23T08:17:24.582Z"
   },
   {
    "duration": 63,
    "start_time": "2023-02-23T08:17:25.078Z"
   },
   {
    "duration": 7,
    "start_time": "2023-02-23T08:17:25.886Z"
   },
   {
    "duration": 8,
    "start_time": "2023-02-23T08:21:49.153Z"
   },
   {
    "duration": 7,
    "start_time": "2023-02-23T08:26:50.822Z"
   },
   {
    "duration": 5,
    "start_time": "2023-02-23T08:27:10.401Z"
   },
   {
    "duration": 9,
    "start_time": "2023-02-23T08:28:09.765Z"
   },
   {
    "duration": 9,
    "start_time": "2023-02-23T08:28:21.423Z"
   },
   {
    "duration": 11,
    "start_time": "2023-02-23T08:28:30.669Z"
   },
   {
    "duration": 3,
    "start_time": "2023-02-23T08:32:09.991Z"
   },
   {
    "duration": 66,
    "start_time": "2023-02-23T08:32:14.121Z"
   },
   {
    "duration": 8,
    "start_time": "2023-02-23T08:32:15.799Z"
   },
   {
    "duration": 10,
    "start_time": "2023-02-23T08:32:19.426Z"
   },
   {
    "duration": 374,
    "start_time": "2023-02-23T08:38:51.569Z"
   },
   {
    "duration": 3,
    "start_time": "2023-02-23T08:38:51.945Z"
   },
   {
    "duration": 110,
    "start_time": "2023-02-23T08:38:51.950Z"
   },
   {
    "duration": 14,
    "start_time": "2023-02-23T08:38:52.061Z"
   },
   {
    "duration": 11,
    "start_time": "2023-02-23T08:38:52.077Z"
   },
   {
    "duration": 357,
    "start_time": "2023-02-23T08:43:50.505Z"
   },
   {
    "duration": 3,
    "start_time": "2023-02-23T08:43:50.864Z"
   },
   {
    "duration": 70,
    "start_time": "2023-02-23T08:43:50.868Z"
   },
   {
    "duration": 14,
    "start_time": "2023-02-23T08:43:50.940Z"
   },
   {
    "duration": 12,
    "start_time": "2023-02-23T08:43:50.956Z"
   },
   {
    "duration": 5,
    "start_time": "2023-02-23T08:52:01.678Z"
   },
   {
    "duration": 66,
    "start_time": "2023-02-23T08:53:05.494Z"
   },
   {
    "duration": 7,
    "start_time": "2023-02-23T08:53:27.723Z"
   },
   {
    "duration": 16,
    "start_time": "2023-02-23T08:53:43.541Z"
   },
   {
    "duration": 9,
    "start_time": "2023-02-23T08:54:09.667Z"
   },
   {
    "duration": 11,
    "start_time": "2023-02-23T08:54:22.091Z"
   },
   {
    "duration": 46,
    "start_time": "2023-02-23T14:38:30.667Z"
   },
   {
    "duration": 389,
    "start_time": "2023-02-23T14:38:41.689Z"
   },
   {
    "duration": 2,
    "start_time": "2023-02-23T14:38:43.195Z"
   },
   {
    "duration": 118,
    "start_time": "2023-02-23T14:38:47.564Z"
   },
   {
    "duration": 13,
    "start_time": "2023-02-23T14:38:49.034Z"
   },
   {
    "duration": 11,
    "start_time": "2023-02-23T14:38:50.608Z"
   },
   {
    "duration": 11,
    "start_time": "2023-02-23T14:38:52.979Z"
   },
   {
    "duration": 152,
    "start_time": "2023-02-23T14:38:56.951Z"
   },
   {
    "duration": 115,
    "start_time": "2023-02-23T14:40:14.626Z"
   },
   {
    "duration": 62,
    "start_time": "2023-02-23T14:40:18.931Z"
   },
   {
    "duration": 11,
    "start_time": "2023-02-23T14:40:47.037Z"
   },
   {
    "duration": 9,
    "start_time": "2023-02-23T14:41:08.508Z"
   },
   {
    "duration": 7,
    "start_time": "2023-02-23T14:41:41.579Z"
   },
   {
    "duration": 7,
    "start_time": "2023-02-23T14:42:07.006Z"
   },
   {
    "duration": 496,
    "start_time": "2023-02-23T14:44:50.499Z"
   },
   {
    "duration": 59,
    "start_time": "2023-02-23T14:46:15.949Z"
   },
   {
    "duration": 9,
    "start_time": "2023-02-23T14:46:32.123Z"
   },
   {
    "duration": 10,
    "start_time": "2023-02-23T14:46:49.818Z"
   },
   {
    "duration": 13,
    "start_time": "2023-02-23T14:47:02.342Z"
   },
   {
    "duration": 11,
    "start_time": "2023-02-23T14:47:07.979Z"
   },
   {
    "duration": 10,
    "start_time": "2023-02-23T14:47:16.468Z"
   },
   {
    "duration": 6,
    "start_time": "2023-02-23T14:50:30.771Z"
   },
   {
    "duration": 11,
    "start_time": "2023-02-23T14:50:46.002Z"
   },
   {
    "duration": 10,
    "start_time": "2023-02-23T14:50:51.938Z"
   },
   {
    "duration": 5,
    "start_time": "2023-02-23T14:50:58.779Z"
   },
   {
    "duration": 9,
    "start_time": "2023-02-23T14:50:59.768Z"
   },
   {
    "duration": 88,
    "start_time": "2023-02-23T14:51:49.983Z"
   },
   {
    "duration": 52,
    "start_time": "2023-02-23T14:51:50.532Z"
   },
   {
    "duration": 9,
    "start_time": "2023-02-23T14:51:51.461Z"
   },
   {
    "duration": 7,
    "start_time": "2023-02-23T14:51:52.995Z"
   },
   {
    "duration": 5,
    "start_time": "2023-02-23T14:51:59.885Z"
   },
   {
    "duration": 10,
    "start_time": "2023-02-23T14:52:01.381Z"
   },
   {
    "duration": 6,
    "start_time": "2023-02-23T14:52:08.117Z"
   },
   {
    "duration": 11,
    "start_time": "2023-02-23T14:52:08.887Z"
   },
   {
    "duration": 8,
    "start_time": "2023-02-23T14:52:24.399Z"
   },
   {
    "duration": 295,
    "start_time": "2023-02-23T14:53:32.279Z"
   },
   {
    "duration": 314,
    "start_time": "2023-02-23T14:54:08.769Z"
   },
   {
    "duration": 323,
    "start_time": "2023-02-23T14:54:34.673Z"
   },
   {
    "duration": 341,
    "start_time": "2023-02-23T14:54:45.771Z"
   },
   {
    "duration": 13,
    "start_time": "2023-02-23T14:54:56.979Z"
   },
   {
    "duration": 11,
    "start_time": "2023-02-23T14:54:59.091Z"
   },
   {
    "duration": 299,
    "start_time": "2023-02-23T14:55:00.401Z"
   },
   {
    "duration": 4,
    "start_time": "2023-02-23T14:55:19.283Z"
   },
   {
    "duration": 10,
    "start_time": "2023-02-23T14:55:27.480Z"
   },
   {
    "duration": 9,
    "start_time": "2023-02-23T14:55:36.798Z"
   },
   {
    "duration": 7,
    "start_time": "2023-02-23T14:55:45.982Z"
   },
   {
    "duration": 10,
    "start_time": "2023-02-23T14:55:47.271Z"
   },
   {
    "duration": 8,
    "start_time": "2023-02-23T14:55:49.263Z"
   },
   {
    "duration": 9,
    "start_time": "2023-02-23T14:55:50.493Z"
   },
   {
    "duration": 8,
    "start_time": "2023-02-23T14:55:52.644Z"
   },
   {
    "duration": 330,
    "start_time": "2023-02-23T14:55:53.480Z"
   },
   {
    "duration": 87,
    "start_time": "2023-02-23T14:56:07.978Z"
   },
   {
    "duration": 52,
    "start_time": "2023-02-23T14:56:08.403Z"
   },
   {
    "duration": 11,
    "start_time": "2023-02-23T14:56:09.260Z"
   },
   {
    "duration": 14,
    "start_time": "2023-02-23T14:56:10.216Z"
   },
   {
    "duration": 5,
    "start_time": "2023-02-23T14:56:11.035Z"
   },
   {
    "duration": 13,
    "start_time": "2023-02-23T14:56:11.833Z"
   },
   {
    "duration": 10,
    "start_time": "2023-02-23T14:56:12.654Z"
   },
   {
    "duration": 10,
    "start_time": "2023-02-23T14:56:13.855Z"
   },
   {
    "duration": 8,
    "start_time": "2023-02-23T14:56:14.805Z"
   },
   {
    "duration": 4,
    "start_time": "2023-02-23T14:56:16.236Z"
   },
   {
    "duration": 163,
    "start_time": "2023-02-23T14:59:07.371Z"
   },
   {
    "duration": 11,
    "start_time": "2023-02-23T15:00:14.687Z"
   },
   {
    "duration": 8,
    "start_time": "2023-02-23T15:01:55.046Z"
   },
   {
    "duration": 11,
    "start_time": "2023-02-23T15:01:56.619Z"
   },
   {
    "duration": 8,
    "start_time": "2023-02-23T15:01:57.416Z"
   },
   {
    "duration": 13,
    "start_time": "2023-02-23T15:03:03.219Z"
   },
   {
    "duration": 8,
    "start_time": "2023-02-23T15:03:03.920Z"
   },
   {
    "duration": 5,
    "start_time": "2023-02-23T15:03:11.985Z"
   },
   {
    "duration": 354,
    "start_time": "2023-02-23T15:03:43.682Z"
   },
   {
    "duration": 153,
    "start_time": "2023-02-23T15:03:48.854Z"
   },
   {
    "duration": 19,
    "start_time": "2023-02-23T15:03:50.621Z"
   },
   {
    "duration": 8,
    "start_time": "2023-02-23T15:03:51.768Z"
   },
   {
    "duration": 5,
    "start_time": "2023-02-23T15:03:52.698Z"
   },
   {
    "duration": 12,
    "start_time": "2023-02-23T15:03:53.249Z"
   },
   {
    "duration": 16,
    "start_time": "2023-02-23T15:03:53.920Z"
   },
   {
    "duration": 9,
    "start_time": "2023-02-23T15:03:55.351Z"
   },
   {
    "duration": 8,
    "start_time": "2023-02-23T15:03:56.250Z"
   },
   {
    "duration": 4,
    "start_time": "2023-02-23T15:03:58.637Z"
   },
   {
    "duration": 9,
    "start_time": "2023-02-23T15:04:10.948Z"
   },
   {
    "duration": 10,
    "start_time": "2023-02-23T15:05:06.237Z"
   },
   {
    "duration": 500,
    "start_time": "2023-02-23T15:23:09.609Z"
   },
   {
    "duration": 5,
    "start_time": "2023-02-23T15:29:06.679Z"
   },
   {
    "duration": 25,
    "start_time": "2023-02-23T15:29:15.704Z"
   },
   {
    "duration": 7,
    "start_time": "2023-02-23T15:29:25.497Z"
   },
   {
    "duration": 13,
    "start_time": "2023-02-23T15:29:26.021Z"
   },
   {
    "duration": 9,
    "start_time": "2023-02-23T15:30:02.738Z"
   },
   {
    "duration": 158,
    "start_time": "2023-02-23T15:41:03.087Z"
   },
   {
    "duration": 13,
    "start_time": "2023-02-23T15:41:10.428Z"
   },
   {
    "duration": 11,
    "start_time": "2023-02-23T15:43:31.057Z"
   },
   {
    "duration": 177,
    "start_time": "2023-02-23T15:45:07.969Z"
   },
   {
    "duration": 10,
    "start_time": "2023-02-23T15:45:09.022Z"
   },
   {
    "duration": 79,
    "start_time": "2023-02-23T15:53:40.256Z"
   },
   {
    "duration": 79,
    "start_time": "2023-02-23T15:55:09.789Z"
   },
   {
    "duration": 77,
    "start_time": "2023-02-23T15:55:18.874Z"
   },
   {
    "duration": 10,
    "start_time": "2023-02-23T15:55:29.736Z"
   },
   {
    "duration": 9,
    "start_time": "2023-02-23T15:55:45.583Z"
   },
   {
    "duration": 126,
    "start_time": "2023-02-23T15:55:52.161Z"
   },
   {
    "duration": 8,
    "start_time": "2023-02-23T15:56:10.976Z"
   },
   {
    "duration": 67,
    "start_time": "2023-02-23T15:56:16.704Z"
   },
   {
    "duration": 9,
    "start_time": "2023-02-23T15:56:20.080Z"
   },
   {
    "duration": 1499,
    "start_time": "2023-02-23T15:57:50.877Z"
   },
   {
    "duration": 144,
    "start_time": "2023-02-23T15:57:54.774Z"
   },
   {
    "duration": 322,
    "start_time": "2023-02-23T15:58:56.134Z"
   },
   {
    "duration": 341,
    "start_time": "2023-02-23T15:59:42.796Z"
   },
   {
    "duration": 333,
    "start_time": "2023-02-23T15:59:46.887Z"
   },
   {
    "duration": 127,
    "start_time": "2023-02-23T16:00:18.035Z"
   },
   {
    "duration": 9,
    "start_time": "2023-02-23T16:00:32.570Z"
   },
   {
    "duration": 69,
    "start_time": "2023-02-23T16:01:59.304Z"
   },
   {
    "duration": 77,
    "start_time": "2023-02-23T16:02:25.220Z"
   },
   {
    "duration": 92,
    "start_time": "2023-02-23T16:02:48.883Z"
   },
   {
    "duration": 8,
    "start_time": "2023-02-23T16:05:30.381Z"
   },
   {
    "duration": 18,
    "start_time": "2023-02-23T16:05:51.586Z"
   },
   {
    "duration": 11,
    "start_time": "2023-02-23T16:05:58.010Z"
   },
   {
    "duration": 3,
    "start_time": "2023-02-23T16:08:04.882Z"
   },
   {
    "duration": 9,
    "start_time": "2023-02-23T16:08:10.277Z"
   },
   {
    "duration": 9,
    "start_time": "2023-02-23T16:08:16.477Z"
   },
   {
    "duration": 12,
    "start_time": "2023-02-23T16:08:30.477Z"
   },
   {
    "duration": 9,
    "start_time": "2023-02-23T16:10:34.865Z"
   },
   {
    "duration": 9,
    "start_time": "2023-02-23T16:10:41.116Z"
   },
   {
    "duration": 9,
    "start_time": "2023-02-23T16:10:48.806Z"
   },
   {
    "duration": 8,
    "start_time": "2023-02-23T16:10:54.812Z"
   },
   {
    "duration": 9,
    "start_time": "2023-02-23T16:11:32.187Z"
   },
   {
    "duration": 7,
    "start_time": "2023-02-23T16:11:49.178Z"
   },
   {
    "duration": 13,
    "start_time": "2023-02-23T16:12:09.510Z"
   },
   {
    "duration": 15,
    "start_time": "2023-02-23T16:12:22.706Z"
   },
   {
    "duration": 13,
    "start_time": "2023-02-23T16:12:28.884Z"
   },
   {
    "duration": 19,
    "start_time": "2023-02-23T16:12:37.775Z"
   },
   {
    "duration": 241,
    "start_time": "2023-02-23T16:16:22.539Z"
   },
   {
    "duration": 100,
    "start_time": "2023-02-23T16:16:32.628Z"
   },
   {
    "duration": 163,
    "start_time": "2023-02-23T16:16:39.005Z"
   },
   {
    "duration": 183,
    "start_time": "2023-02-23T16:17:31.136Z"
   },
   {
    "duration": 11,
    "start_time": "2023-02-23T16:18:06.777Z"
   },
   {
    "duration": 168,
    "start_time": "2023-02-23T16:18:28.538Z"
   },
   {
    "duration": 178,
    "start_time": "2023-02-23T16:18:50.120Z"
   },
   {
    "duration": 185,
    "start_time": "2023-02-23T16:19:23.065Z"
   },
   {
    "duration": 1084,
    "start_time": "2023-02-23T16:26:07.765Z"
   },
   {
    "duration": 3,
    "start_time": "2023-02-23T16:26:08.851Z"
   },
   {
    "duration": 123,
    "start_time": "2023-02-23T16:26:08.855Z"
   },
   {
    "duration": 12,
    "start_time": "2023-02-23T16:26:08.979Z"
   },
   {
    "duration": 12,
    "start_time": "2023-02-23T16:26:08.993Z"
   },
   {
    "duration": 12,
    "start_time": "2023-02-23T16:26:09.007Z"
   },
   {
    "duration": 134,
    "start_time": "2023-02-23T16:26:09.021Z"
   },
   {
    "duration": 11,
    "start_time": "2023-02-23T16:26:09.157Z"
   },
   {
    "duration": 9,
    "start_time": "2023-02-23T16:26:09.170Z"
   },
   {
    "duration": 8,
    "start_time": "2023-02-23T16:26:09.180Z"
   },
   {
    "duration": 12,
    "start_time": "2023-02-23T16:26:09.190Z"
   },
   {
    "duration": 14,
    "start_time": "2023-02-23T16:26:09.204Z"
   },
   {
    "duration": 12,
    "start_time": "2023-02-23T16:26:09.220Z"
   },
   {
    "duration": 8,
    "start_time": "2023-02-23T16:26:09.234Z"
   },
   {
    "duration": 8,
    "start_time": "2023-02-23T16:26:09.243Z"
   },
   {
    "duration": 13,
    "start_time": "2023-02-23T16:26:09.253Z"
   },
   {
    "duration": 9,
    "start_time": "2023-02-23T16:26:09.269Z"
   },
   {
    "duration": 50,
    "start_time": "2023-02-23T16:26:09.280Z"
   },
   {
    "duration": 10,
    "start_time": "2023-02-23T16:26:09.332Z"
   },
   {
    "duration": 182,
    "start_time": "2023-02-23T16:26:09.344Z"
   },
   {
    "duration": 8,
    "start_time": "2023-02-23T16:26:09.528Z"
   },
   {
    "duration": 135,
    "start_time": "2023-02-23T16:26:09.538Z"
   },
   {
    "duration": 25,
    "start_time": "2023-02-23T16:26:09.676Z"
   },
   {
    "duration": 119,
    "start_time": "2023-02-23T16:26:09.703Z"
   },
   {
    "duration": 8,
    "start_time": "2023-02-23T16:26:09.825Z"
   },
   {
    "duration": 10,
    "start_time": "2023-02-23T16:26:09.835Z"
   },
   {
    "duration": 16,
    "start_time": "2023-02-23T16:26:09.847Z"
   },
   {
    "duration": 5,
    "start_time": "2023-02-23T16:26:09.865Z"
   },
   {
    "duration": 13,
    "start_time": "2023-02-23T16:26:09.872Z"
   },
   {
    "duration": 43,
    "start_time": "2023-02-23T16:26:09.887Z"
   },
   {
    "duration": 306,
    "start_time": "2023-02-23T16:26:09.932Z"
   },
   {
    "duration": 159,
    "start_time": "2023-02-23T19:20:07.154Z"
   },
   {
    "duration": 42,
    "start_time": "2023-02-23T19:30:44.398Z"
   },
   {
    "duration": 1198,
    "start_time": "2023-02-23T19:30:56.065Z"
   },
   {
    "duration": 4,
    "start_time": "2023-02-23T19:30:57.266Z"
   },
   {
    "duration": 188,
    "start_time": "2023-02-23T19:30:57.272Z"
   },
   {
    "duration": 15,
    "start_time": "2023-02-23T19:30:57.463Z"
   },
   {
    "duration": 15,
    "start_time": "2023-02-23T19:30:57.480Z"
   },
   {
    "duration": 18,
    "start_time": "2023-02-23T19:30:57.497Z"
   },
   {
    "duration": 240,
    "start_time": "2023-02-23T19:30:57.516Z"
   },
   {
    "duration": 13,
    "start_time": "2023-02-23T19:30:57.763Z"
   },
   {
    "duration": 24,
    "start_time": "2023-02-23T19:30:57.778Z"
   },
   {
    "duration": 19,
    "start_time": "2023-02-23T19:30:57.805Z"
   },
   {
    "duration": 18,
    "start_time": "2023-02-23T19:30:57.827Z"
   },
   {
    "duration": 10,
    "start_time": "2023-02-23T19:30:57.847Z"
   },
   {
    "duration": 11,
    "start_time": "2023-02-23T19:30:57.859Z"
   },
   {
    "duration": 9,
    "start_time": "2023-02-23T19:30:57.872Z"
   },
   {
    "duration": 5,
    "start_time": "2023-02-23T19:30:57.883Z"
   },
   {
    "duration": 12,
    "start_time": "2023-02-23T19:30:57.890Z"
   },
   {
    "duration": 6,
    "start_time": "2023-02-23T19:30:57.927Z"
   },
   {
    "duration": 24,
    "start_time": "2023-02-23T19:30:57.935Z"
   },
   {
    "duration": 17,
    "start_time": "2023-02-23T19:30:57.961Z"
   },
   {
    "duration": 171,
    "start_time": "2023-02-23T19:30:57.980Z"
   },
   {
    "duration": 8,
    "start_time": "2023-02-23T19:30:58.153Z"
   },
   {
    "duration": 125,
    "start_time": "2023-02-23T19:30:58.162Z"
   },
   {
    "duration": 7,
    "start_time": "2023-02-23T19:30:58.288Z"
   },
   {
    "duration": 123,
    "start_time": "2023-02-23T19:30:58.297Z"
   },
   {
    "duration": 7,
    "start_time": "2023-02-23T19:30:58.427Z"
   },
   {
    "duration": 9,
    "start_time": "2023-02-23T19:30:58.435Z"
   },
   {
    "duration": 11,
    "start_time": "2023-02-23T19:30:58.446Z"
   },
   {
    "duration": 3,
    "start_time": "2023-02-23T19:30:58.459Z"
   },
   {
    "duration": 14,
    "start_time": "2023-02-23T19:30:58.464Z"
   },
   {
    "duration": 16,
    "start_time": "2023-02-23T19:30:58.479Z"
   },
   {
    "duration": 103,
    "start_time": "2023-02-23T19:30:58.497Z"
   },
   {
    "duration": 0,
    "start_time": "2023-02-23T19:30:58.601Z"
   },
   {
    "duration": 147,
    "start_time": "2023-02-23T19:31:23.408Z"
   },
   {
    "duration": 252,
    "start_time": "2023-02-23T19:32:59.122Z"
   },
   {
    "duration": 207,
    "start_time": "2023-02-23T19:33:30.538Z"
   },
   {
    "duration": 199,
    "start_time": "2023-02-23T19:35:01.554Z"
   },
   {
    "duration": 216,
    "start_time": "2023-02-23T19:35:41.224Z"
   },
   {
    "duration": 6,
    "start_time": "2023-02-23T20:04:38.280Z"
   },
   {
    "duration": 5,
    "start_time": "2023-02-23T20:04:41.295Z"
   },
   {
    "duration": 7,
    "start_time": "2023-02-23T20:05:07.116Z"
   },
   {
    "duration": 21,
    "start_time": "2023-02-23T20:05:13.833Z"
   },
   {
    "duration": 8,
    "start_time": "2023-02-23T20:06:26.344Z"
   },
   {
    "duration": 13,
    "start_time": "2023-02-23T20:06:33.193Z"
   },
   {
    "duration": 24,
    "start_time": "2023-02-23T20:06:42.166Z"
   },
   {
    "duration": 9,
    "start_time": "2023-02-23T20:08:58.124Z"
   },
   {
    "duration": 24,
    "start_time": "2023-02-23T20:09:00.596Z"
   },
   {
    "duration": 26,
    "start_time": "2023-02-23T20:09:37.309Z"
   },
   {
    "duration": 5,
    "start_time": "2023-02-23T20:15:06.222Z"
   },
   {
    "duration": 155,
    "start_time": "2023-02-23T20:25:48.570Z"
   },
   {
    "duration": 6,
    "start_time": "2023-02-23T20:26:00.975Z"
   },
   {
    "duration": 24,
    "start_time": "2023-02-23T20:27:25.290Z"
   },
   {
    "duration": 16,
    "start_time": "2023-02-23T20:27:30.559Z"
   },
   {
    "duration": 73,
    "start_time": "2023-02-23T20:38:33.325Z"
   },
   {
    "duration": 1408,
    "start_time": "2023-02-23T20:38:43.554Z"
   },
   {
    "duration": 4,
    "start_time": "2023-02-23T20:38:44.965Z"
   },
   {
    "duration": 112,
    "start_time": "2023-02-23T20:38:44.971Z"
   },
   {
    "duration": 14,
    "start_time": "2023-02-23T20:38:45.085Z"
   },
   {
    "duration": 22,
    "start_time": "2023-02-23T20:38:45.102Z"
   },
   {
    "duration": 24,
    "start_time": "2023-02-23T20:38:45.128Z"
   },
   {
    "duration": 170,
    "start_time": "2023-02-23T20:38:45.154Z"
   },
   {
    "duration": 22,
    "start_time": "2023-02-23T20:38:45.325Z"
   },
   {
    "duration": 19,
    "start_time": "2023-02-23T20:38:45.349Z"
   },
   {
    "duration": 7,
    "start_time": "2023-02-23T20:38:45.371Z"
   },
   {
    "duration": 11,
    "start_time": "2023-02-23T20:38:45.380Z"
   },
   {
    "duration": 14,
    "start_time": "2023-02-23T20:38:45.393Z"
   },
   {
    "duration": 44,
    "start_time": "2023-02-23T20:38:45.410Z"
   },
   {
    "duration": 54,
    "start_time": "2023-02-23T20:38:45.457Z"
   },
   {
    "duration": 12,
    "start_time": "2023-02-23T20:38:45.513Z"
   },
   {
    "duration": 37,
    "start_time": "2023-02-23T20:38:45.530Z"
   },
   {
    "duration": 8,
    "start_time": "2023-02-23T20:38:45.569Z"
   },
   {
    "duration": 12,
    "start_time": "2023-02-23T20:38:45.579Z"
   },
   {
    "duration": 18,
    "start_time": "2023-02-23T20:38:45.593Z"
   },
   {
    "duration": 17,
    "start_time": "2023-02-23T20:38:45.613Z"
   },
   {
    "duration": 29,
    "start_time": "2023-02-23T20:38:45.632Z"
   },
   {
    "duration": 11,
    "start_time": "2023-02-23T20:38:45.663Z"
   },
   {
    "duration": 19,
    "start_time": "2023-02-23T20:38:45.677Z"
   },
   {
    "duration": 13,
    "start_time": "2023-02-23T20:38:45.697Z"
   },
   {
    "duration": 230,
    "start_time": "2023-02-23T20:38:45.712Z"
   },
   {
    "duration": 11,
    "start_time": "2023-02-23T20:38:45.945Z"
   },
   {
    "duration": 134,
    "start_time": "2023-02-23T20:38:45.958Z"
   },
   {
    "duration": 10,
    "start_time": "2023-02-23T20:38:46.094Z"
   },
   {
    "duration": 132,
    "start_time": "2023-02-23T20:38:46.106Z"
   },
   {
    "duration": 10,
    "start_time": "2023-02-23T20:38:46.244Z"
   },
   {
    "duration": 8,
    "start_time": "2023-02-23T20:38:46.255Z"
   },
   {
    "duration": 11,
    "start_time": "2023-02-23T20:38:46.265Z"
   },
   {
    "duration": 23,
    "start_time": "2023-02-23T20:38:46.277Z"
   },
   {
    "duration": 15,
    "start_time": "2023-02-23T20:38:46.302Z"
   },
   {
    "duration": 37,
    "start_time": "2023-02-23T20:38:46.319Z"
   },
   {
    "duration": 349,
    "start_time": "2023-02-23T20:38:46.358Z"
   },
   {
    "duration": 244,
    "start_time": "2023-02-23T20:38:46.709Z"
   },
   {
    "duration": 117,
    "start_time": "2023-02-23T20:40:03.281Z"
   },
   {
    "duration": 14,
    "start_time": "2023-02-23T20:40:09.220Z"
   },
   {
    "duration": 8,
    "start_time": "2023-02-23T20:40:30.212Z"
   },
   {
    "duration": 7,
    "start_time": "2023-02-23T20:40:37.275Z"
   },
   {
    "duration": 125,
    "start_time": "2023-02-23T20:41:46.876Z"
   },
   {
    "duration": 151,
    "start_time": "2023-02-23T20:41:58.849Z"
   },
   {
    "duration": 8,
    "start_time": "2023-02-23T20:42:03.247Z"
   },
   {
    "duration": 9,
    "start_time": "2023-02-23T20:42:25.218Z"
   },
   {
    "duration": 15,
    "start_time": "2023-02-23T20:44:44.658Z"
   },
   {
    "duration": 11,
    "start_time": "2023-02-23T20:44:59.189Z"
   },
   {
    "duration": 9,
    "start_time": "2023-02-23T20:45:10.181Z"
   },
   {
    "duration": 11,
    "start_time": "2023-02-23T20:45:17.880Z"
   },
   {
    "duration": 23,
    "start_time": "2023-02-23T20:45:23.321Z"
   },
   {
    "duration": 10,
    "start_time": "2023-02-23T20:45:38.493Z"
   },
   {
    "duration": 9,
    "start_time": "2023-02-23T20:45:43.288Z"
   },
   {
    "duration": 12,
    "start_time": "2023-02-23T20:45:47.762Z"
   },
   {
    "duration": 12,
    "start_time": "2023-02-23T20:45:50.985Z"
   },
   {
    "duration": 19,
    "start_time": "2023-02-23T20:46:10.334Z"
   },
   {
    "duration": 13,
    "start_time": "2023-02-23T20:46:15.880Z"
   },
   {
    "duration": 10,
    "start_time": "2023-02-23T20:47:18.519Z"
   },
   {
    "duration": 10,
    "start_time": "2023-02-23T20:47:25.704Z"
   },
   {
    "duration": 6,
    "start_time": "2023-02-23T20:47:37.203Z"
   },
   {
    "duration": 3,
    "start_time": "2023-02-23T20:48:50.668Z"
   },
   {
    "duration": 5,
    "start_time": "2023-02-23T20:49:15.163Z"
   },
   {
    "duration": 8,
    "start_time": "2023-02-23T20:49:39.161Z"
   },
   {
    "duration": 7,
    "start_time": "2023-02-23T20:50:24.513Z"
   },
   {
    "duration": 8,
    "start_time": "2023-02-23T20:52:36.523Z"
   },
   {
    "duration": 8,
    "start_time": "2023-02-23T20:52:54.971Z"
   },
   {
    "duration": 8,
    "start_time": "2023-02-23T20:53:13.864Z"
   },
   {
    "duration": 8,
    "start_time": "2023-02-23T20:53:43.458Z"
   },
   {
    "duration": 8,
    "start_time": "2023-02-23T20:56:01.344Z"
   },
   {
    "duration": 17,
    "start_time": "2023-02-23T20:56:08.890Z"
   },
   {
    "duration": 23,
    "start_time": "2023-02-23T21:06:26.316Z"
   },
   {
    "duration": 12,
    "start_time": "2023-02-23T21:06:27.212Z"
   },
   {
    "duration": 14,
    "start_time": "2023-02-23T21:06:50.571Z"
   },
   {
    "duration": 12,
    "start_time": "2023-02-23T21:10:30.416Z"
   },
   {
    "duration": 13,
    "start_time": "2023-02-23T21:10:35.340Z"
   },
   {
    "duration": 3,
    "start_time": "2023-02-23T21:10:38.918Z"
   },
   {
    "duration": 4,
    "start_time": "2023-02-23T21:10:56.722Z"
   },
   {
    "duration": 5,
    "start_time": "2023-02-23T21:11:51.691Z"
   },
   {
    "duration": 6,
    "start_time": "2023-02-23T21:12:16.162Z"
   },
   {
    "duration": 6,
    "start_time": "2023-02-23T21:12:54.087Z"
   },
   {
    "duration": 11,
    "start_time": "2023-02-23T21:13:29.048Z"
   },
   {
    "duration": 8,
    "start_time": "2023-02-23T21:13:37.829Z"
   },
   {
    "duration": 6,
    "start_time": "2023-02-23T21:16:07.093Z"
   },
   {
    "duration": 98,
    "start_time": "2023-02-23T21:16:18.690Z"
   },
   {
    "duration": 98,
    "start_time": "2023-02-23T21:16:23.621Z"
   },
   {
    "duration": 101,
    "start_time": "2023-02-23T21:16:28.638Z"
   },
   {
    "duration": 7,
    "start_time": "2023-02-23T21:16:45.668Z"
   },
   {
    "duration": 102,
    "start_time": "2023-02-23T21:17:22.039Z"
   },
   {
    "duration": 7,
    "start_time": "2023-02-23T21:21:00.459Z"
   },
   {
    "duration": 114,
    "start_time": "2023-02-23T21:21:48.754Z"
   },
   {
    "duration": 95,
    "start_time": "2023-02-23T21:21:52.759Z"
   },
   {
    "duration": 6,
    "start_time": "2023-02-23T21:22:16.493Z"
   },
   {
    "duration": 6,
    "start_time": "2023-02-23T21:22:24.360Z"
   },
   {
    "duration": 108,
    "start_time": "2023-02-23T21:23:20.753Z"
   },
   {
    "duration": 100,
    "start_time": "2023-02-23T21:23:28.404Z"
   },
   {
    "duration": 6,
    "start_time": "2023-02-23T21:23:33.070Z"
   },
   {
    "duration": 6,
    "start_time": "2023-02-23T21:23:48.882Z"
   },
   {
    "duration": 7,
    "start_time": "2023-02-23T21:24:40.985Z"
   },
   {
    "duration": 7,
    "start_time": "2023-02-23T21:25:01.720Z"
   },
   {
    "duration": 8,
    "start_time": "2023-02-23T21:25:23.252Z"
   },
   {
    "duration": 7,
    "start_time": "2023-02-23T21:25:50.301Z"
   },
   {
    "duration": 5,
    "start_time": "2023-02-23T21:26:26.484Z"
   },
   {
    "duration": 153,
    "start_time": "2023-02-23T21:26:54.578Z"
   },
   {
    "duration": 6,
    "start_time": "2023-02-23T21:27:04.991Z"
   },
   {
    "duration": 15,
    "start_time": "2023-02-23T21:29:21.390Z"
   },
   {
    "duration": 16,
    "start_time": "2023-02-23T21:30:27.051Z"
   },
   {
    "duration": 12,
    "start_time": "2023-02-23T21:30:34.206Z"
   },
   {
    "duration": 22,
    "start_time": "2023-02-23T21:31:34.415Z"
   },
   {
    "duration": 11,
    "start_time": "2023-02-23T21:31:44.362Z"
   },
   {
    "duration": 2821,
    "start_time": "2023-02-24T08:03:30.783Z"
   },
   {
    "duration": 5,
    "start_time": "2023-02-24T08:03:33.606Z"
   },
   {
    "duration": 504,
    "start_time": "2023-02-24T08:03:33.614Z"
   },
   {
    "duration": 39,
    "start_time": "2023-02-24T08:03:34.123Z"
   },
   {
    "duration": 201,
    "start_time": "2023-02-24T08:03:34.174Z"
   },
   {
    "duration": 176,
    "start_time": "2023-02-24T08:03:34.382Z"
   },
   {
    "duration": 826,
    "start_time": "2023-02-24T08:03:34.564Z"
   },
   {
    "duration": 54,
    "start_time": "2023-02-24T08:03:35.400Z"
   },
   {
    "duration": 199,
    "start_time": "2023-02-24T08:03:35.471Z"
   },
   {
    "duration": 175,
    "start_time": "2023-02-24T08:03:35.676Z"
   },
   {
    "duration": 209,
    "start_time": "2023-02-24T08:03:35.857Z"
   },
   {
    "duration": 188,
    "start_time": "2023-02-24T08:03:36.082Z"
   },
   {
    "duration": 159,
    "start_time": "2023-02-24T08:03:36.287Z"
   },
   {
    "duration": 151,
    "start_time": "2023-02-24T08:03:36.464Z"
   },
   {
    "duration": 185,
    "start_time": "2023-02-24T08:03:36.621Z"
   },
   {
    "duration": 216,
    "start_time": "2023-02-24T08:03:36.810Z"
   },
   {
    "duration": 179,
    "start_time": "2023-02-24T08:03:37.039Z"
   },
   {
    "duration": 173,
    "start_time": "2023-02-24T08:03:37.229Z"
   },
   {
    "duration": 195,
    "start_time": "2023-02-24T08:03:37.414Z"
   },
   {
    "duration": 140,
    "start_time": "2023-02-24T08:03:37.620Z"
   },
   {
    "duration": 31,
    "start_time": "2023-02-24T08:03:37.766Z"
   },
   {
    "duration": 64,
    "start_time": "2023-02-24T08:03:37.806Z"
   },
   {
    "duration": 116,
    "start_time": "2023-02-24T08:03:37.882Z"
   },
   {
    "duration": 48,
    "start_time": "2023-02-24T08:03:38.005Z"
   },
   {
    "duration": 37,
    "start_time": "2023-02-24T08:03:38.059Z"
   },
   {
    "duration": 359,
    "start_time": "2023-02-24T08:03:38.105Z"
   },
   {
    "duration": 14,
    "start_time": "2023-02-24T08:03:38.470Z"
   },
   {
    "duration": 433,
    "start_time": "2023-02-24T08:03:38.490Z"
   },
   {
    "duration": 27,
    "start_time": "2023-02-24T08:03:38.933Z"
   },
   {
    "duration": 209,
    "start_time": "2023-02-24T08:03:38.967Z"
   },
   {
    "duration": 19,
    "start_time": "2023-02-24T08:03:39.183Z"
   },
   {
    "duration": 93,
    "start_time": "2023-02-24T08:03:39.207Z"
   },
   {
    "duration": 175,
    "start_time": "2023-02-24T08:03:39.307Z"
   },
   {
    "duration": 167,
    "start_time": "2023-02-24T08:03:39.495Z"
   },
   {
    "duration": 202,
    "start_time": "2023-02-24T08:03:39.672Z"
   },
   {
    "duration": 220,
    "start_time": "2023-02-24T08:03:39.882Z"
   },
   {
    "duration": 908,
    "start_time": "2023-02-24T08:03:40.111Z"
   },
   {
    "duration": 342,
    "start_time": "2023-02-24T08:03:41.025Z"
   },
   {
    "duration": 331,
    "start_time": "2023-02-24T08:35:28.667Z"
   },
   {
    "duration": 288,
    "start_time": "2023-02-24T08:35:49.323Z"
   },
   {
    "duration": 21,
    "start_time": "2023-02-24T08:38:33.775Z"
   },
   {
    "duration": 21,
    "start_time": "2023-02-24T08:40:21.980Z"
   },
   {
    "duration": 247,
    "start_time": "2023-02-24T08:44:16.315Z"
   },
   {
    "duration": 243,
    "start_time": "2023-02-24T08:44:39.083Z"
   },
   {
    "duration": 201,
    "start_time": "2023-02-24T08:45:00.818Z"
   },
   {
    "duration": 179,
    "start_time": "2023-02-24T08:45:23.991Z"
   },
   {
    "duration": 298,
    "start_time": "2023-02-24T08:45:43.318Z"
   },
   {
    "duration": 222,
    "start_time": "2023-02-24T08:45:49.455Z"
   },
   {
    "duration": 211,
    "start_time": "2023-02-24T08:46:17.154Z"
   },
   {
    "duration": 245,
    "start_time": "2023-02-24T08:46:39.804Z"
   },
   {
    "duration": 323,
    "start_time": "2023-02-24T08:46:42.681Z"
   },
   {
    "duration": 397,
    "start_time": "2023-02-24T08:47:03.805Z"
   },
   {
    "duration": 348,
    "start_time": "2023-02-24T08:47:47.194Z"
   },
   {
    "duration": 421,
    "start_time": "2023-02-24T08:49:57.887Z"
   },
   {
    "duration": 355,
    "start_time": "2023-02-24T08:53:34.560Z"
   },
   {
    "duration": 334,
    "start_time": "2023-02-24T08:54:02.446Z"
   },
   {
    "duration": 6,
    "start_time": "2023-02-24T09:10:47.894Z"
   },
   {
    "duration": 262,
    "start_time": "2023-02-24T09:10:54.856Z"
   },
   {
    "duration": 322,
    "start_time": "2023-02-24T09:11:52.879Z"
   },
   {
    "duration": 10,
    "start_time": "2023-02-24T09:12:27.063Z"
   },
   {
    "duration": 304,
    "start_time": "2023-02-24T09:12:34.581Z"
   },
   {
    "duration": 20,
    "start_time": "2023-02-24T09:13:13.504Z"
   },
   {
    "duration": 237,
    "start_time": "2023-02-24T09:13:28.652Z"
   },
   {
    "duration": 239,
    "start_time": "2023-02-24T09:13:44.931Z"
   },
   {
    "duration": 222,
    "start_time": "2023-02-24T09:15:31.611Z"
   },
   {
    "duration": 202,
    "start_time": "2023-02-24T09:15:52.559Z"
   },
   {
    "duration": 237,
    "start_time": "2023-02-24T09:16:32.813Z"
   },
   {
    "duration": 385,
    "start_time": "2023-02-24T09:16:55.206Z"
   },
   {
    "duration": 319,
    "start_time": "2023-02-24T09:17:02.379Z"
   },
   {
    "duration": 252,
    "start_time": "2023-02-24T09:17:15.141Z"
   },
   {
    "duration": 340,
    "start_time": "2023-02-24T09:17:26.006Z"
   },
   {
    "duration": 316,
    "start_time": "2023-02-24T09:19:10.686Z"
   },
   {
    "duration": 244,
    "start_time": "2023-02-24T09:19:49.275Z"
   },
   {
    "duration": 254,
    "start_time": "2023-02-24T09:21:40.370Z"
   },
   {
    "duration": 111,
    "start_time": "2023-02-24T09:36:13.770Z"
   },
   {
    "duration": 283,
    "start_time": "2023-02-24T09:36:53.741Z"
   },
   {
    "duration": 308,
    "start_time": "2023-02-24T09:37:13.744Z"
   },
   {
    "duration": 381,
    "start_time": "2023-02-24T09:39:20.102Z"
   },
   {
    "duration": 304,
    "start_time": "2023-02-24T09:39:55.658Z"
   },
   {
    "duration": 386,
    "start_time": "2023-02-24T09:40:16.194Z"
   },
   {
    "duration": 321,
    "start_time": "2023-02-24T09:40:29.060Z"
   },
   {
    "duration": 357,
    "start_time": "2023-02-24T09:41:47.813Z"
   },
   {
    "duration": 458,
    "start_time": "2023-02-24T09:42:42.817Z"
   },
   {
    "duration": 337,
    "start_time": "2023-02-24T09:42:55.343Z"
   },
   {
    "duration": 344,
    "start_time": "2023-02-24T09:43:05.822Z"
   },
   {
    "duration": 248,
    "start_time": "2023-02-24T09:52:32.897Z"
   },
   {
    "duration": 151,
    "start_time": "2023-02-24T09:54:44.062Z"
   },
   {
    "duration": 16,
    "start_time": "2023-02-24T09:55:50.771Z"
   },
   {
    "duration": 16,
    "start_time": "2023-02-24T09:56:00.373Z"
   },
   {
    "duration": 5,
    "start_time": "2023-02-24T09:56:14.849Z"
   },
   {
    "duration": 16,
    "start_time": "2023-02-24T09:56:48.420Z"
   },
   {
    "duration": 15,
    "start_time": "2023-02-24T09:57:01.613Z"
   },
   {
    "duration": 11,
    "start_time": "2023-02-24T09:57:12.844Z"
   },
   {
    "duration": 134,
    "start_time": "2023-02-24T09:57:26.203Z"
   },
   {
    "duration": 150,
    "start_time": "2023-02-24T09:57:40.279Z"
   },
   {
    "duration": 139,
    "start_time": "2023-02-24T09:57:59.730Z"
   },
   {
    "duration": 136,
    "start_time": "2023-02-24T09:58:39.073Z"
   },
   {
    "duration": 223,
    "start_time": "2023-02-24T09:59:03.244Z"
   },
   {
    "duration": 156,
    "start_time": "2023-02-24T09:59:28.488Z"
   },
   {
    "duration": 165,
    "start_time": "2023-02-24T09:59:31.617Z"
   },
   {
    "duration": 161,
    "start_time": "2023-02-24T09:59:59.420Z"
   },
   {
    "duration": 172,
    "start_time": "2023-02-24T10:00:53.749Z"
   },
   {
    "duration": 245,
    "start_time": "2023-02-24T10:01:58.262Z"
   },
   {
    "duration": 15,
    "start_time": "2023-02-24T10:02:24.371Z"
   },
   {
    "duration": 13,
    "start_time": "2023-02-24T10:02:58.969Z"
   },
   {
    "duration": 17,
    "start_time": "2023-02-24T10:04:20.186Z"
   },
   {
    "duration": 14,
    "start_time": "2023-02-24T10:04:33.242Z"
   },
   {
    "duration": 132,
    "start_time": "2023-02-24T10:05:13.877Z"
   },
   {
    "duration": 100,
    "start_time": "2023-02-24T10:05:21.318Z"
   },
   {
    "duration": 124,
    "start_time": "2023-02-24T10:05:25.668Z"
   },
   {
    "duration": 483,
    "start_time": "2023-02-24T10:05:40.221Z"
   },
   {
    "duration": 433,
    "start_time": "2023-02-24T10:05:51.455Z"
   },
   {
    "duration": 6,
    "start_time": "2023-02-24T10:06:26.360Z"
   },
   {
    "duration": 13,
    "start_time": "2023-02-24T10:06:29.945Z"
   },
   {
    "duration": 241,
    "start_time": "2023-02-24T10:06:34.757Z"
   },
   {
    "duration": 114,
    "start_time": "2023-02-24T10:06:59.239Z"
   },
   {
    "duration": 125,
    "start_time": "2023-02-24T10:07:10.724Z"
   },
   {
    "duration": 127,
    "start_time": "2023-02-24T10:07:21.371Z"
   },
   {
    "duration": 129,
    "start_time": "2023-02-24T10:07:51.013Z"
   },
   {
    "duration": 140,
    "start_time": "2023-02-24T10:08:37.372Z"
   },
   {
    "duration": 157,
    "start_time": "2023-02-24T10:09:00.068Z"
   },
   {
    "duration": 158,
    "start_time": "2023-02-24T10:09:32.492Z"
   },
   {
    "duration": 189,
    "start_time": "2023-02-24T10:12:42.428Z"
   },
   {
    "duration": 13,
    "start_time": "2023-02-24T10:22:42.858Z"
   },
   {
    "duration": 6,
    "start_time": "2023-02-24T10:22:51.447Z"
   },
   {
    "duration": 6,
    "start_time": "2023-02-24T10:26:14.154Z"
   },
   {
    "duration": 4,
    "start_time": "2023-02-24T10:26:23.675Z"
   },
   {
    "duration": 5,
    "start_time": "2023-02-24T10:26:38.456Z"
   },
   {
    "duration": 4,
    "start_time": "2023-02-24T10:26:43.013Z"
   },
   {
    "duration": 5,
    "start_time": "2023-02-24T10:26:49.683Z"
   },
   {
    "duration": 5,
    "start_time": "2023-02-24T10:26:53.904Z"
   },
   {
    "duration": 1195,
    "start_time": "2023-02-24T10:27:27.823Z"
   },
   {
    "duration": 13,
    "start_time": "2023-02-24T10:27:29.021Z"
   },
   {
    "duration": 79,
    "start_time": "2023-02-24T10:27:29.042Z"
   },
   {
    "duration": 16,
    "start_time": "2023-02-24T10:27:29.123Z"
   },
   {
    "duration": 17,
    "start_time": "2023-02-24T10:27:29.142Z"
   },
   {
    "duration": 11,
    "start_time": "2023-02-24T10:27:29.161Z"
   },
   {
    "duration": 167,
    "start_time": "2023-02-24T10:27:29.174Z"
   },
   {
    "duration": 12,
    "start_time": "2023-02-24T10:27:29.343Z"
   },
   {
    "duration": 8,
    "start_time": "2023-02-24T10:27:29.357Z"
   },
   {
    "duration": 6,
    "start_time": "2023-02-24T10:27:29.367Z"
   },
   {
    "duration": 13,
    "start_time": "2023-02-24T10:27:29.375Z"
   },
   {
    "duration": 25,
    "start_time": "2023-02-24T10:27:29.390Z"
   },
   {
    "duration": 20,
    "start_time": "2023-02-24T10:27:29.417Z"
   },
   {
    "duration": 22,
    "start_time": "2023-02-24T10:27:29.438Z"
   },
   {
    "duration": 5,
    "start_time": "2023-02-24T10:27:29.462Z"
   },
   {
    "duration": 24,
    "start_time": "2023-02-24T10:27:29.469Z"
   },
   {
    "duration": 27,
    "start_time": "2023-02-24T10:27:29.494Z"
   },
   {
    "duration": 28,
    "start_time": "2023-02-24T10:27:29.522Z"
   },
   {
    "duration": 11,
    "start_time": "2023-02-24T10:27:29.552Z"
   },
   {
    "duration": 13,
    "start_time": "2023-02-24T10:27:29.565Z"
   },
   {
    "duration": 8,
    "start_time": "2023-02-24T10:27:29.579Z"
   },
   {
    "duration": 16,
    "start_time": "2023-02-24T10:27:29.589Z"
   },
   {
    "duration": 8,
    "start_time": "2023-02-24T10:27:29.607Z"
   },
   {
    "duration": 15,
    "start_time": "2023-02-24T10:27:29.617Z"
   },
   {
    "duration": 19,
    "start_time": "2023-02-24T10:27:29.642Z"
   },
   {
    "duration": 195,
    "start_time": "2023-02-24T10:27:29.663Z"
   },
   {
    "duration": 9,
    "start_time": "2023-02-24T10:27:29.860Z"
   },
   {
    "duration": 175,
    "start_time": "2023-02-24T10:27:29.873Z"
   },
   {
    "duration": 9,
    "start_time": "2023-02-24T10:27:30.050Z"
   },
   {
    "duration": 127,
    "start_time": "2023-02-24T10:27:30.060Z"
   },
   {
    "duration": 8,
    "start_time": "2023-02-24T10:27:30.189Z"
   },
   {
    "duration": 18,
    "start_time": "2023-02-24T10:27:30.199Z"
   },
   {
    "duration": 47,
    "start_time": "2023-02-24T10:27:30.233Z"
   },
   {
    "duration": 27,
    "start_time": "2023-02-24T10:27:30.282Z"
   },
   {
    "duration": 45,
    "start_time": "2023-02-24T10:27:30.311Z"
   },
   {
    "duration": 41,
    "start_time": "2023-02-24T10:27:30.358Z"
   },
   {
    "duration": 371,
    "start_time": "2023-02-24T10:27:30.401Z"
   },
   {
    "duration": 300,
    "start_time": "2023-02-24T10:27:30.774Z"
   },
   {
    "duration": 297,
    "start_time": "2023-02-24T10:27:31.076Z"
   },
   {
    "duration": 249,
    "start_time": "2023-02-24T10:27:31.375Z"
   },
   {
    "duration": 347,
    "start_time": "2023-02-24T10:27:31.626Z"
   },
   {
    "duration": 193,
    "start_time": "2023-02-24T10:27:31.975Z"
   },
   {
    "duration": 153,
    "start_time": "2023-02-24T10:27:32.170Z"
   },
   {
    "duration": 10,
    "start_time": "2023-02-24T10:27:32.325Z"
   },
   {
    "duration": 4,
    "start_time": "2023-02-24T10:29:58.065Z"
   },
   {
    "duration": 5,
    "start_time": "2023-02-24T10:30:04.755Z"
   },
   {
    "duration": 1508,
    "start_time": "2023-02-24T10:48:08.349Z"
   },
   {
    "duration": 3,
    "start_time": "2023-02-24T10:48:09.860Z"
   },
   {
    "duration": 109,
    "start_time": "2023-02-24T10:48:09.865Z"
   },
   {
    "duration": 16,
    "start_time": "2023-02-24T10:48:09.975Z"
   },
   {
    "duration": 28,
    "start_time": "2023-02-24T10:48:09.993Z"
   },
   {
    "duration": 53,
    "start_time": "2023-02-24T10:48:10.022Z"
   },
   {
    "duration": 205,
    "start_time": "2023-02-24T10:48:10.077Z"
   },
   {
    "duration": 16,
    "start_time": "2023-02-24T10:48:10.284Z"
   },
   {
    "duration": 62,
    "start_time": "2023-02-24T10:48:10.302Z"
   },
   {
    "duration": 16,
    "start_time": "2023-02-24T10:48:10.366Z"
   },
   {
    "duration": 26,
    "start_time": "2023-02-24T10:48:10.384Z"
   },
   {
    "duration": 59,
    "start_time": "2023-02-24T10:48:10.412Z"
   },
   {
    "duration": 28,
    "start_time": "2023-02-24T10:48:10.474Z"
   },
   {
    "duration": 13,
    "start_time": "2023-02-24T10:48:10.506Z"
   },
   {
    "duration": 42,
    "start_time": "2023-02-24T10:48:10.521Z"
   },
   {
    "duration": 25,
    "start_time": "2023-02-24T10:48:10.566Z"
   },
   {
    "duration": 76,
    "start_time": "2023-02-24T10:48:10.592Z"
   },
   {
    "duration": 29,
    "start_time": "2023-02-24T10:48:10.670Z"
   },
   {
    "duration": 23,
    "start_time": "2023-02-24T10:48:10.700Z"
   },
   {
    "duration": 44,
    "start_time": "2023-02-24T10:48:10.725Z"
   },
   {
    "duration": 13,
    "start_time": "2023-02-24T10:48:10.771Z"
   },
   {
    "duration": 48,
    "start_time": "2023-02-24T10:48:10.786Z"
   },
   {
    "duration": 28,
    "start_time": "2023-02-24T10:48:10.836Z"
   },
   {
    "duration": 10,
    "start_time": "2023-02-24T10:48:10.866Z"
   },
   {
    "duration": 9,
    "start_time": "2023-02-24T10:48:10.878Z"
   },
   {
    "duration": 187,
    "start_time": "2023-02-24T10:48:10.890Z"
   },
   {
    "duration": 10,
    "start_time": "2023-02-24T10:48:11.079Z"
   },
   {
    "duration": 175,
    "start_time": "2023-02-24T10:48:11.091Z"
   },
   {
    "duration": 10,
    "start_time": "2023-02-24T10:48:11.268Z"
   },
   {
    "duration": 143,
    "start_time": "2023-02-24T10:48:11.280Z"
   },
   {
    "duration": 23,
    "start_time": "2023-02-24T10:48:11.425Z"
   },
   {
    "duration": 27,
    "start_time": "2023-02-24T10:48:11.456Z"
   },
   {
    "duration": 22,
    "start_time": "2023-02-24T10:48:11.486Z"
   },
   {
    "duration": 6,
    "start_time": "2023-02-24T10:48:11.510Z"
   },
   {
    "duration": 20,
    "start_time": "2023-02-24T10:48:11.518Z"
   },
   {
    "duration": 49,
    "start_time": "2023-02-24T10:48:11.540Z"
   },
   {
    "duration": 386,
    "start_time": "2023-02-24T10:48:11.591Z"
   },
   {
    "duration": 270,
    "start_time": "2023-02-24T10:48:11.979Z"
   },
   {
    "duration": 320,
    "start_time": "2023-02-24T10:48:12.251Z"
   },
   {
    "duration": 247,
    "start_time": "2023-02-24T10:48:12.573Z"
   },
   {
    "duration": 390,
    "start_time": "2023-02-24T10:48:12.829Z"
   },
   {
    "duration": 166,
    "start_time": "2023-02-24T10:48:13.221Z"
   },
   {
    "duration": 182,
    "start_time": "2023-02-24T10:48:13.389Z"
   },
   {
    "duration": 5,
    "start_time": "2023-02-24T10:48:13.573Z"
   },
   {
    "duration": 1662,
    "start_time": "2023-02-24T18:58:49.061Z"
   },
   {
    "duration": 22,
    "start_time": "2023-02-24T18:58:50.737Z"
   },
   {
    "duration": 141,
    "start_time": "2023-02-24T18:58:50.766Z"
   },
   {
    "duration": 42,
    "start_time": "2023-02-24T18:58:50.909Z"
   },
   {
    "duration": 26,
    "start_time": "2023-02-24T18:58:50.952Z"
   },
   {
    "duration": 15,
    "start_time": "2023-02-24T18:58:50.979Z"
   },
   {
    "duration": 443,
    "start_time": "2023-02-24T18:58:50.996Z"
   },
   {
    "duration": 35,
    "start_time": "2023-02-24T18:58:51.440Z"
   },
   {
    "duration": 74,
    "start_time": "2023-02-24T18:58:51.477Z"
   },
   {
    "duration": 18,
    "start_time": "2023-02-24T18:58:51.561Z"
   },
   {
    "duration": 21,
    "start_time": "2023-02-24T18:58:51.581Z"
   },
   {
    "duration": 77,
    "start_time": "2023-02-24T18:58:51.604Z"
   },
   {
    "duration": 24,
    "start_time": "2023-02-24T18:58:51.683Z"
   },
   {
    "duration": 89,
    "start_time": "2023-02-24T18:58:51.710Z"
   },
   {
    "duration": 10,
    "start_time": "2023-02-24T18:58:51.801Z"
   },
   {
    "duration": 80,
    "start_time": "2023-02-24T18:58:51.813Z"
   },
   {
    "duration": 35,
    "start_time": "2023-02-24T18:58:51.896Z"
   },
   {
    "duration": 38,
    "start_time": "2023-02-24T18:58:51.932Z"
   },
   {
    "duration": 12,
    "start_time": "2023-02-24T18:58:51.976Z"
   },
   {
    "duration": 64,
    "start_time": "2023-02-24T18:58:51.991Z"
   },
   {
    "duration": 34,
    "start_time": "2023-02-24T18:58:52.056Z"
   },
   {
    "duration": 102,
    "start_time": "2023-02-24T18:58:52.093Z"
   },
   {
    "duration": 6,
    "start_time": "2023-02-24T18:58:52.197Z"
   },
   {
    "duration": 70,
    "start_time": "2023-02-24T18:58:52.205Z"
   },
   {
    "duration": 17,
    "start_time": "2023-02-24T18:58:52.277Z"
   },
   {
    "duration": 199,
    "start_time": "2023-02-24T18:58:52.296Z"
   },
   {
    "duration": 24,
    "start_time": "2023-02-24T18:58:52.499Z"
   },
   {
    "duration": 161,
    "start_time": "2023-02-24T18:58:52.533Z"
   },
   {
    "duration": 9,
    "start_time": "2023-02-24T18:58:52.696Z"
   },
   {
    "duration": 174,
    "start_time": "2023-02-24T18:58:52.707Z"
   },
   {
    "duration": 11,
    "start_time": "2023-02-24T18:58:52.883Z"
   },
   {
    "duration": 63,
    "start_time": "2023-02-24T18:58:52.896Z"
   },
   {
    "duration": 35,
    "start_time": "2023-02-24T18:58:52.968Z"
   },
   {
    "duration": 87,
    "start_time": "2023-02-24T18:58:53.004Z"
   },
   {
    "duration": 58,
    "start_time": "2023-02-24T18:58:53.093Z"
   },
   {
    "duration": 53,
    "start_time": "2023-02-24T18:58:53.154Z"
   },
   {
    "duration": 446,
    "start_time": "2023-02-24T18:58:53.209Z"
   },
   {
    "duration": 244,
    "start_time": "2023-02-24T18:58:53.656Z"
   },
   {
    "duration": 513,
    "start_time": "2023-02-24T18:58:53.902Z"
   },
   {
    "duration": 245,
    "start_time": "2023-02-24T18:58:54.420Z"
   },
   {
    "duration": 336,
    "start_time": "2023-02-24T18:58:54.666Z"
   },
   {
    "duration": 182,
    "start_time": "2023-02-24T18:58:55.004Z"
   },
   {
    "duration": 196,
    "start_time": "2023-02-24T18:58:55.187Z"
   },
   {
    "duration": 10,
    "start_time": "2023-02-24T18:58:55.384Z"
   },
   {
    "duration": 7,
    "start_time": "2023-02-24T19:00:05.501Z"
   },
   {
    "duration": 240,
    "start_time": "2023-02-24T19:00:10.064Z"
   },
   {
    "duration": 229,
    "start_time": "2023-02-24T19:01:22.074Z"
   },
   {
    "duration": 202,
    "start_time": "2023-02-24T19:01:50.681Z"
   },
   {
    "duration": 231,
    "start_time": "2023-02-24T19:02:11.592Z"
   },
   {
    "duration": 253,
    "start_time": "2023-02-24T19:05:11.528Z"
   },
   {
    "duration": 297,
    "start_time": "2023-02-24T19:05:29.978Z"
   },
   {
    "duration": 195,
    "start_time": "2023-02-24T19:05:37.664Z"
   },
   {
    "duration": 317,
    "start_time": "2023-02-24T19:05:51.182Z"
   },
   {
    "duration": 239,
    "start_time": "2023-02-24T19:06:09.204Z"
   },
   {
    "duration": 7,
    "start_time": "2023-02-24T19:13:44.966Z"
   },
   {
    "duration": 1427,
    "start_time": "2023-02-24T19:36:56.256Z"
   },
   {
    "duration": 6,
    "start_time": "2023-02-24T19:36:57.685Z"
   },
   {
    "duration": 111,
    "start_time": "2023-02-24T19:36:57.693Z"
   },
   {
    "duration": 38,
    "start_time": "2023-02-24T19:36:57.805Z"
   },
   {
    "duration": 31,
    "start_time": "2023-02-24T19:36:57.847Z"
   },
   {
    "duration": 14,
    "start_time": "2023-02-24T19:36:57.879Z"
   },
   {
    "duration": 212,
    "start_time": "2023-02-24T19:36:57.895Z"
   },
   {
    "duration": 24,
    "start_time": "2023-02-24T19:36:58.109Z"
   },
   {
    "duration": 32,
    "start_time": "2023-02-24T19:36:58.139Z"
   },
   {
    "duration": 8,
    "start_time": "2023-02-24T19:36:58.173Z"
   },
   {
    "duration": 25,
    "start_time": "2023-02-24T19:36:58.183Z"
   },
   {
    "duration": 55,
    "start_time": "2023-02-24T19:36:58.215Z"
   },
   {
    "duration": 22,
    "start_time": "2023-02-24T19:36:58.273Z"
   },
   {
    "duration": 9,
    "start_time": "2023-02-24T19:36:58.299Z"
   },
   {
    "duration": 29,
    "start_time": "2023-02-24T19:36:58.327Z"
   },
   {
    "duration": 20,
    "start_time": "2023-02-24T19:36:58.360Z"
   },
   {
    "duration": 7,
    "start_time": "2023-02-24T19:36:58.382Z"
   },
   {
    "duration": 6,
    "start_time": "2023-02-24T19:36:58.391Z"
   },
   {
    "duration": 39,
    "start_time": "2023-02-24T19:36:58.399Z"
   },
   {
    "duration": 17,
    "start_time": "2023-02-24T19:36:58.454Z"
   },
   {
    "duration": 9,
    "start_time": "2023-02-24T19:36:58.473Z"
   },
   {
    "duration": 18,
    "start_time": "2023-02-24T19:36:58.484Z"
   },
   {
    "duration": 17,
    "start_time": "2023-02-24T19:36:58.503Z"
   },
   {
    "duration": 52,
    "start_time": "2023-02-24T19:36:58.521Z"
   },
   {
    "duration": 9,
    "start_time": "2023-02-24T19:36:58.575Z"
   },
   {
    "duration": 191,
    "start_time": "2023-02-24T19:36:58.586Z"
   },
   {
    "duration": 8,
    "start_time": "2023-02-24T19:36:58.780Z"
   },
   {
    "duration": 138,
    "start_time": "2023-02-24T19:36:58.790Z"
   },
   {
    "duration": 18,
    "start_time": "2023-02-24T19:36:58.929Z"
   },
   {
    "duration": 144,
    "start_time": "2023-02-24T19:36:58.948Z"
   },
   {
    "duration": 8,
    "start_time": "2023-02-24T19:36:59.093Z"
   },
   {
    "duration": 48,
    "start_time": "2023-02-24T19:36:59.103Z"
   },
   {
    "duration": 24,
    "start_time": "2023-02-24T19:36:59.152Z"
   },
   {
    "duration": 5,
    "start_time": "2023-02-24T19:36:59.178Z"
   },
   {
    "duration": 20,
    "start_time": "2023-02-24T19:36:59.184Z"
   },
   {
    "duration": 58,
    "start_time": "2023-02-24T19:36:59.206Z"
   },
   {
    "duration": 366,
    "start_time": "2023-02-24T19:36:59.269Z"
   },
   {
    "duration": 235,
    "start_time": "2023-02-24T19:36:59.636Z"
   },
   {
    "duration": 290,
    "start_time": "2023-02-24T19:36:59.873Z"
   },
   {
    "duration": 336,
    "start_time": "2023-02-24T19:37:00.167Z"
   },
   {
    "duration": 374,
    "start_time": "2023-02-24T19:37:00.515Z"
   },
   {
    "duration": 169,
    "start_time": "2023-02-24T19:37:00.890Z"
   },
   {
    "duration": 188,
    "start_time": "2023-02-24T19:37:01.063Z"
   },
   {
    "duration": 11,
    "start_time": "2023-02-24T19:37:01.252Z"
   },
   {
    "duration": 339,
    "start_time": "2023-02-24T19:37:01.264Z"
   },
   {
    "duration": 169,
    "start_time": "2023-02-24T19:37:01.605Z"
   },
   {
    "duration": 0,
    "start_time": "2023-02-24T19:37:01.777Z"
   },
   {
    "duration": 1329,
    "start_time": "2023-02-24T19:37:24.956Z"
   },
   {
    "duration": 3,
    "start_time": "2023-02-24T19:37:26.286Z"
   },
   {
    "duration": 116,
    "start_time": "2023-02-24T19:37:26.290Z"
   },
   {
    "duration": 32,
    "start_time": "2023-02-24T19:37:26.409Z"
   },
   {
    "duration": 38,
    "start_time": "2023-02-24T19:37:26.443Z"
   },
   {
    "duration": 12,
    "start_time": "2023-02-24T19:37:26.483Z"
   },
   {
    "duration": 258,
    "start_time": "2023-02-24T19:37:26.497Z"
   },
   {
    "duration": 15,
    "start_time": "2023-02-24T19:37:26.759Z"
   },
   {
    "duration": 25,
    "start_time": "2023-02-24T19:37:26.776Z"
   },
   {
    "duration": 59,
    "start_time": "2023-02-24T19:37:26.804Z"
   },
   {
    "duration": 17,
    "start_time": "2023-02-24T19:37:26.868Z"
   },
   {
    "duration": 56,
    "start_time": "2023-02-24T19:37:26.891Z"
   },
   {
    "duration": 68,
    "start_time": "2023-02-24T19:37:26.949Z"
   },
   {
    "duration": 62,
    "start_time": "2023-02-24T19:37:27.032Z"
   },
   {
    "duration": 69,
    "start_time": "2023-02-24T19:37:27.096Z"
   },
   {
    "duration": 25,
    "start_time": "2023-02-24T19:37:27.168Z"
   },
   {
    "duration": 13,
    "start_time": "2023-02-24T19:37:27.195Z"
   },
   {
    "duration": 60,
    "start_time": "2023-02-24T19:37:27.215Z"
   },
   {
    "duration": 22,
    "start_time": "2023-02-24T19:37:27.279Z"
   },
   {
    "duration": 29,
    "start_time": "2023-02-24T19:37:27.303Z"
   },
   {
    "duration": 57,
    "start_time": "2023-02-24T19:37:27.337Z"
   },
   {
    "duration": 43,
    "start_time": "2023-02-24T19:37:27.396Z"
   },
   {
    "duration": 36,
    "start_time": "2023-02-24T19:37:27.441Z"
   },
   {
    "duration": 28,
    "start_time": "2023-02-24T19:37:27.479Z"
   },
   {
    "duration": 74,
    "start_time": "2023-02-24T19:37:27.509Z"
   },
   {
    "duration": 208,
    "start_time": "2023-02-24T19:37:27.585Z"
   },
   {
    "duration": 9,
    "start_time": "2023-02-24T19:37:27.794Z"
   },
   {
    "duration": 147,
    "start_time": "2023-02-24T19:37:27.825Z"
   },
   {
    "duration": 9,
    "start_time": "2023-02-24T19:37:27.973Z"
   },
   {
    "duration": 179,
    "start_time": "2023-02-24T19:37:27.984Z"
   },
   {
    "duration": 9,
    "start_time": "2023-02-24T19:37:28.164Z"
   },
   {
    "duration": 6,
    "start_time": "2023-02-24T19:37:28.175Z"
   },
   {
    "duration": 10,
    "start_time": "2023-02-24T19:37:28.183Z"
   },
   {
    "duration": 6,
    "start_time": "2023-02-24T19:37:28.195Z"
   },
   {
    "duration": 34,
    "start_time": "2023-02-24T19:37:28.203Z"
   },
   {
    "duration": 54,
    "start_time": "2023-02-24T19:37:28.239Z"
   },
   {
    "duration": 313,
    "start_time": "2023-02-24T19:37:28.295Z"
   },
   {
    "duration": 245,
    "start_time": "2023-02-24T19:37:28.611Z"
   },
   {
    "duration": 301,
    "start_time": "2023-02-24T19:37:28.858Z"
   },
   {
    "duration": 237,
    "start_time": "2023-02-24T19:37:29.160Z"
   },
   {
    "duration": 392,
    "start_time": "2023-02-24T19:37:29.400Z"
   },
   {
    "duration": 188,
    "start_time": "2023-02-24T19:37:29.794Z"
   },
   {
    "duration": 179,
    "start_time": "2023-02-24T19:37:29.984Z"
   },
   {
    "duration": 5,
    "start_time": "2023-02-24T19:37:30.168Z"
   },
   {
    "duration": 233,
    "start_time": "2023-02-24T19:37:30.175Z"
   },
   {
    "duration": 12,
    "start_time": "2023-02-24T19:37:30.417Z"
   },
   {
    "duration": 163,
    "start_time": "2023-02-24T19:37:43.160Z"
   },
   {
    "duration": 167,
    "start_time": "2023-02-24T19:47:29.876Z"
   },
   {
    "duration": 37,
    "start_time": "2023-02-24T19:48:34.156Z"
   },
   {
    "duration": 23,
    "start_time": "2023-02-24T19:50:34.033Z"
   },
   {
    "duration": 36,
    "start_time": "2023-02-24T19:51:00.695Z"
   },
   {
    "duration": 36,
    "start_time": "2023-02-24T19:52:56.353Z"
   },
   {
    "duration": 12,
    "start_time": "2023-02-24T20:12:31.593Z"
   },
   {
    "duration": 5,
    "start_time": "2023-02-24T20:13:34.494Z"
   },
   {
    "duration": 15,
    "start_time": "2023-02-24T20:13:45.471Z"
   },
   {
    "duration": 6,
    "start_time": "2023-02-24T20:14:05.680Z"
   },
   {
    "duration": 34,
    "start_time": "2023-02-24T20:14:13.581Z"
   },
   {
    "duration": 11,
    "start_time": "2023-02-24T20:14:39.634Z"
   },
   {
    "duration": 7,
    "start_time": "2023-02-24T20:15:25.284Z"
   },
   {
    "duration": 35,
    "start_time": "2023-02-24T20:19:47.240Z"
   },
   {
    "duration": 7,
    "start_time": "2023-02-24T20:22:35.855Z"
   },
   {
    "duration": 8,
    "start_time": "2023-02-24T20:22:42.890Z"
   },
   {
    "duration": 13,
    "start_time": "2023-02-24T20:23:02.439Z"
   },
   {
    "duration": 16,
    "start_time": "2023-02-24T20:23:03.477Z"
   },
   {
    "duration": 8,
    "start_time": "2023-02-24T20:23:21.745Z"
   },
   {
    "duration": 17,
    "start_time": "2023-02-24T20:25:04.758Z"
   },
   {
    "duration": 17,
    "start_time": "2023-02-24T20:25:12.734Z"
   },
   {
    "duration": 47,
    "start_time": "2023-02-24T20:27:09.226Z"
   },
   {
    "duration": 6,
    "start_time": "2023-02-24T20:28:04.244Z"
   },
   {
    "duration": 63,
    "start_time": "2023-02-24T20:28:07.704Z"
   },
   {
    "duration": 19,
    "start_time": "2023-02-24T20:28:15.456Z"
   },
   {
    "duration": 18,
    "start_time": "2023-02-24T20:29:07.660Z"
   },
   {
    "duration": 8,
    "start_time": "2023-02-24T20:29:21.343Z"
   },
   {
    "duration": 15,
    "start_time": "2023-02-24T20:29:31.128Z"
   },
   {
    "duration": 17,
    "start_time": "2023-02-24T20:29:43.634Z"
   },
   {
    "duration": 6,
    "start_time": "2023-02-24T20:29:47.495Z"
   },
   {
    "duration": 1370,
    "start_time": "2023-02-26T14:11:58.879Z"
   },
   {
    "duration": 3,
    "start_time": "2023-02-26T14:12:00.251Z"
   },
   {
    "duration": 156,
    "start_time": "2023-02-26T14:12:00.256Z"
   },
   {
    "duration": 13,
    "start_time": "2023-02-26T14:12:00.415Z"
   },
   {
    "duration": 44,
    "start_time": "2023-02-26T14:12:00.431Z"
   },
   {
    "duration": 24,
    "start_time": "2023-02-26T14:12:00.478Z"
   },
   {
    "duration": 253,
    "start_time": "2023-02-26T14:12:00.504Z"
   },
   {
    "duration": 12,
    "start_time": "2023-02-26T14:12:00.759Z"
   },
   {
    "duration": 33,
    "start_time": "2023-02-26T14:12:00.772Z"
   },
   {
    "duration": 29,
    "start_time": "2023-02-26T14:12:00.808Z"
   },
   {
    "duration": 23,
    "start_time": "2023-02-26T14:12:00.839Z"
   },
   {
    "duration": 20,
    "start_time": "2023-02-26T14:12:00.863Z"
   },
   {
    "duration": 35,
    "start_time": "2023-02-26T14:12:00.884Z"
   },
   {
    "duration": 28,
    "start_time": "2023-02-26T14:12:00.920Z"
   },
   {
    "duration": 36,
    "start_time": "2023-02-26T14:12:00.950Z"
   },
   {
    "duration": 33,
    "start_time": "2023-02-26T14:12:00.987Z"
   },
   {
    "duration": 30,
    "start_time": "2023-02-26T14:12:01.021Z"
   },
   {
    "duration": 24,
    "start_time": "2023-02-26T14:12:01.053Z"
   },
   {
    "duration": 23,
    "start_time": "2023-02-26T14:12:01.078Z"
   },
   {
    "duration": 17,
    "start_time": "2023-02-26T14:12:01.103Z"
   },
   {
    "duration": 19,
    "start_time": "2023-02-26T14:12:01.122Z"
   },
   {
    "duration": 30,
    "start_time": "2023-02-26T14:12:01.143Z"
   },
   {
    "duration": 25,
    "start_time": "2023-02-26T14:12:01.174Z"
   },
   {
    "duration": 28,
    "start_time": "2023-02-26T14:12:01.201Z"
   },
   {
    "duration": 34,
    "start_time": "2023-02-26T14:12:01.231Z"
   },
   {
    "duration": 168,
    "start_time": "2023-02-26T14:12:01.266Z"
   },
   {
    "duration": 8,
    "start_time": "2023-02-26T14:12:01.435Z"
   },
   {
    "duration": 125,
    "start_time": "2023-02-26T14:12:01.447Z"
   },
   {
    "duration": 7,
    "start_time": "2023-02-26T14:12:01.574Z"
   },
   {
    "duration": 113,
    "start_time": "2023-02-26T14:12:01.582Z"
   },
   {
    "duration": 7,
    "start_time": "2023-02-26T14:12:01.697Z"
   },
   {
    "duration": 23,
    "start_time": "2023-02-26T14:12:01.706Z"
   },
   {
    "duration": 29,
    "start_time": "2023-02-26T14:12:01.731Z"
   },
   {
    "duration": 11,
    "start_time": "2023-02-26T14:12:01.761Z"
   },
   {
    "duration": 24,
    "start_time": "2023-02-26T14:12:01.773Z"
   },
   {
    "duration": 33,
    "start_time": "2023-02-26T14:12:01.798Z"
   },
   {
    "duration": 320,
    "start_time": "2023-02-26T14:12:01.832Z"
   },
   {
    "duration": 210,
    "start_time": "2023-02-26T14:12:02.154Z"
   },
   {
    "duration": 339,
    "start_time": "2023-02-26T14:12:02.365Z"
   },
   {
    "duration": 224,
    "start_time": "2023-02-26T14:12:02.706Z"
   },
   {
    "duration": 321,
    "start_time": "2023-02-26T14:12:02.932Z"
   },
   {
    "duration": 150,
    "start_time": "2023-02-26T14:12:03.255Z"
   },
   {
    "duration": 143,
    "start_time": "2023-02-26T14:12:03.406Z"
   },
   {
    "duration": 4,
    "start_time": "2023-02-26T14:12:03.550Z"
   },
   {
    "duration": 233,
    "start_time": "2023-02-26T14:12:03.556Z"
   },
   {
    "duration": 5,
    "start_time": "2023-02-26T14:12:03.792Z"
   },
   {
    "duration": 29,
    "start_time": "2023-02-26T14:12:03.799Z"
   },
   {
    "duration": 11,
    "start_time": "2023-02-26T14:12:03.829Z"
   },
   {
    "duration": 4,
    "start_time": "2023-02-26T14:12:03.842Z"
   },
   {
    "duration": 6,
    "start_time": "2023-02-26T14:12:03.848Z"
   },
   {
    "duration": 21,
    "start_time": "2023-02-26T14:12:03.856Z"
   },
   {
    "duration": 4,
    "start_time": "2023-02-26T14:12:03.879Z"
   },
   {
    "duration": 6,
    "start_time": "2023-02-26T14:12:03.884Z"
   },
   {
    "duration": 38,
    "start_time": "2023-02-26T14:12:03.891Z"
   },
   {
    "duration": 1280,
    "start_time": "2023-02-26T15:28:27.335Z"
   },
   {
    "duration": 3,
    "start_time": "2023-02-26T15:28:28.617Z"
   },
   {
    "duration": 140,
    "start_time": "2023-02-26T15:28:28.622Z"
   },
   {
    "duration": 11,
    "start_time": "2023-02-26T15:28:28.764Z"
   },
   {
    "duration": 23,
    "start_time": "2023-02-26T15:28:28.776Z"
   },
   {
    "duration": 25,
    "start_time": "2023-02-26T15:28:28.801Z"
   },
   {
    "duration": 247,
    "start_time": "2023-02-26T15:28:28.827Z"
   },
   {
    "duration": 12,
    "start_time": "2023-02-26T15:28:29.076Z"
   },
   {
    "duration": 14,
    "start_time": "2023-02-26T15:28:29.090Z"
   },
   {
    "duration": 13,
    "start_time": "2023-02-26T15:28:29.113Z"
   },
   {
    "duration": 27,
    "start_time": "2023-02-26T15:28:29.128Z"
   },
   {
    "duration": 25,
    "start_time": "2023-02-26T15:28:29.157Z"
   },
   {
    "duration": 23,
    "start_time": "2023-02-26T15:28:29.183Z"
   },
   {
    "duration": 15,
    "start_time": "2023-02-26T15:28:29.208Z"
   },
   {
    "duration": 15,
    "start_time": "2023-02-26T15:28:29.224Z"
   },
   {
    "duration": 20,
    "start_time": "2023-02-26T15:28:29.240Z"
   },
   {
    "duration": 15,
    "start_time": "2023-02-26T15:28:29.262Z"
   },
   {
    "duration": 20,
    "start_time": "2023-02-26T15:28:29.278Z"
   },
   {
    "duration": 16,
    "start_time": "2023-02-26T15:28:29.299Z"
   },
   {
    "duration": 25,
    "start_time": "2023-02-26T15:28:29.317Z"
   },
   {
    "duration": 12,
    "start_time": "2023-02-26T15:28:29.344Z"
   },
   {
    "duration": 16,
    "start_time": "2023-02-26T15:28:29.358Z"
   },
   {
    "duration": 17,
    "start_time": "2023-02-26T15:28:29.375Z"
   },
   {
    "duration": 12,
    "start_time": "2023-02-26T15:28:29.393Z"
   },
   {
    "duration": 11,
    "start_time": "2023-02-26T15:28:29.406Z"
   },
   {
    "duration": 161,
    "start_time": "2023-02-26T15:28:29.418Z"
   },
   {
    "duration": 7,
    "start_time": "2023-02-26T15:28:29.581Z"
   },
   {
    "duration": 130,
    "start_time": "2023-02-26T15:28:29.592Z"
   },
   {
    "duration": 7,
    "start_time": "2023-02-26T15:28:29.724Z"
   },
   {
    "duration": 111,
    "start_time": "2023-02-26T15:28:29.732Z"
   },
   {
    "duration": 6,
    "start_time": "2023-02-26T15:28:29.845Z"
   },
   {
    "duration": 8,
    "start_time": "2023-02-26T15:28:29.853Z"
   },
   {
    "duration": 15,
    "start_time": "2023-02-26T15:28:29.863Z"
   },
   {
    "duration": 13,
    "start_time": "2023-02-26T15:28:29.879Z"
   },
   {
    "duration": 13,
    "start_time": "2023-02-26T15:28:29.893Z"
   },
   {
    "duration": 19,
    "start_time": "2023-02-26T15:28:29.907Z"
   },
   {
    "duration": 286,
    "start_time": "2023-02-26T15:28:29.928Z"
   },
   {
    "duration": 211,
    "start_time": "2023-02-26T15:28:30.216Z"
   },
   {
    "duration": 335,
    "start_time": "2023-02-26T15:28:30.429Z"
   },
   {
    "duration": 216,
    "start_time": "2023-02-26T15:28:30.766Z"
   },
   {
    "duration": 338,
    "start_time": "2023-02-26T15:28:30.984Z"
   },
   {
    "duration": 151,
    "start_time": "2023-02-26T15:28:31.324Z"
   },
   {
    "duration": 144,
    "start_time": "2023-02-26T15:28:31.477Z"
   },
   {
    "duration": 4,
    "start_time": "2023-02-26T15:28:31.622Z"
   },
   {
    "duration": 202,
    "start_time": "2023-02-26T15:28:31.627Z"
   },
   {
    "duration": 3,
    "start_time": "2023-02-26T15:28:31.831Z"
   },
   {
    "duration": 23,
    "start_time": "2023-02-26T15:28:31.836Z"
   },
   {
    "duration": 30,
    "start_time": "2023-02-26T15:28:31.860Z"
   },
   {
    "duration": 32,
    "start_time": "2023-02-26T15:28:31.891Z"
   },
   {
    "duration": 23,
    "start_time": "2023-02-26T15:28:31.925Z"
   },
   {
    "duration": 54,
    "start_time": "2023-02-26T15:28:31.949Z"
   },
   {
    "duration": 9,
    "start_time": "2023-02-26T15:28:32.004Z"
   },
   {
    "duration": 34,
    "start_time": "2023-02-26T15:28:32.014Z"
   },
   {
    "duration": 23,
    "start_time": "2023-02-26T15:28:32.049Z"
   },
   {
    "duration": 102,
    "start_time": "2023-02-26T15:45:57.103Z"
   },
   {
    "duration": 1158,
    "start_time": "2023-02-26T15:46:06.476Z"
   },
   {
    "duration": 2,
    "start_time": "2023-02-26T15:46:07.637Z"
   },
   {
    "duration": 68,
    "start_time": "2023-02-26T15:46:07.640Z"
   },
   {
    "duration": 11,
    "start_time": "2023-02-26T15:46:07.710Z"
   },
   {
    "duration": 17,
    "start_time": "2023-02-26T15:46:07.722Z"
   },
   {
    "duration": 12,
    "start_time": "2023-02-26T15:46:07.740Z"
   },
   {
    "duration": 127,
    "start_time": "2023-02-26T15:46:07.753Z"
   },
   {
    "duration": 11,
    "start_time": "2023-02-26T15:46:07.881Z"
   },
   {
    "duration": 10,
    "start_time": "2023-02-26T15:46:07.893Z"
   },
   {
    "duration": 9,
    "start_time": "2023-02-26T15:46:07.905Z"
   },
   {
    "duration": 15,
    "start_time": "2023-02-26T15:46:07.916Z"
   },
   {
    "duration": 7,
    "start_time": "2023-02-26T15:46:07.933Z"
   },
   {
    "duration": 11,
    "start_time": "2023-02-26T15:46:07.941Z"
   },
   {
    "duration": 11,
    "start_time": "2023-02-26T15:46:07.954Z"
   },
   {
    "duration": 6,
    "start_time": "2023-02-26T15:46:07.966Z"
   },
   {
    "duration": 12,
    "start_time": "2023-02-26T15:46:07.973Z"
   },
   {
    "duration": 6,
    "start_time": "2023-02-26T15:46:08.003Z"
   },
   {
    "duration": 8,
    "start_time": "2023-02-26T15:46:08.010Z"
   },
   {
    "duration": 10,
    "start_time": "2023-02-26T15:46:08.019Z"
   },
   {
    "duration": 10,
    "start_time": "2023-02-26T15:46:08.030Z"
   },
   {
    "duration": 5,
    "start_time": "2023-02-26T15:46:08.042Z"
   },
   {
    "duration": 12,
    "start_time": "2023-02-26T15:46:08.049Z"
   },
   {
    "duration": 6,
    "start_time": "2023-02-26T15:46:08.063Z"
   },
   {
    "duration": 34,
    "start_time": "2023-02-26T15:46:08.070Z"
   },
   {
    "duration": 9,
    "start_time": "2023-02-26T15:46:08.106Z"
   },
   {
    "duration": 165,
    "start_time": "2023-02-26T15:46:08.116Z"
   },
   {
    "duration": 7,
    "start_time": "2023-02-26T15:46:08.282Z"
   },
   {
    "duration": 141,
    "start_time": "2023-02-26T15:46:08.292Z"
   },
   {
    "duration": 9,
    "start_time": "2023-02-26T15:46:08.434Z"
   },
   {
    "duration": 124,
    "start_time": "2023-02-26T15:46:08.444Z"
   },
   {
    "duration": 7,
    "start_time": "2023-02-26T15:46:08.570Z"
   },
   {
    "duration": 13,
    "start_time": "2023-02-26T15:46:08.579Z"
   },
   {
    "duration": 20,
    "start_time": "2023-02-26T15:46:08.593Z"
   },
   {
    "duration": 20,
    "start_time": "2023-02-26T15:46:08.615Z"
   },
   {
    "duration": 19,
    "start_time": "2023-02-26T15:46:08.637Z"
   },
   {
    "duration": 23,
    "start_time": "2023-02-26T15:46:08.657Z"
   },
   {
    "duration": 264,
    "start_time": "2023-02-26T15:46:08.682Z"
   },
   {
    "duration": 217,
    "start_time": "2023-02-26T15:46:08.948Z"
   },
   {
    "duration": 345,
    "start_time": "2023-02-26T15:46:09.167Z"
   },
   {
    "duration": 230,
    "start_time": "2023-02-26T15:46:09.514Z"
   },
   {
    "duration": 307,
    "start_time": "2023-02-26T15:46:09.746Z"
   },
   {
    "duration": 155,
    "start_time": "2023-02-26T15:46:10.055Z"
   },
   {
    "duration": 168,
    "start_time": "2023-02-26T15:46:10.212Z"
   },
   {
    "duration": 10,
    "start_time": "2023-02-26T15:46:10.382Z"
   },
   {
    "duration": 234,
    "start_time": "2023-02-26T15:46:10.394Z"
   },
   {
    "duration": 5,
    "start_time": "2023-02-26T15:46:10.630Z"
   },
   {
    "duration": 17,
    "start_time": "2023-02-26T15:46:10.639Z"
   },
   {
    "duration": 10,
    "start_time": "2023-02-26T15:46:10.658Z"
   },
   {
    "duration": 7,
    "start_time": "2023-02-26T15:46:10.669Z"
   },
   {
    "duration": 27,
    "start_time": "2023-02-26T15:46:10.677Z"
   },
   {
    "duration": 24,
    "start_time": "2023-02-26T15:46:10.705Z"
   },
   {
    "duration": 107,
    "start_time": "2023-02-26T15:46:10.730Z"
   },
   {
    "duration": 0,
    "start_time": "2023-02-26T15:46:10.838Z"
   },
   {
    "duration": 0,
    "start_time": "2023-02-26T15:46:10.839Z"
   },
   {
    "duration": 37,
    "start_time": "2023-02-26T15:46:16.373Z"
   },
   {
    "duration": 9,
    "start_time": "2023-02-26T15:46:17.098Z"
   },
   {
    "duration": 22,
    "start_time": "2023-02-26T15:46:25.724Z"
   },
   {
    "duration": 3,
    "start_time": "2023-02-26T15:46:26.313Z"
   },
   {
    "duration": 22,
    "start_time": "2023-02-26T15:46:32.207Z"
   },
   {
    "duration": 3,
    "start_time": "2023-02-26T15:46:46.866Z"
   },
   {
    "duration": 5,
    "start_time": "2023-02-26T15:47:03.232Z"
   },
   {
    "duration": 3,
    "start_time": "2023-02-26T15:48:26.019Z"
   },
   {
    "duration": 3,
    "start_time": "2023-02-26T15:48:42.844Z"
   },
   {
    "duration": 68,
    "start_time": "2023-02-26T15:48:52.246Z"
   },
   {
    "duration": 70,
    "start_time": "2023-02-26T15:49:00.710Z"
   },
   {
    "duration": 76,
    "start_time": "2023-02-26T15:49:18.092Z"
   },
   {
    "duration": 75,
    "start_time": "2023-02-26T15:49:22.598Z"
   },
   {
    "duration": 8,
    "start_time": "2023-02-26T15:49:31.611Z"
   },
   {
    "duration": 4,
    "start_time": "2023-02-26T15:55:52.103Z"
   },
   {
    "duration": 3,
    "start_time": "2023-02-26T15:56:44.897Z"
   },
   {
    "duration": 10,
    "start_time": "2023-02-26T15:58:26.593Z"
   },
   {
    "duration": 22,
    "start_time": "2023-02-26T15:59:55.787Z"
   },
   {
    "duration": 4,
    "start_time": "2023-02-26T16:00:36.300Z"
   },
   {
    "duration": 25,
    "start_time": "2023-02-26T16:00:42.726Z"
   },
   {
    "duration": 4,
    "start_time": "2023-02-26T16:00:43.714Z"
   },
   {
    "duration": 5,
    "start_time": "2023-02-26T16:00:44.314Z"
   },
   {
    "duration": 5,
    "start_time": "2023-02-26T16:00:44.993Z"
   },
   {
    "duration": 4,
    "start_time": "2023-02-26T16:00:45.694Z"
   },
   {
    "duration": 4,
    "start_time": "2023-02-26T16:15:58.043Z"
   },
   {
    "duration": 26,
    "start_time": "2023-02-26T16:17:26.951Z"
   },
   {
    "duration": 23,
    "start_time": "2023-02-26T16:18:09.401Z"
   },
   {
    "duration": 22,
    "start_time": "2023-02-26T16:20:09.237Z"
   },
   {
    "duration": 4,
    "start_time": "2023-02-26T16:22:02.347Z"
   },
   {
    "duration": 4,
    "start_time": "2023-02-26T16:22:23.772Z"
   },
   {
    "duration": 3,
    "start_time": "2023-02-26T16:22:31.945Z"
   },
   {
    "duration": 4,
    "start_time": "2023-02-26T16:22:39.529Z"
   },
   {
    "duration": 4,
    "start_time": "2023-02-26T16:22:48.304Z"
   },
   {
    "duration": 3,
    "start_time": "2023-02-26T16:22:54.891Z"
   },
   {
    "duration": 3,
    "start_time": "2023-02-26T16:23:00.431Z"
   },
   {
    "duration": 4,
    "start_time": "2023-02-26T16:23:28.516Z"
   },
   {
    "duration": 5,
    "start_time": "2023-02-26T16:23:39.283Z"
   },
   {
    "duration": 168,
    "start_time": "2023-02-26T16:38:40.041Z"
   },
   {
    "duration": 158,
    "start_time": "2023-02-26T16:39:23.103Z"
   },
   {
    "duration": 81,
    "start_time": "2023-02-26T16:39:38.065Z"
   },
   {
    "duration": 260,
    "start_time": "2023-02-26T16:39:51.304Z"
   },
   {
    "duration": 263,
    "start_time": "2023-02-26T16:41:32.355Z"
   },
   {
    "duration": 248,
    "start_time": "2023-02-26T16:41:53.090Z"
   },
   {
    "duration": 257,
    "start_time": "2023-02-26T16:42:05.295Z"
   },
   {
    "duration": 339,
    "start_time": "2023-02-26T16:42:10.832Z"
   },
   {
    "duration": 165,
    "start_time": "2023-02-26T16:44:42.987Z"
   },
   {
    "duration": 143,
    "start_time": "2023-02-26T16:45:05.775Z"
   },
   {
    "duration": 144,
    "start_time": "2023-02-26T16:46:54.432Z"
   },
   {
    "duration": 80,
    "start_time": "2023-02-26T16:49:27.407Z"
   },
   {
    "duration": 8,
    "start_time": "2023-02-26T16:56:36.372Z"
   },
   {
    "duration": 123,
    "start_time": "2023-02-26T17:00:54.868Z"
   },
   {
    "duration": 83,
    "start_time": "2023-02-26T17:01:06.140Z"
   },
   {
    "duration": 80,
    "start_time": "2023-02-26T17:01:16.780Z"
   },
   {
    "duration": 80,
    "start_time": "2023-02-26T17:02:47.579Z"
   },
   {
    "duration": 9,
    "start_time": "2023-02-26T17:03:20.911Z"
   },
   {
    "duration": 76,
    "start_time": "2023-02-26T17:03:42.480Z"
   },
   {
    "duration": 6,
    "start_time": "2023-02-26T17:04:02.148Z"
   },
   {
    "duration": 5,
    "start_time": "2023-02-26T17:04:13.175Z"
   },
   {
    "duration": 6,
    "start_time": "2023-02-26T17:04:37.817Z"
   },
   {
    "duration": 7,
    "start_time": "2023-02-26T17:04:44.076Z"
   },
   {
    "duration": 10,
    "start_time": "2023-02-26T17:04:55.026Z"
   },
   {
    "duration": 11,
    "start_time": "2023-02-26T17:04:59.445Z"
   },
   {
    "duration": 6,
    "start_time": "2023-02-26T17:05:27.024Z"
   },
   {
    "duration": 6,
    "start_time": "2023-02-26T17:06:18.153Z"
   },
   {
    "duration": 6,
    "start_time": "2023-02-26T17:07:17.718Z"
   },
   {
    "duration": 1247,
    "start_time": "2023-02-26T17:45:16.379Z"
   },
   {
    "duration": 3,
    "start_time": "2023-02-26T17:45:17.628Z"
   },
   {
    "duration": 66,
    "start_time": "2023-02-26T17:45:17.632Z"
   },
   {
    "duration": 11,
    "start_time": "2023-02-26T17:45:17.700Z"
   },
   {
    "duration": 23,
    "start_time": "2023-02-26T17:45:17.713Z"
   },
   {
    "duration": 16,
    "start_time": "2023-02-26T17:45:17.738Z"
   },
   {
    "duration": 129,
    "start_time": "2023-02-26T17:45:17.755Z"
   },
   {
    "duration": 10,
    "start_time": "2023-02-26T17:45:17.886Z"
   },
   {
    "duration": 25,
    "start_time": "2023-02-26T17:45:17.898Z"
   },
   {
    "duration": 6,
    "start_time": "2023-02-26T17:45:17.926Z"
   },
   {
    "duration": 17,
    "start_time": "2023-02-26T17:45:17.933Z"
   },
   {
    "duration": 17,
    "start_time": "2023-02-26T17:45:17.952Z"
   },
   {
    "duration": 16,
    "start_time": "2023-02-26T17:45:17.971Z"
   },
   {
    "duration": 28,
    "start_time": "2023-02-26T17:45:17.989Z"
   },
   {
    "duration": 11,
    "start_time": "2023-02-26T17:45:18.018Z"
   },
   {
    "duration": 21,
    "start_time": "2023-02-26T17:45:18.031Z"
   },
   {
    "duration": 17,
    "start_time": "2023-02-26T17:45:18.054Z"
   },
   {
    "duration": 8,
    "start_time": "2023-02-26T17:45:18.072Z"
   },
   {
    "duration": 16,
    "start_time": "2023-02-26T17:45:18.081Z"
   },
   {
    "duration": 11,
    "start_time": "2023-02-26T17:45:18.098Z"
   },
   {
    "duration": 8,
    "start_time": "2023-02-26T17:45:18.110Z"
   },
   {
    "duration": 26,
    "start_time": "2023-02-26T17:45:18.119Z"
   },
   {
    "duration": 12,
    "start_time": "2023-02-26T17:45:18.147Z"
   },
   {
    "duration": 14,
    "start_time": "2023-02-26T17:45:18.160Z"
   },
   {
    "duration": 11,
    "start_time": "2023-02-26T17:45:18.176Z"
   },
   {
    "duration": 156,
    "start_time": "2023-02-26T17:45:18.189Z"
   },
   {
    "duration": 9,
    "start_time": "2023-02-26T17:45:18.346Z"
   },
   {
    "duration": 123,
    "start_time": "2023-02-26T17:45:18.357Z"
   },
   {
    "duration": 9,
    "start_time": "2023-02-26T17:45:18.482Z"
   },
   {
    "duration": 112,
    "start_time": "2023-02-26T17:45:18.503Z"
   },
   {
    "duration": 6,
    "start_time": "2023-02-26T17:45:18.617Z"
   },
   {
    "duration": 13,
    "start_time": "2023-02-26T17:45:18.624Z"
   },
   {
    "duration": 13,
    "start_time": "2023-02-26T17:45:18.639Z"
   },
   {
    "duration": 4,
    "start_time": "2023-02-26T17:45:18.654Z"
   },
   {
    "duration": 12,
    "start_time": "2023-02-26T17:45:18.660Z"
   },
   {
    "duration": 23,
    "start_time": "2023-02-26T17:45:18.673Z"
   },
   {
    "duration": 264,
    "start_time": "2023-02-26T17:45:18.698Z"
   },
   {
    "duration": 203,
    "start_time": "2023-02-26T17:45:18.963Z"
   },
   {
    "duration": 324,
    "start_time": "2023-02-26T17:45:19.168Z"
   },
   {
    "duration": 212,
    "start_time": "2023-02-26T17:45:19.493Z"
   },
   {
    "duration": 334,
    "start_time": "2023-02-26T17:45:19.707Z"
   },
   {
    "duration": 145,
    "start_time": "2023-02-26T17:45:20.043Z"
   },
   {
    "duration": 156,
    "start_time": "2023-02-26T17:45:20.190Z"
   },
   {
    "duration": 3,
    "start_time": "2023-02-26T17:45:20.348Z"
   },
   {
    "duration": 337,
    "start_time": "2023-02-26T17:45:20.353Z"
   },
   {
    "duration": 149,
    "start_time": "2023-02-26T17:45:20.691Z"
   },
   {
    "duration": 4,
    "start_time": "2023-02-26T17:45:20.841Z"
   },
   {
    "duration": 10,
    "start_time": "2023-02-26T17:45:20.847Z"
   },
   {
    "duration": 9,
    "start_time": "2023-02-26T17:45:20.859Z"
   },
   {
    "duration": 15,
    "start_time": "2023-02-26T17:45:20.870Z"
   },
   {
    "duration": 17,
    "start_time": "2023-02-26T17:45:20.887Z"
   },
   {
    "duration": 28,
    "start_time": "2023-02-26T17:45:20.906Z"
   },
   {
    "duration": 4,
    "start_time": "2023-02-26T17:45:20.936Z"
   },
   {
    "duration": 7,
    "start_time": "2023-02-26T17:45:20.941Z"
   },
   {
    "duration": 9,
    "start_time": "2023-02-26T17:45:20.950Z"
   },
   {
    "duration": 5,
    "start_time": "2023-02-26T17:45:20.960Z"
   },
   {
    "duration": 1290,
    "start_time": "2023-02-27T05:11:18.272Z"
   },
   {
    "duration": 3,
    "start_time": "2023-02-27T05:11:19.564Z"
   },
   {
    "duration": 155,
    "start_time": "2023-02-27T05:11:19.569Z"
   },
   {
    "duration": 11,
    "start_time": "2023-02-27T05:11:19.726Z"
   },
   {
    "duration": 15,
    "start_time": "2023-02-27T05:11:19.738Z"
   },
   {
    "duration": 11,
    "start_time": "2023-02-27T05:11:19.754Z"
   },
   {
    "duration": 227,
    "start_time": "2023-02-27T05:11:19.766Z"
   },
   {
    "duration": 12,
    "start_time": "2023-02-27T05:11:19.995Z"
   },
   {
    "duration": 11,
    "start_time": "2023-02-27T05:11:20.009Z"
   },
   {
    "duration": 9,
    "start_time": "2023-02-27T05:11:20.022Z"
   },
   {
    "duration": 12,
    "start_time": "2023-02-27T05:11:20.032Z"
   },
   {
    "duration": 10,
    "start_time": "2023-02-27T05:11:20.046Z"
   },
   {
    "duration": 14,
    "start_time": "2023-02-27T05:11:20.057Z"
   },
   {
    "duration": 11,
    "start_time": "2023-02-27T05:11:20.072Z"
   },
   {
    "duration": 8,
    "start_time": "2023-02-27T05:11:20.085Z"
   },
   {
    "duration": 13,
    "start_time": "2023-02-27T05:11:20.095Z"
   },
   {
    "duration": 7,
    "start_time": "2023-02-27T05:11:20.110Z"
   },
   {
    "duration": 23,
    "start_time": "2023-02-27T05:11:20.119Z"
   },
   {
    "duration": 9,
    "start_time": "2023-02-27T05:11:20.144Z"
   },
   {
    "duration": 9,
    "start_time": "2023-02-27T05:11:20.155Z"
   },
   {
    "duration": 6,
    "start_time": "2023-02-27T05:11:20.166Z"
   },
   {
    "duration": 12,
    "start_time": "2023-02-27T05:11:20.173Z"
   },
   {
    "duration": 9,
    "start_time": "2023-02-27T05:11:20.186Z"
   },
   {
    "duration": 41,
    "start_time": "2023-02-27T05:11:20.197Z"
   },
   {
    "duration": 8,
    "start_time": "2023-02-27T05:11:20.239Z"
   },
   {
    "duration": 174,
    "start_time": "2023-02-27T05:11:20.248Z"
   },
   {
    "duration": 14,
    "start_time": "2023-02-27T05:11:20.424Z"
   },
   {
    "duration": 137,
    "start_time": "2023-02-27T05:11:20.442Z"
   },
   {
    "duration": 7,
    "start_time": "2023-02-27T05:11:20.581Z"
   },
   {
    "duration": 112,
    "start_time": "2023-02-27T05:11:20.589Z"
   },
   {
    "duration": 8,
    "start_time": "2023-02-27T05:11:20.703Z"
   },
   {
    "duration": 9,
    "start_time": "2023-02-27T05:11:20.712Z"
   },
   {
    "duration": 22,
    "start_time": "2023-02-27T05:11:20.723Z"
   },
   {
    "duration": 4,
    "start_time": "2023-02-27T05:11:20.747Z"
   },
   {
    "duration": 14,
    "start_time": "2023-02-27T05:11:20.753Z"
   },
   {
    "duration": 24,
    "start_time": "2023-02-27T05:11:20.768Z"
   },
   {
    "duration": 308,
    "start_time": "2023-02-27T05:11:20.794Z"
   },
   {
    "duration": 215,
    "start_time": "2023-02-27T05:11:21.104Z"
   },
   {
    "duration": 359,
    "start_time": "2023-02-27T05:11:21.321Z"
   },
   {
    "duration": 245,
    "start_time": "2023-02-27T05:11:21.682Z"
   },
   {
    "duration": 336,
    "start_time": "2023-02-27T05:11:21.929Z"
   },
   {
    "duration": 171,
    "start_time": "2023-02-27T05:11:22.267Z"
   },
   {
    "duration": 185,
    "start_time": "2023-02-27T05:11:22.440Z"
   },
   {
    "duration": 10,
    "start_time": "2023-02-27T05:11:22.627Z"
   },
   {
    "duration": 340,
    "start_time": "2023-02-27T05:11:22.639Z"
   },
   {
    "duration": 149,
    "start_time": "2023-02-27T05:11:22.980Z"
   },
   {
    "duration": 6,
    "start_time": "2023-02-27T05:11:23.131Z"
   },
   {
    "duration": 37,
    "start_time": "2023-02-27T05:11:23.139Z"
   },
   {
    "duration": 35,
    "start_time": "2023-02-27T05:11:23.178Z"
   },
   {
    "duration": 7,
    "start_time": "2023-02-27T05:11:23.215Z"
   },
   {
    "duration": 26,
    "start_time": "2023-02-27T05:11:23.224Z"
   },
   {
    "duration": 29,
    "start_time": "2023-02-27T05:11:23.252Z"
   },
   {
    "duration": 12,
    "start_time": "2023-02-27T05:11:23.283Z"
   },
   {
    "duration": 19,
    "start_time": "2023-02-27T05:11:23.296Z"
   },
   {
    "duration": 22,
    "start_time": "2023-02-27T05:11:23.317Z"
   },
   {
    "duration": 31,
    "start_time": "2023-02-27T05:11:23.340Z"
   },
   {
    "duration": 5,
    "start_time": "2023-02-27T05:12:52.032Z"
   },
   {
    "duration": 8,
    "start_time": "2023-02-27T05:42:12.468Z"
   },
   {
    "duration": 104,
    "start_time": "2023-02-27T05:42:25.703Z"
   },
   {
    "duration": 6,
    "start_time": "2023-02-27T05:42:32.639Z"
   },
   {
    "duration": 9,
    "start_time": "2023-02-27T05:42:44.495Z"
   },
   {
    "duration": 4,
    "start_time": "2023-02-27T05:42:47.367Z"
   },
   {
    "duration": 5,
    "start_time": "2023-02-27T05:43:03.324Z"
   },
   {
    "duration": 4,
    "start_time": "2023-02-27T05:43:04.273Z"
   },
   {
    "duration": 7,
    "start_time": "2023-02-27T05:43:10.078Z"
   },
   {
    "duration": 4,
    "start_time": "2023-02-27T05:43:11.163Z"
   },
   {
    "duration": 6,
    "start_time": "2023-02-27T05:45:46.010Z"
   },
   {
    "duration": 6,
    "start_time": "2023-02-27T05:45:50.913Z"
   },
   {
    "duration": 8,
    "start_time": "2023-02-27T05:46:02.623Z"
   },
   {
    "duration": 4,
    "start_time": "2023-02-27T05:46:03.825Z"
   },
   {
    "duration": 5,
    "start_time": "2023-02-27T05:46:04.448Z"
   },
   {
    "duration": 5,
    "start_time": "2023-02-27T05:46:13.980Z"
   },
   {
    "duration": 8,
    "start_time": "2023-02-27T05:46:22.857Z"
   },
   {
    "duration": 5,
    "start_time": "2023-02-27T05:46:24.917Z"
   },
   {
    "duration": 4,
    "start_time": "2023-02-27T05:46:25.593Z"
   },
   {
    "duration": 7,
    "start_time": "2023-02-27T05:47:02.042Z"
   },
   {
    "duration": 4,
    "start_time": "2023-02-27T05:47:03.030Z"
   },
   {
    "duration": 4,
    "start_time": "2023-02-27T05:47:03.512Z"
   },
   {
    "duration": 7,
    "start_time": "2023-02-27T05:50:00.627Z"
   },
   {
    "duration": 5,
    "start_time": "2023-02-27T05:50:19.774Z"
   },
   {
    "duration": 4,
    "start_time": "2023-02-27T05:50:28.492Z"
   },
   {
    "duration": 17,
    "start_time": "2023-02-27T05:50:39.634Z"
   },
   {
    "duration": 7,
    "start_time": "2023-02-27T05:50:46.956Z"
   },
   {
    "duration": 4,
    "start_time": "2023-02-27T05:50:48.350Z"
   },
   {
    "duration": 8,
    "start_time": "2023-02-27T05:51:22.987Z"
   },
   {
    "duration": 5,
    "start_time": "2023-02-27T05:51:23.626Z"
   },
   {
    "duration": 8,
    "start_time": "2023-02-27T05:51:28.696Z"
   },
   {
    "duration": 8,
    "start_time": "2023-02-27T05:51:48.199Z"
   },
   {
    "duration": 4,
    "start_time": "2023-02-27T05:51:50.467Z"
   },
   {
    "duration": 3,
    "start_time": "2023-02-27T05:52:44.816Z"
   },
   {
    "duration": 9,
    "start_time": "2023-02-27T05:52:54.420Z"
   },
   {
    "duration": 77,
    "start_time": "2023-02-27T05:52:59.346Z"
   },
   {
    "duration": 77,
    "start_time": "2023-02-27T05:53:01.912Z"
   },
   {
    "duration": 3,
    "start_time": "2023-02-27T05:53:04.337Z"
   },
   {
    "duration": 4,
    "start_time": "2023-02-27T05:53:09.089Z"
   },
   {
    "duration": 69,
    "start_time": "2023-02-27T05:53:31.203Z"
   },
   {
    "duration": 74,
    "start_time": "2023-02-27T05:53:35.550Z"
   },
   {
    "duration": 3,
    "start_time": "2023-02-27T05:53:39.319Z"
   },
   {
    "duration": 5,
    "start_time": "2023-02-27T05:53:58.685Z"
   },
   {
    "duration": 3,
    "start_time": "2023-02-27T05:57:58.814Z"
   },
   {
    "duration": 9,
    "start_time": "2023-02-27T05:59:29.460Z"
   },
   {
    "duration": 5,
    "start_time": "2023-02-27T05:59:37.784Z"
   },
   {
    "duration": 5,
    "start_time": "2023-02-27T05:59:48.504Z"
   },
   {
    "duration": 7,
    "start_time": "2023-02-27T05:59:59.672Z"
   },
   {
    "duration": 4,
    "start_time": "2023-02-27T06:00:53.980Z"
   },
   {
    "duration": 6,
    "start_time": "2023-02-27T06:00:55.417Z"
   },
   {
    "duration": 7,
    "start_time": "2023-02-27T06:00:56.816Z"
   },
   {
    "duration": 6,
    "start_time": "2023-02-27T06:04:52.738Z"
   },
   {
    "duration": 6,
    "start_time": "2023-02-27T06:04:53.182Z"
   },
   {
    "duration": 7,
    "start_time": "2023-02-27T06:10:44.927Z"
   },
   {
    "duration": 4,
    "start_time": "2023-02-27T06:10:47.550Z"
   },
   {
    "duration": 6,
    "start_time": "2023-02-27T06:11:04.216Z"
   },
   {
    "duration": 6,
    "start_time": "2023-02-27T06:15:06.211Z"
   },
   {
    "duration": 3,
    "start_time": "2023-02-27T06:15:06.531Z"
   },
   {
    "duration": 6,
    "start_time": "2023-02-27T06:16:13.481Z"
   },
   {
    "duration": 6,
    "start_time": "2023-02-27T06:16:24.863Z"
   },
   {
    "duration": 7,
    "start_time": "2023-02-27T06:16:43.853Z"
   },
   {
    "duration": 4,
    "start_time": "2023-02-27T06:16:45.558Z"
   },
   {
    "duration": 7,
    "start_time": "2023-02-27T06:16:56.296Z"
   },
   {
    "duration": 5,
    "start_time": "2023-02-27T06:16:56.798Z"
   },
   {
    "duration": 8,
    "start_time": "2023-02-27T06:17:15.924Z"
   },
   {
    "duration": 6,
    "start_time": "2023-02-27T06:17:16.552Z"
   },
   {
    "duration": 8,
    "start_time": "2023-02-27T06:17:38.742Z"
   },
   {
    "duration": 7,
    "start_time": "2023-02-27T06:18:12.802Z"
   },
   {
    "duration": 5,
    "start_time": "2023-02-27T06:18:13.527Z"
   },
   {
    "duration": 10,
    "start_time": "2023-02-27T06:19:02.616Z"
   },
   {
    "duration": 5,
    "start_time": "2023-02-27T06:19:03.281Z"
   },
   {
    "duration": 7,
    "start_time": "2023-02-27T06:19:24.752Z"
   },
   {
    "duration": 4,
    "start_time": "2023-02-27T06:19:25.380Z"
   },
   {
    "duration": 92,
    "start_time": "2023-02-27T06:19:57.943Z"
   },
   {
    "duration": 82,
    "start_time": "2023-02-27T06:20:13.889Z"
   },
   {
    "duration": 6,
    "start_time": "2023-02-27T06:20:55.827Z"
   },
   {
    "duration": 5,
    "start_time": "2023-02-27T06:20:59.625Z"
   },
   {
    "duration": 7,
    "start_time": "2023-02-27T06:21:37.392Z"
   },
   {
    "duration": 9,
    "start_time": "2023-02-27T06:21:48.109Z"
   },
   {
    "duration": 4,
    "start_time": "2023-02-27T06:21:49.274Z"
   },
   {
    "duration": 9,
    "start_time": "2023-02-27T06:21:57.228Z"
   },
   {
    "duration": 4,
    "start_time": "2023-02-27T06:21:58.113Z"
   },
   {
    "duration": 69,
    "start_time": "2023-02-27T06:22:05.826Z"
   },
   {
    "duration": 6,
    "start_time": "2023-02-27T06:22:07.502Z"
   },
   {
    "duration": 5,
    "start_time": "2023-02-27T06:22:12.100Z"
   },
   {
    "duration": 10,
    "start_time": "2023-02-27T06:23:30.568Z"
   },
   {
    "duration": 4,
    "start_time": "2023-02-27T06:23:40.974Z"
   },
   {
    "duration": 4,
    "start_time": "2023-02-27T06:25:15.782Z"
   },
   {
    "duration": 34,
    "start_time": "2023-02-27T06:27:24.951Z"
   },
   {
    "duration": 7,
    "start_time": "2023-02-27T06:34:17.834Z"
   },
   {
    "duration": 7,
    "start_time": "2023-02-27T06:34:48.477Z"
   },
   {
    "duration": 7,
    "start_time": "2023-02-27T06:36:01.856Z"
   },
   {
    "duration": 8,
    "start_time": "2023-02-27T06:36:19.946Z"
   },
   {
    "duration": 9,
    "start_time": "2023-02-27T06:36:59.817Z"
   },
   {
    "duration": 12,
    "start_time": "2023-02-27T06:37:12.373Z"
   },
   {
    "duration": 5,
    "start_time": "2023-02-27T06:37:45.962Z"
   },
   {
    "duration": 7,
    "start_time": "2023-02-27T06:38:19.431Z"
   },
   {
    "duration": 7,
    "start_time": "2023-02-27T06:38:27.402Z"
   },
   {
    "duration": 8,
    "start_time": "2023-02-27T06:43:00.203Z"
   },
   {
    "duration": 6,
    "start_time": "2023-02-27T06:44:08.540Z"
   },
   {
    "duration": 979,
    "start_time": "2023-02-27T06:44:15.345Z"
   },
   {
    "duration": 1044,
    "start_time": "2023-02-27T06:44:18.972Z"
   },
   {
    "duration": 9,
    "start_time": "2023-02-27T06:45:23.295Z"
   },
   {
    "duration": 5,
    "start_time": "2023-02-27T06:45:57.246Z"
   },
   {
    "duration": 1311,
    "start_time": "2023-02-27T06:51:06.263Z"
   },
   {
    "duration": 3,
    "start_time": "2023-02-27T06:51:07.576Z"
   },
   {
    "duration": 87,
    "start_time": "2023-02-27T06:51:07.580Z"
   },
   {
    "duration": 12,
    "start_time": "2023-02-27T06:51:07.669Z"
   },
   {
    "duration": 14,
    "start_time": "2023-02-27T06:51:07.683Z"
   },
   {
    "duration": 13,
    "start_time": "2023-02-27T06:51:07.699Z"
   },
   {
    "duration": 131,
    "start_time": "2023-02-27T06:51:07.714Z"
   },
   {
    "duration": 12,
    "start_time": "2023-02-27T06:51:07.847Z"
   },
   {
    "duration": 13,
    "start_time": "2023-02-27T06:51:07.860Z"
   },
   {
    "duration": 9,
    "start_time": "2023-02-27T06:51:07.875Z"
   },
   {
    "duration": 26,
    "start_time": "2023-02-27T06:51:07.886Z"
   },
   {
    "duration": 10,
    "start_time": "2023-02-27T06:51:07.915Z"
   },
   {
    "duration": 20,
    "start_time": "2023-02-27T06:51:07.927Z"
   },
   {
    "duration": 11,
    "start_time": "2023-02-27T06:51:07.951Z"
   },
   {
    "duration": 18,
    "start_time": "2023-02-27T06:51:07.964Z"
   },
   {
    "duration": 17,
    "start_time": "2023-02-27T06:51:07.984Z"
   },
   {
    "duration": 10,
    "start_time": "2023-02-27T06:51:08.003Z"
   },
   {
    "duration": 20,
    "start_time": "2023-02-27T06:51:08.015Z"
   },
   {
    "duration": 22,
    "start_time": "2023-02-27T06:51:08.037Z"
   },
   {
    "duration": 43,
    "start_time": "2023-02-27T06:51:08.061Z"
   },
   {
    "duration": 29,
    "start_time": "2023-02-27T06:51:08.106Z"
   },
   {
    "duration": 41,
    "start_time": "2023-02-27T06:51:08.137Z"
   },
   {
    "duration": 39,
    "start_time": "2023-02-27T06:51:08.180Z"
   },
   {
    "duration": 57,
    "start_time": "2023-02-27T06:51:08.220Z"
   },
   {
    "duration": 30,
    "start_time": "2023-02-27T06:51:08.278Z"
   },
   {
    "duration": 246,
    "start_time": "2023-02-27T06:51:08.310Z"
   },
   {
    "duration": 10,
    "start_time": "2023-02-27T06:51:08.557Z"
   },
   {
    "duration": 147,
    "start_time": "2023-02-27T06:51:08.568Z"
   },
   {
    "duration": 22,
    "start_time": "2023-02-27T06:51:08.717Z"
   },
   {
    "duration": 133,
    "start_time": "2023-02-27T06:51:08.741Z"
   },
   {
    "duration": 8,
    "start_time": "2023-02-27T06:51:08.876Z"
   },
   {
    "duration": 27,
    "start_time": "2023-02-27T06:51:08.886Z"
   },
   {
    "duration": 18,
    "start_time": "2023-02-27T06:51:08.915Z"
   },
   {
    "duration": 9,
    "start_time": "2023-02-27T06:51:08.935Z"
   },
   {
    "duration": 23,
    "start_time": "2023-02-27T06:51:08.946Z"
   },
   {
    "duration": 26,
    "start_time": "2023-02-27T06:51:08.971Z"
   },
   {
    "duration": 327,
    "start_time": "2023-02-27T06:51:08.998Z"
   },
   {
    "duration": 242,
    "start_time": "2023-02-27T06:51:09.327Z"
   },
   {
    "duration": 316,
    "start_time": "2023-02-27T06:51:09.571Z"
   },
   {
    "duration": 239,
    "start_time": "2023-02-27T06:51:09.889Z"
   },
   {
    "duration": 340,
    "start_time": "2023-02-27T06:51:10.139Z"
   },
   {
    "duration": 166,
    "start_time": "2023-02-27T06:51:10.480Z"
   },
   {
    "duration": 145,
    "start_time": "2023-02-27T06:51:10.648Z"
   },
   {
    "duration": 5,
    "start_time": "2023-02-27T06:51:10.795Z"
   },
   {
    "duration": 373,
    "start_time": "2023-02-27T06:51:10.802Z"
   },
   {
    "duration": 196,
    "start_time": "2023-02-27T06:51:11.177Z"
   },
   {
    "duration": 5,
    "start_time": "2023-02-27T06:51:11.375Z"
   },
   {
    "duration": 25,
    "start_time": "2023-02-27T06:51:11.382Z"
   },
   {
    "duration": 18,
    "start_time": "2023-02-27T06:51:11.409Z"
   },
   {
    "duration": 15,
    "start_time": "2023-02-27T06:51:11.428Z"
   },
   {
    "duration": 25,
    "start_time": "2023-02-27T06:51:11.445Z"
   },
   {
    "duration": 10,
    "start_time": "2023-02-27T06:51:11.471Z"
   },
   {
    "duration": 31,
    "start_time": "2023-02-27T06:51:11.483Z"
   },
   {
    "duration": 7,
    "start_time": "2023-02-27T06:51:11.516Z"
   },
   {
    "duration": 36,
    "start_time": "2023-02-27T06:51:11.524Z"
   },
   {
    "duration": 11,
    "start_time": "2023-02-27T06:51:11.562Z"
   },
   {
    "duration": 9,
    "start_time": "2023-02-27T06:51:11.575Z"
   },
   {
    "duration": 16,
    "start_time": "2023-02-27T06:51:11.587Z"
   },
   {
    "duration": 8,
    "start_time": "2023-02-27T06:51:11.605Z"
   },
   {
    "duration": 35,
    "start_time": "2023-02-27T06:51:11.615Z"
   },
   {
    "duration": 10,
    "start_time": "2023-02-27T06:51:11.652Z"
   },
   {
    "duration": 10,
    "start_time": "2023-02-27T06:51:11.664Z"
   },
   {
    "duration": 6,
    "start_time": "2023-02-27T06:51:11.677Z"
   },
   {
    "duration": 131,
    "start_time": "2023-02-27T07:32:57.354Z"
   },
   {
    "duration": 9,
    "start_time": "2023-02-27T07:32:58.256Z"
   },
   {
    "duration": 1363,
    "start_time": "2023-02-27T07:33:06.506Z"
   },
   {
    "duration": 4,
    "start_time": "2023-02-27T07:33:07.872Z"
   },
   {
    "duration": 79,
    "start_time": "2023-02-27T07:33:07.878Z"
   },
   {
    "duration": 17,
    "start_time": "2023-02-27T07:33:07.960Z"
   },
   {
    "duration": 13,
    "start_time": "2023-02-27T07:33:07.981Z"
   },
   {
    "duration": 13,
    "start_time": "2023-02-27T07:33:07.996Z"
   },
   {
    "duration": 149,
    "start_time": "2023-02-27T07:33:08.011Z"
   },
   {
    "duration": 14,
    "start_time": "2023-02-27T07:33:08.164Z"
   },
   {
    "duration": 41,
    "start_time": "2023-02-27T07:33:08.181Z"
   },
   {
    "duration": 24,
    "start_time": "2023-02-27T07:33:08.224Z"
   },
   {
    "duration": 20,
    "start_time": "2023-02-27T07:33:08.250Z"
   },
   {
    "duration": 16,
    "start_time": "2023-02-27T07:33:08.272Z"
   },
   {
    "duration": 20,
    "start_time": "2023-02-27T07:33:08.290Z"
   },
   {
    "duration": 19,
    "start_time": "2023-02-27T07:33:08.314Z"
   },
   {
    "duration": 25,
    "start_time": "2023-02-27T07:33:08.335Z"
   },
   {
    "duration": 19,
    "start_time": "2023-02-27T07:33:08.362Z"
   },
   {
    "duration": 15,
    "start_time": "2023-02-27T07:33:08.382Z"
   },
   {
    "duration": 19,
    "start_time": "2023-02-27T07:33:08.399Z"
   },
   {
    "duration": 17,
    "start_time": "2023-02-27T07:33:08.420Z"
   },
   {
    "duration": 15,
    "start_time": "2023-02-27T07:33:08.439Z"
   },
   {
    "duration": 10,
    "start_time": "2023-02-27T07:33:08.456Z"
   },
   {
    "duration": 15,
    "start_time": "2023-02-27T07:33:08.469Z"
   },
   {
    "duration": 7,
    "start_time": "2023-02-27T07:33:08.486Z"
   },
   {
    "duration": 19,
    "start_time": "2023-02-27T07:33:08.495Z"
   },
   {
    "duration": 10,
    "start_time": "2023-02-27T07:33:08.538Z"
   },
   {
    "duration": 212,
    "start_time": "2023-02-27T07:33:08.550Z"
   },
   {
    "duration": 9,
    "start_time": "2023-02-27T07:33:08.764Z"
   },
   {
    "duration": 187,
    "start_time": "2023-02-27T07:33:08.775Z"
   },
   {
    "duration": 129,
    "start_time": "2023-02-27T07:33:08.964Z"
   },
   {
    "duration": 8,
    "start_time": "2023-02-27T07:33:09.095Z"
   },
   {
    "duration": 148,
    "start_time": "2023-02-27T07:33:09.105Z"
   },
   {
    "duration": 28,
    "start_time": "2023-02-27T07:33:09.255Z"
   },
   {
    "duration": 30,
    "start_time": "2023-02-27T07:33:09.285Z"
   },
   {
    "duration": 30,
    "start_time": "2023-02-27T07:33:09.318Z"
   },
   {
    "duration": 9,
    "start_time": "2023-02-27T07:33:09.350Z"
   },
   {
    "duration": 18,
    "start_time": "2023-02-27T07:33:09.360Z"
   },
   {
    "duration": 41,
    "start_time": "2023-02-27T07:33:09.380Z"
   },
   {
    "duration": 352,
    "start_time": "2023-02-27T07:33:09.423Z"
   },
   {
    "duration": 232,
    "start_time": "2023-02-27T07:33:09.777Z"
   },
   {
    "duration": 354,
    "start_time": "2023-02-27T07:33:10.011Z"
   },
   {
    "duration": 277,
    "start_time": "2023-02-27T07:33:10.371Z"
   },
   {
    "duration": 351,
    "start_time": "2023-02-27T07:33:10.650Z"
   },
   {
    "duration": 187,
    "start_time": "2023-02-27T07:33:11.004Z"
   },
   {
    "duration": 167,
    "start_time": "2023-02-27T07:33:11.193Z"
   },
   {
    "duration": 6,
    "start_time": "2023-02-27T07:33:11.362Z"
   },
   {
    "duration": 420,
    "start_time": "2023-02-27T07:33:11.370Z"
   },
   {
    "duration": 200,
    "start_time": "2023-02-27T07:33:11.792Z"
   },
   {
    "duration": 6,
    "start_time": "2023-02-27T07:33:11.995Z"
   },
   {
    "duration": 36,
    "start_time": "2023-02-27T07:33:12.003Z"
   },
   {
    "duration": 18,
    "start_time": "2023-02-27T07:33:12.042Z"
   },
   {
    "duration": 18,
    "start_time": "2023-02-27T07:33:12.063Z"
   },
   {
    "duration": 15,
    "start_time": "2023-02-27T07:33:12.084Z"
   },
   {
    "duration": 7,
    "start_time": "2023-02-27T07:33:12.102Z"
   },
   {
    "duration": 74,
    "start_time": "2023-02-27T07:33:12.112Z"
   },
   {
    "duration": 8,
    "start_time": "2023-02-27T07:33:12.188Z"
   },
   {
    "duration": 16,
    "start_time": "2023-02-27T07:33:12.198Z"
   },
   {
    "duration": 15,
    "start_time": "2023-02-27T07:33:12.216Z"
   },
   {
    "duration": 14,
    "start_time": "2023-02-27T07:33:12.233Z"
   },
   {
    "duration": 26,
    "start_time": "2023-02-27T07:33:12.249Z"
   },
   {
    "duration": 14,
    "start_time": "2023-02-27T07:33:12.277Z"
   },
   {
    "duration": 34,
    "start_time": "2023-02-27T07:33:12.293Z"
   },
   {
    "duration": 7,
    "start_time": "2023-02-27T07:33:12.329Z"
   },
   {
    "duration": 15,
    "start_time": "2023-02-27T07:33:12.338Z"
   },
   {
    "duration": 11,
    "start_time": "2023-02-27T07:33:12.355Z"
   },
   {
    "duration": 127,
    "start_time": "2023-02-27T07:35:15.887Z"
   },
   {
    "duration": 8,
    "start_time": "2023-02-27T07:35:16.374Z"
   },
   {
    "duration": 18,
    "start_time": "2023-02-27T07:41:11.714Z"
   },
   {
    "duration": 14,
    "start_time": "2023-02-27T07:41:49.715Z"
   },
   {
    "duration": 17,
    "start_time": "2023-02-27T07:43:04.632Z"
   },
   {
    "duration": 20,
    "start_time": "2023-02-27T07:43:17.057Z"
   },
   {
    "duration": 15,
    "start_time": "2023-02-27T07:43:21.005Z"
   },
   {
    "duration": 5,
    "start_time": "2023-02-27T07:43:28.578Z"
   },
   {
    "duration": 177,
    "start_time": "2023-02-27T07:43:31.491Z"
   },
   {
    "duration": 122,
    "start_time": "2023-02-27T07:43:33.698Z"
   },
   {
    "duration": 8,
    "start_time": "2023-02-27T07:43:34.767Z"
   },
   {
    "duration": 3,
    "start_time": "2023-02-27T07:43:35.372Z"
   },
   {
    "duration": 21,
    "start_time": "2023-02-27T07:43:36.417Z"
   },
   {
    "duration": 222,
    "start_time": "2023-02-27T07:43:38.959Z"
   },
   {
    "duration": 330,
    "start_time": "2023-02-27T07:43:39.843Z"
   },
   {
    "duration": 255,
    "start_time": "2023-02-27T07:43:41.523Z"
   },
   {
    "duration": 343,
    "start_time": "2023-02-27T07:43:43.738Z"
   },
   {
    "duration": 1341,
    "start_time": "2023-02-27T07:45:46.405Z"
   },
   {
    "duration": 3,
    "start_time": "2023-02-27T07:45:47.748Z"
   },
   {
    "duration": 285,
    "start_time": "2023-02-27T07:45:47.753Z"
   },
   {
    "duration": 14,
    "start_time": "2023-02-27T07:45:48.041Z"
   },
   {
    "duration": 49,
    "start_time": "2023-02-27T07:45:48.058Z"
   },
   {
    "duration": 18,
    "start_time": "2023-02-27T07:45:48.109Z"
   },
   {
    "duration": 152,
    "start_time": "2023-02-27T07:45:48.129Z"
   },
   {
    "duration": 13,
    "start_time": "2023-02-27T07:45:48.284Z"
   },
   {
    "duration": 17,
    "start_time": "2023-02-27T07:45:48.299Z"
   },
   {
    "duration": 18,
    "start_time": "2023-02-27T07:45:48.320Z"
   },
   {
    "duration": 48,
    "start_time": "2023-02-27T07:45:48.340Z"
   },
   {
    "duration": 23,
    "start_time": "2023-02-27T07:45:48.390Z"
   },
   {
    "duration": 26,
    "start_time": "2023-02-27T07:45:48.415Z"
   },
   {
    "duration": 21,
    "start_time": "2023-02-27T07:45:48.443Z"
   },
   {
    "duration": 17,
    "start_time": "2023-02-27T07:45:48.466Z"
   },
   {
    "duration": 22,
    "start_time": "2023-02-27T07:45:48.486Z"
   },
   {
    "duration": 13,
    "start_time": "2023-02-27T07:45:48.510Z"
   },
   {
    "duration": 35,
    "start_time": "2023-02-27T07:45:48.525Z"
   },
   {
    "duration": 44,
    "start_time": "2023-02-27T07:45:48.562Z"
   },
   {
    "duration": 15,
    "start_time": "2023-02-27T07:45:48.608Z"
   },
   {
    "duration": 11,
    "start_time": "2023-02-27T07:45:48.625Z"
   },
   {
    "duration": 13,
    "start_time": "2023-02-27T07:45:48.638Z"
   },
   {
    "duration": 9,
    "start_time": "2023-02-27T07:45:48.653Z"
   },
   {
    "duration": 23,
    "start_time": "2023-02-27T07:45:48.664Z"
   },
   {
    "duration": 112,
    "start_time": "2023-02-27T07:45:48.689Z"
   },
   {
    "duration": 215,
    "start_time": "2023-02-27T07:45:48.803Z"
   },
   {
    "duration": 10,
    "start_time": "2023-02-27T07:45:49.019Z"
   },
   {
    "duration": 147,
    "start_time": "2023-02-27T07:45:49.040Z"
   },
   {
    "duration": 9,
    "start_time": "2023-02-27T07:45:49.189Z"
   },
   {
    "duration": 27,
    "start_time": "2023-02-27T07:45:49.200Z"
   },
   {
    "duration": 19,
    "start_time": "2023-02-27T07:45:49.229Z"
   },
   {
    "duration": 17,
    "start_time": "2023-02-27T07:45:49.250Z"
   },
   {
    "duration": 24,
    "start_time": "2023-02-27T07:45:49.270Z"
   },
   {
    "duration": 27,
    "start_time": "2023-02-27T07:45:49.295Z"
   },
   {
    "duration": 334,
    "start_time": "2023-02-27T07:45:49.324Z"
   },
   {
    "duration": 246,
    "start_time": "2023-02-27T07:45:49.660Z"
   },
   {
    "duration": 413,
    "start_time": "2023-02-27T07:45:49.908Z"
   },
   {
    "duration": 288,
    "start_time": "2023-02-27T07:45:50.323Z"
   },
   {
    "duration": 401,
    "start_time": "2023-02-27T07:45:50.613Z"
   },
   {
    "duration": 177,
    "start_time": "2023-02-27T07:45:51.016Z"
   },
   {
    "duration": 169,
    "start_time": "2023-02-27T07:45:51.195Z"
   },
   {
    "duration": 5,
    "start_time": "2023-02-27T07:45:51.366Z"
   },
   {
    "duration": 402,
    "start_time": "2023-02-27T07:45:51.373Z"
   },
   {
    "duration": 186,
    "start_time": "2023-02-27T07:45:51.777Z"
   },
   {
    "duration": 5,
    "start_time": "2023-02-27T07:45:51.965Z"
   },
   {
    "duration": 19,
    "start_time": "2023-02-27T07:45:51.972Z"
   },
   {
    "duration": 32,
    "start_time": "2023-02-27T07:45:51.993Z"
   },
   {
    "duration": 14,
    "start_time": "2023-02-27T07:45:52.027Z"
   },
   {
    "duration": 18,
    "start_time": "2023-02-27T07:45:52.042Z"
   },
   {
    "duration": 17,
    "start_time": "2023-02-27T07:45:52.062Z"
   },
   {
    "duration": 40,
    "start_time": "2023-02-27T07:45:52.081Z"
   },
   {
    "duration": 8,
    "start_time": "2023-02-27T07:45:52.123Z"
   },
   {
    "duration": 14,
    "start_time": "2023-02-27T07:45:52.133Z"
   },
   {
    "duration": 17,
    "start_time": "2023-02-27T07:45:52.149Z"
   },
   {
    "duration": 14,
    "start_time": "2023-02-27T07:45:52.167Z"
   },
   {
    "duration": 38,
    "start_time": "2023-02-27T07:45:52.183Z"
   },
   {
    "duration": 14,
    "start_time": "2023-02-27T07:45:52.223Z"
   },
   {
    "duration": 30,
    "start_time": "2023-02-27T07:45:52.239Z"
   },
   {
    "duration": 7,
    "start_time": "2023-02-27T07:45:52.271Z"
   },
   {
    "duration": 28,
    "start_time": "2023-02-27T07:45:52.280Z"
   },
   {
    "duration": 39,
    "start_time": "2023-02-27T07:45:52.311Z"
   },
   {
    "duration": 26,
    "start_time": "2023-02-27T07:45:52.352Z"
   },
   {
    "duration": 282,
    "start_time": "2023-02-27T07:45:52.380Z"
   },
   {
    "duration": 183,
    "start_time": "2023-02-27T07:45:52.665Z"
   },
   {
    "duration": 11,
    "start_time": "2023-02-27T07:45:52.851Z"
   },
   {
    "duration": 19,
    "start_time": "2023-02-27T07:45:52.864Z"
   },
   {
    "duration": 37,
    "start_time": "2023-02-27T07:45:52.885Z"
   },
   {
    "duration": 265,
    "start_time": "2023-02-27T07:45:52.924Z"
   },
   {
    "duration": 348,
    "start_time": "2023-02-27T07:45:53.192Z"
   },
   {
    "duration": 253,
    "start_time": "2023-02-27T07:45:53.543Z"
   },
   {
    "duration": 391,
    "start_time": "2023-02-27T07:45:53.798Z"
   },
   {
    "duration": 8,
    "start_time": "2023-02-27T07:48:24.534Z"
   },
   {
    "duration": 3,
    "start_time": "2023-02-27T07:48:25.340Z"
   },
   {
    "duration": 1224,
    "start_time": "2023-02-27T07:48:40.699Z"
   },
   {
    "duration": 4,
    "start_time": "2023-02-27T07:48:41.925Z"
   },
   {
    "duration": 72,
    "start_time": "2023-02-27T07:48:41.930Z"
   },
   {
    "duration": 12,
    "start_time": "2023-02-27T07:48:42.004Z"
   },
   {
    "duration": 22,
    "start_time": "2023-02-27T07:48:42.017Z"
   },
   {
    "duration": 14,
    "start_time": "2023-02-27T07:48:42.041Z"
   },
   {
    "duration": 143,
    "start_time": "2023-02-27T07:48:42.057Z"
   },
   {
    "duration": 13,
    "start_time": "2023-02-27T07:48:42.202Z"
   },
   {
    "duration": 14,
    "start_time": "2023-02-27T07:48:42.217Z"
   },
   {
    "duration": 7,
    "start_time": "2023-02-27T07:48:42.234Z"
   },
   {
    "duration": 17,
    "start_time": "2023-02-27T07:48:42.243Z"
   },
   {
    "duration": 13,
    "start_time": "2023-02-27T07:48:42.262Z"
   },
   {
    "duration": 14,
    "start_time": "2023-02-27T07:48:42.277Z"
   },
   {
    "duration": 12,
    "start_time": "2023-02-27T07:48:42.293Z"
   },
   {
    "duration": 13,
    "start_time": "2023-02-27T07:48:42.306Z"
   },
   {
    "duration": 24,
    "start_time": "2023-02-27T07:48:42.321Z"
   },
   {
    "duration": 18,
    "start_time": "2023-02-27T07:48:42.347Z"
   },
   {
    "duration": 17,
    "start_time": "2023-02-27T07:48:42.367Z"
   },
   {
    "duration": 39,
    "start_time": "2023-02-27T07:48:42.387Z"
   },
   {
    "duration": 26,
    "start_time": "2023-02-27T07:48:42.429Z"
   },
   {
    "duration": 15,
    "start_time": "2023-02-27T07:48:42.457Z"
   },
   {
    "duration": 31,
    "start_time": "2023-02-27T07:48:42.475Z"
   },
   {
    "duration": 15,
    "start_time": "2023-02-27T07:48:42.508Z"
   },
   {
    "duration": 41,
    "start_time": "2023-02-27T07:48:42.526Z"
   },
   {
    "duration": 51,
    "start_time": "2023-02-27T07:48:42.569Z"
   },
   {
    "duration": 202,
    "start_time": "2023-02-27T07:48:42.622Z"
   },
   {
    "duration": 13,
    "start_time": "2023-02-27T07:48:42.826Z"
   },
   {
    "duration": 131,
    "start_time": "2023-02-27T07:48:42.843Z"
   },
   {
    "duration": 9,
    "start_time": "2023-02-27T07:48:42.975Z"
   },
   {
    "duration": 17,
    "start_time": "2023-02-27T07:48:42.986Z"
   },
   {
    "duration": 22,
    "start_time": "2023-02-27T07:48:43.005Z"
   },
   {
    "duration": 21,
    "start_time": "2023-02-27T07:48:43.029Z"
   },
   {
    "duration": 19,
    "start_time": "2023-02-27T07:48:43.052Z"
   },
   {
    "duration": 29,
    "start_time": "2023-02-27T07:48:43.074Z"
   },
   {
    "duration": 331,
    "start_time": "2023-02-27T07:48:43.105Z"
   },
   {
    "duration": 221,
    "start_time": "2023-02-27T07:48:43.437Z"
   },
   {
    "duration": 311,
    "start_time": "2023-02-27T07:48:43.661Z"
   },
   {
    "duration": 241,
    "start_time": "2023-02-27T07:48:43.973Z"
   },
   {
    "duration": 363,
    "start_time": "2023-02-27T07:48:44.216Z"
   },
   {
    "duration": 166,
    "start_time": "2023-02-27T07:48:44.581Z"
   },
   {
    "duration": 159,
    "start_time": "2023-02-27T07:48:44.749Z"
   },
   {
    "duration": 5,
    "start_time": "2023-02-27T07:48:44.910Z"
   },
   {
    "duration": 390,
    "start_time": "2023-02-27T07:48:44.916Z"
   },
   {
    "duration": 171,
    "start_time": "2023-02-27T07:48:45.308Z"
   },
   {
    "duration": 5,
    "start_time": "2023-02-27T07:48:45.481Z"
   },
   {
    "duration": 21,
    "start_time": "2023-02-27T07:48:45.488Z"
   },
   {
    "duration": 32,
    "start_time": "2023-02-27T07:48:45.511Z"
   },
   {
    "duration": 7,
    "start_time": "2023-02-27T07:48:45.545Z"
   },
   {
    "duration": 13,
    "start_time": "2023-02-27T07:48:45.554Z"
   },
   {
    "duration": 5,
    "start_time": "2023-02-27T07:48:45.569Z"
   },
   {
    "duration": 40,
    "start_time": "2023-02-27T07:48:45.576Z"
   },
   {
    "duration": 7,
    "start_time": "2023-02-27T07:48:45.617Z"
   },
   {
    "duration": 25,
    "start_time": "2023-02-27T07:48:45.625Z"
   },
   {
    "duration": 15,
    "start_time": "2023-02-27T07:48:45.652Z"
   },
   {
    "duration": 8,
    "start_time": "2023-02-27T07:48:45.669Z"
   },
   {
    "duration": 14,
    "start_time": "2023-02-27T07:48:45.679Z"
   },
   {
    "duration": 14,
    "start_time": "2023-02-27T07:48:45.695Z"
   },
   {
    "duration": 38,
    "start_time": "2023-02-27T07:48:45.712Z"
   },
   {
    "duration": 8,
    "start_time": "2023-02-27T07:48:45.752Z"
   },
   {
    "duration": 13,
    "start_time": "2023-02-27T07:48:45.761Z"
   },
   {
    "duration": 11,
    "start_time": "2023-02-27T07:48:45.776Z"
   },
   {
    "duration": 13,
    "start_time": "2023-02-27T07:48:45.789Z"
   },
   {
    "duration": 200,
    "start_time": "2023-02-27T07:48:45.804Z"
   },
   {
    "duration": 118,
    "start_time": "2023-02-27T07:48:46.006Z"
   },
   {
    "duration": 15,
    "start_time": "2023-02-27T07:48:46.126Z"
   },
   {
    "duration": 8,
    "start_time": "2023-02-27T07:48:46.143Z"
   },
   {
    "duration": 24,
    "start_time": "2023-02-27T07:48:46.153Z"
   },
   {
    "duration": 232,
    "start_time": "2023-02-27T07:48:46.180Z"
   },
   {
    "duration": 327,
    "start_time": "2023-02-27T07:48:46.414Z"
   },
   {
    "duration": 237,
    "start_time": "2023-02-27T07:48:46.743Z"
   },
   {
    "duration": 315,
    "start_time": "2023-02-27T07:48:46.982Z"
   },
   {
    "duration": 98,
    "start_time": "2023-02-27T07:51:00.444Z"
   },
   {
    "duration": 99,
    "start_time": "2023-02-27T07:51:48.389Z"
   },
   {
    "duration": 13,
    "start_time": "2023-02-27T07:53:14.972Z"
   },
   {
    "duration": 1444,
    "start_time": "2023-02-27T07:57:31.525Z"
   },
   {
    "duration": 3,
    "start_time": "2023-02-27T07:57:32.972Z"
   },
   {
    "duration": 82,
    "start_time": "2023-02-27T07:57:32.977Z"
   },
   {
    "duration": 17,
    "start_time": "2023-02-27T07:57:33.061Z"
   },
   {
    "duration": 23,
    "start_time": "2023-02-27T07:57:33.082Z"
   },
   {
    "duration": 42,
    "start_time": "2023-02-27T07:57:33.107Z"
   },
   {
    "duration": 156,
    "start_time": "2023-02-27T07:57:33.151Z"
   },
   {
    "duration": 19,
    "start_time": "2023-02-27T07:57:33.309Z"
   },
   {
    "duration": 23,
    "start_time": "2023-02-27T07:57:33.330Z"
   },
   {
    "duration": 12,
    "start_time": "2023-02-27T07:57:33.355Z"
   },
   {
    "duration": 31,
    "start_time": "2023-02-27T07:57:33.369Z"
   },
   {
    "duration": 34,
    "start_time": "2023-02-27T07:57:33.403Z"
   },
   {
    "duration": 29,
    "start_time": "2023-02-27T07:57:33.439Z"
   },
   {
    "duration": 16,
    "start_time": "2023-02-27T07:57:33.472Z"
   },
   {
    "duration": 20,
    "start_time": "2023-02-27T07:57:33.490Z"
   },
   {
    "duration": 21,
    "start_time": "2023-02-27T07:57:33.512Z"
   },
   {
    "duration": 25,
    "start_time": "2023-02-27T07:57:33.535Z"
   },
   {
    "duration": 19,
    "start_time": "2023-02-27T07:57:33.562Z"
   },
   {
    "duration": 18,
    "start_time": "2023-02-27T07:57:33.583Z"
   },
   {
    "duration": 32,
    "start_time": "2023-02-27T07:57:33.604Z"
   },
   {
    "duration": 17,
    "start_time": "2023-02-27T07:57:33.638Z"
   },
   {
    "duration": 31,
    "start_time": "2023-02-27T07:57:33.658Z"
   },
   {
    "duration": 13,
    "start_time": "2023-02-27T07:57:33.692Z"
   },
   {
    "duration": 30,
    "start_time": "2023-02-27T07:57:33.707Z"
   },
   {
    "duration": 22,
    "start_time": "2023-02-27T07:57:33.739Z"
   },
   {
    "duration": 212,
    "start_time": "2023-02-27T07:57:33.762Z"
   },
   {
    "duration": 13,
    "start_time": "2023-02-27T07:57:33.976Z"
   },
   {
    "duration": 155,
    "start_time": "2023-02-27T07:57:33.991Z"
   },
   {
    "duration": 28,
    "start_time": "2023-02-27T07:57:34.148Z"
   },
   {
    "duration": 18,
    "start_time": "2023-02-27T07:57:34.178Z"
   },
   {
    "duration": 63,
    "start_time": "2023-02-27T07:57:34.198Z"
   },
   {
    "duration": 36,
    "start_time": "2023-02-27T07:57:34.263Z"
   },
   {
    "duration": 47,
    "start_time": "2023-02-27T07:57:34.300Z"
   },
   {
    "duration": 39,
    "start_time": "2023-02-27T07:57:34.349Z"
   },
   {
    "duration": 335,
    "start_time": "2023-02-27T07:57:34.390Z"
   },
   {
    "duration": 241,
    "start_time": "2023-02-27T07:57:34.727Z"
   },
   {
    "duration": 355,
    "start_time": "2023-02-27T07:57:34.970Z"
   },
   {
    "duration": 310,
    "start_time": "2023-02-27T07:57:35.327Z"
   },
   {
    "duration": 381,
    "start_time": "2023-02-27T07:57:35.640Z"
   },
   {
    "duration": 182,
    "start_time": "2023-02-27T07:57:36.022Z"
   },
   {
    "duration": 215,
    "start_time": "2023-02-27T07:57:36.212Z"
   },
   {
    "duration": 12,
    "start_time": "2023-02-27T07:57:36.429Z"
   },
   {
    "duration": 438,
    "start_time": "2023-02-27T07:57:36.444Z"
   },
   {
    "duration": 183,
    "start_time": "2023-02-27T07:57:36.884Z"
   },
   {
    "duration": 8,
    "start_time": "2023-02-27T07:57:37.069Z"
   },
   {
    "duration": 23,
    "start_time": "2023-02-27T07:57:37.079Z"
   },
   {
    "duration": 15,
    "start_time": "2023-02-27T07:57:37.104Z"
   },
   {
    "duration": 8,
    "start_time": "2023-02-27T07:57:37.137Z"
   },
   {
    "duration": 19,
    "start_time": "2023-02-27T07:57:37.147Z"
   },
   {
    "duration": 12,
    "start_time": "2023-02-27T07:57:37.168Z"
   },
   {
    "duration": 30,
    "start_time": "2023-02-27T07:57:37.182Z"
   },
   {
    "duration": 7,
    "start_time": "2023-02-27T07:57:37.214Z"
   },
   {
    "duration": 13,
    "start_time": "2023-02-27T07:57:37.237Z"
   },
   {
    "duration": 24,
    "start_time": "2023-02-27T07:57:37.252Z"
   },
   {
    "duration": 10,
    "start_time": "2023-02-27T07:57:37.278Z"
   },
   {
    "duration": 16,
    "start_time": "2023-02-27T07:57:37.290Z"
   },
   {
    "duration": 12,
    "start_time": "2023-02-27T07:57:37.308Z"
   },
   {
    "duration": 51,
    "start_time": "2023-02-27T07:57:37.323Z"
   },
   {
    "duration": 8,
    "start_time": "2023-02-27T07:57:37.376Z"
   },
   {
    "duration": 47,
    "start_time": "2023-02-27T07:57:37.399Z"
   },
   {
    "duration": 28,
    "start_time": "2023-02-27T07:57:37.448Z"
   },
   {
    "duration": 11,
    "start_time": "2023-02-27T07:57:37.478Z"
   },
   {
    "duration": 234,
    "start_time": "2023-02-27T07:57:37.491Z"
   },
   {
    "duration": 169,
    "start_time": "2023-02-27T07:57:37.728Z"
   },
   {
    "duration": 7,
    "start_time": "2023-02-27T07:57:37.899Z"
   },
   {
    "duration": 7,
    "start_time": "2023-02-27T07:57:37.908Z"
   },
   {
    "duration": 28,
    "start_time": "2023-02-27T07:57:37.917Z"
   },
   {
    "duration": 319,
    "start_time": "2023-02-27T07:57:37.948Z"
   },
   {
    "duration": 340,
    "start_time": "2023-02-27T07:57:38.270Z"
   },
   {
    "duration": 265,
    "start_time": "2023-02-27T07:57:38.613Z"
   },
   {
    "duration": 360,
    "start_time": "2023-02-27T07:57:38.880Z"
   },
   {
    "duration": 1267,
    "start_time": "2023-02-27T08:08:37.466Z"
   },
   {
    "duration": 3,
    "start_time": "2023-02-27T08:08:38.738Z"
   },
   {
    "duration": 90,
    "start_time": "2023-02-27T08:08:38.744Z"
   },
   {
    "duration": 17,
    "start_time": "2023-02-27T08:08:38.836Z"
   },
   {
    "duration": 28,
    "start_time": "2023-02-27T08:08:38.855Z"
   },
   {
    "duration": 23,
    "start_time": "2023-02-27T08:08:38.885Z"
   },
   {
    "duration": 148,
    "start_time": "2023-02-27T08:08:38.910Z"
   },
   {
    "duration": 14,
    "start_time": "2023-02-27T08:08:39.060Z"
   },
   {
    "duration": 22,
    "start_time": "2023-02-27T08:08:39.077Z"
   },
   {
    "duration": 20,
    "start_time": "2023-02-27T08:08:39.103Z"
   },
   {
    "duration": 31,
    "start_time": "2023-02-27T08:08:39.125Z"
   },
   {
    "duration": 29,
    "start_time": "2023-02-27T08:08:39.159Z"
   },
   {
    "duration": 22,
    "start_time": "2023-02-27T08:08:39.190Z"
   },
   {
    "duration": 14,
    "start_time": "2023-02-27T08:08:39.214Z"
   },
   {
    "duration": 20,
    "start_time": "2023-02-27T08:08:39.230Z"
   },
   {
    "duration": 28,
    "start_time": "2023-02-27T08:08:39.252Z"
   },
   {
    "duration": 22,
    "start_time": "2023-02-27T08:08:39.282Z"
   },
   {
    "duration": 14,
    "start_time": "2023-02-27T08:08:39.306Z"
   },
   {
    "duration": 23,
    "start_time": "2023-02-27T08:08:39.321Z"
   },
   {
    "duration": 22,
    "start_time": "2023-02-27T08:08:39.345Z"
   },
   {
    "duration": 11,
    "start_time": "2023-02-27T08:08:39.369Z"
   },
   {
    "duration": 17,
    "start_time": "2023-02-27T08:08:39.383Z"
   },
   {
    "duration": 16,
    "start_time": "2023-02-27T08:08:39.403Z"
   },
   {
    "duration": 20,
    "start_time": "2023-02-27T08:08:39.421Z"
   },
   {
    "duration": 14,
    "start_time": "2023-02-27T08:08:39.444Z"
   },
   {
    "duration": 228,
    "start_time": "2023-02-27T08:08:39.460Z"
   },
   {
    "duration": 10,
    "start_time": "2023-02-27T08:08:39.690Z"
   },
   {
    "duration": 136,
    "start_time": "2023-02-27T08:08:39.704Z"
   },
   {
    "duration": 9,
    "start_time": "2023-02-27T08:08:39.843Z"
   },
   {
    "duration": 19,
    "start_time": "2023-02-27T08:08:39.854Z"
   },
   {
    "duration": 26,
    "start_time": "2023-02-27T08:08:39.875Z"
   },
   {
    "duration": 11,
    "start_time": "2023-02-27T08:08:39.902Z"
   },
   {
    "duration": 23,
    "start_time": "2023-02-27T08:08:39.915Z"
   },
   {
    "duration": 31,
    "start_time": "2023-02-27T08:08:39.940Z"
   },
   {
    "duration": 326,
    "start_time": "2023-02-27T08:08:39.972Z"
   },
   {
    "duration": 240,
    "start_time": "2023-02-27T08:08:40.300Z"
   },
   {
    "duration": 345,
    "start_time": "2023-02-27T08:08:40.542Z"
   },
   {
    "duration": 268,
    "start_time": "2023-02-27T08:08:40.890Z"
   },
   {
    "duration": 357,
    "start_time": "2023-02-27T08:08:41.160Z"
   },
   {
    "duration": 167,
    "start_time": "2023-02-27T08:08:41.519Z"
   },
   {
    "duration": 173,
    "start_time": "2023-02-27T08:08:41.687Z"
   },
   {
    "duration": 5,
    "start_time": "2023-02-27T08:08:41.863Z"
   },
   {
    "duration": 399,
    "start_time": "2023-02-27T08:08:41.870Z"
   },
   {
    "duration": 201,
    "start_time": "2023-02-27T08:08:42.271Z"
   },
   {
    "duration": 9,
    "start_time": "2023-02-27T08:08:42.474Z"
   },
   {
    "duration": 36,
    "start_time": "2023-02-27T08:08:42.485Z"
   },
   {
    "duration": 41,
    "start_time": "2023-02-27T08:08:42.523Z"
   },
   {
    "duration": 14,
    "start_time": "2023-02-27T08:08:42.567Z"
   },
   {
    "duration": 18,
    "start_time": "2023-02-27T08:08:42.584Z"
   },
   {
    "duration": 15,
    "start_time": "2023-02-27T08:08:42.604Z"
   },
   {
    "duration": 47,
    "start_time": "2023-02-27T08:08:42.622Z"
   },
   {
    "duration": 9,
    "start_time": "2023-02-27T08:08:42.672Z"
   },
   {
    "duration": 20,
    "start_time": "2023-02-27T08:08:42.683Z"
   },
   {
    "duration": 17,
    "start_time": "2023-02-27T08:08:42.705Z"
   },
   {
    "duration": 20,
    "start_time": "2023-02-27T08:08:42.724Z"
   },
   {
    "duration": 28,
    "start_time": "2023-02-27T08:08:42.746Z"
   },
   {
    "duration": 23,
    "start_time": "2023-02-27T08:08:42.776Z"
   },
   {
    "duration": 38,
    "start_time": "2023-02-27T08:08:42.801Z"
   },
   {
    "duration": 8,
    "start_time": "2023-02-27T08:08:42.841Z"
   },
   {
    "duration": 25,
    "start_time": "2023-02-27T08:08:42.851Z"
   },
   {
    "duration": 36,
    "start_time": "2023-02-27T08:08:42.878Z"
   },
   {
    "duration": 17,
    "start_time": "2023-02-27T08:08:42.916Z"
   },
   {
    "duration": 188,
    "start_time": "2023-02-27T08:08:42.935Z"
   },
   {
    "duration": 134,
    "start_time": "2023-02-27T08:08:43.125Z"
   },
   {
    "duration": 6,
    "start_time": "2023-02-27T08:08:43.261Z"
   },
   {
    "duration": 20,
    "start_time": "2023-02-27T08:08:43.269Z"
   },
   {
    "duration": 14,
    "start_time": "2023-02-27T08:08:43.291Z"
   },
   {
    "duration": 231,
    "start_time": "2023-02-27T08:08:43.307Z"
   },
   {
    "duration": 328,
    "start_time": "2023-02-27T08:08:43.540Z"
   },
   {
    "duration": 272,
    "start_time": "2023-02-27T08:08:43.870Z"
   },
   {
    "duration": 359,
    "start_time": "2023-02-27T08:08:44.145Z"
   },
   {
    "duration": 1442,
    "start_time": "2023-02-27T15:59:55.031Z"
   },
   {
    "duration": 5,
    "start_time": "2023-02-27T15:59:56.475Z"
   },
   {
    "duration": 127,
    "start_time": "2023-02-27T15:59:56.482Z"
   },
   {
    "duration": 12,
    "start_time": "2023-02-27T15:59:56.611Z"
   },
   {
    "duration": 68,
    "start_time": "2023-02-27T15:59:56.626Z"
   },
   {
    "duration": 36,
    "start_time": "2023-02-27T15:59:56.696Z"
   },
   {
    "duration": 205,
    "start_time": "2023-02-27T15:59:56.734Z"
   },
   {
    "duration": 16,
    "start_time": "2023-02-27T15:59:56.940Z"
   },
   {
    "duration": 55,
    "start_time": "2023-02-27T15:59:56.958Z"
   },
   {
    "duration": 25,
    "start_time": "2023-02-27T15:59:57.016Z"
   },
   {
    "duration": 59,
    "start_time": "2023-02-27T15:59:57.043Z"
   },
   {
    "duration": 38,
    "start_time": "2023-02-27T15:59:57.104Z"
   },
   {
    "duration": 47,
    "start_time": "2023-02-27T15:59:57.144Z"
   },
   {
    "duration": 34,
    "start_time": "2023-02-27T15:59:57.195Z"
   },
   {
    "duration": 20,
    "start_time": "2023-02-27T15:59:57.231Z"
   },
   {
    "duration": 57,
    "start_time": "2023-02-27T15:59:57.253Z"
   },
   {
    "duration": 27,
    "start_time": "2023-02-27T15:59:57.311Z"
   },
   {
    "duration": 42,
    "start_time": "2023-02-27T15:59:57.340Z"
   },
   {
    "duration": 33,
    "start_time": "2023-02-27T15:59:57.386Z"
   },
   {
    "duration": 21,
    "start_time": "2023-02-27T15:59:57.422Z"
   },
   {
    "duration": 60,
    "start_time": "2023-02-27T15:59:57.445Z"
   },
   {
    "duration": 33,
    "start_time": "2023-02-27T15:59:57.507Z"
   },
   {
    "duration": 40,
    "start_time": "2023-02-27T15:59:57.542Z"
   },
   {
    "duration": 17,
    "start_time": "2023-02-27T15:59:57.584Z"
   },
   {
    "duration": 23,
    "start_time": "2023-02-27T15:59:57.603Z"
   },
   {
    "duration": 206,
    "start_time": "2023-02-27T15:59:57.628Z"
   },
   {
    "duration": 9,
    "start_time": "2023-02-27T15:59:57.835Z"
   },
   {
    "duration": 157,
    "start_time": "2023-02-27T15:59:57.846Z"
   },
   {
    "duration": 8,
    "start_time": "2023-02-27T15:59:58.005Z"
   },
   {
    "duration": 12,
    "start_time": "2023-02-27T15:59:58.014Z"
   },
   {
    "duration": 16,
    "start_time": "2023-02-27T15:59:58.027Z"
   },
   {
    "duration": 44,
    "start_time": "2023-02-27T15:59:58.045Z"
   },
   {
    "duration": 24,
    "start_time": "2023-02-27T15:59:58.091Z"
   },
   {
    "duration": 27,
    "start_time": "2023-02-27T15:59:58.117Z"
   },
   {
    "duration": 441,
    "start_time": "2023-02-27T15:59:58.147Z"
   },
   {
    "duration": 234,
    "start_time": "2023-02-27T15:59:58.590Z"
   },
   {
    "duration": 355,
    "start_time": "2023-02-27T15:59:58.826Z"
   },
   {
    "duration": 289,
    "start_time": "2023-02-27T15:59:59.183Z"
   },
   {
    "duration": 353,
    "start_time": "2023-02-27T15:59:59.473Z"
   },
   {
    "duration": 173,
    "start_time": "2023-02-27T15:59:59.828Z"
   },
   {
    "duration": 180,
    "start_time": "2023-02-27T16:00:00.005Z"
   },
   {
    "duration": 8,
    "start_time": "2023-02-27T16:00:00.187Z"
   },
   {
    "duration": 403,
    "start_time": "2023-02-27T16:00:00.197Z"
   },
   {
    "duration": 198,
    "start_time": "2023-02-27T16:00:00.602Z"
   },
   {
    "duration": 5,
    "start_time": "2023-02-27T16:00:00.802Z"
   },
   {
    "duration": 37,
    "start_time": "2023-02-27T16:00:00.809Z"
   },
   {
    "duration": 26,
    "start_time": "2023-02-27T16:00:00.848Z"
   },
   {
    "duration": 24,
    "start_time": "2023-02-27T16:00:00.876Z"
   },
   {
    "duration": 21,
    "start_time": "2023-02-27T16:00:00.902Z"
   },
   {
    "duration": 23,
    "start_time": "2023-02-27T16:00:00.924Z"
   },
   {
    "duration": 72,
    "start_time": "2023-02-27T16:00:00.949Z"
   },
   {
    "duration": 23,
    "start_time": "2023-02-27T16:00:01.022Z"
   },
   {
    "duration": 54,
    "start_time": "2023-02-27T16:00:01.046Z"
   },
   {
    "duration": 27,
    "start_time": "2023-02-27T16:00:01.101Z"
   },
   {
    "duration": 58,
    "start_time": "2023-02-27T16:00:01.130Z"
   },
   {
    "duration": 32,
    "start_time": "2023-02-27T16:00:01.190Z"
   },
   {
    "duration": 44,
    "start_time": "2023-02-27T16:00:01.224Z"
   },
   {
    "duration": 59,
    "start_time": "2023-02-27T16:00:01.270Z"
   },
   {
    "duration": 48,
    "start_time": "2023-02-27T16:00:01.331Z"
   },
   {
    "duration": 74,
    "start_time": "2023-02-27T16:00:01.381Z"
   },
   {
    "duration": 69,
    "start_time": "2023-02-27T16:00:01.457Z"
   },
   {
    "duration": 19,
    "start_time": "2023-02-27T16:00:01.529Z"
   },
   {
    "duration": 223,
    "start_time": "2023-02-27T16:00:01.552Z"
   },
   {
    "duration": 127,
    "start_time": "2023-02-27T16:00:01.776Z"
   },
   {
    "duration": 7,
    "start_time": "2023-02-27T16:00:01.905Z"
   },
   {
    "duration": 41,
    "start_time": "2023-02-27T16:00:01.914Z"
   },
   {
    "duration": 41,
    "start_time": "2023-02-27T16:00:01.957Z"
   },
   {
    "duration": 322,
    "start_time": "2023-02-27T16:00:02.000Z"
   },
   {
    "duration": 367,
    "start_time": "2023-02-27T16:00:02.324Z"
   },
   {
    "duration": 245,
    "start_time": "2023-02-27T16:00:02.693Z"
   },
   {
    "duration": 358,
    "start_time": "2023-02-27T16:00:02.940Z"
   },
   {
    "duration": 1224,
    "start_time": "2023-02-27T16:30:29.768Z"
   },
   {
    "duration": 3,
    "start_time": "2023-02-27T16:30:30.994Z"
   },
   {
    "duration": 119,
    "start_time": "2023-02-27T16:30:30.999Z"
   },
   {
    "duration": 12,
    "start_time": "2023-02-27T16:30:31.120Z"
   },
   {
    "duration": 54,
    "start_time": "2023-02-27T16:30:31.135Z"
   },
   {
    "duration": 27,
    "start_time": "2023-02-27T16:30:31.190Z"
   },
   {
    "duration": 152,
    "start_time": "2023-02-27T16:30:31.218Z"
   },
   {
    "duration": 11,
    "start_time": "2023-02-27T16:30:31.372Z"
   },
   {
    "duration": 30,
    "start_time": "2023-02-27T16:30:31.384Z"
   },
   {
    "duration": 34,
    "start_time": "2023-02-27T16:30:31.415Z"
   },
   {
    "duration": 21,
    "start_time": "2023-02-27T16:30:31.450Z"
   },
   {
    "duration": 26,
    "start_time": "2023-02-27T16:30:31.472Z"
   },
   {
    "duration": 38,
    "start_time": "2023-02-27T16:30:31.500Z"
   },
   {
    "duration": 23,
    "start_time": "2023-02-27T16:30:31.541Z"
   },
   {
    "duration": 31,
    "start_time": "2023-02-27T16:30:31.565Z"
   },
   {
    "duration": 41,
    "start_time": "2023-02-27T16:30:31.597Z"
   },
   {
    "duration": 28,
    "start_time": "2023-02-27T16:30:31.639Z"
   },
   {
    "duration": 25,
    "start_time": "2023-02-27T16:30:31.668Z"
   },
   {
    "duration": 30,
    "start_time": "2023-02-27T16:30:31.695Z"
   },
   {
    "duration": 35,
    "start_time": "2023-02-27T16:30:31.726Z"
   },
   {
    "duration": 46,
    "start_time": "2023-02-27T16:30:31.763Z"
   },
   {
    "duration": 44,
    "start_time": "2023-02-27T16:30:31.811Z"
   },
   {
    "duration": 27,
    "start_time": "2023-02-27T16:30:31.857Z"
   },
   {
    "duration": 17,
    "start_time": "2023-02-27T16:30:31.886Z"
   },
   {
    "duration": 14,
    "start_time": "2023-02-27T16:30:31.905Z"
   },
   {
    "duration": 195,
    "start_time": "2023-02-27T16:30:31.921Z"
   },
   {
    "duration": 9,
    "start_time": "2023-02-27T16:30:32.118Z"
   },
   {
    "duration": 134,
    "start_time": "2023-02-27T16:30:32.129Z"
   },
   {
    "duration": 7,
    "start_time": "2023-02-27T16:30:32.265Z"
   },
   {
    "duration": 14,
    "start_time": "2023-02-27T16:30:32.274Z"
   },
   {
    "duration": 15,
    "start_time": "2023-02-27T16:30:32.289Z"
   },
   {
    "duration": 8,
    "start_time": "2023-02-27T16:30:32.306Z"
   },
   {
    "duration": 20,
    "start_time": "2023-02-27T16:30:32.315Z"
   },
   {
    "duration": 25,
    "start_time": "2023-02-27T16:30:32.337Z"
   },
   {
    "duration": 315,
    "start_time": "2023-02-27T16:30:32.364Z"
   },
   {
    "duration": 205,
    "start_time": "2023-02-27T16:30:32.680Z"
   },
   {
    "duration": 291,
    "start_time": "2023-02-27T16:30:32.887Z"
   },
   {
    "duration": 237,
    "start_time": "2023-02-27T16:30:33.180Z"
   },
   {
    "duration": 372,
    "start_time": "2023-02-27T16:30:33.419Z"
   },
   {
    "duration": 165,
    "start_time": "2023-02-27T16:30:33.793Z"
   },
   {
    "duration": 148,
    "start_time": "2023-02-27T16:30:33.962Z"
   },
   {
    "duration": 4,
    "start_time": "2023-02-27T16:30:34.112Z"
   },
   {
    "duration": 365,
    "start_time": "2023-02-27T16:30:34.117Z"
   },
   {
    "duration": 161,
    "start_time": "2023-02-27T16:30:34.484Z"
   },
   {
    "duration": 4,
    "start_time": "2023-02-27T16:30:34.648Z"
   },
   {
    "duration": 13,
    "start_time": "2023-02-27T16:30:34.654Z"
   },
   {
    "duration": 9,
    "start_time": "2023-02-27T16:30:34.668Z"
   },
   {
    "duration": 7,
    "start_time": "2023-02-27T16:30:34.679Z"
   },
   {
    "duration": 10,
    "start_time": "2023-02-27T16:30:34.688Z"
   },
   {
    "duration": 8,
    "start_time": "2023-02-27T16:30:34.700Z"
   },
   {
    "duration": 49,
    "start_time": "2023-02-27T16:30:34.710Z"
   },
   {
    "duration": 6,
    "start_time": "2023-02-27T16:30:34.760Z"
   },
   {
    "duration": 23,
    "start_time": "2023-02-27T16:30:34.768Z"
   },
   {
    "duration": 13,
    "start_time": "2023-02-27T16:30:34.792Z"
   },
   {
    "duration": 16,
    "start_time": "2023-02-27T16:30:34.807Z"
   },
   {
    "duration": 11,
    "start_time": "2023-02-27T16:30:34.825Z"
   },
   {
    "duration": 12,
    "start_time": "2023-02-27T16:30:34.838Z"
   },
   {
    "duration": 25,
    "start_time": "2023-02-27T16:30:34.852Z"
   },
   {
    "duration": 6,
    "start_time": "2023-02-27T16:30:34.878Z"
   },
   {
    "duration": 9,
    "start_time": "2023-02-27T16:30:34.885Z"
   },
   {
    "duration": 7,
    "start_time": "2023-02-27T16:30:34.895Z"
   },
   {
    "duration": 15,
    "start_time": "2023-02-27T16:30:34.903Z"
   },
   {
    "duration": 197,
    "start_time": "2023-02-27T16:30:34.920Z"
   },
   {
    "duration": 117,
    "start_time": "2023-02-27T16:30:35.119Z"
   },
   {
    "duration": 14,
    "start_time": "2023-02-27T16:30:35.238Z"
   },
   {
    "duration": 18,
    "start_time": "2023-02-27T16:30:35.254Z"
   },
   {
    "duration": 10,
    "start_time": "2023-02-27T16:30:35.274Z"
   },
   {
    "duration": 199,
    "start_time": "2023-02-27T16:30:35.286Z"
   },
   {
    "duration": 286,
    "start_time": "2023-02-27T16:30:35.487Z"
   },
   {
    "duration": 237,
    "start_time": "2023-02-27T16:30:35.774Z"
   },
   {
    "duration": 358,
    "start_time": "2023-02-27T16:30:36.012Z"
   },
   {
    "duration": 51,
    "start_time": "2023-02-27T20:47:13.961Z"
   },
   {
    "duration": 1480,
    "start_time": "2023-02-27T20:47:23.089Z"
   },
   {
    "duration": 3,
    "start_time": "2023-02-27T20:47:24.571Z"
   },
   {
    "duration": 130,
    "start_time": "2023-02-27T20:47:24.576Z"
   },
   {
    "duration": 12,
    "start_time": "2023-02-27T20:47:24.708Z"
   },
   {
    "duration": 18,
    "start_time": "2023-02-27T20:47:24.722Z"
   },
   {
    "duration": 17,
    "start_time": "2023-02-27T20:47:24.741Z"
   },
   {
    "duration": 249,
    "start_time": "2023-02-27T20:47:24.761Z"
   },
   {
    "duration": 12,
    "start_time": "2023-02-27T20:47:25.012Z"
   },
   {
    "duration": 11,
    "start_time": "2023-02-27T20:47:25.026Z"
   },
   {
    "duration": 8,
    "start_time": "2023-02-27T20:47:25.040Z"
   },
   {
    "duration": 26,
    "start_time": "2023-02-27T20:47:25.050Z"
   },
   {
    "duration": 11,
    "start_time": "2023-02-27T20:47:25.078Z"
   },
   {
    "duration": 12,
    "start_time": "2023-02-27T20:47:25.091Z"
   },
   {
    "duration": 17,
    "start_time": "2023-02-27T20:47:25.105Z"
   },
   {
    "duration": 6,
    "start_time": "2023-02-27T20:47:25.124Z"
   },
   {
    "duration": 17,
    "start_time": "2023-02-27T20:47:25.131Z"
   },
   {
    "duration": 24,
    "start_time": "2023-02-27T20:47:25.150Z"
   },
   {
    "duration": 15,
    "start_time": "2023-02-27T20:47:25.176Z"
   },
   {
    "duration": 13,
    "start_time": "2023-02-27T20:47:25.193Z"
   },
   {
    "duration": 13,
    "start_time": "2023-02-27T20:47:25.208Z"
   },
   {
    "duration": 24,
    "start_time": "2023-02-27T20:47:25.223Z"
   },
   {
    "duration": 46,
    "start_time": "2023-02-27T20:47:25.249Z"
   },
   {
    "duration": 9,
    "start_time": "2023-02-27T20:47:25.297Z"
   },
   {
    "duration": 11,
    "start_time": "2023-02-27T20:47:25.308Z"
   },
   {
    "duration": 10,
    "start_time": "2023-02-27T20:47:25.321Z"
   },
   {
    "duration": 208,
    "start_time": "2023-02-27T20:47:25.333Z"
   },
   {
    "duration": 13,
    "start_time": "2023-02-27T20:47:25.544Z"
   },
   {
    "duration": 153,
    "start_time": "2023-02-27T20:47:25.566Z"
   },
   {
    "duration": 8,
    "start_time": "2023-02-27T20:47:25.721Z"
   },
   {
    "duration": 37,
    "start_time": "2023-02-27T20:47:25.731Z"
   },
   {
    "duration": 13,
    "start_time": "2023-02-27T20:47:25.769Z"
   },
   {
    "duration": 4,
    "start_time": "2023-02-27T20:47:25.784Z"
   },
   {
    "duration": 12,
    "start_time": "2023-02-27T20:47:25.790Z"
   },
   {
    "duration": 29,
    "start_time": "2023-02-27T20:47:25.803Z"
   },
   {
    "duration": 347,
    "start_time": "2023-02-27T20:47:25.834Z"
   },
   {
    "duration": 240,
    "start_time": "2023-02-27T20:47:26.183Z"
   },
   {
    "duration": 390,
    "start_time": "2023-02-27T20:47:26.424Z"
   },
   {
    "duration": 255,
    "start_time": "2023-02-27T20:47:26.816Z"
   },
   {
    "duration": 340,
    "start_time": "2023-02-27T20:47:27.073Z"
   },
   {
    "duration": 180,
    "start_time": "2023-02-27T20:47:27.415Z"
   },
   {
    "duration": 162,
    "start_time": "2023-02-27T20:47:27.597Z"
   },
   {
    "duration": 6,
    "start_time": "2023-02-27T20:47:27.761Z"
   },
   {
    "duration": 409,
    "start_time": "2023-02-27T20:47:27.768Z"
   },
   {
    "duration": 191,
    "start_time": "2023-02-27T20:47:28.179Z"
   },
   {
    "duration": 4,
    "start_time": "2023-02-27T20:47:28.372Z"
   },
   {
    "duration": 52,
    "start_time": "2023-02-27T20:47:28.379Z"
   },
   {
    "duration": 15,
    "start_time": "2023-02-27T20:47:28.433Z"
   },
   {
    "duration": 18,
    "start_time": "2023-02-27T20:47:28.451Z"
   },
   {
    "duration": 12,
    "start_time": "2023-02-27T20:47:28.471Z"
   },
   {
    "duration": 5,
    "start_time": "2023-02-27T20:47:28.485Z"
   },
   {
    "duration": 25,
    "start_time": "2023-02-27T20:47:28.492Z"
   },
   {
    "duration": 7,
    "start_time": "2023-02-27T20:47:28.519Z"
   },
   {
    "duration": 28,
    "start_time": "2023-02-27T20:47:28.528Z"
   },
   {
    "duration": 19,
    "start_time": "2023-02-27T20:47:28.559Z"
   },
   {
    "duration": 5,
    "start_time": "2023-02-27T20:47:28.580Z"
   },
   {
    "duration": 13,
    "start_time": "2023-02-27T20:47:28.587Z"
   },
   {
    "duration": 11,
    "start_time": "2023-02-27T20:47:28.602Z"
   },
   {
    "duration": 58,
    "start_time": "2023-02-27T20:47:28.615Z"
   },
   {
    "duration": 6,
    "start_time": "2023-02-27T20:47:28.676Z"
   },
   {
    "duration": 7,
    "start_time": "2023-02-27T20:47:28.684Z"
   },
   {
    "duration": 12,
    "start_time": "2023-02-27T20:47:28.693Z"
   },
   {
    "duration": 8,
    "start_time": "2023-02-27T20:47:28.707Z"
   },
   {
    "duration": 224,
    "start_time": "2023-02-27T20:47:28.717Z"
   },
   {
    "duration": 128,
    "start_time": "2023-02-27T20:47:28.943Z"
   },
   {
    "duration": 6,
    "start_time": "2023-02-27T20:47:29.073Z"
   },
   {
    "duration": 8,
    "start_time": "2023-02-27T20:47:29.080Z"
   },
   {
    "duration": 16,
    "start_time": "2023-02-27T20:47:29.089Z"
   },
   {
    "duration": 230,
    "start_time": "2023-02-27T20:47:29.106Z"
   },
   {
    "duration": 337,
    "start_time": "2023-02-27T20:47:29.338Z"
   },
   {
    "duration": 255,
    "start_time": "2023-02-27T20:47:29.676Z"
   },
   {
    "duration": 368,
    "start_time": "2023-02-27T20:47:29.932Z"
   },
   {
    "duration": 211,
    "start_time": "2023-02-27T20:48:12.387Z"
   },
   {
    "duration": 209,
    "start_time": "2023-02-27T20:48:26.783Z"
   },
   {
    "duration": 212,
    "start_time": "2023-02-27T20:48:40.913Z"
   },
   {
    "duration": 212,
    "start_time": "2023-02-27T20:48:49.161Z"
   },
   {
    "duration": 223,
    "start_time": "2023-02-27T20:49:07.944Z"
   },
   {
    "duration": 313,
    "start_time": "2023-02-27T20:49:21.689Z"
   },
   {
    "duration": 191,
    "start_time": "2023-02-27T20:49:55.588Z"
   },
   {
    "duration": 295,
    "start_time": "2023-02-27T20:50:08.752Z"
   },
   {
    "duration": 227,
    "start_time": "2023-02-27T20:50:56.171Z"
   },
   {
    "duration": 317,
    "start_time": "2023-02-27T20:51:05.369Z"
   },
   {
    "duration": 198,
    "start_time": "2023-02-27T20:51:56.181Z"
   },
   {
    "duration": 283,
    "start_time": "2023-02-27T20:52:12.275Z"
   },
   {
    "duration": 289,
    "start_time": "2023-02-27T20:52:18.967Z"
   },
   {
    "duration": 206,
    "start_time": "2023-02-27T20:52:28.273Z"
   },
   {
    "duration": 1221,
    "start_time": "2023-02-27T20:52:40.191Z"
   },
   {
    "duration": 2,
    "start_time": "2023-02-27T20:52:41.415Z"
   },
   {
    "duration": 71,
    "start_time": "2023-02-27T20:52:41.419Z"
   },
   {
    "duration": 12,
    "start_time": "2023-02-27T20:52:41.492Z"
   },
   {
    "duration": 14,
    "start_time": "2023-02-27T20:52:41.505Z"
   },
   {
    "duration": 12,
    "start_time": "2023-02-27T20:52:41.521Z"
   },
   {
    "duration": 134,
    "start_time": "2023-02-27T20:52:41.535Z"
   },
   {
    "duration": 12,
    "start_time": "2023-02-27T20:52:41.671Z"
   },
   {
    "duration": 12,
    "start_time": "2023-02-27T20:52:41.685Z"
   },
   {
    "duration": 11,
    "start_time": "2023-02-27T20:52:41.700Z"
   },
   {
    "duration": 16,
    "start_time": "2023-02-27T20:52:41.712Z"
   },
   {
    "duration": 11,
    "start_time": "2023-02-27T20:52:41.729Z"
   },
   {
    "duration": 17,
    "start_time": "2023-02-27T20:52:41.742Z"
   },
   {
    "duration": 9,
    "start_time": "2023-02-27T20:52:41.761Z"
   },
   {
    "duration": 11,
    "start_time": "2023-02-27T20:52:41.772Z"
   },
   {
    "duration": 16,
    "start_time": "2023-02-27T20:52:41.785Z"
   },
   {
    "duration": 30,
    "start_time": "2023-02-27T20:52:41.803Z"
   },
   {
    "duration": 23,
    "start_time": "2023-02-27T20:52:41.834Z"
   },
   {
    "duration": 12,
    "start_time": "2023-02-27T20:52:41.858Z"
   },
   {
    "duration": 11,
    "start_time": "2023-02-27T20:52:41.872Z"
   },
   {
    "duration": 7,
    "start_time": "2023-02-27T20:52:41.885Z"
   },
   {
    "duration": 28,
    "start_time": "2023-02-27T20:52:41.893Z"
   },
   {
    "duration": 10,
    "start_time": "2023-02-27T20:52:41.922Z"
   },
   {
    "duration": 15,
    "start_time": "2023-02-27T20:52:41.934Z"
   },
   {
    "duration": 11,
    "start_time": "2023-02-27T20:52:41.950Z"
   },
   {
    "duration": 173,
    "start_time": "2023-02-27T20:52:41.962Z"
   },
   {
    "duration": 13,
    "start_time": "2023-02-27T20:52:42.137Z"
   },
   {
    "duration": 123,
    "start_time": "2023-02-27T20:52:42.154Z"
   },
   {
    "duration": 7,
    "start_time": "2023-02-27T20:52:42.279Z"
   },
   {
    "duration": 9,
    "start_time": "2023-02-27T20:52:42.287Z"
   },
   {
    "duration": 13,
    "start_time": "2023-02-27T20:52:42.297Z"
   },
   {
    "duration": 4,
    "start_time": "2023-02-27T20:52:42.312Z"
   },
   {
    "duration": 32,
    "start_time": "2023-02-27T20:52:42.318Z"
   },
   {
    "duration": 19,
    "start_time": "2023-02-27T20:52:42.353Z"
   },
   {
    "duration": 317,
    "start_time": "2023-02-27T20:52:42.374Z"
   },
   {
    "duration": 232,
    "start_time": "2023-02-27T20:52:42.693Z"
   },
   {
    "duration": 353,
    "start_time": "2023-02-27T20:52:42.927Z"
   },
   {
    "duration": 247,
    "start_time": "2023-02-27T20:52:43.281Z"
   },
   {
    "duration": 351,
    "start_time": "2023-02-27T20:52:43.530Z"
   },
   {
    "duration": 162,
    "start_time": "2023-02-27T20:52:43.882Z"
   },
   {
    "duration": 146,
    "start_time": "2023-02-27T20:52:44.046Z"
   },
   {
    "duration": 4,
    "start_time": "2023-02-27T20:52:44.194Z"
   },
   {
    "duration": 372,
    "start_time": "2023-02-27T20:52:44.199Z"
   },
   {
    "duration": 171,
    "start_time": "2023-02-27T20:52:44.573Z"
   },
   {
    "duration": 4,
    "start_time": "2023-02-27T20:52:44.746Z"
   },
   {
    "duration": 13,
    "start_time": "2023-02-27T20:52:44.751Z"
   },
   {
    "duration": 10,
    "start_time": "2023-02-27T20:52:44.765Z"
   },
   {
    "duration": 6,
    "start_time": "2023-02-27T20:52:44.776Z"
   },
   {
    "duration": 8,
    "start_time": "2023-02-27T20:52:44.783Z"
   },
   {
    "duration": 5,
    "start_time": "2023-02-27T20:52:44.793Z"
   },
   {
    "duration": 64,
    "start_time": "2023-02-27T20:52:44.800Z"
   },
   {
    "duration": 6,
    "start_time": "2023-02-27T20:52:44.866Z"
   },
   {
    "duration": 9,
    "start_time": "2023-02-27T20:52:44.874Z"
   },
   {
    "duration": 7,
    "start_time": "2023-02-27T20:52:44.885Z"
   },
   {
    "duration": 8,
    "start_time": "2023-02-27T20:52:44.894Z"
   },
   {
    "duration": 43,
    "start_time": "2023-02-27T20:52:44.904Z"
   },
   {
    "duration": 3,
    "start_time": "2023-02-27T20:52:44.949Z"
   },
   {
    "duration": 24,
    "start_time": "2023-02-27T20:52:44.954Z"
   },
   {
    "duration": 6,
    "start_time": "2023-02-27T20:52:44.980Z"
   },
   {
    "duration": 8,
    "start_time": "2023-02-27T20:52:44.987Z"
   },
   {
    "duration": 4,
    "start_time": "2023-02-27T20:52:44.997Z"
   },
   {
    "duration": 28,
    "start_time": "2023-02-27T20:52:45.002Z"
   },
   {
    "duration": 180,
    "start_time": "2023-02-27T20:52:45.032Z"
   },
   {
    "duration": 120,
    "start_time": "2023-02-27T20:52:45.214Z"
   },
   {
    "duration": 15,
    "start_time": "2023-02-27T20:52:45.335Z"
   },
   {
    "duration": 9,
    "start_time": "2023-02-27T20:52:45.351Z"
   },
   {
    "duration": 13,
    "start_time": "2023-02-27T20:52:45.361Z"
   },
   {
    "duration": 233,
    "start_time": "2023-02-27T20:52:45.375Z"
   },
   {
    "duration": 349,
    "start_time": "2023-02-27T20:52:45.609Z"
   },
   {
    "duration": 254,
    "start_time": "2023-02-27T20:52:45.960Z"
   },
   {
    "duration": 349,
    "start_time": "2023-02-27T20:52:46.216Z"
   },
   {
    "duration": 65,
    "start_time": "2023-02-28T07:04:02.493Z"
   },
   {
    "duration": 8,
    "start_time": "2023-02-28T07:04:43.429Z"
   },
   {
    "duration": 1562,
    "start_time": "2023-02-28T07:04:56.759Z"
   },
   {
    "duration": 4,
    "start_time": "2023-02-28T07:04:58.323Z"
   },
   {
    "duration": 151,
    "start_time": "2023-02-28T07:04:58.328Z"
   },
   {
    "duration": 16,
    "start_time": "2023-02-28T07:04:58.482Z"
   },
   {
    "duration": 18,
    "start_time": "2023-02-28T07:04:58.500Z"
   },
   {
    "duration": 16,
    "start_time": "2023-02-28T07:04:58.520Z"
   },
   {
    "duration": 278,
    "start_time": "2023-02-28T07:04:58.537Z"
   },
   {
    "duration": 19,
    "start_time": "2023-02-28T07:04:58.818Z"
   },
   {
    "duration": 43,
    "start_time": "2023-02-28T07:04:58.848Z"
   },
   {
    "duration": 12,
    "start_time": "2023-02-28T07:04:58.895Z"
   },
   {
    "duration": 20,
    "start_time": "2023-02-28T07:04:58.910Z"
   },
   {
    "duration": 23,
    "start_time": "2023-02-28T07:04:58.932Z"
   },
   {
    "duration": 51,
    "start_time": "2023-02-28T07:04:58.957Z"
   },
   {
    "duration": 35,
    "start_time": "2023-02-28T07:04:59.011Z"
   },
   {
    "duration": 36,
    "start_time": "2023-02-28T07:04:59.050Z"
   },
   {
    "duration": 22,
    "start_time": "2023-02-28T07:04:59.088Z"
   },
   {
    "duration": 62,
    "start_time": "2023-02-28T07:04:59.112Z"
   },
   {
    "duration": 9,
    "start_time": "2023-02-28T07:04:59.177Z"
   },
   {
    "duration": 21,
    "start_time": "2023-02-28T07:04:59.188Z"
   },
   {
    "duration": 65,
    "start_time": "2023-02-28T07:04:59.211Z"
   },
   {
    "duration": 10,
    "start_time": "2023-02-28T07:04:59.278Z"
   },
   {
    "duration": 15,
    "start_time": "2023-02-28T07:04:59.291Z"
   },
   {
    "duration": 23,
    "start_time": "2023-02-28T07:04:59.307Z"
   },
   {
    "duration": 24,
    "start_time": "2023-02-28T07:04:59.332Z"
   },
   {
    "duration": 35,
    "start_time": "2023-02-28T07:04:59.358Z"
   },
   {
    "duration": 209,
    "start_time": "2023-02-28T07:04:59.395Z"
   },
   {
    "duration": 12,
    "start_time": "2023-02-28T07:04:59.607Z"
   },
   {
    "duration": 130,
    "start_time": "2023-02-28T07:04:59.641Z"
   },
   {
    "duration": 9,
    "start_time": "2023-02-28T07:04:59.773Z"
   },
   {
    "duration": 23,
    "start_time": "2023-02-28T07:04:59.784Z"
   },
   {
    "duration": 19,
    "start_time": "2023-02-28T07:04:59.809Z"
   },
   {
    "duration": 10,
    "start_time": "2023-02-28T07:04:59.830Z"
   },
   {
    "duration": 34,
    "start_time": "2023-02-28T07:04:59.847Z"
   },
   {
    "duration": 29,
    "start_time": "2023-02-28T07:04:59.883Z"
   },
   {
    "duration": 375,
    "start_time": "2023-02-28T07:04:59.915Z"
   },
   {
    "duration": 235,
    "start_time": "2023-02-28T07:05:00.292Z"
   },
   {
    "duration": 367,
    "start_time": "2023-02-28T07:05:00.529Z"
   },
   {
    "duration": 278,
    "start_time": "2023-02-28T07:05:00.898Z"
   },
   {
    "duration": 341,
    "start_time": "2023-02-28T07:05:01.178Z"
   },
   {
    "duration": 193,
    "start_time": "2023-02-28T07:05:01.521Z"
   },
   {
    "duration": 178,
    "start_time": "2023-02-28T07:05:01.716Z"
   },
   {
    "duration": 13,
    "start_time": "2023-02-28T07:05:01.897Z"
   },
   {
    "duration": 538,
    "start_time": "2023-02-28T07:05:01.912Z"
   },
   {
    "duration": 183,
    "start_time": "2023-02-28T07:05:02.453Z"
   },
   {
    "duration": 11,
    "start_time": "2023-02-28T07:05:02.646Z"
   },
   {
    "duration": 48,
    "start_time": "2023-02-28T07:05:02.659Z"
   },
   {
    "duration": 57,
    "start_time": "2023-02-28T07:05:02.709Z"
   },
   {
    "duration": 20,
    "start_time": "2023-02-28T07:05:02.768Z"
   },
   {
    "duration": 23,
    "start_time": "2023-02-28T07:05:02.790Z"
   },
   {
    "duration": 49,
    "start_time": "2023-02-28T07:05:02.815Z"
   },
   {
    "duration": 39,
    "start_time": "2023-02-28T07:05:02.866Z"
   },
   {
    "duration": 9,
    "start_time": "2023-02-28T07:05:02.907Z"
   },
   {
    "duration": 47,
    "start_time": "2023-02-28T07:05:02.917Z"
   },
   {
    "duration": 32,
    "start_time": "2023-02-28T07:05:02.965Z"
   },
   {
    "duration": 35,
    "start_time": "2023-02-28T07:05:03.000Z"
   },
   {
    "duration": 62,
    "start_time": "2023-02-28T07:05:03.037Z"
   },
   {
    "duration": 63,
    "start_time": "2023-02-28T07:05:03.100Z"
   },
   {
    "duration": 85,
    "start_time": "2023-02-28T07:05:03.165Z"
   },
   {
    "duration": 14,
    "start_time": "2023-02-28T07:05:03.256Z"
   },
   {
    "duration": 28,
    "start_time": "2023-02-28T07:05:03.271Z"
   },
   {
    "duration": 25,
    "start_time": "2023-02-28T07:05:03.302Z"
   },
   {
    "duration": 9,
    "start_time": "2023-02-28T07:05:03.329Z"
   },
   {
    "duration": 289,
    "start_time": "2023-02-28T07:05:03.340Z"
   },
   {
    "duration": 142,
    "start_time": "2023-02-28T07:05:03.631Z"
   },
   {
    "duration": 7,
    "start_time": "2023-02-28T07:05:03.775Z"
   },
   {
    "duration": 13,
    "start_time": "2023-02-28T07:05:03.784Z"
   },
   {
    "duration": 17,
    "start_time": "2023-02-28T07:05:03.799Z"
   },
   {
    "duration": 255,
    "start_time": "2023-02-28T07:05:03.819Z"
   },
   {
    "duration": 346,
    "start_time": "2023-02-28T07:05:04.076Z"
   },
   {
    "duration": 275,
    "start_time": "2023-02-28T07:05:04.424Z"
   },
   {
    "duration": 407,
    "start_time": "2023-02-28T07:05:04.701Z"
   },
   {
    "duration": 224,
    "start_time": "2023-02-28T07:07:29.456Z"
   },
   {
    "duration": 221,
    "start_time": "2023-02-28T07:07:38.171Z"
   },
   {
    "duration": 190,
    "start_time": "2023-02-28T07:07:56.379Z"
   },
   {
    "duration": 302,
    "start_time": "2023-02-28T07:08:01.959Z"
   },
   {
    "duration": 233,
    "start_time": "2023-02-28T07:08:16.538Z"
   },
   {
    "duration": 489,
    "start_time": "2023-02-28T07:09:07.885Z"
   },
   {
    "duration": 1374,
    "start_time": "2023-02-28T07:09:17.339Z"
   },
   {
    "duration": 4,
    "start_time": "2023-02-28T07:09:18.715Z"
   },
   {
    "duration": 105,
    "start_time": "2023-02-28T07:09:18.721Z"
   },
   {
    "duration": 20,
    "start_time": "2023-02-28T07:09:18.830Z"
   },
   {
    "duration": 31,
    "start_time": "2023-02-28T07:09:18.857Z"
   },
   {
    "duration": 23,
    "start_time": "2023-02-28T07:09:18.890Z"
   },
   {
    "duration": 214,
    "start_time": "2023-02-28T07:09:18.915Z"
   },
   {
    "duration": 17,
    "start_time": "2023-02-28T07:09:19.132Z"
   },
   {
    "duration": 49,
    "start_time": "2023-02-28T07:09:19.153Z"
   },
   {
    "duration": 18,
    "start_time": "2023-02-28T07:09:19.205Z"
   },
   {
    "duration": 32,
    "start_time": "2023-02-28T07:09:19.225Z"
   },
   {
    "duration": 28,
    "start_time": "2023-02-28T07:09:19.259Z"
   },
   {
    "duration": 14,
    "start_time": "2023-02-28T07:09:19.289Z"
   },
   {
    "duration": 12,
    "start_time": "2023-02-28T07:09:19.305Z"
   },
   {
    "duration": 27,
    "start_time": "2023-02-28T07:09:19.320Z"
   },
   {
    "duration": 16,
    "start_time": "2023-02-28T07:09:19.352Z"
   },
   {
    "duration": 9,
    "start_time": "2023-02-28T07:09:19.370Z"
   },
   {
    "duration": 13,
    "start_time": "2023-02-28T07:09:19.381Z"
   },
   {
    "duration": 12,
    "start_time": "2023-02-28T07:09:19.396Z"
   },
   {
    "duration": 45,
    "start_time": "2023-02-28T07:09:19.410Z"
   },
   {
    "duration": 14,
    "start_time": "2023-02-28T07:09:19.458Z"
   },
   {
    "duration": 19,
    "start_time": "2023-02-28T07:09:19.474Z"
   },
   {
    "duration": 9,
    "start_time": "2023-02-28T07:09:19.495Z"
   },
   {
    "duration": 24,
    "start_time": "2023-02-28T07:09:19.505Z"
   },
   {
    "duration": 24,
    "start_time": "2023-02-28T07:09:19.531Z"
   },
   {
    "duration": 197,
    "start_time": "2023-02-28T07:09:19.557Z"
   },
   {
    "duration": 9,
    "start_time": "2023-02-28T07:09:19.759Z"
   },
   {
    "duration": 168,
    "start_time": "2023-02-28T07:09:19.772Z"
   },
   {
    "duration": 18,
    "start_time": "2023-02-28T07:09:19.946Z"
   },
   {
    "duration": 20,
    "start_time": "2023-02-28T07:09:19.966Z"
   },
   {
    "duration": 13,
    "start_time": "2023-02-28T07:09:19.988Z"
   },
   {
    "duration": 18,
    "start_time": "2023-02-28T07:09:20.003Z"
   },
   {
    "duration": 12,
    "start_time": "2023-02-28T07:09:20.023Z"
   },
   {
    "duration": 30,
    "start_time": "2023-02-28T07:09:20.037Z"
   },
   {
    "duration": 351,
    "start_time": "2023-02-28T07:09:20.069Z"
   },
   {
    "duration": 244,
    "start_time": "2023-02-28T07:09:20.422Z"
   },
   {
    "duration": 335,
    "start_time": "2023-02-28T07:09:20.668Z"
   },
   {
    "duration": 286,
    "start_time": "2023-02-28T07:09:21.005Z"
   },
   {
    "duration": 354,
    "start_time": "2023-02-28T07:09:21.293Z"
   },
   {
    "duration": 219,
    "start_time": "2023-02-28T07:09:21.659Z"
   },
   {
    "duration": 191,
    "start_time": "2023-02-28T07:09:21.879Z"
   },
   {
    "duration": 5,
    "start_time": "2023-02-28T07:09:22.072Z"
   },
   {
    "duration": 405,
    "start_time": "2023-02-28T07:09:22.078Z"
   },
   {
    "duration": 194,
    "start_time": "2023-02-28T07:09:22.485Z"
   },
   {
    "duration": 5,
    "start_time": "2023-02-28T07:09:22.681Z"
   },
   {
    "duration": 25,
    "start_time": "2023-02-28T07:09:22.688Z"
   },
   {
    "duration": 30,
    "start_time": "2023-02-28T07:09:22.715Z"
   },
   {
    "duration": 17,
    "start_time": "2023-02-28T07:09:22.749Z"
   },
   {
    "duration": 40,
    "start_time": "2023-02-28T07:09:22.768Z"
   },
   {
    "duration": 7,
    "start_time": "2023-02-28T07:09:22.810Z"
   },
   {
    "duration": 50,
    "start_time": "2023-02-28T07:09:22.820Z"
   },
   {
    "duration": 8,
    "start_time": "2023-02-28T07:09:22.872Z"
   },
   {
    "duration": 13,
    "start_time": "2023-02-28T07:09:22.882Z"
   },
   {
    "duration": 10,
    "start_time": "2023-02-28T07:09:22.897Z"
   },
   {
    "duration": 14,
    "start_time": "2023-02-28T07:09:22.908Z"
   },
   {
    "duration": 29,
    "start_time": "2023-02-28T07:09:22.923Z"
   },
   {
    "duration": 15,
    "start_time": "2023-02-28T07:09:22.953Z"
   },
   {
    "duration": 27,
    "start_time": "2023-02-28T07:09:22.970Z"
   },
   {
    "duration": 12,
    "start_time": "2023-02-28T07:09:23.000Z"
   },
   {
    "duration": 8,
    "start_time": "2023-02-28T07:09:23.014Z"
   },
   {
    "duration": 23,
    "start_time": "2023-02-28T07:09:23.024Z"
   },
   {
    "duration": 19,
    "start_time": "2023-02-28T07:09:23.049Z"
   },
   {
    "duration": 190,
    "start_time": "2023-02-28T07:09:23.070Z"
   },
   {
    "duration": 146,
    "start_time": "2023-02-28T07:09:23.262Z"
   },
   {
    "duration": 7,
    "start_time": "2023-02-28T07:09:23.410Z"
   },
   {
    "duration": 7,
    "start_time": "2023-02-28T07:09:23.418Z"
   },
   {
    "duration": 24,
    "start_time": "2023-02-28T07:09:23.426Z"
   },
   {
    "duration": 235,
    "start_time": "2023-02-28T07:09:23.460Z"
   },
   {
    "duration": 372,
    "start_time": "2023-02-28T07:09:23.697Z"
   },
   {
    "duration": 276,
    "start_time": "2023-02-28T07:09:24.071Z"
   },
   {
    "duration": 363,
    "start_time": "2023-02-28T07:09:24.349Z"
   },
   {
    "duration": 308,
    "start_time": "2023-02-28T07:10:33.340Z"
   },
   {
    "duration": 269,
    "start_time": "2023-02-28T07:10:46.031Z"
   },
   {
    "duration": 252,
    "start_time": "2023-02-28T07:11:00.540Z"
   },
   {
    "duration": 217,
    "start_time": "2023-02-28T07:11:09.413Z"
   },
   {
    "duration": 174,
    "start_time": "2023-02-28T07:11:34.750Z"
   },
   {
    "duration": 259,
    "start_time": "2023-02-28T07:11:45.228Z"
   },
   {
    "duration": 190,
    "start_time": "2023-02-28T07:11:53.181Z"
   },
   {
    "duration": 232,
    "start_time": "2023-02-28T07:12:10.734Z"
   },
   {
    "duration": 181,
    "start_time": "2023-02-28T07:12:18.254Z"
   },
   {
    "duration": 218,
    "start_time": "2023-02-28T07:13:05.629Z"
   },
   {
    "duration": 8,
    "start_time": "2023-02-28T07:13:55.165Z"
   },
   {
    "duration": 1440,
    "start_time": "2023-02-28T07:14:10.588Z"
   },
   {
    "duration": 13,
    "start_time": "2023-02-28T07:14:12.030Z"
   },
   {
    "duration": 131,
    "start_time": "2023-02-28T07:14:12.055Z"
   },
   {
    "duration": 18,
    "start_time": "2023-02-28T07:14:12.189Z"
   },
   {
    "duration": 28,
    "start_time": "2023-02-28T07:14:12.210Z"
   },
   {
    "duration": 31,
    "start_time": "2023-02-28T07:14:12.240Z"
   },
   {
    "duration": 206,
    "start_time": "2023-02-28T07:14:12.273Z"
   },
   {
    "duration": 14,
    "start_time": "2023-02-28T07:14:12.481Z"
   },
   {
    "duration": 17,
    "start_time": "2023-02-28T07:14:12.497Z"
   },
   {
    "duration": 9,
    "start_time": "2023-02-28T07:14:12.518Z"
   },
   {
    "duration": 33,
    "start_time": "2023-02-28T07:14:12.529Z"
   },
   {
    "duration": 32,
    "start_time": "2023-02-28T07:14:12.565Z"
   },
   {
    "duration": 37,
    "start_time": "2023-02-28T07:14:12.599Z"
   },
   {
    "duration": 44,
    "start_time": "2023-02-28T07:14:12.639Z"
   },
   {
    "duration": 11,
    "start_time": "2023-02-28T07:14:12.685Z"
   },
   {
    "duration": 21,
    "start_time": "2023-02-28T07:14:12.699Z"
   },
   {
    "duration": 10,
    "start_time": "2023-02-28T07:14:12.722Z"
   },
   {
    "duration": 16,
    "start_time": "2023-02-28T07:14:12.735Z"
   },
   {
    "duration": 26,
    "start_time": "2023-02-28T07:14:12.759Z"
   },
   {
    "duration": 11,
    "start_time": "2023-02-28T07:14:12.787Z"
   },
   {
    "duration": 11,
    "start_time": "2023-02-28T07:14:12.801Z"
   },
   {
    "duration": 23,
    "start_time": "2023-02-28T07:14:12.814Z"
   },
   {
    "duration": 7,
    "start_time": "2023-02-28T07:14:12.839Z"
   },
   {
    "duration": 45,
    "start_time": "2023-02-28T07:14:12.851Z"
   },
   {
    "duration": 37,
    "start_time": "2023-02-28T07:14:12.898Z"
   },
   {
    "duration": 274,
    "start_time": "2023-02-28T07:14:12.937Z"
   },
   {
    "duration": 12,
    "start_time": "2023-02-28T07:14:13.213Z"
   },
   {
    "duration": 177,
    "start_time": "2023-02-28T07:14:13.243Z"
   },
   {
    "duration": 20,
    "start_time": "2023-02-28T07:14:13.422Z"
   },
   {
    "duration": 23,
    "start_time": "2023-02-28T07:14:13.445Z"
   },
   {
    "duration": 26,
    "start_time": "2023-02-28T07:14:13.470Z"
   },
   {
    "duration": 19,
    "start_time": "2023-02-28T07:14:13.498Z"
   },
   {
    "duration": 56,
    "start_time": "2023-02-28T07:14:13.520Z"
   },
   {
    "duration": 33,
    "start_time": "2023-02-28T07:14:13.579Z"
   },
   {
    "duration": 447,
    "start_time": "2023-02-28T07:14:13.614Z"
   },
   {
    "duration": 264,
    "start_time": "2023-02-28T07:14:14.063Z"
   },
   {
    "duration": 432,
    "start_time": "2023-02-28T07:14:14.329Z"
   },
   {
    "duration": 354,
    "start_time": "2023-02-28T07:14:14.768Z"
   },
   {
    "duration": 391,
    "start_time": "2023-02-28T07:14:15.124Z"
   },
   {
    "duration": 230,
    "start_time": "2023-02-28T07:14:15.517Z"
   },
   {
    "duration": 231,
    "start_time": "2023-02-28T07:14:15.748Z"
   },
   {
    "duration": 7,
    "start_time": "2023-02-28T07:14:15.983Z"
   },
   {
    "duration": 573,
    "start_time": "2023-02-28T07:14:15.992Z"
   },
   {
    "duration": 238,
    "start_time": "2023-02-28T07:14:16.572Z"
   },
   {
    "duration": 6,
    "start_time": "2023-02-28T07:14:16.812Z"
   },
   {
    "duration": 36,
    "start_time": "2023-02-28T07:14:16.820Z"
   },
   {
    "duration": 16,
    "start_time": "2023-02-28T07:14:16.863Z"
   },
   {
    "duration": 7,
    "start_time": "2023-02-28T07:14:16.881Z"
   },
   {
    "duration": 12,
    "start_time": "2023-02-28T07:14:16.890Z"
   },
   {
    "duration": 17,
    "start_time": "2023-02-28T07:14:16.904Z"
   },
   {
    "duration": 48,
    "start_time": "2023-02-28T07:14:16.923Z"
   },
   {
    "duration": 21,
    "start_time": "2023-02-28T07:14:16.974Z"
   },
   {
    "duration": 13,
    "start_time": "2023-02-28T07:14:16.997Z"
   },
   {
    "duration": 13,
    "start_time": "2023-02-28T07:14:17.012Z"
   },
   {
    "duration": 48,
    "start_time": "2023-02-28T07:14:17.027Z"
   },
   {
    "duration": 35,
    "start_time": "2023-02-28T07:14:17.077Z"
   },
   {
    "duration": 16,
    "start_time": "2023-02-28T07:14:17.114Z"
   },
   {
    "duration": 61,
    "start_time": "2023-02-28T07:14:17.132Z"
   },
   {
    "duration": 10,
    "start_time": "2023-02-28T07:14:17.195Z"
   },
   {
    "duration": 9,
    "start_time": "2023-02-28T07:14:17.207Z"
   },
   {
    "duration": 13,
    "start_time": "2023-02-28T07:14:17.219Z"
   },
   {
    "duration": 35,
    "start_time": "2023-02-28T07:14:17.234Z"
   },
   {
    "duration": 219,
    "start_time": "2023-02-28T07:14:17.271Z"
   },
   {
    "duration": 143,
    "start_time": "2023-02-28T07:14:17.492Z"
   },
   {
    "duration": 21,
    "start_time": "2023-02-28T07:14:17.637Z"
   },
   {
    "duration": 21,
    "start_time": "2023-02-28T07:14:17.660Z"
   },
   {
    "duration": 16,
    "start_time": "2023-02-28T07:14:17.683Z"
   },
   {
    "duration": 303,
    "start_time": "2023-02-28T07:14:17.702Z"
   },
   {
    "duration": 381,
    "start_time": "2023-02-28T07:14:18.007Z"
   },
   {
    "duration": 297,
    "start_time": "2023-02-28T07:14:18.390Z"
   },
   {
    "duration": 420,
    "start_time": "2023-02-28T07:14:18.690Z"
   },
   {
    "duration": 212,
    "start_time": "2023-02-28T07:15:00.223Z"
   },
   {
    "duration": 228,
    "start_time": "2023-02-28T07:15:08.657Z"
   },
   {
    "duration": 230,
    "start_time": "2023-02-28T07:15:19.125Z"
   },
   {
    "duration": 203,
    "start_time": "2023-02-28T07:15:26.271Z"
   },
   {
    "duration": 329,
    "start_time": "2023-02-28T07:15:34.035Z"
   },
   {
    "duration": 1332,
    "start_time": "2023-02-28T07:17:17.360Z"
   },
   {
    "duration": 4,
    "start_time": "2023-02-28T07:17:18.694Z"
   },
   {
    "duration": 87,
    "start_time": "2023-02-28T07:17:18.700Z"
   },
   {
    "duration": 15,
    "start_time": "2023-02-28T07:17:18.790Z"
   },
   {
    "duration": 13,
    "start_time": "2023-02-28T07:17:18.807Z"
   },
   {
    "duration": 27,
    "start_time": "2023-02-28T07:17:18.822Z"
   },
   {
    "duration": 252,
    "start_time": "2023-02-28T07:17:18.854Z"
   },
   {
    "duration": 17,
    "start_time": "2023-02-28T07:17:19.109Z"
   },
   {
    "duration": 14,
    "start_time": "2023-02-28T07:17:19.129Z"
   },
   {
    "duration": 49,
    "start_time": "2023-02-28T07:17:19.148Z"
   },
   {
    "duration": 23,
    "start_time": "2023-02-28T07:17:19.199Z"
   },
   {
    "duration": 46,
    "start_time": "2023-02-28T07:17:19.225Z"
   },
   {
    "duration": 18,
    "start_time": "2023-02-28T07:17:19.274Z"
   },
   {
    "duration": 20,
    "start_time": "2023-02-28T07:17:19.294Z"
   },
   {
    "duration": 29,
    "start_time": "2023-02-28T07:17:19.316Z"
   },
   {
    "duration": 44,
    "start_time": "2023-02-28T07:17:19.350Z"
   },
   {
    "duration": 33,
    "start_time": "2023-02-28T07:17:19.397Z"
   },
   {
    "duration": 12,
    "start_time": "2023-02-28T07:17:19.433Z"
   },
   {
    "duration": 60,
    "start_time": "2023-02-28T07:17:19.450Z"
   },
   {
    "duration": 24,
    "start_time": "2023-02-28T07:17:19.513Z"
   },
   {
    "duration": 56,
    "start_time": "2023-02-28T07:17:19.539Z"
   },
   {
    "duration": 40,
    "start_time": "2023-02-28T07:17:19.597Z"
   },
   {
    "duration": 41,
    "start_time": "2023-02-28T07:17:19.639Z"
   },
   {
    "duration": 25,
    "start_time": "2023-02-28T07:17:19.682Z"
   },
   {
    "duration": 15,
    "start_time": "2023-02-28T07:17:19.709Z"
   },
   {
    "duration": 230,
    "start_time": "2023-02-28T07:17:19.726Z"
   },
   {
    "duration": 20,
    "start_time": "2023-02-28T07:17:19.957Z"
   },
   {
    "duration": 184,
    "start_time": "2023-02-28T07:17:19.982Z"
   },
   {
    "duration": 11,
    "start_time": "2023-02-28T07:17:20.168Z"
   },
   {
    "duration": 24,
    "start_time": "2023-02-28T07:17:20.181Z"
   },
   {
    "duration": 21,
    "start_time": "2023-02-28T07:17:20.207Z"
   },
   {
    "duration": 7,
    "start_time": "2023-02-28T07:17:20.230Z"
   },
   {
    "duration": 37,
    "start_time": "2023-02-28T07:17:20.239Z"
   },
   {
    "duration": 30,
    "start_time": "2023-02-28T07:17:20.278Z"
   },
   {
    "duration": 357,
    "start_time": "2023-02-28T07:17:20.310Z"
   },
   {
    "duration": 254,
    "start_time": "2023-02-28T07:17:20.669Z"
   },
   {
    "duration": 381,
    "start_time": "2023-02-28T07:17:20.925Z"
   },
   {
    "duration": 278,
    "start_time": "2023-02-28T07:17:21.308Z"
   },
   {
    "duration": 390,
    "start_time": "2023-02-28T07:17:21.589Z"
   },
   {
    "duration": 193,
    "start_time": "2023-02-28T07:17:21.981Z"
   },
   {
    "duration": 213,
    "start_time": "2023-02-28T07:17:22.176Z"
   },
   {
    "duration": 6,
    "start_time": "2023-02-28T07:17:22.391Z"
   },
   {
    "duration": 450,
    "start_time": "2023-02-28T07:17:22.399Z"
   },
   {
    "duration": 179,
    "start_time": "2023-02-28T07:17:22.851Z"
   },
   {
    "duration": 26,
    "start_time": "2023-02-28T07:17:23.033Z"
   },
   {
    "duration": 30,
    "start_time": "2023-02-28T07:17:23.062Z"
   },
   {
    "duration": 28,
    "start_time": "2023-02-28T07:17:23.094Z"
   },
   {
    "duration": 9,
    "start_time": "2023-02-28T07:17:23.124Z"
   },
   {
    "duration": 63,
    "start_time": "2023-02-28T07:17:23.135Z"
   },
   {
    "duration": 16,
    "start_time": "2023-02-28T07:17:23.200Z"
   },
   {
    "duration": 43,
    "start_time": "2023-02-28T07:17:23.218Z"
   },
   {
    "duration": 18,
    "start_time": "2023-02-28T07:17:23.267Z"
   },
   {
    "duration": 14,
    "start_time": "2023-02-28T07:17:23.287Z"
   },
   {
    "duration": 24,
    "start_time": "2023-02-28T07:17:23.303Z"
   },
   {
    "duration": 30,
    "start_time": "2023-02-28T07:17:23.330Z"
   },
   {
    "duration": 26,
    "start_time": "2023-02-28T07:17:23.362Z"
   },
   {
    "duration": 12,
    "start_time": "2023-02-28T07:17:23.390Z"
   },
   {
    "duration": 60,
    "start_time": "2023-02-28T07:17:23.405Z"
   },
   {
    "duration": 9,
    "start_time": "2023-02-28T07:17:23.469Z"
   },
   {
    "duration": 24,
    "start_time": "2023-02-28T07:17:23.480Z"
   },
   {
    "duration": 48,
    "start_time": "2023-02-28T07:17:23.506Z"
   },
   {
    "duration": 27,
    "start_time": "2023-02-28T07:17:23.556Z"
   },
   {
    "duration": 198,
    "start_time": "2023-02-28T07:17:23.585Z"
   },
   {
    "duration": 170,
    "start_time": "2023-02-28T07:17:23.785Z"
   },
   {
    "duration": 6,
    "start_time": "2023-02-28T07:17:23.957Z"
   },
   {
    "duration": 7,
    "start_time": "2023-02-28T07:17:23.966Z"
   },
   {
    "duration": 14,
    "start_time": "2023-02-28T07:17:23.975Z"
   },
   {
    "duration": 261,
    "start_time": "2023-02-28T07:17:23.991Z"
   },
   {
    "duration": 339,
    "start_time": "2023-02-28T07:17:24.257Z"
   },
   {
    "duration": 280,
    "start_time": "2023-02-28T07:17:24.598Z"
   },
   {
    "duration": 404,
    "start_time": "2023-02-28T07:17:24.880Z"
   },
   {
    "duration": 235,
    "start_time": "2023-02-28T07:24:13.398Z"
   },
   {
    "duration": 205,
    "start_time": "2023-02-28T07:24:47.500Z"
   },
   {
    "duration": 331,
    "start_time": "2023-02-28T07:25:30.286Z"
   },
   {
    "duration": 326,
    "start_time": "2023-02-28T07:25:35.192Z"
   },
   {
    "duration": 517,
    "start_time": "2023-02-28T07:25:43.299Z"
   },
   {
    "duration": 330,
    "start_time": "2023-02-28T07:29:28.772Z"
   },
   {
    "duration": 7,
    "start_time": "2023-02-28T07:29:56.957Z"
   },
   {
    "duration": 1360,
    "start_time": "2023-02-28T07:30:04.999Z"
   },
   {
    "duration": 3,
    "start_time": "2023-02-28T07:30:06.368Z"
   },
   {
    "duration": 107,
    "start_time": "2023-02-28T07:30:06.372Z"
   },
   {
    "duration": 12,
    "start_time": "2023-02-28T07:30:06.481Z"
   },
   {
    "duration": 18,
    "start_time": "2023-02-28T07:30:06.494Z"
   },
   {
    "duration": 14,
    "start_time": "2023-02-28T07:30:06.514Z"
   },
   {
    "duration": 161,
    "start_time": "2023-02-28T07:30:06.530Z"
   },
   {
    "duration": 12,
    "start_time": "2023-02-28T07:30:06.693Z"
   },
   {
    "duration": 34,
    "start_time": "2023-02-28T07:30:06.707Z"
   },
   {
    "duration": 27,
    "start_time": "2023-02-28T07:30:06.749Z"
   },
   {
    "duration": 48,
    "start_time": "2023-02-28T07:30:06.778Z"
   },
   {
    "duration": 22,
    "start_time": "2023-02-28T07:30:06.828Z"
   },
   {
    "duration": 33,
    "start_time": "2023-02-28T07:30:06.856Z"
   },
   {
    "duration": 12,
    "start_time": "2023-02-28T07:30:06.891Z"
   },
   {
    "duration": 17,
    "start_time": "2023-02-28T07:30:06.905Z"
   },
   {
    "duration": 33,
    "start_time": "2023-02-28T07:30:06.924Z"
   },
   {
    "duration": 17,
    "start_time": "2023-02-28T07:30:06.958Z"
   },
   {
    "duration": 7,
    "start_time": "2023-02-28T07:30:06.977Z"
   },
   {
    "duration": 7,
    "start_time": "2023-02-28T07:30:06.986Z"
   },
   {
    "duration": 12,
    "start_time": "2023-02-28T07:30:06.995Z"
   },
   {
    "duration": 20,
    "start_time": "2023-02-28T07:30:07.009Z"
   },
   {
    "duration": 29,
    "start_time": "2023-02-28T07:30:07.031Z"
   },
   {
    "duration": 21,
    "start_time": "2023-02-28T07:30:07.062Z"
   },
   {
    "duration": 15,
    "start_time": "2023-02-28T07:30:07.085Z"
   },
   {
    "duration": 16,
    "start_time": "2023-02-28T07:30:07.102Z"
   },
   {
    "duration": 238,
    "start_time": "2023-02-28T07:30:07.120Z"
   },
   {
    "duration": 11,
    "start_time": "2023-02-28T07:30:07.360Z"
   },
   {
    "duration": 136,
    "start_time": "2023-02-28T07:30:07.375Z"
   },
   {
    "duration": 8,
    "start_time": "2023-02-28T07:30:07.513Z"
   },
   {
    "duration": 57,
    "start_time": "2023-02-28T07:30:07.523Z"
   },
   {
    "duration": 14,
    "start_time": "2023-02-28T07:30:07.582Z"
   },
   {
    "duration": 5,
    "start_time": "2023-02-28T07:30:07.598Z"
   },
   {
    "duration": 11,
    "start_time": "2023-02-28T07:30:07.605Z"
   },
   {
    "duration": 21,
    "start_time": "2023-02-28T07:30:07.617Z"
   },
   {
    "duration": 471,
    "start_time": "2023-02-28T07:30:07.640Z"
   },
   {
    "duration": 344,
    "start_time": "2023-02-28T07:30:08.113Z"
   },
   {
    "duration": 496,
    "start_time": "2023-02-28T07:30:08.461Z"
   },
   {
    "duration": 415,
    "start_time": "2023-02-28T07:30:08.962Z"
   },
   {
    "duration": 431,
    "start_time": "2023-02-28T07:30:09.379Z"
   },
   {
    "duration": 223,
    "start_time": "2023-02-28T07:30:09.812Z"
   },
   {
    "duration": 205,
    "start_time": "2023-02-28T07:30:10.040Z"
   },
   {
    "duration": 8,
    "start_time": "2023-02-28T07:30:10.251Z"
   },
   {
    "duration": 426,
    "start_time": "2023-02-28T07:30:10.260Z"
   },
   {
    "duration": 228,
    "start_time": "2023-02-28T07:30:10.688Z"
   },
   {
    "duration": 24,
    "start_time": "2023-02-28T07:30:10.919Z"
   },
   {
    "duration": 13,
    "start_time": "2023-02-28T07:30:10.948Z"
   },
   {
    "duration": 17,
    "start_time": "2023-02-28T07:30:10.963Z"
   },
   {
    "duration": 7,
    "start_time": "2023-02-28T07:30:10.982Z"
   },
   {
    "duration": 18,
    "start_time": "2023-02-28T07:30:10.991Z"
   },
   {
    "duration": 21,
    "start_time": "2023-02-28T07:30:11.011Z"
   },
   {
    "duration": 47,
    "start_time": "2023-02-28T07:30:11.034Z"
   },
   {
    "duration": 6,
    "start_time": "2023-02-28T07:30:11.083Z"
   },
   {
    "duration": 14,
    "start_time": "2023-02-28T07:30:11.091Z"
   },
   {
    "duration": 11,
    "start_time": "2023-02-28T07:30:11.107Z"
   },
   {
    "duration": 6,
    "start_time": "2023-02-28T07:30:11.120Z"
   },
   {
    "duration": 38,
    "start_time": "2023-02-28T07:30:11.148Z"
   },
   {
    "duration": 13,
    "start_time": "2023-02-28T07:30:11.188Z"
   },
   {
    "duration": 54,
    "start_time": "2023-02-28T07:30:11.204Z"
   },
   {
    "duration": 15,
    "start_time": "2023-02-28T07:30:11.261Z"
   },
   {
    "duration": 13,
    "start_time": "2023-02-28T07:30:11.278Z"
   },
   {
    "duration": 8,
    "start_time": "2023-02-28T07:30:11.293Z"
   },
   {
    "duration": 10,
    "start_time": "2023-02-28T07:30:11.303Z"
   },
   {
    "duration": 204,
    "start_time": "2023-02-28T07:30:11.315Z"
   },
   {
    "duration": 141,
    "start_time": "2023-02-28T07:30:11.521Z"
   },
   {
    "duration": 7,
    "start_time": "2023-02-28T07:30:11.664Z"
   },
   {
    "duration": 22,
    "start_time": "2023-02-28T07:30:11.673Z"
   },
   {
    "duration": 33,
    "start_time": "2023-02-28T07:30:11.697Z"
   },
   {
    "duration": 351,
    "start_time": "2023-02-28T07:30:11.732Z"
   },
   {
    "duration": 426,
    "start_time": "2023-02-28T07:30:12.085Z"
   },
   {
    "duration": 390,
    "start_time": "2023-02-28T07:30:12.513Z"
   },
   {
    "duration": 478,
    "start_time": "2023-02-28T07:30:12.905Z"
   },
   {
    "duration": 126,
    "start_time": "2023-02-28T07:31:41.786Z"
   },
   {
    "duration": 17,
    "start_time": "2023-02-28T07:31:46.970Z"
   },
   {
    "duration": 1417,
    "start_time": "2023-02-28T07:31:55.167Z"
   },
   {
    "duration": 0,
    "start_time": "2023-02-28T07:31:56.588Z"
   },
   {
    "duration": 0,
    "start_time": "2023-02-28T07:31:56.590Z"
   },
   {
    "duration": 0,
    "start_time": "2023-02-28T07:31:56.591Z"
   },
   {
    "duration": 0,
    "start_time": "2023-02-28T07:31:56.592Z"
   },
   {
    "duration": 0,
    "start_time": "2023-02-28T07:31:56.594Z"
   },
   {
    "duration": 0,
    "start_time": "2023-02-28T07:31:56.595Z"
   },
   {
    "duration": 0,
    "start_time": "2023-02-28T07:31:56.596Z"
   },
   {
    "duration": 0,
    "start_time": "2023-02-28T07:31:56.598Z"
   },
   {
    "duration": 0,
    "start_time": "2023-02-28T07:31:56.599Z"
   },
   {
    "duration": 0,
    "start_time": "2023-02-28T07:31:56.600Z"
   },
   {
    "duration": 0,
    "start_time": "2023-02-28T07:31:56.603Z"
   },
   {
    "duration": 0,
    "start_time": "2023-02-28T07:31:56.606Z"
   },
   {
    "duration": 0,
    "start_time": "2023-02-28T07:31:56.607Z"
   },
   {
    "duration": 0,
    "start_time": "2023-02-28T07:31:56.645Z"
   },
   {
    "duration": 0,
    "start_time": "2023-02-28T07:31:56.646Z"
   },
   {
    "duration": 0,
    "start_time": "2023-02-28T07:31:56.647Z"
   },
   {
    "duration": 0,
    "start_time": "2023-02-28T07:31:56.649Z"
   },
   {
    "duration": 0,
    "start_time": "2023-02-28T07:31:56.650Z"
   },
   {
    "duration": 0,
    "start_time": "2023-02-28T07:31:56.651Z"
   },
   {
    "duration": 0,
    "start_time": "2023-02-28T07:31:56.652Z"
   },
   {
    "duration": 0,
    "start_time": "2023-02-28T07:31:56.653Z"
   },
   {
    "duration": 0,
    "start_time": "2023-02-28T07:31:56.654Z"
   },
   {
    "duration": 0,
    "start_time": "2023-02-28T07:31:56.655Z"
   },
   {
    "duration": 0,
    "start_time": "2023-02-28T07:31:56.656Z"
   },
   {
    "duration": 0,
    "start_time": "2023-02-28T07:31:56.658Z"
   },
   {
    "duration": 0,
    "start_time": "2023-02-28T07:31:56.659Z"
   },
   {
    "duration": 0,
    "start_time": "2023-02-28T07:31:56.660Z"
   },
   {
    "duration": 0,
    "start_time": "2023-02-28T07:31:56.661Z"
   },
   {
    "duration": 0,
    "start_time": "2023-02-28T07:31:56.662Z"
   },
   {
    "duration": 0,
    "start_time": "2023-02-28T07:31:56.663Z"
   },
   {
    "duration": 0,
    "start_time": "2023-02-28T07:31:56.665Z"
   },
   {
    "duration": 0,
    "start_time": "2023-02-28T07:31:56.666Z"
   },
   {
    "duration": 0,
    "start_time": "2023-02-28T07:31:56.672Z"
   },
   {
    "duration": 0,
    "start_time": "2023-02-28T07:31:56.673Z"
   },
   {
    "duration": 0,
    "start_time": "2023-02-28T07:31:56.674Z"
   },
   {
    "duration": 0,
    "start_time": "2023-02-28T07:31:56.676Z"
   },
   {
    "duration": 0,
    "start_time": "2023-02-28T07:31:56.677Z"
   },
   {
    "duration": 0,
    "start_time": "2023-02-28T07:31:56.679Z"
   },
   {
    "duration": 0,
    "start_time": "2023-02-28T07:31:56.681Z"
   },
   {
    "duration": 0,
    "start_time": "2023-02-28T07:31:56.682Z"
   },
   {
    "duration": 0,
    "start_time": "2023-02-28T07:31:56.683Z"
   },
   {
    "duration": 0,
    "start_time": "2023-02-28T07:31:56.684Z"
   },
   {
    "duration": 0,
    "start_time": "2023-02-28T07:31:56.686Z"
   },
   {
    "duration": 0,
    "start_time": "2023-02-28T07:31:56.687Z"
   },
   {
    "duration": 0,
    "start_time": "2023-02-28T07:31:56.688Z"
   },
   {
    "duration": 0,
    "start_time": "2023-02-28T07:31:56.689Z"
   },
   {
    "duration": 0,
    "start_time": "2023-02-28T07:31:56.690Z"
   },
   {
    "duration": 0,
    "start_time": "2023-02-28T07:31:56.743Z"
   },
   {
    "duration": 0,
    "start_time": "2023-02-28T07:31:56.746Z"
   },
   {
    "duration": 0,
    "start_time": "2023-02-28T07:31:56.750Z"
   },
   {
    "duration": 0,
    "start_time": "2023-02-28T07:31:56.751Z"
   },
   {
    "duration": 0,
    "start_time": "2023-02-28T07:31:56.752Z"
   },
   {
    "duration": 0,
    "start_time": "2023-02-28T07:31:56.757Z"
   },
   {
    "duration": 0,
    "start_time": "2023-02-28T07:31:56.758Z"
   },
   {
    "duration": 0,
    "start_time": "2023-02-28T07:31:56.758Z"
   },
   {
    "duration": 0,
    "start_time": "2023-02-28T07:31:56.761Z"
   },
   {
    "duration": 0,
    "start_time": "2023-02-28T07:31:56.762Z"
   },
   {
    "duration": 0,
    "start_time": "2023-02-28T07:31:56.763Z"
   },
   {
    "duration": 0,
    "start_time": "2023-02-28T07:31:56.766Z"
   },
   {
    "duration": 0,
    "start_time": "2023-02-28T07:31:56.767Z"
   },
   {
    "duration": 0,
    "start_time": "2023-02-28T07:31:56.769Z"
   },
   {
    "duration": 0,
    "start_time": "2023-02-28T07:31:56.771Z"
   },
   {
    "duration": 0,
    "start_time": "2023-02-28T07:31:56.773Z"
   },
   {
    "duration": 0,
    "start_time": "2023-02-28T07:31:56.774Z"
   },
   {
    "duration": 0,
    "start_time": "2023-02-28T07:31:56.777Z"
   },
   {
    "duration": 0,
    "start_time": "2023-02-28T07:31:56.778Z"
   },
   {
    "duration": 0,
    "start_time": "2023-02-28T07:31:56.780Z"
   },
   {
    "duration": 0,
    "start_time": "2023-02-28T07:31:56.781Z"
   },
   {
    "duration": 0,
    "start_time": "2023-02-28T07:31:56.783Z"
   },
   {
    "duration": 0,
    "start_time": "2023-02-28T07:31:56.784Z"
   },
   {
    "duration": 25,
    "start_time": "2023-02-28T07:32:27.425Z"
   },
   {
    "duration": 14,
    "start_time": "2023-02-28T07:32:35.421Z"
   },
   {
    "duration": 17,
    "start_time": "2023-02-28T07:33:53.528Z"
   },
   {
    "duration": 1391,
    "start_time": "2023-02-28T07:34:01.215Z"
   },
   {
    "duration": 3,
    "start_time": "2023-02-28T07:34:02.609Z"
   },
   {
    "duration": 120,
    "start_time": "2023-02-28T07:34:02.616Z"
   },
   {
    "duration": 14,
    "start_time": "2023-02-28T07:34:02.739Z"
   },
   {
    "duration": 39,
    "start_time": "2023-02-28T07:34:02.754Z"
   },
   {
    "duration": 17,
    "start_time": "2023-02-28T07:34:02.795Z"
   },
   {
    "duration": 201,
    "start_time": "2023-02-28T07:34:02.814Z"
   },
   {
    "duration": 15,
    "start_time": "2023-02-28T07:34:03.017Z"
   },
   {
    "duration": 46,
    "start_time": "2023-02-28T07:34:03.034Z"
   },
   {
    "duration": 28,
    "start_time": "2023-02-28T07:34:03.084Z"
   },
   {
    "duration": 35,
    "start_time": "2023-02-28T07:34:03.113Z"
   },
   {
    "duration": 25,
    "start_time": "2023-02-28T07:34:03.154Z"
   },
   {
    "duration": 26,
    "start_time": "2023-02-28T07:34:03.181Z"
   },
   {
    "duration": 25,
    "start_time": "2023-02-28T07:34:03.209Z"
   },
   {
    "duration": 31,
    "start_time": "2023-02-28T07:34:03.236Z"
   },
   {
    "duration": 40,
    "start_time": "2023-02-28T07:34:03.269Z"
   },
   {
    "duration": 40,
    "start_time": "2023-02-28T07:34:03.311Z"
   },
   {
    "duration": 42,
    "start_time": "2023-02-28T07:34:03.352Z"
   },
   {
    "duration": 22,
    "start_time": "2023-02-28T07:34:03.397Z"
   },
   {
    "duration": 25,
    "start_time": "2023-02-28T07:34:03.422Z"
   },
   {
    "duration": 37,
    "start_time": "2023-02-28T07:34:03.449Z"
   },
   {
    "duration": 25,
    "start_time": "2023-02-28T07:34:03.488Z"
   },
   {
    "duration": 13,
    "start_time": "2023-02-28T07:34:03.514Z"
   },
   {
    "duration": 19,
    "start_time": "2023-02-28T07:34:03.530Z"
   },
   {
    "duration": 30,
    "start_time": "2023-02-28T07:34:03.553Z"
   },
   {
    "duration": 245,
    "start_time": "2023-02-28T07:34:03.585Z"
   },
   {
    "duration": 23,
    "start_time": "2023-02-28T07:34:03.832Z"
   },
   {
    "duration": 219,
    "start_time": "2023-02-28T07:34:03.861Z"
   },
   {
    "duration": 11,
    "start_time": "2023-02-28T07:34:04.083Z"
   },
   {
    "duration": 14,
    "start_time": "2023-02-28T07:34:04.096Z"
   },
   {
    "duration": 30,
    "start_time": "2023-02-28T07:34:04.113Z"
   },
   {
    "duration": 49,
    "start_time": "2023-02-28T07:34:04.145Z"
   },
   {
    "duration": 72,
    "start_time": "2023-02-28T07:34:04.196Z"
   },
   {
    "duration": 41,
    "start_time": "2023-02-28T07:34:04.271Z"
   },
   {
    "duration": 561,
    "start_time": "2023-02-28T07:34:04.314Z"
   },
   {
    "duration": 505,
    "start_time": "2023-02-28T07:34:04.878Z"
   },
   {
    "duration": 547,
    "start_time": "2023-02-28T07:34:05.385Z"
   },
   {
    "duration": 377,
    "start_time": "2023-02-28T07:34:05.933Z"
   },
   {
    "duration": 468,
    "start_time": "2023-02-28T07:34:06.312Z"
   },
   {
    "duration": 206,
    "start_time": "2023-02-28T07:34:06.782Z"
   },
   {
    "duration": 235,
    "start_time": "2023-02-28T07:34:06.990Z"
   },
   {
    "duration": 5,
    "start_time": "2023-02-28T07:34:07.227Z"
   },
   {
    "duration": 421,
    "start_time": "2023-02-28T07:34:07.241Z"
   },
   {
    "duration": 226,
    "start_time": "2023-02-28T07:34:07.664Z"
   },
   {
    "duration": 6,
    "start_time": "2023-02-28T07:34:07.892Z"
   },
   {
    "duration": 25,
    "start_time": "2023-02-28T07:34:07.900Z"
   },
   {
    "duration": 26,
    "start_time": "2023-02-28T07:34:07.928Z"
   },
   {
    "duration": 20,
    "start_time": "2023-02-28T07:34:07.958Z"
   },
   {
    "duration": 12,
    "start_time": "2023-02-28T07:34:07.980Z"
   },
   {
    "duration": 4,
    "start_time": "2023-02-28T07:34:07.994Z"
   },
   {
    "duration": 28,
    "start_time": "2023-02-28T07:34:08.000Z"
   },
   {
    "duration": 15,
    "start_time": "2023-02-28T07:34:08.030Z"
   },
   {
    "duration": 45,
    "start_time": "2023-02-28T07:34:08.048Z"
   },
   {
    "duration": 20,
    "start_time": "2023-02-28T07:34:08.096Z"
   },
   {
    "duration": 18,
    "start_time": "2023-02-28T07:34:08.118Z"
   },
   {
    "duration": 32,
    "start_time": "2023-02-28T07:34:08.138Z"
   },
   {
    "duration": 9,
    "start_time": "2023-02-28T07:34:08.172Z"
   },
   {
    "duration": 46,
    "start_time": "2023-02-28T07:34:08.183Z"
   },
   {
    "duration": 8,
    "start_time": "2023-02-28T07:34:08.231Z"
   },
   {
    "duration": 30,
    "start_time": "2023-02-28T07:34:08.242Z"
   },
   {
    "duration": 14,
    "start_time": "2023-02-28T07:34:08.274Z"
   },
   {
    "duration": 7,
    "start_time": "2023-02-28T07:34:08.290Z"
   },
   {
    "duration": 174,
    "start_time": "2023-02-28T07:34:08.299Z"
   },
   {
    "duration": 131,
    "start_time": "2023-02-28T07:34:08.475Z"
   },
   {
    "duration": 6,
    "start_time": "2023-02-28T07:34:08.608Z"
   },
   {
    "duration": 22,
    "start_time": "2023-02-28T07:34:08.616Z"
   },
   {
    "duration": 32,
    "start_time": "2023-02-28T07:34:08.641Z"
   },
   {
    "duration": 346,
    "start_time": "2023-02-28T07:34:08.675Z"
   },
   {
    "duration": 511,
    "start_time": "2023-02-28T07:34:09.023Z"
   },
   {
    "duration": 375,
    "start_time": "2023-02-28T07:34:09.545Z"
   },
   {
    "duration": 487,
    "start_time": "2023-02-28T07:34:09.922Z"
   },
   {
    "duration": 132,
    "start_time": "2023-02-28T07:34:37.234Z"
   },
   {
    "duration": 325,
    "start_time": "2023-02-28T07:35:01.708Z"
   },
   {
    "duration": 13,
    "start_time": "2023-02-28T07:37:25.679Z"
   },
   {
    "duration": 15,
    "start_time": "2023-02-28T07:38:05.269Z"
   },
   {
    "duration": 380,
    "start_time": "2023-02-28T07:38:18.999Z"
   },
   {
    "duration": 17,
    "start_time": "2023-02-28T07:38:46.065Z"
   },
   {
    "duration": 116,
    "start_time": "2023-02-28T07:39:10.109Z"
   },
   {
    "duration": 15,
    "start_time": "2023-02-28T07:39:18.659Z"
   },
   {
    "duration": 24,
    "start_time": "2023-02-28T07:39:29.557Z"
   },
   {
    "duration": 474,
    "start_time": "2023-02-28T07:39:38.259Z"
   },
   {
    "duration": 340,
    "start_time": "2023-02-28T07:39:45.985Z"
   },
   {
    "duration": 1377,
    "start_time": "2023-02-28T07:40:19.971Z"
   },
   {
    "duration": 5,
    "start_time": "2023-02-28T07:40:21.357Z"
   },
   {
    "duration": 113,
    "start_time": "2023-02-28T07:40:21.366Z"
   },
   {
    "duration": 12,
    "start_time": "2023-02-28T07:40:21.480Z"
   },
   {
    "duration": 17,
    "start_time": "2023-02-28T07:40:21.493Z"
   },
   {
    "duration": 15,
    "start_time": "2023-02-28T07:40:21.511Z"
   },
   {
    "duration": 179,
    "start_time": "2023-02-28T07:40:21.528Z"
   },
   {
    "duration": 11,
    "start_time": "2023-02-28T07:40:21.711Z"
   },
   {
    "duration": 12,
    "start_time": "2023-02-28T07:40:21.724Z"
   },
   {
    "duration": 23,
    "start_time": "2023-02-28T07:40:21.738Z"
   },
   {
    "duration": 26,
    "start_time": "2023-02-28T07:40:21.764Z"
   },
   {
    "duration": 13,
    "start_time": "2023-02-28T07:40:21.792Z"
   },
   {
    "duration": 16,
    "start_time": "2023-02-28T07:40:21.807Z"
   },
   {
    "duration": 46,
    "start_time": "2023-02-28T07:40:21.825Z"
   },
   {
    "duration": 9,
    "start_time": "2023-02-28T07:40:21.873Z"
   },
   {
    "duration": 18,
    "start_time": "2023-02-28T07:40:21.884Z"
   },
   {
    "duration": 20,
    "start_time": "2023-02-28T07:40:21.905Z"
   },
   {
    "duration": 49,
    "start_time": "2023-02-28T07:40:21.927Z"
   },
   {
    "duration": 13,
    "start_time": "2023-02-28T07:40:21.979Z"
   },
   {
    "duration": 13,
    "start_time": "2023-02-28T07:40:21.994Z"
   },
   {
    "duration": 8,
    "start_time": "2023-02-28T07:40:22.008Z"
   },
   {
    "duration": 14,
    "start_time": "2023-02-28T07:40:22.018Z"
   },
   {
    "duration": 8,
    "start_time": "2023-02-28T07:40:22.034Z"
   },
   {
    "duration": 38,
    "start_time": "2023-02-28T07:40:22.045Z"
   },
   {
    "duration": 12,
    "start_time": "2023-02-28T07:40:22.085Z"
   },
   {
    "duration": 214,
    "start_time": "2023-02-28T07:40:22.099Z"
   },
   {
    "duration": 9,
    "start_time": "2023-02-28T07:40:22.315Z"
   },
   {
    "duration": 151,
    "start_time": "2023-02-28T07:40:22.343Z"
   },
   {
    "duration": 9,
    "start_time": "2023-02-28T07:40:22.495Z"
   },
   {
    "duration": 12,
    "start_time": "2023-02-28T07:40:22.506Z"
   },
   {
    "duration": 56,
    "start_time": "2023-02-28T07:40:22.520Z"
   },
   {
    "duration": 11,
    "start_time": "2023-02-28T07:40:22.578Z"
   },
   {
    "duration": 12,
    "start_time": "2023-02-28T07:40:22.591Z"
   },
   {
    "duration": 22,
    "start_time": "2023-02-28T07:40:22.605Z"
   },
   {
    "duration": 417,
    "start_time": "2023-02-28T07:40:22.629Z"
   },
   {
    "duration": 257,
    "start_time": "2023-02-28T07:40:23.051Z"
   },
   {
    "duration": 366,
    "start_time": "2023-02-28T07:40:23.310Z"
   },
   {
    "duration": 297,
    "start_time": "2023-02-28T07:40:23.680Z"
   },
   {
    "duration": 359,
    "start_time": "2023-02-28T07:40:23.979Z"
   },
   {
    "duration": 190,
    "start_time": "2023-02-28T07:40:24.341Z"
   },
   {
    "duration": 167,
    "start_time": "2023-02-28T07:40:24.533Z"
   },
   {
    "duration": 6,
    "start_time": "2023-02-28T07:40:24.703Z"
   },
   {
    "duration": 463,
    "start_time": "2023-02-28T07:40:24.711Z"
   },
   {
    "duration": 190,
    "start_time": "2023-02-28T07:40:25.176Z"
   },
   {
    "duration": 4,
    "start_time": "2023-02-28T07:40:25.369Z"
   },
   {
    "duration": 18,
    "start_time": "2023-02-28T07:40:25.374Z"
   },
   {
    "duration": 14,
    "start_time": "2023-02-28T07:40:25.393Z"
   },
   {
    "duration": 6,
    "start_time": "2023-02-28T07:40:25.409Z"
   },
   {
    "duration": 40,
    "start_time": "2023-02-28T07:40:25.416Z"
   },
   {
    "duration": 26,
    "start_time": "2023-02-28T07:40:25.457Z"
   },
   {
    "duration": 82,
    "start_time": "2023-02-28T07:40:25.485Z"
   },
   {
    "duration": 9,
    "start_time": "2023-02-28T07:40:25.569Z"
   },
   {
    "duration": 49,
    "start_time": "2023-02-28T07:40:25.580Z"
   },
   {
    "duration": 13,
    "start_time": "2023-02-28T07:40:25.631Z"
   },
   {
    "duration": 43,
    "start_time": "2023-02-28T07:40:25.647Z"
   },
   {
    "duration": 13,
    "start_time": "2023-02-28T07:40:25.692Z"
   },
   {
    "duration": 7,
    "start_time": "2023-02-28T07:40:25.707Z"
   },
   {
    "duration": 40,
    "start_time": "2023-02-28T07:40:25.716Z"
   },
   {
    "duration": 13,
    "start_time": "2023-02-28T07:40:25.761Z"
   },
   {
    "duration": 8,
    "start_time": "2023-02-28T07:40:25.777Z"
   },
   {
    "duration": 5,
    "start_time": "2023-02-28T07:40:25.787Z"
   },
   {
    "duration": 14,
    "start_time": "2023-02-28T07:40:25.794Z"
   },
   {
    "duration": 250,
    "start_time": "2023-02-28T07:40:25.810Z"
   },
   {
    "duration": 147,
    "start_time": "2023-02-28T07:40:26.066Z"
   },
   {
    "duration": 7,
    "start_time": "2023-02-28T07:40:26.215Z"
   },
   {
    "duration": 17,
    "start_time": "2023-02-28T07:40:26.223Z"
   },
   {
    "duration": 34,
    "start_time": "2023-02-28T07:40:26.244Z"
   },
   {
    "duration": 230,
    "start_time": "2023-02-28T07:40:26.281Z"
   },
   {
    "duration": 385,
    "start_time": "2023-02-28T07:40:26.514Z"
   },
   {
    "duration": 290,
    "start_time": "2023-02-28T07:40:26.901Z"
   },
   {
    "duration": 424,
    "start_time": "2023-02-28T07:40:27.193Z"
   },
   {
    "duration": 305,
    "start_time": "2023-02-28T07:41:08.693Z"
   },
   {
    "duration": 239,
    "start_time": "2023-02-28T07:41:14.986Z"
   },
   {
    "duration": 243,
    "start_time": "2023-02-28T07:41:26.659Z"
   },
   {
    "duration": 322,
    "start_time": "2023-02-28T07:41:34.287Z"
   },
   {
    "duration": 267,
    "start_time": "2023-02-28T07:41:41.009Z"
   },
   {
    "duration": 278,
    "start_time": "2023-02-28T07:42:03.402Z"
   },
   {
    "duration": 341,
    "start_time": "2023-02-28T07:42:14.706Z"
   },
   {
    "duration": 291,
    "start_time": "2023-02-28T07:42:20.866Z"
   },
   {
    "duration": 11,
    "start_time": "2023-02-28T07:43:02.836Z"
   },
   {
    "duration": 1465,
    "start_time": "2023-02-28T07:43:09.417Z"
   },
   {
    "duration": 4,
    "start_time": "2023-02-28T07:43:10.885Z"
   },
   {
    "duration": 144,
    "start_time": "2023-02-28T07:43:10.891Z"
   },
   {
    "duration": 16,
    "start_time": "2023-02-28T07:43:11.038Z"
   },
   {
    "duration": 41,
    "start_time": "2023-02-28T07:43:11.056Z"
   },
   {
    "duration": 17,
    "start_time": "2023-02-28T07:43:11.100Z"
   },
   {
    "duration": 184,
    "start_time": "2023-02-28T07:43:11.119Z"
   },
   {
    "duration": 12,
    "start_time": "2023-02-28T07:43:11.304Z"
   },
   {
    "duration": 10,
    "start_time": "2023-02-28T07:43:11.318Z"
   },
   {
    "duration": 6,
    "start_time": "2023-02-28T07:43:11.332Z"
   },
   {
    "duration": 32,
    "start_time": "2023-02-28T07:43:11.339Z"
   },
   {
    "duration": 9,
    "start_time": "2023-02-28T07:43:11.373Z"
   },
   {
    "duration": 16,
    "start_time": "2023-02-28T07:43:11.384Z"
   },
   {
    "duration": 11,
    "start_time": "2023-02-28T07:43:11.402Z"
   },
   {
    "duration": 9,
    "start_time": "2023-02-28T07:43:11.414Z"
   },
   {
    "duration": 23,
    "start_time": "2023-02-28T07:43:11.425Z"
   },
   {
    "duration": 26,
    "start_time": "2023-02-28T07:43:11.452Z"
   },
   {
    "duration": 18,
    "start_time": "2023-02-28T07:43:11.481Z"
   },
   {
    "duration": 29,
    "start_time": "2023-02-28T07:43:11.501Z"
   },
   {
    "duration": 25,
    "start_time": "2023-02-28T07:43:11.532Z"
   },
   {
    "duration": 14,
    "start_time": "2023-02-28T07:43:11.561Z"
   },
   {
    "duration": 13,
    "start_time": "2023-02-28T07:43:11.576Z"
   },
   {
    "duration": 12,
    "start_time": "2023-02-28T07:43:11.591Z"
   },
   {
    "duration": 14,
    "start_time": "2023-02-28T07:43:11.605Z"
   },
   {
    "duration": 17,
    "start_time": "2023-02-28T07:43:11.621Z"
   },
   {
    "duration": 203,
    "start_time": "2023-02-28T07:43:11.645Z"
   },
   {
    "duration": 14,
    "start_time": "2023-02-28T07:43:11.851Z"
   },
   {
    "duration": 134,
    "start_time": "2023-02-28T07:43:11.871Z"
   },
   {
    "duration": 9,
    "start_time": "2023-02-28T07:43:12.006Z"
   },
   {
    "duration": 8,
    "start_time": "2023-02-28T07:43:12.016Z"
   },
   {
    "duration": 40,
    "start_time": "2023-02-28T07:43:12.026Z"
   },
   {
    "duration": 9,
    "start_time": "2023-02-28T07:43:12.067Z"
   },
   {
    "duration": 17,
    "start_time": "2023-02-28T07:43:12.078Z"
   },
   {
    "duration": 21,
    "start_time": "2023-02-28T07:43:12.097Z"
   },
   {
    "duration": 427,
    "start_time": "2023-02-28T07:43:12.120Z"
   },
   {
    "duration": 326,
    "start_time": "2023-02-28T07:43:12.549Z"
   },
   {
    "duration": 497,
    "start_time": "2023-02-28T07:43:12.877Z"
   },
   {
    "duration": 354,
    "start_time": "2023-02-28T07:43:13.376Z"
   },
   {
    "duration": 446,
    "start_time": "2023-02-28T07:43:13.739Z"
   },
   {
    "duration": 204,
    "start_time": "2023-02-28T07:43:14.187Z"
   },
   {
    "duration": 213,
    "start_time": "2023-02-28T07:43:14.394Z"
   },
   {
    "duration": 5,
    "start_time": "2023-02-28T07:43:14.609Z"
   },
   {
    "duration": 462,
    "start_time": "2023-02-28T07:43:14.616Z"
   },
   {
    "duration": 230,
    "start_time": "2023-02-28T07:43:15.080Z"
   },
   {
    "duration": 5,
    "start_time": "2023-02-28T07:43:15.312Z"
   },
   {
    "duration": 49,
    "start_time": "2023-02-28T07:43:15.319Z"
   },
   {
    "duration": 30,
    "start_time": "2023-02-28T07:43:15.370Z"
   },
   {
    "duration": 22,
    "start_time": "2023-02-28T07:43:15.402Z"
   },
   {
    "duration": 16,
    "start_time": "2023-02-28T07:43:15.426Z"
   },
   {
    "duration": 26,
    "start_time": "2023-02-28T07:43:15.443Z"
   },
   {
    "duration": 34,
    "start_time": "2023-02-28T07:43:15.472Z"
   },
   {
    "duration": 8,
    "start_time": "2023-02-28T07:43:15.508Z"
   },
   {
    "duration": 13,
    "start_time": "2023-02-28T07:43:15.518Z"
   },
   {
    "duration": 32,
    "start_time": "2023-02-28T07:43:15.533Z"
   },
   {
    "duration": 15,
    "start_time": "2023-02-28T07:43:15.567Z"
   },
   {
    "duration": 20,
    "start_time": "2023-02-28T07:43:15.583Z"
   },
   {
    "duration": 10,
    "start_time": "2023-02-28T07:43:15.605Z"
   },
   {
    "duration": 42,
    "start_time": "2023-02-28T07:43:15.617Z"
   },
   {
    "duration": 7,
    "start_time": "2023-02-28T07:43:15.662Z"
   },
   {
    "duration": 11,
    "start_time": "2023-02-28T07:43:15.671Z"
   },
   {
    "duration": 5,
    "start_time": "2023-02-28T07:43:15.683Z"
   },
   {
    "duration": 7,
    "start_time": "2023-02-28T07:43:15.690Z"
   },
   {
    "duration": 223,
    "start_time": "2023-02-28T07:43:15.699Z"
   },
   {
    "duration": 161,
    "start_time": "2023-02-28T07:43:15.925Z"
   },
   {
    "duration": 10,
    "start_time": "2023-02-28T07:43:16.088Z"
   },
   {
    "duration": 25,
    "start_time": "2023-02-28T07:43:16.100Z"
   },
   {
    "duration": 38,
    "start_time": "2023-02-28T07:43:16.128Z"
   },
   {
    "duration": 375,
    "start_time": "2023-02-28T07:43:16.168Z"
   },
   {
    "duration": 419,
    "start_time": "2023-02-28T07:43:16.552Z"
   },
   {
    "duration": 378,
    "start_time": "2023-02-28T07:43:16.972Z"
   },
   {
    "duration": 436,
    "start_time": "2023-02-28T07:43:17.356Z"
   },
   {
    "duration": 147,
    "start_time": "2023-02-28T07:46:00.081Z"
   },
   {
    "duration": 234,
    "start_time": "2023-02-28T07:46:39.298Z"
   },
   {
    "duration": 225,
    "start_time": "2023-02-28T07:46:51.759Z"
   },
   {
    "duration": 212,
    "start_time": "2023-02-28T07:47:01.263Z"
   },
   {
    "duration": 331,
    "start_time": "2023-02-28T07:47:10.262Z"
   },
   {
    "duration": 8,
    "start_time": "2023-02-28T07:50:52.997Z"
   },
   {
    "duration": 1527,
    "start_time": "2023-02-28T07:51:00.724Z"
   },
   {
    "duration": 14,
    "start_time": "2023-02-28T07:51:02.255Z"
   },
   {
    "duration": 293,
    "start_time": "2023-02-28T07:51:02.274Z"
   },
   {
    "duration": 28,
    "start_time": "2023-02-28T07:51:02.570Z"
   },
   {
    "duration": 85,
    "start_time": "2023-02-28T07:51:02.600Z"
   },
   {
    "duration": 72,
    "start_time": "2023-02-28T07:51:02.688Z"
   },
   {
    "duration": 220,
    "start_time": "2023-02-28T07:51:02.765Z"
   },
   {
    "duration": 20,
    "start_time": "2023-02-28T07:51:02.988Z"
   },
   {
    "duration": 68,
    "start_time": "2023-02-28T07:51:03.010Z"
   },
   {
    "duration": 102,
    "start_time": "2023-02-28T07:51:03.084Z"
   },
   {
    "duration": 44,
    "start_time": "2023-02-28T07:51:03.189Z"
   },
   {
    "duration": 69,
    "start_time": "2023-02-28T07:51:03.235Z"
   },
   {
    "duration": 48,
    "start_time": "2023-02-28T07:51:03.305Z"
   },
   {
    "duration": 52,
    "start_time": "2023-02-28T07:51:03.355Z"
   },
   {
    "duration": 14,
    "start_time": "2023-02-28T07:51:03.409Z"
   },
   {
    "duration": 69,
    "start_time": "2023-02-28T07:51:03.425Z"
   },
   {
    "duration": 27,
    "start_time": "2023-02-28T07:51:03.496Z"
   },
   {
    "duration": 89,
    "start_time": "2023-02-28T07:51:03.525Z"
   },
   {
    "duration": 19,
    "start_time": "2023-02-28T07:51:03.616Z"
   },
   {
    "duration": 65,
    "start_time": "2023-02-28T07:51:03.637Z"
   },
   {
    "duration": 24,
    "start_time": "2023-02-28T07:51:03.705Z"
   },
   {
    "duration": 60,
    "start_time": "2023-02-28T07:51:03.731Z"
   },
   {
    "duration": 8,
    "start_time": "2023-02-28T07:51:03.793Z"
   },
   {
    "duration": 23,
    "start_time": "2023-02-28T07:51:03.803Z"
   },
   {
    "duration": 23,
    "start_time": "2023-02-28T07:51:03.828Z"
   },
   {
    "duration": 276,
    "start_time": "2023-02-28T07:51:03.856Z"
   },
   {
    "duration": 17,
    "start_time": "2023-02-28T07:51:04.136Z"
   },
   {
    "duration": 209,
    "start_time": "2023-02-28T07:51:04.160Z"
   },
   {
    "duration": 122,
    "start_time": "2023-02-28T07:51:04.372Z"
   },
   {
    "duration": 102,
    "start_time": "2023-02-28T07:51:04.496Z"
   },
   {
    "duration": 85,
    "start_time": "2023-02-28T07:51:04.601Z"
   },
   {
    "duration": 97,
    "start_time": "2023-02-28T07:51:04.688Z"
   },
   {
    "duration": 38,
    "start_time": "2023-02-28T07:51:04.787Z"
   },
   {
    "duration": 84,
    "start_time": "2023-02-28T07:51:04.827Z"
   },
   {
    "duration": 674,
    "start_time": "2023-02-28T07:51:04.913Z"
   },
   {
    "duration": 452,
    "start_time": "2023-02-28T07:51:05.589Z"
   },
   {
    "duration": 548,
    "start_time": "2023-02-28T07:51:06.049Z"
   },
   {
    "duration": 478,
    "start_time": "2023-02-28T07:51:06.603Z"
   },
   {
    "duration": 506,
    "start_time": "2023-02-28T07:51:07.084Z"
   },
   {
    "duration": 257,
    "start_time": "2023-02-28T07:51:07.598Z"
   },
   {
    "duration": 239,
    "start_time": "2023-02-28T07:51:07.861Z"
   },
   {
    "duration": 6,
    "start_time": "2023-02-28T07:51:08.103Z"
   },
   {
    "duration": 548,
    "start_time": "2023-02-28T07:51:08.111Z"
   },
   {
    "duration": 339,
    "start_time": "2023-02-28T07:51:08.663Z"
   },
   {
    "duration": 394,
    "start_time": "2023-02-28T07:51:09.005Z"
   },
   {
    "duration": 6,
    "start_time": "2023-02-28T07:51:09.408Z"
   },
   {
    "duration": 36,
    "start_time": "2023-02-28T07:51:09.416Z"
   },
   {
    "duration": 53,
    "start_time": "2023-02-28T07:51:09.463Z"
   },
   {
    "duration": 14,
    "start_time": "2023-02-28T07:51:09.518Z"
   },
   {
    "duration": 80,
    "start_time": "2023-02-28T07:51:09.535Z"
   },
   {
    "duration": 99,
    "start_time": "2023-02-28T07:51:09.617Z"
   },
   {
    "duration": 64,
    "start_time": "2023-02-28T07:51:09.719Z"
   },
   {
    "duration": 41,
    "start_time": "2023-02-28T07:51:09.786Z"
   },
   {
    "duration": 52,
    "start_time": "2023-02-28T07:51:09.829Z"
   },
   {
    "duration": 52,
    "start_time": "2023-02-28T07:51:09.887Z"
   },
   {
    "duration": 53,
    "start_time": "2023-02-28T07:51:09.948Z"
   },
   {
    "duration": 75,
    "start_time": "2023-02-28T07:51:10.003Z"
   },
   {
    "duration": 50,
    "start_time": "2023-02-28T07:51:10.081Z"
   },
   {
    "duration": 87,
    "start_time": "2023-02-28T07:51:10.134Z"
   },
   {
    "duration": 8,
    "start_time": "2023-02-28T07:51:10.223Z"
   },
   {
    "duration": 64,
    "start_time": "2023-02-28T07:51:10.234Z"
   },
   {
    "duration": 15,
    "start_time": "2023-02-28T07:51:10.306Z"
   },
   {
    "duration": 61,
    "start_time": "2023-02-28T07:51:10.324Z"
   },
   {
    "duration": 228,
    "start_time": "2023-02-28T07:51:10.388Z"
   },
   {
    "duration": 180,
    "start_time": "2023-02-28T07:51:10.619Z"
   },
   {
    "duration": 14,
    "start_time": "2023-02-28T07:51:10.803Z"
   },
   {
    "duration": 10,
    "start_time": "2023-02-28T07:51:10.819Z"
   },
   {
    "duration": 22,
    "start_time": "2023-02-28T07:51:10.831Z"
   },
   {
    "duration": 465,
    "start_time": "2023-02-28T07:51:10.855Z"
   },
   {
    "duration": 530,
    "start_time": "2023-02-28T07:51:11.323Z"
   },
   {
    "duration": 493,
    "start_time": "2023-02-28T07:51:11.860Z"
   },
   {
    "duration": 550,
    "start_time": "2023-02-28T07:51:12.360Z"
   },
   {
    "duration": 10,
    "start_time": "2023-02-28T07:51:58.820Z"
   },
   {
    "duration": 1492,
    "start_time": "2023-02-28T07:52:05.897Z"
   },
   {
    "duration": 4,
    "start_time": "2023-02-28T07:52:07.391Z"
   },
   {
    "duration": 96,
    "start_time": "2023-02-28T07:52:07.396Z"
   },
   {
    "duration": 13,
    "start_time": "2023-02-28T07:52:07.494Z"
   },
   {
    "duration": 17,
    "start_time": "2023-02-28T07:52:07.509Z"
   },
   {
    "duration": 26,
    "start_time": "2023-02-28T07:52:07.527Z"
   },
   {
    "duration": 230,
    "start_time": "2023-02-28T07:52:07.557Z"
   },
   {
    "duration": 13,
    "start_time": "2023-02-28T07:52:07.789Z"
   },
   {
    "duration": 19,
    "start_time": "2023-02-28T07:52:07.804Z"
   },
   {
    "duration": 10,
    "start_time": "2023-02-28T07:52:07.826Z"
   },
   {
    "duration": 75,
    "start_time": "2023-02-28T07:52:07.838Z"
   },
   {
    "duration": 29,
    "start_time": "2023-02-28T07:52:07.916Z"
   },
   {
    "duration": 51,
    "start_time": "2023-02-28T07:52:07.948Z"
   },
   {
    "duration": 11,
    "start_time": "2023-02-28T07:52:08.001Z"
   },
   {
    "duration": 8,
    "start_time": "2023-02-28T07:52:08.014Z"
   },
   {
    "duration": 28,
    "start_time": "2023-02-28T07:52:08.024Z"
   },
   {
    "duration": 37,
    "start_time": "2023-02-28T07:52:08.053Z"
   },
   {
    "duration": 11,
    "start_time": "2023-02-28T07:52:08.093Z"
   },
   {
    "duration": 26,
    "start_time": "2023-02-28T07:52:08.106Z"
   },
   {
    "duration": 18,
    "start_time": "2023-02-28T07:52:08.134Z"
   },
   {
    "duration": 26,
    "start_time": "2023-02-28T07:52:08.154Z"
   },
   {
    "duration": 17,
    "start_time": "2023-02-28T07:52:08.182Z"
   },
   {
    "duration": 8,
    "start_time": "2023-02-28T07:52:08.201Z"
   },
   {
    "duration": 12,
    "start_time": "2023-02-28T07:52:08.211Z"
   },
   {
    "duration": 36,
    "start_time": "2023-02-28T07:52:08.225Z"
   },
   {
    "duration": 208,
    "start_time": "2023-02-28T07:52:08.263Z"
   },
   {
    "duration": 14,
    "start_time": "2023-02-28T07:52:08.474Z"
   },
   {
    "duration": 186,
    "start_time": "2023-02-28T07:52:08.494Z"
   },
   {
    "duration": 13,
    "start_time": "2023-02-28T07:52:08.683Z"
   },
   {
    "duration": 25,
    "start_time": "2023-02-28T07:52:08.701Z"
   },
   {
    "duration": 21,
    "start_time": "2023-02-28T07:52:08.728Z"
   },
   {
    "duration": 44,
    "start_time": "2023-02-28T07:52:08.752Z"
   },
   {
    "duration": 52,
    "start_time": "2023-02-28T07:52:08.798Z"
   },
   {
    "duration": 75,
    "start_time": "2023-02-28T07:52:08.853Z"
   },
   {
    "duration": 464,
    "start_time": "2023-02-28T07:52:08.931Z"
   },
   {
    "duration": 267,
    "start_time": "2023-02-28T07:52:09.398Z"
   },
   {
    "duration": 363,
    "start_time": "2023-02-28T07:52:09.667Z"
   },
   {
    "duration": 332,
    "start_time": "2023-02-28T07:52:10.033Z"
   },
   {
    "duration": 402,
    "start_time": "2023-02-28T07:52:10.372Z"
   },
   {
    "duration": 307,
    "start_time": "2023-02-28T07:52:10.776Z"
   },
   {
    "duration": 217,
    "start_time": "2023-02-28T07:52:11.085Z"
   },
   {
    "duration": 5,
    "start_time": "2023-02-28T07:52:11.304Z"
   },
   {
    "duration": 449,
    "start_time": "2023-02-28T07:52:11.311Z"
   },
   {
    "duration": 220,
    "start_time": "2023-02-28T07:52:11.762Z"
   },
   {
    "duration": 229,
    "start_time": "2023-02-28T07:52:11.984Z"
   },
   {
    "duration": 5,
    "start_time": "2023-02-28T07:52:12.215Z"
   },
   {
    "duration": 29,
    "start_time": "2023-02-28T07:52:12.223Z"
   },
   {
    "duration": 41,
    "start_time": "2023-02-28T07:52:12.255Z"
   },
   {
    "duration": 16,
    "start_time": "2023-02-28T07:52:12.298Z"
   },
   {
    "duration": 7,
    "start_time": "2023-02-28T07:52:12.316Z"
   },
   {
    "duration": 9,
    "start_time": "2023-02-28T07:52:12.324Z"
   },
   {
    "duration": 44,
    "start_time": "2023-02-28T07:52:12.335Z"
   },
   {
    "duration": 23,
    "start_time": "2023-02-28T07:52:12.381Z"
   },
   {
    "duration": 15,
    "start_time": "2023-02-28T07:52:12.406Z"
   },
   {
    "duration": 50,
    "start_time": "2023-02-28T07:52:12.423Z"
   },
   {
    "duration": 29,
    "start_time": "2023-02-28T07:52:12.475Z"
   },
   {
    "duration": 13,
    "start_time": "2023-02-28T07:52:12.506Z"
   },
   {
    "duration": 14,
    "start_time": "2023-02-28T07:52:12.521Z"
   },
   {
    "duration": 69,
    "start_time": "2023-02-28T07:52:12.537Z"
   },
   {
    "duration": 8,
    "start_time": "2023-02-28T07:52:12.608Z"
   },
   {
    "duration": 13,
    "start_time": "2023-02-28T07:52:12.617Z"
   },
   {
    "duration": 47,
    "start_time": "2023-02-28T07:52:12.632Z"
   },
   {
    "duration": 13,
    "start_time": "2023-02-28T07:52:12.681Z"
   },
   {
    "duration": 256,
    "start_time": "2023-02-28T07:52:12.696Z"
   },
   {
    "duration": 152,
    "start_time": "2023-02-28T07:52:12.955Z"
   },
   {
    "duration": 10,
    "start_time": "2023-02-28T07:52:13.109Z"
   },
   {
    "duration": 12,
    "start_time": "2023-02-28T07:52:13.120Z"
   },
   {
    "duration": 60,
    "start_time": "2023-02-28T07:52:13.134Z"
   },
   {
    "duration": 248,
    "start_time": "2023-02-28T07:52:13.196Z"
   },
   {
    "duration": 362,
    "start_time": "2023-02-28T07:52:13.446Z"
   },
   {
    "duration": 294,
    "start_time": "2023-02-28T07:52:13.810Z"
   },
   {
    "duration": 413,
    "start_time": "2023-02-28T07:52:14.106Z"
   },
   {
    "duration": 8,
    "start_time": "2023-02-28T07:52:40.770Z"
   },
   {
    "duration": 1326,
    "start_time": "2023-02-28T07:53:00.180Z"
   },
   {
    "duration": 3,
    "start_time": "2023-02-28T07:53:01.508Z"
   },
   {
    "duration": 168,
    "start_time": "2023-02-28T07:53:01.512Z"
   },
   {
    "duration": 13,
    "start_time": "2023-02-28T07:53:01.682Z"
   },
   {
    "duration": 83,
    "start_time": "2023-02-28T07:53:01.696Z"
   },
   {
    "duration": 70,
    "start_time": "2023-02-28T07:53:01.781Z"
   },
   {
    "duration": 263,
    "start_time": "2023-02-28T07:53:01.853Z"
   },
   {
    "duration": 15,
    "start_time": "2023-02-28T07:53:02.118Z"
   },
   {
    "duration": 75,
    "start_time": "2023-02-28T07:53:02.135Z"
   },
   {
    "duration": 86,
    "start_time": "2023-02-28T07:53:02.214Z"
   },
   {
    "duration": 58,
    "start_time": "2023-02-28T07:53:02.302Z"
   },
   {
    "duration": 57,
    "start_time": "2023-02-28T07:53:02.362Z"
   },
   {
    "duration": 59,
    "start_time": "2023-02-28T07:53:02.421Z"
   },
   {
    "duration": 47,
    "start_time": "2023-02-28T07:53:02.482Z"
   },
   {
    "duration": 36,
    "start_time": "2023-02-28T07:53:02.531Z"
   },
   {
    "duration": 54,
    "start_time": "2023-02-28T07:53:02.569Z"
   },
   {
    "duration": 23,
    "start_time": "2023-02-28T07:53:02.625Z"
   },
   {
    "duration": 37,
    "start_time": "2023-02-28T07:53:02.653Z"
   },
   {
    "duration": 27,
    "start_time": "2023-02-28T07:53:02.693Z"
   },
   {
    "duration": 47,
    "start_time": "2023-02-28T07:53:02.723Z"
   },
   {
    "duration": 14,
    "start_time": "2023-02-28T07:53:02.773Z"
   },
   {
    "duration": 35,
    "start_time": "2023-02-28T07:53:02.790Z"
   },
   {
    "duration": 20,
    "start_time": "2023-02-28T07:53:02.828Z"
   },
   {
    "duration": 24,
    "start_time": "2023-02-28T07:53:02.850Z"
   },
   {
    "duration": 20,
    "start_time": "2023-02-28T07:53:02.877Z"
   },
   {
    "duration": 225,
    "start_time": "2023-02-28T07:53:02.899Z"
   },
   {
    "duration": 9,
    "start_time": "2023-02-28T07:53:03.126Z"
   },
   {
    "duration": 154,
    "start_time": "2023-02-28T07:53:03.139Z"
   },
   {
    "duration": 8,
    "start_time": "2023-02-28T07:53:03.295Z"
   },
   {
    "duration": 23,
    "start_time": "2023-02-28T07:53:03.304Z"
   },
   {
    "duration": 43,
    "start_time": "2023-02-28T07:53:03.329Z"
   },
   {
    "duration": 9,
    "start_time": "2023-02-28T07:53:03.374Z"
   },
   {
    "duration": 18,
    "start_time": "2023-02-28T07:53:03.386Z"
   },
   {
    "duration": 52,
    "start_time": "2023-02-28T07:53:03.406Z"
   },
   {
    "duration": 460,
    "start_time": "2023-02-28T07:53:03.463Z"
   },
   {
    "duration": 348,
    "start_time": "2023-02-28T07:53:03.925Z"
   },
   {
    "duration": 432,
    "start_time": "2023-02-28T07:53:04.275Z"
   },
   {
    "duration": 379,
    "start_time": "2023-02-28T07:53:04.710Z"
   },
   {
    "duration": 488,
    "start_time": "2023-02-28T07:53:05.091Z"
   },
   {
    "duration": 248,
    "start_time": "2023-02-28T07:53:05.580Z"
   },
   {
    "duration": 241,
    "start_time": "2023-02-28T07:53:05.830Z"
   },
   {
    "duration": 5,
    "start_time": "2023-02-28T07:53:06.075Z"
   },
   {
    "duration": 453,
    "start_time": "2023-02-28T07:53:06.082Z"
   },
   {
    "duration": 233,
    "start_time": "2023-02-28T07:53:06.539Z"
   },
   {
    "duration": 247,
    "start_time": "2023-02-28T07:53:06.774Z"
   },
   {
    "duration": 20,
    "start_time": "2023-02-28T07:53:07.023Z"
   },
   {
    "duration": 43,
    "start_time": "2023-02-28T07:53:07.048Z"
   },
   {
    "duration": 17,
    "start_time": "2023-02-28T07:53:07.094Z"
   },
   {
    "duration": 6,
    "start_time": "2023-02-28T07:53:07.113Z"
   },
   {
    "duration": 13,
    "start_time": "2023-02-28T07:53:07.120Z"
   },
   {
    "duration": 58,
    "start_time": "2023-02-28T07:53:07.134Z"
   },
   {
    "duration": 55,
    "start_time": "2023-02-28T07:53:07.195Z"
   },
   {
    "duration": 20,
    "start_time": "2023-02-28T07:53:07.256Z"
   },
   {
    "duration": 18,
    "start_time": "2023-02-28T07:53:07.279Z"
   },
   {
    "duration": 17,
    "start_time": "2023-02-28T07:53:07.299Z"
   },
   {
    "duration": 41,
    "start_time": "2023-02-28T07:53:07.319Z"
   },
   {
    "duration": 17,
    "start_time": "2023-02-28T07:53:07.362Z"
   },
   {
    "duration": 10,
    "start_time": "2023-02-28T07:53:07.382Z"
   },
   {
    "duration": 29,
    "start_time": "2023-02-28T07:53:07.393Z"
   },
   {
    "duration": 10,
    "start_time": "2023-02-28T07:53:07.426Z"
   },
   {
    "duration": 24,
    "start_time": "2023-02-28T07:53:07.441Z"
   },
   {
    "duration": 13,
    "start_time": "2023-02-28T07:53:07.468Z"
   },
   {
    "duration": 19,
    "start_time": "2023-02-28T07:53:07.483Z"
   },
   {
    "duration": 219,
    "start_time": "2023-02-28T07:53:07.506Z"
   },
   {
    "duration": 145,
    "start_time": "2023-02-28T07:53:07.727Z"
   },
   {
    "duration": 8,
    "start_time": "2023-02-28T07:53:07.874Z"
   },
   {
    "duration": 13,
    "start_time": "2023-02-28T07:53:07.883Z"
   },
   {
    "duration": 20,
    "start_time": "2023-02-28T07:53:07.898Z"
   },
   {
    "duration": 369,
    "start_time": "2023-02-28T07:53:07.920Z"
   },
   {
    "duration": 486,
    "start_time": "2023-02-28T07:53:08.291Z"
   },
   {
    "duration": 433,
    "start_time": "2023-02-28T07:53:08.779Z"
   },
   {
    "duration": 507,
    "start_time": "2023-02-28T07:53:09.215Z"
   },
   {
    "duration": 391,
    "start_time": "2023-02-28T07:54:09.429Z"
   },
   {
    "duration": 354,
    "start_time": "2023-02-28T08:00:26.830Z"
   },
   {
    "duration": 572,
    "start_time": "2023-02-28T08:00:34.728Z"
   },
   {
    "duration": 333,
    "start_time": "2023-02-28T08:00:43.107Z"
   },
   {
    "duration": 518,
    "start_time": "2023-02-28T08:00:51.123Z"
   },
   {
    "duration": 240,
    "start_time": "2023-02-28T08:01:34.638Z"
   },
   {
    "duration": 219,
    "start_time": "2023-02-28T08:02:33.760Z"
   },
   {
    "duration": 415,
    "start_time": "2023-02-28T08:03:01.180Z"
   },
   {
    "duration": 376,
    "start_time": "2023-02-28T08:03:22.284Z"
   },
   {
    "duration": 509,
    "start_time": "2023-02-28T08:03:34.769Z"
   },
   {
    "duration": 438,
    "start_time": "2023-02-28T08:03:44.664Z"
   },
   {
    "duration": 498,
    "start_time": "2023-02-28T08:03:55.465Z"
   },
   {
    "duration": 7,
    "start_time": "2023-02-28T08:07:59.018Z"
   },
   {
    "duration": 302,
    "start_time": "2023-02-28T08:08:06.558Z"
   },
   {
    "duration": 438,
    "start_time": "2023-02-28T08:10:09.557Z"
   },
   {
    "duration": 1340,
    "start_time": "2023-02-28T08:12:41.174Z"
   },
   {
    "duration": 3,
    "start_time": "2023-02-28T08:12:42.516Z"
   },
   {
    "duration": 97,
    "start_time": "2023-02-28T08:12:42.521Z"
   },
   {
    "duration": 12,
    "start_time": "2023-02-28T08:12:42.621Z"
   },
   {
    "duration": 27,
    "start_time": "2023-02-28T08:12:42.635Z"
   },
   {
    "duration": 24,
    "start_time": "2023-02-28T08:12:42.666Z"
   },
   {
    "duration": 179,
    "start_time": "2023-02-28T08:12:42.692Z"
   },
   {
    "duration": 14,
    "start_time": "2023-02-28T08:12:42.873Z"
   },
   {
    "duration": 17,
    "start_time": "2023-02-28T08:12:42.889Z"
   },
   {
    "duration": 12,
    "start_time": "2023-02-28T08:12:42.910Z"
   },
   {
    "duration": 26,
    "start_time": "2023-02-28T08:12:42.924Z"
   },
   {
    "duration": 29,
    "start_time": "2023-02-28T08:12:42.952Z"
   },
   {
    "duration": 24,
    "start_time": "2023-02-28T08:12:42.983Z"
   },
   {
    "duration": 18,
    "start_time": "2023-02-28T08:12:43.009Z"
   },
   {
    "duration": 7,
    "start_time": "2023-02-28T08:12:43.029Z"
   },
   {
    "duration": 38,
    "start_time": "2023-02-28T08:12:43.038Z"
   },
   {
    "duration": 12,
    "start_time": "2023-02-28T08:12:43.078Z"
   },
   {
    "duration": 35,
    "start_time": "2023-02-28T08:12:43.092Z"
   },
   {
    "duration": 32,
    "start_time": "2023-02-28T08:12:43.129Z"
   },
   {
    "duration": 14,
    "start_time": "2023-02-28T08:12:43.163Z"
   },
   {
    "duration": 11,
    "start_time": "2023-02-28T08:12:43.179Z"
   },
   {
    "duration": 21,
    "start_time": "2023-02-28T08:12:43.192Z"
   },
   {
    "duration": 8,
    "start_time": "2023-02-28T08:12:43.215Z"
   },
   {
    "duration": 21,
    "start_time": "2023-02-28T08:12:43.224Z"
   },
   {
    "duration": 21,
    "start_time": "2023-02-28T08:12:43.251Z"
   },
   {
    "duration": 199,
    "start_time": "2023-02-28T08:12:43.274Z"
   },
   {
    "duration": 10,
    "start_time": "2023-02-28T08:12:43.475Z"
   },
   {
    "duration": 139,
    "start_time": "2023-02-28T08:12:43.489Z"
   },
   {
    "duration": 18,
    "start_time": "2023-02-28T08:12:43.630Z"
   },
   {
    "duration": 44,
    "start_time": "2023-02-28T08:12:43.650Z"
   },
   {
    "duration": 14,
    "start_time": "2023-02-28T08:12:43.697Z"
   },
   {
    "duration": 5,
    "start_time": "2023-02-28T08:12:43.713Z"
   },
   {
    "duration": 18,
    "start_time": "2023-02-28T08:12:43.720Z"
   },
   {
    "duration": 43,
    "start_time": "2023-02-28T08:12:43.744Z"
   },
   {
    "duration": 470,
    "start_time": "2023-02-28T08:12:43.789Z"
   },
   {
    "duration": 351,
    "start_time": "2023-02-28T08:12:44.261Z"
   },
   {
    "duration": 462,
    "start_time": "2023-02-28T08:12:44.614Z"
   },
   {
    "duration": 347,
    "start_time": "2023-02-28T08:12:45.078Z"
   },
   {
    "duration": 477,
    "start_time": "2023-02-28T08:12:45.427Z"
   },
   {
    "duration": 261,
    "start_time": "2023-02-28T08:12:45.906Z"
   },
   {
    "duration": 203,
    "start_time": "2023-02-28T08:12:46.169Z"
   },
   {
    "duration": 5,
    "start_time": "2023-02-28T08:12:46.374Z"
   },
   {
    "duration": 584,
    "start_time": "2023-02-28T08:12:46.381Z"
   },
   {
    "duration": 236,
    "start_time": "2023-02-28T08:12:46.967Z"
   },
   {
    "duration": 258,
    "start_time": "2023-02-28T08:12:47.205Z"
   },
   {
    "duration": 4,
    "start_time": "2023-02-28T08:12:47.465Z"
   },
   {
    "duration": 16,
    "start_time": "2023-02-28T08:12:47.471Z"
   },
   {
    "duration": 11,
    "start_time": "2023-02-28T08:12:47.489Z"
   },
   {
    "duration": 6,
    "start_time": "2023-02-28T08:12:47.502Z"
   },
   {
    "duration": 63,
    "start_time": "2023-02-28T08:12:47.510Z"
   },
   {
    "duration": 15,
    "start_time": "2023-02-28T08:12:47.574Z"
   },
   {
    "duration": 33,
    "start_time": "2023-02-28T08:12:47.592Z"
   },
   {
    "duration": 8,
    "start_time": "2023-02-28T08:12:47.627Z"
   },
   {
    "duration": 47,
    "start_time": "2023-02-28T08:12:47.637Z"
   },
   {
    "duration": 15,
    "start_time": "2023-02-28T08:12:47.686Z"
   },
   {
    "duration": 9,
    "start_time": "2023-02-28T08:12:47.703Z"
   },
   {
    "duration": 15,
    "start_time": "2023-02-28T08:12:47.714Z"
   },
   {
    "duration": 57,
    "start_time": "2023-02-28T08:12:47.731Z"
   },
   {
    "duration": 29,
    "start_time": "2023-02-28T08:12:47.790Z"
   },
   {
    "duration": 10,
    "start_time": "2023-02-28T08:12:47.822Z"
   },
   {
    "duration": 13,
    "start_time": "2023-02-28T08:12:47.834Z"
   },
   {
    "duration": 39,
    "start_time": "2023-02-28T08:12:47.852Z"
   },
   {
    "duration": 18,
    "start_time": "2023-02-28T08:12:47.894Z"
   },
   {
    "duration": 274,
    "start_time": "2023-02-28T08:12:47.915Z"
   },
   {
    "duration": 167,
    "start_time": "2023-02-28T08:12:48.192Z"
   },
   {
    "duration": 12,
    "start_time": "2023-02-28T08:12:48.368Z"
   },
   {
    "duration": 12,
    "start_time": "2023-02-28T08:12:48.383Z"
   },
   {
    "duration": 24,
    "start_time": "2023-02-28T08:12:48.397Z"
   },
   {
    "duration": 425,
    "start_time": "2023-02-28T08:12:48.423Z"
   },
   {
    "duration": 471,
    "start_time": "2023-02-28T08:12:48.851Z"
   },
   {
    "duration": 391,
    "start_time": "2023-02-28T08:12:49.325Z"
   },
   {
    "duration": 502,
    "start_time": "2023-02-28T08:12:49.718Z"
   },
   {
    "duration": 254,
    "start_time": "2023-02-28T08:15:07.297Z"
   },
   {
    "duration": 1382,
    "start_time": "2023-02-28T08:15:15.137Z"
   },
   {
    "duration": 4,
    "start_time": "2023-02-28T08:15:16.521Z"
   },
   {
    "duration": 81,
    "start_time": "2023-02-28T08:15:16.526Z"
   },
   {
    "duration": 11,
    "start_time": "2023-02-28T08:15:16.609Z"
   },
   {
    "duration": 13,
    "start_time": "2023-02-28T08:15:16.622Z"
   },
   {
    "duration": 18,
    "start_time": "2023-02-28T08:15:16.637Z"
   },
   {
    "duration": 199,
    "start_time": "2023-02-28T08:15:16.662Z"
   },
   {
    "duration": 13,
    "start_time": "2023-02-28T08:15:16.864Z"
   },
   {
    "duration": 22,
    "start_time": "2023-02-28T08:15:16.879Z"
   },
   {
    "duration": 17,
    "start_time": "2023-02-28T08:15:16.903Z"
   },
   {
    "duration": 16,
    "start_time": "2023-02-28T08:15:16.922Z"
   },
   {
    "duration": 42,
    "start_time": "2023-02-28T08:15:16.940Z"
   },
   {
    "duration": 30,
    "start_time": "2023-02-28T08:15:16.984Z"
   },
   {
    "duration": 18,
    "start_time": "2023-02-28T08:15:17.018Z"
   },
   {
    "duration": 38,
    "start_time": "2023-02-28T08:15:17.038Z"
   },
   {
    "duration": 42,
    "start_time": "2023-02-28T08:15:17.079Z"
   },
   {
    "duration": 14,
    "start_time": "2023-02-28T08:15:17.123Z"
   },
   {
    "duration": 33,
    "start_time": "2023-02-28T08:15:17.139Z"
   },
   {
    "duration": 30,
    "start_time": "2023-02-28T08:15:17.174Z"
   },
   {
    "duration": 18,
    "start_time": "2023-02-28T08:15:17.207Z"
   },
   {
    "duration": 38,
    "start_time": "2023-02-28T08:15:17.227Z"
   },
   {
    "duration": 42,
    "start_time": "2023-02-28T08:15:17.268Z"
   },
   {
    "duration": 30,
    "start_time": "2023-02-28T08:15:17.313Z"
   },
   {
    "duration": 25,
    "start_time": "2023-02-28T08:15:17.348Z"
   },
   {
    "duration": 16,
    "start_time": "2023-02-28T08:15:17.375Z"
   },
   {
    "duration": 212,
    "start_time": "2023-02-28T08:15:17.394Z"
   },
   {
    "duration": 9,
    "start_time": "2023-02-28T08:15:17.608Z"
   },
   {
    "duration": 140,
    "start_time": "2023-02-28T08:15:17.619Z"
   },
   {
    "duration": 10,
    "start_time": "2023-02-28T08:15:17.762Z"
   },
   {
    "duration": 8,
    "start_time": "2023-02-28T08:15:17.775Z"
   },
   {
    "duration": 21,
    "start_time": "2023-02-28T08:15:17.785Z"
   },
   {
    "duration": 8,
    "start_time": "2023-02-28T08:15:17.808Z"
   },
   {
    "duration": 34,
    "start_time": "2023-02-28T08:15:17.818Z"
   },
   {
    "duration": 30,
    "start_time": "2023-02-28T08:15:17.853Z"
   },
   {
    "duration": 448,
    "start_time": "2023-02-28T08:15:17.886Z"
   },
   {
    "duration": 330,
    "start_time": "2023-02-28T08:15:18.339Z"
   },
   {
    "duration": 489,
    "start_time": "2023-02-28T08:15:18.672Z"
   },
   {
    "duration": 439,
    "start_time": "2023-02-28T08:15:19.171Z"
   },
   {
    "duration": 486,
    "start_time": "2023-02-28T08:15:19.612Z"
   },
   {
    "duration": 232,
    "start_time": "2023-02-28T08:15:20.100Z"
   },
   {
    "duration": 207,
    "start_time": "2023-02-28T08:15:20.336Z"
   },
   {
    "duration": 10,
    "start_time": "2023-02-28T08:15:20.551Z"
   },
   {
    "duration": 429,
    "start_time": "2023-02-28T08:15:20.563Z"
   },
   {
    "duration": 282,
    "start_time": "2023-02-28T08:15:20.994Z"
   },
   {
    "duration": 272,
    "start_time": "2023-02-28T08:15:21.279Z"
   },
   {
    "duration": 9,
    "start_time": "2023-02-28T08:15:21.553Z"
   },
   {
    "duration": 18,
    "start_time": "2023-02-28T08:15:21.564Z"
   },
   {
    "duration": 15,
    "start_time": "2023-02-28T08:15:21.584Z"
   },
   {
    "duration": 8,
    "start_time": "2023-02-28T08:15:21.602Z"
   },
   {
    "duration": 36,
    "start_time": "2023-02-28T08:15:21.612Z"
   },
   {
    "duration": 29,
    "start_time": "2023-02-28T08:15:21.650Z"
   },
   {
    "duration": 52,
    "start_time": "2023-02-28T08:15:21.681Z"
   },
   {
    "duration": 11,
    "start_time": "2023-02-28T08:15:21.735Z"
   },
   {
    "duration": 35,
    "start_time": "2023-02-28T08:15:21.747Z"
   },
   {
    "duration": 10,
    "start_time": "2023-02-28T08:15:21.784Z"
   },
   {
    "duration": 12,
    "start_time": "2023-02-28T08:15:21.796Z"
   },
   {
    "duration": 13,
    "start_time": "2023-02-28T08:15:21.810Z"
   },
   {
    "duration": 10,
    "start_time": "2023-02-28T08:15:21.825Z"
   },
   {
    "duration": 49,
    "start_time": "2023-02-28T08:15:21.837Z"
   },
   {
    "duration": 8,
    "start_time": "2023-02-28T08:15:21.889Z"
   },
   {
    "duration": 39,
    "start_time": "2023-02-28T08:15:21.899Z"
   },
   {
    "duration": 54,
    "start_time": "2023-02-28T08:15:21.941Z"
   },
   {
    "duration": 8,
    "start_time": "2023-02-28T08:15:21.997Z"
   },
   {
    "duration": 184,
    "start_time": "2023-02-28T08:15:22.007Z"
   },
   {
    "duration": 136,
    "start_time": "2023-02-28T08:15:22.192Z"
   },
   {
    "duration": 27,
    "start_time": "2023-02-28T08:15:22.330Z"
   },
   {
    "duration": 11,
    "start_time": "2023-02-28T08:15:22.360Z"
   },
   {
    "duration": 18,
    "start_time": "2023-02-28T08:15:22.373Z"
   },
   {
    "duration": 311,
    "start_time": "2023-02-28T08:15:22.393Z"
   },
   {
    "duration": 466,
    "start_time": "2023-02-28T08:15:22.706Z"
   },
   {
    "duration": 359,
    "start_time": "2023-02-28T08:15:23.173Z"
   },
   {
    "duration": 456,
    "start_time": "2023-02-28T08:15:23.541Z"
   },
   {
    "duration": 1236,
    "start_time": "2023-02-28T18:00:36.162Z"
   },
   {
    "duration": 3,
    "start_time": "2023-02-28T18:00:37.400Z"
   },
   {
    "duration": 77,
    "start_time": "2023-02-28T18:00:37.405Z"
   },
   {
    "duration": 11,
    "start_time": "2023-02-28T18:00:37.484Z"
   },
   {
    "duration": 22,
    "start_time": "2023-02-28T18:00:37.496Z"
   },
   {
    "duration": 11,
    "start_time": "2023-02-28T18:00:37.520Z"
   },
   {
    "duration": 138,
    "start_time": "2023-02-28T18:00:37.533Z"
   },
   {
    "duration": 12,
    "start_time": "2023-02-28T18:00:37.672Z"
   },
   {
    "duration": 12,
    "start_time": "2023-02-28T18:00:37.685Z"
   },
   {
    "duration": 6,
    "start_time": "2023-02-28T18:00:37.700Z"
   },
   {
    "duration": 12,
    "start_time": "2023-02-28T18:00:37.708Z"
   },
   {
    "duration": 8,
    "start_time": "2023-02-28T18:00:37.721Z"
   },
   {
    "duration": 12,
    "start_time": "2023-02-28T18:00:37.730Z"
   },
   {
    "duration": 7,
    "start_time": "2023-02-28T18:00:37.748Z"
   },
   {
    "duration": 9,
    "start_time": "2023-02-28T18:00:37.757Z"
   },
   {
    "duration": 14,
    "start_time": "2023-02-28T18:00:37.767Z"
   },
   {
    "duration": 17,
    "start_time": "2023-02-28T18:00:37.783Z"
   },
   {
    "duration": 9,
    "start_time": "2023-02-28T18:00:37.802Z"
   },
   {
    "duration": 9,
    "start_time": "2023-02-28T18:00:37.813Z"
   },
   {
    "duration": 26,
    "start_time": "2023-02-28T18:00:37.823Z"
   },
   {
    "duration": 6,
    "start_time": "2023-02-28T18:00:37.851Z"
   },
   {
    "duration": 12,
    "start_time": "2023-02-28T18:00:37.858Z"
   },
   {
    "duration": 6,
    "start_time": "2023-02-28T18:00:37.872Z"
   },
   {
    "duration": 14,
    "start_time": "2023-02-28T18:00:37.880Z"
   },
   {
    "duration": 10,
    "start_time": "2023-02-28T18:00:37.896Z"
   },
   {
    "duration": 205,
    "start_time": "2023-02-28T18:00:37.908Z"
   },
   {
    "duration": 8,
    "start_time": "2023-02-28T18:00:38.115Z"
   },
   {
    "duration": 110,
    "start_time": "2023-02-28T18:00:38.127Z"
   },
   {
    "duration": 13,
    "start_time": "2023-02-28T18:00:38.239Z"
   },
   {
    "duration": 15,
    "start_time": "2023-02-28T18:00:38.254Z"
   },
   {
    "duration": 12,
    "start_time": "2023-02-28T18:00:38.271Z"
   },
   {
    "duration": 10,
    "start_time": "2023-02-28T18:00:38.285Z"
   },
   {
    "duration": 10,
    "start_time": "2023-02-28T18:00:38.297Z"
   },
   {
    "duration": 24,
    "start_time": "2023-02-28T18:00:38.308Z"
   },
   {
    "duration": 364,
    "start_time": "2023-02-28T18:00:38.334Z"
   },
   {
    "duration": 288,
    "start_time": "2023-02-28T18:00:38.699Z"
   },
   {
    "duration": 371,
    "start_time": "2023-02-28T18:00:38.988Z"
   },
   {
    "duration": 321,
    "start_time": "2023-02-28T18:00:39.361Z"
   },
   {
    "duration": 418,
    "start_time": "2023-02-28T18:00:39.684Z"
   },
   {
    "duration": 181,
    "start_time": "2023-02-28T18:00:40.104Z"
   },
   {
    "duration": 167,
    "start_time": "2023-02-28T18:00:40.287Z"
   },
   {
    "duration": 4,
    "start_time": "2023-02-28T18:00:40.456Z"
   },
   {
    "duration": 379,
    "start_time": "2023-02-28T18:00:40.461Z"
   },
   {
    "duration": 183,
    "start_time": "2023-02-28T18:00:40.841Z"
   },
   {
    "duration": 186,
    "start_time": "2023-02-28T18:00:41.026Z"
   },
   {
    "duration": 4,
    "start_time": "2023-02-28T18:00:41.214Z"
   },
   {
    "duration": 16,
    "start_time": "2023-02-28T18:00:41.220Z"
   },
   {
    "duration": 10,
    "start_time": "2023-02-28T18:00:41.248Z"
   },
   {
    "duration": 5,
    "start_time": "2023-02-28T18:00:41.260Z"
   },
   {
    "duration": 8,
    "start_time": "2023-02-28T18:00:41.266Z"
   },
   {
    "duration": 4,
    "start_time": "2023-02-28T18:00:41.275Z"
   },
   {
    "duration": 25,
    "start_time": "2023-02-28T18:00:41.280Z"
   },
   {
    "duration": 5,
    "start_time": "2023-02-28T18:00:41.307Z"
   },
   {
    "duration": 41,
    "start_time": "2023-02-28T18:00:41.314Z"
   },
   {
    "duration": 7,
    "start_time": "2023-02-28T18:00:41.357Z"
   },
   {
    "duration": 4,
    "start_time": "2023-02-28T18:00:41.366Z"
   },
   {
    "duration": 11,
    "start_time": "2023-02-28T18:00:41.372Z"
   },
   {
    "duration": 21,
    "start_time": "2023-02-28T18:00:41.385Z"
   },
   {
    "duration": 34,
    "start_time": "2023-02-28T18:00:41.408Z"
   },
   {
    "duration": 8,
    "start_time": "2023-02-28T18:00:41.443Z"
   },
   {
    "duration": 6,
    "start_time": "2023-02-28T18:00:41.453Z"
   },
   {
    "duration": 5,
    "start_time": "2023-02-28T18:00:41.460Z"
   },
   {
    "duration": 5,
    "start_time": "2023-02-28T18:00:41.467Z"
   },
   {
    "duration": 172,
    "start_time": "2023-02-28T18:00:41.474Z"
   },
   {
    "duration": 118,
    "start_time": "2023-02-28T18:00:41.649Z"
   },
   {
    "duration": 7,
    "start_time": "2023-02-28T18:00:41.768Z"
   },
   {
    "duration": 8,
    "start_time": "2023-02-28T18:00:41.776Z"
   },
   {
    "duration": 22,
    "start_time": "2023-02-28T18:00:41.785Z"
   },
   {
    "duration": 292,
    "start_time": "2023-02-28T18:00:41.808Z"
   },
   {
    "duration": 359,
    "start_time": "2023-02-28T18:00:42.102Z"
   },
   {
    "duration": 300,
    "start_time": "2023-02-28T18:00:42.463Z"
   },
   {
    "duration": 400,
    "start_time": "2023-02-28T18:00:42.765Z"
   },
   {
    "duration": 254,
    "start_time": "2023-02-28T18:03:31.672Z"
   },
   {
    "duration": 285,
    "start_time": "2023-02-28T18:03:36.478Z"
   },
   {
    "duration": 1150,
    "start_time": "2023-02-28T18:06:33.475Z"
   },
   {
    "duration": 3,
    "start_time": "2023-02-28T18:06:34.627Z"
   },
   {
    "duration": 71,
    "start_time": "2023-02-28T18:06:34.631Z"
   },
   {
    "duration": 11,
    "start_time": "2023-02-28T18:06:34.704Z"
   },
   {
    "duration": 11,
    "start_time": "2023-02-28T18:06:34.717Z"
   },
   {
    "duration": 11,
    "start_time": "2023-02-28T18:06:34.729Z"
   },
   {
    "duration": 121,
    "start_time": "2023-02-28T18:06:34.742Z"
   },
   {
    "duration": 11,
    "start_time": "2023-02-28T18:06:34.864Z"
   },
   {
    "duration": 10,
    "start_time": "2023-02-28T18:06:34.877Z"
   },
   {
    "duration": 8,
    "start_time": "2023-02-28T18:06:34.889Z"
   },
   {
    "duration": 12,
    "start_time": "2023-02-28T18:06:34.898Z"
   },
   {
    "duration": 8,
    "start_time": "2023-02-28T18:06:34.912Z"
   },
   {
    "duration": 12,
    "start_time": "2023-02-28T18:06:34.921Z"
   },
   {
    "duration": 7,
    "start_time": "2023-02-28T18:06:34.948Z"
   },
   {
    "duration": 19,
    "start_time": "2023-02-28T18:06:34.956Z"
   },
   {
    "duration": 14,
    "start_time": "2023-02-28T18:06:34.976Z"
   },
   {
    "duration": 10,
    "start_time": "2023-02-28T18:06:34.991Z"
   },
   {
    "duration": 6,
    "start_time": "2023-02-28T18:06:35.002Z"
   },
   {
    "duration": 15,
    "start_time": "2023-02-28T18:06:35.010Z"
   },
   {
    "duration": 12,
    "start_time": "2023-02-28T18:06:35.026Z"
   },
   {
    "duration": 16,
    "start_time": "2023-02-28T18:06:35.039Z"
   },
   {
    "duration": 31,
    "start_time": "2023-02-28T18:06:35.056Z"
   },
   {
    "duration": 18,
    "start_time": "2023-02-28T18:06:35.088Z"
   },
   {
    "duration": 15,
    "start_time": "2023-02-28T18:06:35.107Z"
   },
   {
    "duration": 17,
    "start_time": "2023-02-28T18:06:35.123Z"
   },
   {
    "duration": 170,
    "start_time": "2023-02-28T18:06:35.142Z"
   },
   {
    "duration": 8,
    "start_time": "2023-02-28T18:06:35.314Z"
   },
   {
    "duration": 117,
    "start_time": "2023-02-28T18:06:35.323Z"
   },
   {
    "duration": 10,
    "start_time": "2023-02-28T18:06:35.448Z"
   },
   {
    "duration": 7,
    "start_time": "2023-02-28T18:06:35.460Z"
   },
   {
    "duration": 19,
    "start_time": "2023-02-28T18:06:35.469Z"
   },
   {
    "duration": 16,
    "start_time": "2023-02-28T18:06:35.490Z"
   },
   {
    "duration": 20,
    "start_time": "2023-02-28T18:06:35.508Z"
   },
   {
    "duration": 23,
    "start_time": "2023-02-28T18:06:35.530Z"
   },
   {
    "duration": 374,
    "start_time": "2023-02-28T18:06:35.555Z"
   },
   {
    "duration": 288,
    "start_time": "2023-02-28T18:06:35.931Z"
   },
   {
    "duration": 459,
    "start_time": "2023-02-28T18:06:36.220Z"
   },
   {
    "duration": 298,
    "start_time": "2023-02-28T18:06:36.681Z"
   },
   {
    "duration": 403,
    "start_time": "2023-02-28T18:06:36.981Z"
   },
   {
    "duration": 190,
    "start_time": "2023-02-28T18:06:37.386Z"
   },
   {
    "duration": 178,
    "start_time": "2023-02-28T18:06:37.582Z"
   },
   {
    "duration": 4,
    "start_time": "2023-02-28T18:06:37.763Z"
   },
   {
    "duration": 385,
    "start_time": "2023-02-28T18:06:37.768Z"
   },
   {
    "duration": 198,
    "start_time": "2023-02-28T18:06:38.155Z"
   },
   {
    "duration": 183,
    "start_time": "2023-02-28T18:06:38.354Z"
   },
   {
    "duration": 10,
    "start_time": "2023-02-28T18:06:38.539Z"
   },
   {
    "duration": 14,
    "start_time": "2023-02-28T18:06:38.551Z"
   },
   {
    "duration": 12,
    "start_time": "2023-02-28T18:06:38.566Z"
   },
   {
    "duration": 5,
    "start_time": "2023-02-28T18:06:38.580Z"
   },
   {
    "duration": 7,
    "start_time": "2023-02-28T18:06:38.586Z"
   },
   {
    "duration": 4,
    "start_time": "2023-02-28T18:06:38.595Z"
   },
   {
    "duration": 54,
    "start_time": "2023-02-28T18:06:38.601Z"
   },
   {
    "duration": 6,
    "start_time": "2023-02-28T18:06:38.657Z"
   },
   {
    "duration": 9,
    "start_time": "2023-02-28T18:06:38.665Z"
   },
   {
    "duration": 10,
    "start_time": "2023-02-28T18:06:38.676Z"
   },
   {
    "duration": 6,
    "start_time": "2023-02-28T18:06:38.688Z"
   },
   {
    "duration": 10,
    "start_time": "2023-02-28T18:06:38.695Z"
   },
   {
    "duration": 5,
    "start_time": "2023-02-28T18:06:38.707Z"
   },
   {
    "duration": 51,
    "start_time": "2023-02-28T18:06:38.713Z"
   },
   {
    "duration": 6,
    "start_time": "2023-02-28T18:06:38.766Z"
   },
   {
    "duration": 8,
    "start_time": "2023-02-28T18:06:38.773Z"
   },
   {
    "duration": 6,
    "start_time": "2023-02-28T18:06:38.783Z"
   },
   {
    "duration": 5,
    "start_time": "2023-02-28T18:06:38.790Z"
   },
   {
    "duration": 173,
    "start_time": "2023-02-28T18:06:38.797Z"
   },
   {
    "duration": 117,
    "start_time": "2023-02-28T18:06:38.971Z"
   },
   {
    "duration": 6,
    "start_time": "2023-02-28T18:06:39.089Z"
   },
   {
    "duration": 3,
    "start_time": "2023-02-28T18:06:39.096Z"
   },
   {
    "duration": 9,
    "start_time": "2023-02-28T18:06:39.101Z"
   },
   {
    "duration": 293,
    "start_time": "2023-02-28T18:06:39.112Z"
   },
   {
    "duration": 367,
    "start_time": "2023-02-28T18:06:39.406Z"
   },
   {
    "duration": 309,
    "start_time": "2023-02-28T18:06:39.775Z"
   },
   {
    "duration": 384,
    "start_time": "2023-02-28T18:06:40.085Z"
   },
   {
    "duration": 55,
    "start_time": "2023-03-20T15:05:53.319Z"
   },
   {
    "duration": 1143,
    "start_time": "2023-03-20T15:05:59.233Z"
   },
   {
    "duration": 3,
    "start_time": "2023-03-20T15:06:00.436Z"
   },
   {
    "duration": 1268,
    "start_time": "2023-04-26T13:55:32.334Z"
   },
   {
    "duration": 2,
    "start_time": "2023-04-26T13:55:33.604Z"
   },
   {
    "duration": 121,
    "start_time": "2023-04-26T13:55:33.608Z"
   },
   {
    "duration": 11,
    "start_time": "2023-04-26T13:55:33.731Z"
   },
   {
    "duration": 14,
    "start_time": "2023-04-26T13:55:33.744Z"
   },
   {
    "duration": 16,
    "start_time": "2023-04-26T13:55:33.760Z"
   },
   {
    "duration": 221,
    "start_time": "2023-04-26T13:55:33.778Z"
   },
   {
    "duration": 12,
    "start_time": "2023-04-26T13:55:34.001Z"
   },
   {
    "duration": 12,
    "start_time": "2023-04-26T13:55:34.014Z"
   },
   {
    "duration": 12,
    "start_time": "2023-04-26T13:55:34.030Z"
   },
   {
    "duration": 35,
    "start_time": "2023-04-26T13:55:34.043Z"
   },
   {
    "duration": 48,
    "start_time": "2023-04-26T13:55:34.080Z"
   },
   {
    "duration": 33,
    "start_time": "2023-04-26T13:55:34.130Z"
   },
   {
    "duration": 24,
    "start_time": "2023-04-26T13:55:34.165Z"
   },
   {
    "duration": 32,
    "start_time": "2023-04-26T13:55:34.191Z"
   },
   {
    "duration": 21,
    "start_time": "2023-04-26T13:55:34.225Z"
   },
   {
    "duration": 43,
    "start_time": "2023-04-26T13:55:34.247Z"
   },
   {
    "duration": 42,
    "start_time": "2023-04-26T13:55:34.291Z"
   },
   {
    "duration": 29,
    "start_time": "2023-04-26T13:55:34.335Z"
   },
   {
    "duration": 49,
    "start_time": "2023-04-26T13:55:34.366Z"
   },
   {
    "duration": 30,
    "start_time": "2023-04-26T13:55:34.417Z"
   },
   {
    "duration": 84,
    "start_time": "2023-04-26T13:55:34.449Z"
   },
   {
    "duration": 47,
    "start_time": "2023-04-26T13:55:34.535Z"
   },
   {
    "duration": 96,
    "start_time": "2023-04-26T13:55:34.584Z"
   },
   {
    "duration": 106,
    "start_time": "2023-04-26T13:55:34.683Z"
   },
   {
    "duration": 213,
    "start_time": "2023-04-26T13:55:34.791Z"
   },
   {
    "duration": 7,
    "start_time": "2023-04-26T13:55:35.006Z"
   },
   {
    "duration": 149,
    "start_time": "2023-04-26T13:55:35.017Z"
   },
   {
    "duration": 8,
    "start_time": "2023-04-26T13:55:35.167Z"
   },
   {
    "duration": 28,
    "start_time": "2023-04-26T13:55:35.176Z"
   },
   {
    "duration": 45,
    "start_time": "2023-04-26T13:55:35.206Z"
   },
   {
    "duration": 24,
    "start_time": "2023-04-26T13:55:35.253Z"
   },
   {
    "duration": 25,
    "start_time": "2023-04-26T13:55:35.279Z"
   },
   {
    "duration": 127,
    "start_time": "2023-04-26T13:55:35.306Z"
   },
   {
    "duration": 410,
    "start_time": "2023-04-26T13:55:35.435Z"
   },
   {
    "duration": 315,
    "start_time": "2023-04-26T13:55:35.846Z"
   },
   {
    "duration": 411,
    "start_time": "2023-04-26T13:55:36.163Z"
   },
   {
    "duration": 312,
    "start_time": "2023-04-26T13:55:36.576Z"
   },
   {
    "duration": 406,
    "start_time": "2023-04-26T13:55:36.889Z"
   },
   {
    "duration": 186,
    "start_time": "2023-04-26T13:55:37.297Z"
   },
   {
    "duration": 175,
    "start_time": "2023-04-26T13:55:37.485Z"
   },
   {
    "duration": 4,
    "start_time": "2023-04-26T13:55:37.662Z"
   },
   {
    "duration": 384,
    "start_time": "2023-04-26T13:55:37.667Z"
   },
   {
    "duration": 201,
    "start_time": "2023-04-26T13:55:38.053Z"
   },
   {
    "duration": 180,
    "start_time": "2023-04-26T13:55:38.258Z"
   },
   {
    "duration": 4,
    "start_time": "2023-04-26T13:55:38.440Z"
   },
   {
    "duration": 21,
    "start_time": "2023-04-26T13:55:38.447Z"
   },
   {
    "duration": 11,
    "start_time": "2023-04-26T13:55:38.470Z"
   },
   {
    "duration": 5,
    "start_time": "2023-04-26T13:55:38.483Z"
   },
   {
    "duration": 12,
    "start_time": "2023-04-26T13:55:38.490Z"
   },
   {
    "duration": 5,
    "start_time": "2023-04-26T13:55:38.503Z"
   },
   {
    "duration": 33,
    "start_time": "2023-04-26T13:55:38.510Z"
   },
   {
    "duration": 5,
    "start_time": "2023-04-26T13:55:38.560Z"
   },
   {
    "duration": 14,
    "start_time": "2023-04-26T13:55:38.567Z"
   },
   {
    "duration": 9,
    "start_time": "2023-04-26T13:55:38.583Z"
   },
   {
    "duration": 14,
    "start_time": "2023-04-26T13:55:38.594Z"
   },
   {
    "duration": 19,
    "start_time": "2023-04-26T13:55:38.610Z"
   },
   {
    "duration": 5,
    "start_time": "2023-04-26T13:55:38.630Z"
   },
   {
    "duration": 27,
    "start_time": "2023-04-26T13:55:38.637Z"
   },
   {
    "duration": 6,
    "start_time": "2023-04-26T13:55:38.665Z"
   },
   {
    "duration": 44,
    "start_time": "2023-04-26T13:55:38.673Z"
   },
   {
    "duration": 23,
    "start_time": "2023-04-26T13:55:38.719Z"
   },
   {
    "duration": 9,
    "start_time": "2023-04-26T13:55:38.744Z"
   },
   {
    "duration": 167,
    "start_time": "2023-04-26T13:55:38.755Z"
   },
   {
    "duration": 120,
    "start_time": "2023-04-26T13:55:38.924Z"
   },
   {
    "duration": 39,
    "start_time": "2023-04-26T13:55:39.046Z"
   },
   {
    "duration": 5,
    "start_time": "2023-04-26T13:55:39.087Z"
   },
   {
    "duration": 10,
    "start_time": "2023-04-26T13:55:39.094Z"
   },
   {
    "duration": 299,
    "start_time": "2023-04-26T13:55:39.106Z"
   },
   {
    "duration": 470,
    "start_time": "2023-04-26T13:55:39.407Z"
   },
   {
    "duration": 333,
    "start_time": "2023-04-26T13:55:39.880Z"
   },
   {
    "duration": 399,
    "start_time": "2023-04-26T13:55:40.215Z"
   },
   {
    "duration": 5,
    "start_time": "2023-04-26T13:56:04.653Z"
   },
   {
    "duration": 4,
    "start_time": "2023-04-26T13:57:52.454Z"
   },
   {
    "duration": 5,
    "start_time": "2023-04-26T13:58:13.063Z"
   },
   {
    "duration": 1226,
    "start_time": "2023-05-04T12:43:33.785Z"
   },
   {
    "duration": 3,
    "start_time": "2023-05-04T12:43:35.013Z"
   },
   {
    "duration": 156,
    "start_time": "2023-05-04T12:43:35.017Z"
   },
   {
    "duration": 11,
    "start_time": "2023-05-04T12:43:35.176Z"
   },
   {
    "duration": 25,
    "start_time": "2023-05-04T12:43:35.188Z"
   },
   {
    "duration": 22,
    "start_time": "2023-05-04T12:43:35.215Z"
   },
   {
    "duration": 271,
    "start_time": "2023-05-04T12:43:35.239Z"
   },
   {
    "duration": 14,
    "start_time": "2023-05-04T12:43:35.512Z"
   },
   {
    "duration": 17,
    "start_time": "2023-05-04T12:43:35.528Z"
   },
   {
    "duration": 86,
    "start_time": "2023-05-04T12:43:35.547Z"
   },
   {
    "duration": 25,
    "start_time": "2023-05-04T12:43:35.635Z"
   },
   {
    "duration": 45,
    "start_time": "2023-05-04T12:43:35.665Z"
   },
   {
    "duration": 34,
    "start_time": "2023-05-04T12:43:35.713Z"
   },
   {
    "duration": 30,
    "start_time": "2023-05-04T12:43:35.756Z"
   },
   {
    "duration": 16,
    "start_time": "2023-05-04T12:43:35.788Z"
   },
   {
    "duration": 27,
    "start_time": "2023-05-04T12:43:35.805Z"
   },
   {
    "duration": 8,
    "start_time": "2023-05-04T12:43:35.834Z"
   },
   {
    "duration": 27,
    "start_time": "2023-05-04T12:43:35.844Z"
   },
   {
    "duration": 36,
    "start_time": "2023-05-04T12:43:35.873Z"
   },
   {
    "duration": 16,
    "start_time": "2023-05-04T12:43:35.911Z"
   },
   {
    "duration": 10,
    "start_time": "2023-05-04T12:43:35.928Z"
   },
   {
    "duration": 24,
    "start_time": "2023-05-04T12:43:35.939Z"
   },
   {
    "duration": 16,
    "start_time": "2023-05-04T12:43:35.965Z"
   },
   {
    "duration": 29,
    "start_time": "2023-05-04T12:43:35.983Z"
   },
   {
    "duration": 29,
    "start_time": "2023-05-04T12:43:36.014Z"
   },
   {
    "duration": 200,
    "start_time": "2023-05-04T12:43:36.045Z"
   },
   {
    "duration": 20,
    "start_time": "2023-05-04T12:43:36.246Z"
   },
   {
    "duration": 110,
    "start_time": "2023-05-04T12:43:36.271Z"
   },
   {
    "duration": 8,
    "start_time": "2023-05-04T12:43:36.382Z"
   },
   {
    "duration": 14,
    "start_time": "2023-05-04T12:43:36.391Z"
   },
   {
    "duration": 26,
    "start_time": "2023-05-04T12:43:36.406Z"
   },
   {
    "duration": 11,
    "start_time": "2023-05-04T12:43:36.434Z"
   },
   {
    "duration": 28,
    "start_time": "2023-05-04T12:43:36.446Z"
   },
   {
    "duration": 25,
    "start_time": "2023-05-04T12:43:36.476Z"
   },
   {
    "duration": 367,
    "start_time": "2023-05-04T12:43:36.503Z"
   },
   {
    "duration": 296,
    "start_time": "2023-05-04T12:43:36.872Z"
   },
   {
    "duration": 359,
    "start_time": "2023-05-04T12:43:37.170Z"
   },
   {
    "duration": 296,
    "start_time": "2023-05-04T12:43:37.530Z"
   },
   {
    "duration": 408,
    "start_time": "2023-05-04T12:43:37.828Z"
   },
   {
    "duration": 174,
    "start_time": "2023-05-04T12:43:38.237Z"
   },
   {
    "duration": 168,
    "start_time": "2023-05-04T12:43:38.413Z"
   },
   {
    "duration": 4,
    "start_time": "2023-05-04T12:43:38.583Z"
   },
   {
    "duration": 330,
    "start_time": "2023-05-04T12:43:38.588Z"
   },
   {
    "duration": 206,
    "start_time": "2023-05-04T12:43:38.920Z"
   },
   {
    "duration": 182,
    "start_time": "2023-05-04T12:43:39.128Z"
   },
   {
    "duration": 4,
    "start_time": "2023-05-04T12:43:39.312Z"
   },
   {
    "duration": 15,
    "start_time": "2023-05-04T12:43:39.318Z"
   },
   {
    "duration": 27,
    "start_time": "2023-05-04T12:43:39.335Z"
   },
   {
    "duration": 16,
    "start_time": "2023-05-04T12:43:39.364Z"
   },
   {
    "duration": 15,
    "start_time": "2023-05-04T12:43:39.381Z"
   },
   {
    "duration": 9,
    "start_time": "2023-05-04T12:43:39.397Z"
   },
   {
    "duration": 29,
    "start_time": "2023-05-04T12:43:39.408Z"
   },
   {
    "duration": 7,
    "start_time": "2023-05-04T12:43:39.439Z"
   },
   {
    "duration": 29,
    "start_time": "2023-05-04T12:43:39.448Z"
   },
   {
    "duration": 10,
    "start_time": "2023-05-04T12:43:39.478Z"
   },
   {
    "duration": 11,
    "start_time": "2023-05-04T12:43:39.489Z"
   },
   {
    "duration": 17,
    "start_time": "2023-05-04T12:43:39.501Z"
   },
   {
    "duration": 21,
    "start_time": "2023-05-04T12:43:39.520Z"
   },
   {
    "duration": 49,
    "start_time": "2023-05-04T12:43:39.543Z"
   },
   {
    "duration": 7,
    "start_time": "2023-05-04T12:43:39.594Z"
   },
   {
    "duration": 9,
    "start_time": "2023-05-04T12:43:39.602Z"
   },
   {
    "duration": 6,
    "start_time": "2023-05-04T12:43:39.613Z"
   },
   {
    "duration": 5,
    "start_time": "2023-05-04T12:43:39.620Z"
   },
   {
    "duration": 168,
    "start_time": "2023-05-04T12:43:39.627Z"
   },
   {
    "duration": 120,
    "start_time": "2023-05-04T12:43:39.800Z"
   },
   {
    "duration": 6,
    "start_time": "2023-05-04T12:43:39.922Z"
   },
   {
    "duration": 7,
    "start_time": "2023-05-04T12:43:39.929Z"
   },
   {
    "duration": 18,
    "start_time": "2023-05-04T12:43:39.938Z"
   },
   {
    "duration": 264,
    "start_time": "2023-05-04T12:43:39.958Z"
   },
   {
    "duration": 387,
    "start_time": "2023-05-04T12:43:40.223Z"
   },
   {
    "duration": 298,
    "start_time": "2023-05-04T12:43:40.612Z"
   },
   {
    "duration": 392,
    "start_time": "2023-05-04T12:43:40.912Z"
   },
   {
    "duration": 1280,
    "start_time": "2023-07-24T12:26:19.913Z"
   },
   {
    "duration": 4,
    "start_time": "2023-07-24T12:26:21.196Z"
   },
   {
    "duration": 158,
    "start_time": "2023-07-24T12:26:21.213Z"
   },
   {
    "duration": 12,
    "start_time": "2023-07-24T12:26:21.373Z"
   },
   {
    "duration": 18,
    "start_time": "2023-07-24T12:26:21.388Z"
   },
   {
    "duration": 44,
    "start_time": "2023-07-24T12:26:21.409Z"
   },
   {
    "duration": 254,
    "start_time": "2023-07-24T12:26:21.455Z"
   },
   {
    "duration": 24,
    "start_time": "2023-07-24T12:26:21.711Z"
   },
   {
    "duration": 9,
    "start_time": "2023-07-24T12:26:21.744Z"
   },
   {
    "duration": 18,
    "start_time": "2023-07-24T12:26:21.755Z"
   },
   {
    "duration": 53,
    "start_time": "2023-07-24T12:26:21.774Z"
   },
   {
    "duration": 77,
    "start_time": "2023-07-24T12:26:21.829Z"
   },
   {
    "duration": 32,
    "start_time": "2023-07-24T12:26:21.907Z"
   },
   {
    "duration": 17,
    "start_time": "2023-07-24T12:26:21.944Z"
   },
   {
    "duration": 36,
    "start_time": "2023-07-24T12:26:21.963Z"
   },
   {
    "duration": 42,
    "start_time": "2023-07-24T12:26:22.001Z"
   },
   {
    "duration": 30,
    "start_time": "2023-07-24T12:26:22.045Z"
   },
   {
    "duration": 32,
    "start_time": "2023-07-24T12:26:22.077Z"
   },
   {
    "duration": 26,
    "start_time": "2023-07-24T12:26:22.110Z"
   },
   {
    "duration": 41,
    "start_time": "2023-07-24T12:26:22.138Z"
   },
   {
    "duration": 13,
    "start_time": "2023-07-24T12:26:22.181Z"
   },
   {
    "duration": 56,
    "start_time": "2023-07-24T12:26:22.195Z"
   },
   {
    "duration": 35,
    "start_time": "2023-07-24T12:26:22.253Z"
   },
   {
    "duration": 16,
    "start_time": "2023-07-24T12:26:22.290Z"
   },
   {
    "duration": 24,
    "start_time": "2023-07-24T12:26:22.307Z"
   },
   {
    "duration": 193,
    "start_time": "2023-07-24T12:26:22.335Z"
   },
   {
    "duration": 22,
    "start_time": "2023-07-24T12:26:22.532Z"
   },
   {
    "duration": 147,
    "start_time": "2023-07-24T12:26:22.556Z"
   },
   {
    "duration": 22,
    "start_time": "2023-07-24T12:26:22.705Z"
   },
   {
    "duration": 29,
    "start_time": "2023-07-24T12:26:22.729Z"
   },
   {
    "duration": 30,
    "start_time": "2023-07-24T12:26:22.761Z"
   },
   {
    "duration": 31,
    "start_time": "2023-07-24T12:26:22.793Z"
   },
   {
    "duration": 24,
    "start_time": "2023-07-24T12:26:22.825Z"
   },
   {
    "duration": 47,
    "start_time": "2023-07-24T12:26:22.851Z"
   },
   {
    "duration": 492,
    "start_time": "2023-07-24T12:26:22.900Z"
   },
   {
    "duration": 352,
    "start_time": "2023-07-24T12:26:23.393Z"
   },
   {
    "duration": 414,
    "start_time": "2023-07-24T12:26:23.748Z"
   },
   {
    "duration": 335,
    "start_time": "2023-07-24T12:26:24.165Z"
   },
   {
    "duration": 452,
    "start_time": "2023-07-24T12:26:24.501Z"
   },
   {
    "duration": 197,
    "start_time": "2023-07-24T12:26:24.955Z"
   },
   {
    "duration": 186,
    "start_time": "2023-07-24T12:26:25.158Z"
   },
   {
    "duration": 104,
    "start_time": "2023-07-24T12:26:25.346Z"
   },
   {
    "duration": 470,
    "start_time": "2023-07-24T12:26:25.452Z"
   },
   {
    "duration": 202,
    "start_time": "2023-07-24T12:26:25.923Z"
   },
   {
    "duration": 195,
    "start_time": "2023-07-24T12:26:26.127Z"
   },
   {
    "duration": 5,
    "start_time": "2023-07-24T12:26:26.323Z"
   },
   {
    "duration": 25,
    "start_time": "2023-07-24T12:26:26.335Z"
   },
   {
    "duration": 22,
    "start_time": "2023-07-24T12:26:26.362Z"
   },
   {
    "duration": 48,
    "start_time": "2023-07-24T12:26:26.387Z"
   },
   {
    "duration": 24,
    "start_time": "2023-07-24T12:26:26.438Z"
   },
   {
    "duration": 30,
    "start_time": "2023-07-24T12:26:26.464Z"
   },
   {
    "duration": 52,
    "start_time": "2023-07-24T12:26:26.496Z"
   },
   {
    "duration": 27,
    "start_time": "2023-07-24T12:26:26.550Z"
   },
   {
    "duration": 41,
    "start_time": "2023-07-24T12:26:26.580Z"
   },
   {
    "duration": 37,
    "start_time": "2023-07-24T12:26:26.626Z"
   },
   {
    "duration": 23,
    "start_time": "2023-07-24T12:26:26.665Z"
   },
   {
    "duration": 51,
    "start_time": "2023-07-24T12:26:26.690Z"
   },
   {
    "duration": 22,
    "start_time": "2023-07-24T12:26:26.743Z"
   },
   {
    "duration": 45,
    "start_time": "2023-07-24T12:26:26.767Z"
   },
   {
    "duration": 24,
    "start_time": "2023-07-24T12:26:26.823Z"
   },
   {
    "duration": 21,
    "start_time": "2023-07-24T12:26:26.849Z"
   },
   {
    "duration": 36,
    "start_time": "2023-07-24T12:26:26.872Z"
   },
   {
    "duration": 32,
    "start_time": "2023-07-24T12:26:26.910Z"
   },
   {
    "duration": 188,
    "start_time": "2023-07-24T12:26:26.944Z"
   },
   {
    "duration": 124,
    "start_time": "2023-07-24T12:26:27.135Z"
   },
   {
    "duration": 7,
    "start_time": "2023-07-24T12:26:27.261Z"
   },
   {
    "duration": 30,
    "start_time": "2023-07-24T12:26:27.270Z"
   },
   {
    "duration": 39,
    "start_time": "2023-07-24T12:26:27.302Z"
   },
   {
    "duration": 338,
    "start_time": "2023-07-24T12:26:27.343Z"
   },
   {
    "duration": 449,
    "start_time": "2023-07-24T12:26:27.684Z"
   },
   {
    "duration": 476,
    "start_time": "2023-07-24T12:26:28.135Z"
   },
   {
    "duration": 433,
    "start_time": "2023-07-24T12:26:28.613Z"
   }
  ],
  "kernelspec": {
   "display_name": "Python 3 (ipykernel)",
   "language": "python",
   "name": "python3"
  },
  "language_info": {
   "codemirror_mode": {
    "name": "ipython",
    "version": 3
   },
   "file_extension": ".py",
   "mimetype": "text/x-python",
   "name": "python",
   "nbconvert_exporter": "python",
   "pygments_lexer": "ipython3",
   "version": "3.9.5"
  },
  "toc": {
   "base_numbering": 1,
   "nav_menu": {},
   "number_sections": true,
   "sideBar": true,
   "skip_h1_title": true,
   "title_cell": "Table of Contents",
   "title_sidebar": "Contents",
   "toc_cell": false,
   "toc_position": {
    "height": "calc(100% - 180px)",
    "left": "10px",
    "top": "150px",
    "width": "315px"
   },
   "toc_section_display": true,
   "toc_window_display": true
  }
 },
 "nbformat": 4,
 "nbformat_minor": 4
}
